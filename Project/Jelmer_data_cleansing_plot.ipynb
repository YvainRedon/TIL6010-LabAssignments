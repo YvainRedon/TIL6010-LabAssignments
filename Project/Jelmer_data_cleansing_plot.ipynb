{
 "cells": [
  {
   "cell_type": "code",
   "execution_count": 6,
   "id": "392259f8-f655-4777-8704-f028bf118232",
   "metadata": {},
   "outputs": [
    {
     "name": "stdout",
     "output_type": "stream",
     "text": [
      "Collecting cbsodataNote: you may need to restart the kernel to use updated packages.\n",
      "\n",
      "  Downloading cbsodata-1.3.4-py3-none-any.whl (12 kB)\n",
      "Requirement already satisfied: requests in d:\\anaconda\\lib\\site-packages (from cbsodata) (2.28.1)\n",
      "Requirement already satisfied: certifi>=2017.4.17 in d:\\anaconda\\lib\\site-packages (from requests->cbsodata) (2023.7.22)\n",
      "Requirement already satisfied: charset-normalizer<3,>=2 in d:\\anaconda\\lib\\site-packages (from requests->cbsodata) (2.0.4)\n",
      "Requirement already satisfied: urllib3<1.27,>=1.21.1 in d:\\anaconda\\lib\\site-packages (from requests->cbsodata) (1.26.11)\n",
      "Requirement already satisfied: idna<4,>=2.5 in d:\\anaconda\\lib\\site-packages (from requests->cbsodata) (3.3)\n",
      "Installing collected packages: cbsodata\n",
      "Successfully installed cbsodata-1.3.4\n"
     ]
    }
   ],
   "source": [
    "pip install cbsodata\n"
   ]
  },
  {
   "cell_type": "code",
   "execution_count": 7,
   "id": "1cc341c1-a672-4e2c-8f1d-47f67955799e",
   "metadata": {},
   "outputs": [],
   "source": [
    "import cbsodata"
   ]
  },
  {
   "cell_type": "code",
   "execution_count": null,
   "id": "29e2eff9-f90e-4a88-93f8-6750d839b7b0",
   "metadata": {},
   "outputs": [],
   "source": [
    "import pandas as pd"
   ]
  },
  {
   "cell_type": "code",
   "execution_count": 8,
   "id": "20858758-7fc4-44d8-9a28-99b6de8c1c58",
   "metadata": {},
   "outputs": [
    {
     "data": {
      "text/html": [
       "<div>\n",
       "<style scoped>\n",
       "    .dataframe tbody tr th:only-of-type {\n",
       "        vertical-align: middle;\n",
       "    }\n",
       "\n",
       "    .dataframe tbody tr th {\n",
       "        vertical-align: top;\n",
       "    }\n",
       "\n",
       "    .dataframe thead th {\n",
       "        text-align: right;\n",
       "    }\n",
       "</style>\n",
       "<table border=\"1\" class=\"dataframe\">\n",
       "  <thead>\n",
       "    <tr style=\"text-align: right;\">\n",
       "      <th></th>\n",
       "      <th>ID</th>\n",
       "      <th>Population</th>\n",
       "      <th>Sex</th>\n",
       "      <th>PersonalCharacteristics</th>\n",
       "      <th>Margins</th>\n",
       "      <th>Periods</th>\n",
       "      <th>TrafficParticipation_1</th>\n",
       "      <th>UseOfPublicTransport_2</th>\n",
       "    </tr>\n",
       "  </thead>\n",
       "  <tbody>\n",
       "    <tr>\n",
       "      <th>0</th>\n",
       "      <td>0</td>\n",
       "      <td>Population 6 years or older</td>\n",
       "      <td>Total male and female</td>\n",
       "      <td>Total persons</td>\n",
       "      <td>Value</td>\n",
       "      <td>2018</td>\n",
       "      <td>82.9</td>\n",
       "      <td>8.6</td>\n",
       "    </tr>\n",
       "    <tr>\n",
       "      <th>1</th>\n",
       "      <td>1</td>\n",
       "      <td>Population 6 years or older</td>\n",
       "      <td>Total male and female</td>\n",
       "      <td>Total persons</td>\n",
       "      <td>Value</td>\n",
       "      <td>2019</td>\n",
       "      <td>81.9</td>\n",
       "      <td>8.6</td>\n",
       "    </tr>\n",
       "    <tr>\n",
       "      <th>2</th>\n",
       "      <td>2</td>\n",
       "      <td>Population 6 years or older</td>\n",
       "      <td>Total male and female</td>\n",
       "      <td>Total persons</td>\n",
       "      <td>Value</td>\n",
       "      <td>2020</td>\n",
       "      <td>73.8</td>\n",
       "      <td>3.9</td>\n",
       "    </tr>\n",
       "    <tr>\n",
       "      <th>3</th>\n",
       "      <td>3</td>\n",
       "      <td>Population 6 years or older</td>\n",
       "      <td>Total male and female</td>\n",
       "      <td>Total persons</td>\n",
       "      <td>Value</td>\n",
       "      <td>2021</td>\n",
       "      <td>78.1</td>\n",
       "      <td>4.2</td>\n",
       "    </tr>\n",
       "    <tr>\n",
       "      <th>4</th>\n",
       "      <td>4</td>\n",
       "      <td>Population 6 years or older</td>\n",
       "      <td>Total male and female</td>\n",
       "      <td>Total persons</td>\n",
       "      <td>Value</td>\n",
       "      <td>2022</td>\n",
       "      <td>79.7</td>\n",
       "      <td>6.1</td>\n",
       "    </tr>\n",
       "    <tr>\n",
       "      <th>...</th>\n",
       "      <td>...</td>\n",
       "      <td>...</td>\n",
       "      <td>...</td>\n",
       "      <td>...</td>\n",
       "      <td>...</td>\n",
       "      <td>...</td>\n",
       "      <td>...</td>\n",
       "      <td>...</td>\n",
       "    </tr>\n",
       "    <tr>\n",
       "      <th>4195</th>\n",
       "      <td>4195</td>\n",
       "      <td>Population: 12 years or older</td>\n",
       "      <td>Sex unknown</td>\n",
       "      <td>No driver's license; under 17</td>\n",
       "      <td>Upper bound 95% confidence interval</td>\n",
       "      <td>2018</td>\n",
       "      <td>NaN</td>\n",
       "      <td>NaN</td>\n",
       "    </tr>\n",
       "    <tr>\n",
       "      <th>4196</th>\n",
       "      <td>4196</td>\n",
       "      <td>Population: 12 years or older</td>\n",
       "      <td>Sex unknown</td>\n",
       "      <td>No driver's license; under 17</td>\n",
       "      <td>Upper bound 95% confidence interval</td>\n",
       "      <td>2019</td>\n",
       "      <td>NaN</td>\n",
       "      <td>NaN</td>\n",
       "    </tr>\n",
       "    <tr>\n",
       "      <th>4197</th>\n",
       "      <td>4197</td>\n",
       "      <td>Population: 12 years or older</td>\n",
       "      <td>Sex unknown</td>\n",
       "      <td>No driver's license; under 17</td>\n",
       "      <td>Upper bound 95% confidence interval</td>\n",
       "      <td>2020</td>\n",
       "      <td>NaN</td>\n",
       "      <td>NaN</td>\n",
       "    </tr>\n",
       "    <tr>\n",
       "      <th>4198</th>\n",
       "      <td>4198</td>\n",
       "      <td>Population: 12 years or older</td>\n",
       "      <td>Sex unknown</td>\n",
       "      <td>No driver's license; under 17</td>\n",
       "      <td>Upper bound 95% confidence interval</td>\n",
       "      <td>2021</td>\n",
       "      <td>NaN</td>\n",
       "      <td>NaN</td>\n",
       "    </tr>\n",
       "    <tr>\n",
       "      <th>4199</th>\n",
       "      <td>4199</td>\n",
       "      <td>Population: 12 years or older</td>\n",
       "      <td>Sex unknown</td>\n",
       "      <td>No driver's license; under 17</td>\n",
       "      <td>Upper bound 95% confidence interval</td>\n",
       "      <td>2022</td>\n",
       "      <td>NaN</td>\n",
       "      <td>NaN</td>\n",
       "    </tr>\n",
       "  </tbody>\n",
       "</table>\n",
       "<p>4200 rows × 8 columns</p>\n",
       "</div>"
      ],
      "text/plain": [
       "        ID                     Population                    Sex  \\\n",
       "0        0    Population 6 years or older  Total male and female   \n",
       "1        1    Population 6 years or older  Total male and female   \n",
       "2        2    Population 6 years or older  Total male and female   \n",
       "3        3    Population 6 years or older  Total male and female   \n",
       "4        4    Population 6 years or older  Total male and female   \n",
       "...    ...                            ...                    ...   \n",
       "4195  4195  Population: 12 years or older            Sex unknown   \n",
       "4196  4196  Population: 12 years or older            Sex unknown   \n",
       "4197  4197  Population: 12 years or older            Sex unknown   \n",
       "4198  4198  Population: 12 years or older            Sex unknown   \n",
       "4199  4199  Population: 12 years or older            Sex unknown   \n",
       "\n",
       "            PersonalCharacteristics                              Margins  \\\n",
       "0                     Total persons                                Value   \n",
       "1                     Total persons                                Value   \n",
       "2                     Total persons                                Value   \n",
       "3                     Total persons                                Value   \n",
       "4                     Total persons                                Value   \n",
       "...                             ...                                  ...   \n",
       "4195  No driver's license; under 17  Upper bound 95% confidence interval   \n",
       "4196  No driver's license; under 17  Upper bound 95% confidence interval   \n",
       "4197  No driver's license; under 17  Upper bound 95% confidence interval   \n",
       "4198  No driver's license; under 17  Upper bound 95% confidence interval   \n",
       "4199  No driver's license; under 17  Upper bound 95% confidence interval   \n",
       "\n",
       "     Periods  TrafficParticipation_1  UseOfPublicTransport_2  \n",
       "0       2018                    82.9                     8.6  \n",
       "1       2019                    81.9                     8.6  \n",
       "2       2020                    73.8                     3.9  \n",
       "3       2021                    78.1                     4.2  \n",
       "4       2022                    79.7                     6.1  \n",
       "...      ...                     ...                     ...  \n",
       "4195    2018                     NaN                     NaN  \n",
       "4196    2019                     NaN                     NaN  \n",
       "4197    2020                     NaN                     NaN  \n",
       "4198    2021                     NaN                     NaN  \n",
       "4199    2022                     NaN                     NaN  \n",
       "\n",
       "[4200 rows x 8 columns]"
      ]
     },
     "execution_count": 8,
     "metadata": {},
     "output_type": "execute_result"
    }
   ],
   "source": [
    "df = pd.DataFrame(cbsodata.get_data('84707ENG'))\n",
    "df"
   ]
  },
  {
   "cell_type": "code",
   "execution_count": 27,
   "id": "0122d590-4168-4d40-8af0-b6a335a45957",
   "metadata": {},
   "outputs": [
    {
     "data": {
      "text/html": [
       "<div>\n",
       "<style scoped>\n",
       "    .dataframe tbody tr th:only-of-type {\n",
       "        vertical-align: middle;\n",
       "    }\n",
       "\n",
       "    .dataframe tbody tr th {\n",
       "        vertical-align: top;\n",
       "    }\n",
       "\n",
       "    .dataframe thead th {\n",
       "        text-align: right;\n",
       "    }\n",
       "</style>\n",
       "<table border=\"1\" class=\"dataframe\">\n",
       "  <thead>\n",
       "    <tr style=\"text-align: right;\">\n",
       "      <th></th>\n",
       "      <th>Sex</th>\n",
       "      <th>PersonalCharacteristics</th>\n",
       "      <th>Periods</th>\n",
       "      <th>TrafficParticipation_1</th>\n",
       "      <th>UseOfPublicTransport_2</th>\n",
       "    </tr>\n",
       "  </thead>\n",
       "  <tbody>\n",
       "    <tr>\n",
       "      <th>0</th>\n",
       "      <td>Total male and female</td>\n",
       "      <td>Total persons</td>\n",
       "      <td>2018</td>\n",
       "      <td>82.9</td>\n",
       "      <td>8.6</td>\n",
       "    </tr>\n",
       "    <tr>\n",
       "      <th>1</th>\n",
       "      <td>Total male and female</td>\n",
       "      <td>Total persons</td>\n",
       "      <td>2019</td>\n",
       "      <td>81.9</td>\n",
       "      <td>8.6</td>\n",
       "    </tr>\n",
       "    <tr>\n",
       "      <th>2</th>\n",
       "      <td>Total male and female</td>\n",
       "      <td>Total persons</td>\n",
       "      <td>2020</td>\n",
       "      <td>73.8</td>\n",
       "      <td>3.9</td>\n",
       "    </tr>\n",
       "    <tr>\n",
       "      <th>3</th>\n",
       "      <td>Total male and female</td>\n",
       "      <td>Total persons</td>\n",
       "      <td>2021</td>\n",
       "      <td>78.1</td>\n",
       "      <td>4.2</td>\n",
       "    </tr>\n",
       "    <tr>\n",
       "      <th>4</th>\n",
       "      <td>Total male and female</td>\n",
       "      <td>Total persons</td>\n",
       "      <td>2022</td>\n",
       "      <td>79.7</td>\n",
       "      <td>6.1</td>\n",
       "    </tr>\n",
       "    <tr>\n",
       "      <th>...</th>\n",
       "      <td>...</td>\n",
       "      <td>...</td>\n",
       "      <td>...</td>\n",
       "      <td>...</td>\n",
       "      <td>...</td>\n",
       "    </tr>\n",
       "    <tr>\n",
       "      <th>1560</th>\n",
       "      <td>Female</td>\n",
       "      <td>No driver's license; under 17</td>\n",
       "      <td>2018</td>\n",
       "      <td>88.3</td>\n",
       "      <td>5.6</td>\n",
       "    </tr>\n",
       "    <tr>\n",
       "      <th>1561</th>\n",
       "      <td>Female</td>\n",
       "      <td>No driver's license; under 17</td>\n",
       "      <td>2019</td>\n",
       "      <td>87.5</td>\n",
       "      <td>5.6</td>\n",
       "    </tr>\n",
       "    <tr>\n",
       "      <th>1562</th>\n",
       "      <td>Female</td>\n",
       "      <td>No driver's license; under 17</td>\n",
       "      <td>2020</td>\n",
       "      <td>77.8</td>\n",
       "      <td>2.9</td>\n",
       "    </tr>\n",
       "    <tr>\n",
       "      <th>1563</th>\n",
       "      <td>Female</td>\n",
       "      <td>No driver's license; under 17</td>\n",
       "      <td>2021</td>\n",
       "      <td>83.4</td>\n",
       "      <td>3.5</td>\n",
       "    </tr>\n",
       "    <tr>\n",
       "      <th>1564</th>\n",
       "      <td>Female</td>\n",
       "      <td>No driver's license; under 17</td>\n",
       "      <td>2022</td>\n",
       "      <td>83.9</td>\n",
       "      <td>4.7</td>\n",
       "    </tr>\n",
       "  </tbody>\n",
       "</table>\n",
       "<p>525 rows × 5 columns</p>\n",
       "</div>"
      ],
      "text/plain": [
       "                        Sex        PersonalCharacteristics Periods  \\\n",
       "0     Total male and female                  Total persons    2018   \n",
       "1     Total male and female                  Total persons    2019   \n",
       "2     Total male and female                  Total persons    2020   \n",
       "3     Total male and female                  Total persons    2021   \n",
       "4     Total male and female                  Total persons    2022   \n",
       "...                     ...                            ...     ...   \n",
       "1560                 Female  No driver's license; under 17    2018   \n",
       "1561                 Female  No driver's license; under 17    2019   \n",
       "1562                 Female  No driver's license; under 17    2020   \n",
       "1563                 Female  No driver's license; under 17    2021   \n",
       "1564                 Female  No driver's license; under 17    2022   \n",
       "\n",
       "      TrafficParticipation_1  UseOfPublicTransport_2  \n",
       "0                       82.9                     8.6  \n",
       "1                       81.9                     8.6  \n",
       "2                       73.8                     3.9  \n",
       "3                       78.1                     4.2  \n",
       "4                       79.7                     6.1  \n",
       "...                      ...                     ...  \n",
       "1560                    88.3                     5.6  \n",
       "1561                    87.5                     5.6  \n",
       "1562                    77.8                     2.9  \n",
       "1563                    83.4                     3.5  \n",
       "1564                    83.9                     4.7  \n",
       "\n",
       "[525 rows x 5 columns]"
      ]
     },
     "execution_count": 27,
     "metadata": {},
     "output_type": "execute_result"
    }
   ],
   "source": [
    "df_value = df[( df['Population'] == 'Population 6 years or older') & (df['Margins'] == 'Value') & (df['Sex'] != 'Sex unknown')];\n",
    "df_sorted = df_value.drop(columns=['Margins', 'Population', 'ID']);\n",
    "df_sorted"
   ]
  },
  {
   "cell_type": "code",
   "execution_count": 28,
   "id": "c5c2e40a-fa1e-4bac-995d-4ba59c1d5641",
   "metadata": {},
   "outputs": [],
   "source": [
    "import seaborn as sns\n",
    "import plotly.express as px\n",
    "import matplotlib.pyplot as plt\n",
    "import plotly.io as pio"
   ]
  },
  {
   "cell_type": "code",
   "execution_count": null,
   "id": "61e53039-623f-4dd2-9e77-5f31506756ba",
   "metadata": {},
   "outputs": [],
   "source": []
  },
  {
   "cell_type": "code",
   "execution_count": 30,
   "id": "fdff187f-b3c7-455d-a8a1-d7949a7c054e",
   "metadata": {},
   "outputs": [
    {
     "data": {
      "text/html": [
       "<div>\n",
       "<style scoped>\n",
       "    .dataframe tbody tr th:only-of-type {\n",
       "        vertical-align: middle;\n",
       "    }\n",
       "\n",
       "    .dataframe tbody tr th {\n",
       "        vertical-align: top;\n",
       "    }\n",
       "\n",
       "    .dataframe thead th {\n",
       "        text-align: right;\n",
       "    }\n",
       "</style>\n",
       "<table border=\"1\" class=\"dataframe\">\n",
       "  <thead>\n",
       "    <tr style=\"text-align: right;\">\n",
       "      <th></th>\n",
       "      <th>Sex</th>\n",
       "      <th>PersonalCharacteristics</th>\n",
       "      <th>Periods</th>\n",
       "      <th>TrafficParticipation_1</th>\n",
       "      <th>UseOfPublicTransport_2</th>\n",
       "    </tr>\n",
       "  </thead>\n",
       "  <tbody>\n",
       "    <tr>\n",
       "      <th>15</th>\n",
       "      <td>Total male and female</td>\n",
       "      <td>Age: 6 to 11 years</td>\n",
       "      <td>2018</td>\n",
       "      <td>90.6</td>\n",
       "      <td>2.1</td>\n",
       "    </tr>\n",
       "    <tr>\n",
       "      <th>16</th>\n",
       "      <td>Total male and female</td>\n",
       "      <td>Age: 6 to 11 years</td>\n",
       "      <td>2019</td>\n",
       "      <td>88.9</td>\n",
       "      <td>1.6</td>\n",
       "    </tr>\n",
       "    <tr>\n",
       "      <th>17</th>\n",
       "      <td>Total male and female</td>\n",
       "      <td>Age: 6 to 11 years</td>\n",
       "      <td>2020</td>\n",
       "      <td>80.0</td>\n",
       "      <td>NaN</td>\n",
       "    </tr>\n",
       "    <tr>\n",
       "      <th>18</th>\n",
       "      <td>Total male and female</td>\n",
       "      <td>Age: 6 to 11 years</td>\n",
       "      <td>2021</td>\n",
       "      <td>85.6</td>\n",
       "      <td>NaN</td>\n",
       "    </tr>\n",
       "    <tr>\n",
       "      <th>19</th>\n",
       "      <td>Total male and female</td>\n",
       "      <td>Age: 6 to 11 years</td>\n",
       "      <td>2022</td>\n",
       "      <td>85.2</td>\n",
       "      <td>1.6</td>\n",
       "    </tr>\n",
       "    <tr>\n",
       "      <th>...</th>\n",
       "      <td>...</td>\n",
       "      <td>...</td>\n",
       "      <td>...</td>\n",
       "      <td>...</td>\n",
       "      <td>...</td>\n",
       "    </tr>\n",
       "    <tr>\n",
       "      <th>1170</th>\n",
       "      <td>Female</td>\n",
       "      <td>Age: 75 years or older</td>\n",
       "      <td>2018</td>\n",
       "      <td>57.3</td>\n",
       "      <td>3.2</td>\n",
       "    </tr>\n",
       "    <tr>\n",
       "      <th>1171</th>\n",
       "      <td>Female</td>\n",
       "      <td>Age: 75 years or older</td>\n",
       "      <td>2019</td>\n",
       "      <td>56.0</td>\n",
       "      <td>2.8</td>\n",
       "    </tr>\n",
       "    <tr>\n",
       "      <th>1172</th>\n",
       "      <td>Female</td>\n",
       "      <td>Age: 75 years or older</td>\n",
       "      <td>2020</td>\n",
       "      <td>47.7</td>\n",
       "      <td>NaN</td>\n",
       "    </tr>\n",
       "    <tr>\n",
       "      <th>1173</th>\n",
       "      <td>Female</td>\n",
       "      <td>Age: 75 years or older</td>\n",
       "      <td>2021</td>\n",
       "      <td>55.9</td>\n",
       "      <td>1.5</td>\n",
       "    </tr>\n",
       "    <tr>\n",
       "      <th>1174</th>\n",
       "      <td>Female</td>\n",
       "      <td>Age: 75 years or older</td>\n",
       "      <td>2022</td>\n",
       "      <td>59.1</td>\n",
       "      <td>2.1</td>\n",
       "    </tr>\n",
       "  </tbody>\n",
       "</table>\n",
       "<p>120 rows × 5 columns</p>\n",
       "</div>"
      ],
      "text/plain": [
       "                        Sex PersonalCharacteristics Periods  \\\n",
       "15    Total male and female      Age: 6 to 11 years    2018   \n",
       "16    Total male and female      Age: 6 to 11 years    2019   \n",
       "17    Total male and female      Age: 6 to 11 years    2020   \n",
       "18    Total male and female      Age: 6 to 11 years    2021   \n",
       "19    Total male and female      Age: 6 to 11 years    2022   \n",
       "...                     ...                     ...     ...   \n",
       "1170                 Female  Age: 75 years or older    2018   \n",
       "1171                 Female  Age: 75 years or older    2019   \n",
       "1172                 Female  Age: 75 years or older    2020   \n",
       "1173                 Female  Age: 75 years or older    2021   \n",
       "1174                 Female  Age: 75 years or older    2022   \n",
       "\n",
       "      TrafficParticipation_1  UseOfPublicTransport_2  \n",
       "15                      90.6                     2.1  \n",
       "16                      88.9                     1.6  \n",
       "17                      80.0                     NaN  \n",
       "18                      85.6                     NaN  \n",
       "19                      85.2                     1.6  \n",
       "...                      ...                     ...  \n",
       "1170                    57.3                     3.2  \n",
       "1171                    56.0                     2.8  \n",
       "1172                    47.7                     NaN  \n",
       "1173                    55.9                     1.5  \n",
       "1174                    59.1                     2.1  \n",
       "\n",
       "[120 rows x 5 columns]"
      ]
     },
     "execution_count": 30,
     "metadata": {},
     "output_type": "execute_result"
    }
   ],
   "source": [
    "mask = df_sorted['PersonalCharacteristics'].str.startswith('Age')\n",
    "df_age = df_sorted[mask]\n",
    "df_age\n",
    "\n",
    "#df_age = df_sorted[ df_sorted['PersonalCharacteristics'] == "
   ]
  },
  {
   "cell_type": "code",
   "execution_count": 35,
   "id": "97a0175e-d243-4219-aab0-9b58c8916293",
   "metadata": {},
   "outputs": [
    {
     "data": {
      "application/vnd.plotly.v1+json": {
       "config": {
        "plotlyServerURL": "https://plot.ly"
       },
       "data": [
        {
         "hovertemplate": "PersonalCharacteristics=Age: 6 to 11 years<br>Periods=%{x}<br>TrafficParticipation_1=%{text}<extra></extra>",
         "legendgroup": "Age: 6 to 11 years",
         "line": {
          "color": "#636efa",
          "dash": "solid"
         },
         "marker": {
          "symbol": "circle"
         },
         "mode": "markers+lines+text",
         "name": "Age: 6 to 11 years",
         "orientation": "v",
         "showlegend": true,
         "text": [
          90.6,
          88.9,
          80,
          85.6,
          85.2
         ],
         "type": "scatter",
         "x": [
          "2018",
          "2019",
          "2020",
          "2021",
          "2022"
         ],
         "xaxis": "x",
         "y": [
          90.6,
          88.9,
          80,
          85.6,
          85.2
         ],
         "yaxis": "y"
        },
        {
         "hovertemplate": "PersonalCharacteristics=Age: 12 to 17 years<br>Periods=%{x}<br>TrafficParticipation_1=%{text}<extra></extra>",
         "legendgroup": "Age: 12 to 17 years",
         "line": {
          "color": "#EF553B",
          "dash": "solid"
         },
         "marker": {
          "symbol": "circle"
         },
         "mode": "markers+lines+text",
         "name": "Age: 12 to 17 years",
         "orientation": "v",
         "showlegend": true,
         "text": [
          86.3,
          86.4,
          73.5,
          79,
          82.9
         ],
         "type": "scatter",
         "x": [
          "2018",
          "2019",
          "2020",
          "2021",
          "2022"
         ],
         "xaxis": "x",
         "y": [
          86.3,
          86.4,
          73.5,
          79,
          82.9
         ],
         "yaxis": "y"
        },
        {
         "hovertemplate": "PersonalCharacteristics=Age: 18 to 24 years<br>Periods=%{x}<br>TrafficParticipation_1=%{text}<extra></extra>",
         "legendgroup": "Age: 18 to 24 years",
         "line": {
          "color": "#00cc96",
          "dash": "solid"
         },
         "marker": {
          "symbol": "circle"
         },
         "mode": "markers+lines+text",
         "name": "Age: 18 to 24 years",
         "orientation": "v",
         "showlegend": true,
         "text": [
          86.8,
          84.6,
          74.6,
          78.3,
          81.2
         ],
         "type": "scatter",
         "x": [
          "2018",
          "2019",
          "2020",
          "2021",
          "2022"
         ],
         "xaxis": "x",
         "y": [
          86.8,
          84.6,
          74.6,
          78.3,
          81.2
         ],
         "yaxis": "y"
        },
        {
         "hovertemplate": "PersonalCharacteristics=Age: 25 to 34 years<br>Periods=%{x}<br>TrafficParticipation_1=%{text}<extra></extra>",
         "legendgroup": "Age: 25 to 34 years",
         "line": {
          "color": "#ab63fa",
          "dash": "solid"
         },
         "marker": {
          "symbol": "circle"
         },
         "mode": "markers+lines+text",
         "name": "Age: 25 to 34 years",
         "orientation": "v",
         "showlegend": true,
         "text": [
          88.6,
          86.6,
          77.2,
          80.3,
          81.3
         ],
         "type": "scatter",
         "x": [
          "2018",
          "2019",
          "2020",
          "2021",
          "2022"
         ],
         "xaxis": "x",
         "y": [
          88.6,
          86.6,
          77.2,
          80.3,
          81.3
         ],
         "yaxis": "y"
        },
        {
         "hovertemplate": "PersonalCharacteristics=Age: 35 to 49 years<br>Periods=%{x}<br>TrafficParticipation_1=%{text}<extra></extra>",
         "legendgroup": "Age: 35 to 49 years",
         "line": {
          "color": "#FFA15A",
          "dash": "solid"
         },
         "marker": {
          "symbol": "circle"
         },
         "mode": "markers+lines+text",
         "name": "Age: 35 to 49 years",
         "orientation": "v",
         "showlegend": true,
         "text": [
          86.7,
          86.7,
          78.7,
          81.2,
          82.7
         ],
         "type": "scatter",
         "x": [
          "2018",
          "2019",
          "2020",
          "2021",
          "2022"
         ],
         "xaxis": "x",
         "y": [
          86.7,
          86.7,
          78.7,
          81.2,
          82.7
         ],
         "yaxis": "y"
        },
        {
         "hovertemplate": "PersonalCharacteristics=Age: 50 to 64 years<br>Periods=%{x}<br>TrafficParticipation_1=%{text}<extra></extra>",
         "legendgroup": "Age: 50 to 64 years",
         "line": {
          "color": "#19d3f3",
          "dash": "solid"
         },
         "marker": {
          "symbol": "circle"
         },
         "mode": "markers+lines+text",
         "name": "Age: 50 to 64 years",
         "orientation": "v",
         "showlegend": true,
         "text": [
          83.5,
          82.9,
          76.8,
          80.7,
          81.6
         ],
         "type": "scatter",
         "x": [
          "2018",
          "2019",
          "2020",
          "2021",
          "2022"
         ],
         "xaxis": "x",
         "y": [
          83.5,
          82.9,
          76.8,
          80.7,
          81.6
         ],
         "yaxis": "y"
        },
        {
         "hovertemplate": "PersonalCharacteristics=Age: 65 to 74 years<br>Periods=%{x}<br>TrafficParticipation_1=%{text}<extra></extra>",
         "legendgroup": "Age: 65 to 74 years",
         "line": {
          "color": "#FF6692",
          "dash": "solid"
         },
         "marker": {
          "symbol": "circle"
         },
         "mode": "markers+lines+text",
         "name": "Age: 65 to 74 years",
         "orientation": "v",
         "showlegend": true,
         "text": [
          74.9,
          73.5,
          67.8,
          74.3,
          76.7
         ],
         "type": "scatter",
         "x": [
          "2018",
          "2019",
          "2020",
          "2021",
          "2022"
         ],
         "xaxis": "x",
         "y": [
          74.9,
          73.5,
          67.8,
          74.3,
          76.7
         ],
         "yaxis": "y"
        },
        {
         "hovertemplate": "PersonalCharacteristics=Age: 75 years or older<br>Periods=%{x}<br>TrafficParticipation_1=%{text}<extra></extra>",
         "legendgroup": "Age: 75 years or older",
         "line": {
          "color": "#B6E880",
          "dash": "solid"
         },
         "marker": {
          "symbol": "circle"
         },
         "mode": "markers+lines+text",
         "name": "Age: 75 years or older",
         "orientation": "v",
         "showlegend": true,
         "text": [
          59.8,
          59.4,
          51.6,
          59.7,
          62.6
         ],
         "type": "scatter",
         "x": [
          "2018",
          "2019",
          "2020",
          "2021",
          "2022"
         ],
         "xaxis": "x",
         "y": [
          59.8,
          59.4,
          51.6,
          59.7,
          62.6
         ],
         "yaxis": "y"
        }
       ],
       "layout": {
        "autosize": true,
        "legend": {
         "title": {
          "text": "PersonalCharacteristics"
         },
         "tracegroupgap": 0
        },
        "margin": {
         "t": 60
        },
        "template": {
         "data": {
          "bar": [
           {
            "error_x": {
             "color": "#2a3f5f"
            },
            "error_y": {
             "color": "#2a3f5f"
            },
            "marker": {
             "line": {
              "color": "#E5ECF6",
              "width": 0.5
             },
             "pattern": {
              "fillmode": "overlay",
              "size": 10,
              "solidity": 0.2
             }
            },
            "type": "bar"
           }
          ],
          "barpolar": [
           {
            "marker": {
             "line": {
              "color": "#E5ECF6",
              "width": 0.5
             },
             "pattern": {
              "fillmode": "overlay",
              "size": 10,
              "solidity": 0.2
             }
            },
            "type": "barpolar"
           }
          ],
          "carpet": [
           {
            "aaxis": {
             "endlinecolor": "#2a3f5f",
             "gridcolor": "white",
             "linecolor": "white",
             "minorgridcolor": "white",
             "startlinecolor": "#2a3f5f"
            },
            "baxis": {
             "endlinecolor": "#2a3f5f",
             "gridcolor": "white",
             "linecolor": "white",
             "minorgridcolor": "white",
             "startlinecolor": "#2a3f5f"
            },
            "type": "carpet"
           }
          ],
          "choropleth": [
           {
            "colorbar": {
             "outlinewidth": 0,
             "ticks": ""
            },
            "type": "choropleth"
           }
          ],
          "contour": [
           {
            "colorbar": {
             "outlinewidth": 0,
             "ticks": ""
            },
            "colorscale": [
             [
              0,
              "#0d0887"
             ],
             [
              0.1111111111111111,
              "#46039f"
             ],
             [
              0.2222222222222222,
              "#7201a8"
             ],
             [
              0.3333333333333333,
              "#9c179e"
             ],
             [
              0.4444444444444444,
              "#bd3786"
             ],
             [
              0.5555555555555556,
              "#d8576b"
             ],
             [
              0.6666666666666666,
              "#ed7953"
             ],
             [
              0.7777777777777778,
              "#fb9f3a"
             ],
             [
              0.8888888888888888,
              "#fdca26"
             ],
             [
              1,
              "#f0f921"
             ]
            ],
            "type": "contour"
           }
          ],
          "contourcarpet": [
           {
            "colorbar": {
             "outlinewidth": 0,
             "ticks": ""
            },
            "type": "contourcarpet"
           }
          ],
          "heatmap": [
           {
            "colorbar": {
             "outlinewidth": 0,
             "ticks": ""
            },
            "colorscale": [
             [
              0,
              "#0d0887"
             ],
             [
              0.1111111111111111,
              "#46039f"
             ],
             [
              0.2222222222222222,
              "#7201a8"
             ],
             [
              0.3333333333333333,
              "#9c179e"
             ],
             [
              0.4444444444444444,
              "#bd3786"
             ],
             [
              0.5555555555555556,
              "#d8576b"
             ],
             [
              0.6666666666666666,
              "#ed7953"
             ],
             [
              0.7777777777777778,
              "#fb9f3a"
             ],
             [
              0.8888888888888888,
              "#fdca26"
             ],
             [
              1,
              "#f0f921"
             ]
            ],
            "type": "heatmap"
           }
          ],
          "heatmapgl": [
           {
            "colorbar": {
             "outlinewidth": 0,
             "ticks": ""
            },
            "colorscale": [
             [
              0,
              "#0d0887"
             ],
             [
              0.1111111111111111,
              "#46039f"
             ],
             [
              0.2222222222222222,
              "#7201a8"
             ],
             [
              0.3333333333333333,
              "#9c179e"
             ],
             [
              0.4444444444444444,
              "#bd3786"
             ],
             [
              0.5555555555555556,
              "#d8576b"
             ],
             [
              0.6666666666666666,
              "#ed7953"
             ],
             [
              0.7777777777777778,
              "#fb9f3a"
             ],
             [
              0.8888888888888888,
              "#fdca26"
             ],
             [
              1,
              "#f0f921"
             ]
            ],
            "type": "heatmapgl"
           }
          ],
          "histogram": [
           {
            "marker": {
             "pattern": {
              "fillmode": "overlay",
              "size": 10,
              "solidity": 0.2
             }
            },
            "type": "histogram"
           }
          ],
          "histogram2d": [
           {
            "colorbar": {
             "outlinewidth": 0,
             "ticks": ""
            },
            "colorscale": [
             [
              0,
              "#0d0887"
             ],
             [
              0.1111111111111111,
              "#46039f"
             ],
             [
              0.2222222222222222,
              "#7201a8"
             ],
             [
              0.3333333333333333,
              "#9c179e"
             ],
             [
              0.4444444444444444,
              "#bd3786"
             ],
             [
              0.5555555555555556,
              "#d8576b"
             ],
             [
              0.6666666666666666,
              "#ed7953"
             ],
             [
              0.7777777777777778,
              "#fb9f3a"
             ],
             [
              0.8888888888888888,
              "#fdca26"
             ],
             [
              1,
              "#f0f921"
             ]
            ],
            "type": "histogram2d"
           }
          ],
          "histogram2dcontour": [
           {
            "colorbar": {
             "outlinewidth": 0,
             "ticks": ""
            },
            "colorscale": [
             [
              0,
              "#0d0887"
             ],
             [
              0.1111111111111111,
              "#46039f"
             ],
             [
              0.2222222222222222,
              "#7201a8"
             ],
             [
              0.3333333333333333,
              "#9c179e"
             ],
             [
              0.4444444444444444,
              "#bd3786"
             ],
             [
              0.5555555555555556,
              "#d8576b"
             ],
             [
              0.6666666666666666,
              "#ed7953"
             ],
             [
              0.7777777777777778,
              "#fb9f3a"
             ],
             [
              0.8888888888888888,
              "#fdca26"
             ],
             [
              1,
              "#f0f921"
             ]
            ],
            "type": "histogram2dcontour"
           }
          ],
          "mesh3d": [
           {
            "colorbar": {
             "outlinewidth": 0,
             "ticks": ""
            },
            "type": "mesh3d"
           }
          ],
          "parcoords": [
           {
            "line": {
             "colorbar": {
              "outlinewidth": 0,
              "ticks": ""
             }
            },
            "type": "parcoords"
           }
          ],
          "pie": [
           {
            "automargin": true,
            "type": "pie"
           }
          ],
          "scatter": [
           {
            "fillpattern": {
             "fillmode": "overlay",
             "size": 10,
             "solidity": 0.2
            },
            "type": "scatter"
           }
          ],
          "scatter3d": [
           {
            "line": {
             "colorbar": {
              "outlinewidth": 0,
              "ticks": ""
             }
            },
            "marker": {
             "colorbar": {
              "outlinewidth": 0,
              "ticks": ""
             }
            },
            "type": "scatter3d"
           }
          ],
          "scattercarpet": [
           {
            "marker": {
             "colorbar": {
              "outlinewidth": 0,
              "ticks": ""
             }
            },
            "type": "scattercarpet"
           }
          ],
          "scattergeo": [
           {
            "marker": {
             "colorbar": {
              "outlinewidth": 0,
              "ticks": ""
             }
            },
            "type": "scattergeo"
           }
          ],
          "scattergl": [
           {
            "marker": {
             "colorbar": {
              "outlinewidth": 0,
              "ticks": ""
             }
            },
            "type": "scattergl"
           }
          ],
          "scattermapbox": [
           {
            "marker": {
             "colorbar": {
              "outlinewidth": 0,
              "ticks": ""
             }
            },
            "type": "scattermapbox"
           }
          ],
          "scatterpolar": [
           {
            "marker": {
             "colorbar": {
              "outlinewidth": 0,
              "ticks": ""
             }
            },
            "type": "scatterpolar"
           }
          ],
          "scatterpolargl": [
           {
            "marker": {
             "colorbar": {
              "outlinewidth": 0,
              "ticks": ""
             }
            },
            "type": "scatterpolargl"
           }
          ],
          "scatterternary": [
           {
            "marker": {
             "colorbar": {
              "outlinewidth": 0,
              "ticks": ""
             }
            },
            "type": "scatterternary"
           }
          ],
          "surface": [
           {
            "colorbar": {
             "outlinewidth": 0,
             "ticks": ""
            },
            "colorscale": [
             [
              0,
              "#0d0887"
             ],
             [
              0.1111111111111111,
              "#46039f"
             ],
             [
              0.2222222222222222,
              "#7201a8"
             ],
             [
              0.3333333333333333,
              "#9c179e"
             ],
             [
              0.4444444444444444,
              "#bd3786"
             ],
             [
              0.5555555555555556,
              "#d8576b"
             ],
             [
              0.6666666666666666,
              "#ed7953"
             ],
             [
              0.7777777777777778,
              "#fb9f3a"
             ],
             [
              0.8888888888888888,
              "#fdca26"
             ],
             [
              1,
              "#f0f921"
             ]
            ],
            "type": "surface"
           }
          ],
          "table": [
           {
            "cells": {
             "fill": {
              "color": "#EBF0F8"
             },
             "line": {
              "color": "white"
             }
            },
            "header": {
             "fill": {
              "color": "#C8D4E3"
             },
             "line": {
              "color": "white"
             }
            },
            "type": "table"
           }
          ]
         },
         "layout": {
          "annotationdefaults": {
           "arrowcolor": "#2a3f5f",
           "arrowhead": 0,
           "arrowwidth": 1
          },
          "autotypenumbers": "strict",
          "coloraxis": {
           "colorbar": {
            "outlinewidth": 0,
            "ticks": ""
           }
          },
          "colorscale": {
           "diverging": [
            [
             0,
             "#8e0152"
            ],
            [
             0.1,
             "#c51b7d"
            ],
            [
             0.2,
             "#de77ae"
            ],
            [
             0.3,
             "#f1b6da"
            ],
            [
             0.4,
             "#fde0ef"
            ],
            [
             0.5,
             "#f7f7f7"
            ],
            [
             0.6,
             "#e6f5d0"
            ],
            [
             0.7,
             "#b8e186"
            ],
            [
             0.8,
             "#7fbc41"
            ],
            [
             0.9,
             "#4d9221"
            ],
            [
             1,
             "#276419"
            ]
           ],
           "sequential": [
            [
             0,
             "#0d0887"
            ],
            [
             0.1111111111111111,
             "#46039f"
            ],
            [
             0.2222222222222222,
             "#7201a8"
            ],
            [
             0.3333333333333333,
             "#9c179e"
            ],
            [
             0.4444444444444444,
             "#bd3786"
            ],
            [
             0.5555555555555556,
             "#d8576b"
            ],
            [
             0.6666666666666666,
             "#ed7953"
            ],
            [
             0.7777777777777778,
             "#fb9f3a"
            ],
            [
             0.8888888888888888,
             "#fdca26"
            ],
            [
             1,
             "#f0f921"
            ]
           ],
           "sequentialminus": [
            [
             0,
             "#0d0887"
            ],
            [
             0.1111111111111111,
             "#46039f"
            ],
            [
             0.2222222222222222,
             "#7201a8"
            ],
            [
             0.3333333333333333,
             "#9c179e"
            ],
            [
             0.4444444444444444,
             "#bd3786"
            ],
            [
             0.5555555555555556,
             "#d8576b"
            ],
            [
             0.6666666666666666,
             "#ed7953"
            ],
            [
             0.7777777777777778,
             "#fb9f3a"
            ],
            [
             0.8888888888888888,
             "#fdca26"
            ],
            [
             1,
             "#f0f921"
            ]
           ]
          },
          "colorway": [
           "#636efa",
           "#EF553B",
           "#00cc96",
           "#ab63fa",
           "#FFA15A",
           "#19d3f3",
           "#FF6692",
           "#B6E880",
           "#FF97FF",
           "#FECB52"
          ],
          "font": {
           "color": "#2a3f5f"
          },
          "geo": {
           "bgcolor": "white",
           "lakecolor": "white",
           "landcolor": "#E5ECF6",
           "showlakes": true,
           "showland": true,
           "subunitcolor": "white"
          },
          "hoverlabel": {
           "align": "left"
          },
          "hovermode": "closest",
          "mapbox": {
           "style": "light"
          },
          "paper_bgcolor": "white",
          "plot_bgcolor": "#E5ECF6",
          "polar": {
           "angularaxis": {
            "gridcolor": "white",
            "linecolor": "white",
            "ticks": ""
           },
           "bgcolor": "#E5ECF6",
           "radialaxis": {
            "gridcolor": "white",
            "linecolor": "white",
            "ticks": ""
           }
          },
          "scene": {
           "xaxis": {
            "backgroundcolor": "#E5ECF6",
            "gridcolor": "white",
            "gridwidth": 2,
            "linecolor": "white",
            "showbackground": true,
            "ticks": "",
            "zerolinecolor": "white"
           },
           "yaxis": {
            "backgroundcolor": "#E5ECF6",
            "gridcolor": "white",
            "gridwidth": 2,
            "linecolor": "white",
            "showbackground": true,
            "ticks": "",
            "zerolinecolor": "white"
           },
           "zaxis": {
            "backgroundcolor": "#E5ECF6",
            "gridcolor": "white",
            "gridwidth": 2,
            "linecolor": "white",
            "showbackground": true,
            "ticks": "",
            "zerolinecolor": "white"
           }
          },
          "shapedefaults": {
           "line": {
            "color": "#2a3f5f"
           }
          },
          "ternary": {
           "aaxis": {
            "gridcolor": "white",
            "linecolor": "white",
            "ticks": ""
           },
           "baxis": {
            "gridcolor": "white",
            "linecolor": "white",
            "ticks": ""
           },
           "bgcolor": "#E5ECF6",
           "caxis": {
            "gridcolor": "white",
            "linecolor": "white",
            "ticks": ""
           }
          },
          "title": {
           "x": 0.05
          },
          "xaxis": {
           "automargin": true,
           "gridcolor": "white",
           "linecolor": "white",
           "ticks": "",
           "title": {
            "standoff": 15
           },
           "zerolinecolor": "white",
           "zerolinewidth": 2
          },
          "yaxis": {
           "automargin": true,
           "gridcolor": "white",
           "linecolor": "white",
           "ticks": "",
           "title": {
            "standoff": 15
           },
           "zerolinecolor": "white",
           "zerolinewidth": 2
          }
         }
        },
        "xaxis": {
         "anchor": "y",
         "autorange": true,
         "domain": [
          0,
          1
         ],
         "range": [
          -0.24084003574620197,
          4.240840035746202
         ],
         "title": {
          "text": "Periods"
         },
         "type": "category"
        },
        "yaxis": {
         "anchor": "x",
         "autorange": true,
         "domain": [
          0,
          1
         ],
         "range": [
          48.58031496062992,
          93.61968503937007
         ],
         "title": {
          "text": "TrafficParticipation_1"
         },
         "type": "linear"
        }
       }
      },
      "image/png": "[encoded data removed]",
      "text/html": [
       "<div>                            <div id=\"5df15738-7daf-44bb-97e6-49866b220baa\" class=\"plotly-graph-div\" style=\"height:525px; width:100%;\"></div>            <script type=\"text/javascript\">                require([\"plotly\"], function(Plotly) {                    window.PLOTLYENV=window.PLOTLYENV || {};                                    if (document.getElementById(\"5df15738-7daf-44bb-97e6-49866b220baa\")) {                    Plotly.newPlot(                        \"5df15738-7daf-44bb-97e6-49866b220baa\",                        [{\"hovertemplate\":\"PersonalCharacteristics=Age: 6 to 11 years<br>Periods=%{x}<br>TrafficParticipation_1=%{text}<extra></extra>\",\"legendgroup\":\"Age: 6 to 11 years\",\"line\":{\"color\":\"#636efa\",\"dash\":\"solid\"},\"marker\":{\"symbol\":\"circle\"},\"mode\":\"markers+lines+text\",\"name\":\"Age: 6 to 11 years\",\"orientation\":\"v\",\"showlegend\":true,\"text\":[90.6,88.9,80.0,85.6,85.2],\"x\":[\"2018\",\"2019\",\"2020\",\"2021\",\"2022\"],\"xaxis\":\"x\",\"y\":[90.6,88.9,80.0,85.6,85.2],\"yaxis\":\"y\",\"type\":\"scatter\"},{\"hovertemplate\":\"PersonalCharacteristics=Age: 12 to 17 years<br>Periods=%{x}<br>TrafficParticipation_1=%{text}<extra></extra>\",\"legendgroup\":\"Age: 12 to 17 years\",\"line\":{\"color\":\"#EF553B\",\"dash\":\"solid\"},\"marker\":{\"symbol\":\"circle\"},\"mode\":\"markers+lines+text\",\"name\":\"Age: 12 to 17 years\",\"orientation\":\"v\",\"showlegend\":true,\"text\":[86.3,86.4,73.5,79.0,82.9],\"x\":[\"2018\",\"2019\",\"2020\",\"2021\",\"2022\"],\"xaxis\":\"x\",\"y\":[86.3,86.4,73.5,79.0,82.9],\"yaxis\":\"y\",\"type\":\"scatter\"},{\"hovertemplate\":\"PersonalCharacteristics=Age: 18 to 24 years<br>Periods=%{x}<br>TrafficParticipation_1=%{text}<extra></extra>\",\"legendgroup\":\"Age: 18 to 24 years\",\"line\":{\"color\":\"#00cc96\",\"dash\":\"solid\"},\"marker\":{\"symbol\":\"circle\"},\"mode\":\"markers+lines+text\",\"name\":\"Age: 18 to 24 years\",\"orientation\":\"v\",\"showlegend\":true,\"text\":[86.8,84.6,74.6,78.3,81.2],\"x\":[\"2018\",\"2019\",\"2020\",\"2021\",\"2022\"],\"xaxis\":\"x\",\"y\":[86.8,84.6,74.6,78.3,81.2],\"yaxis\":\"y\",\"type\":\"scatter\"},{\"hovertemplate\":\"PersonalCharacteristics=Age: 25 to 34 years<br>Periods=%{x}<br>TrafficParticipation_1=%{text}<extra></extra>\",\"legendgroup\":\"Age: 25 to 34 years\",\"line\":{\"color\":\"#ab63fa\",\"dash\":\"solid\"},\"marker\":{\"symbol\":\"circle\"},\"mode\":\"markers+lines+text\",\"name\":\"Age: 25 to 34 years\",\"orientation\":\"v\",\"showlegend\":true,\"text\":[88.6,86.6,77.2,80.3,81.3],\"x\":[\"2018\",\"2019\",\"2020\",\"2021\",\"2022\"],\"xaxis\":\"x\",\"y\":[88.6,86.6,77.2,80.3,81.3],\"yaxis\":\"y\",\"type\":\"scatter\"},{\"hovertemplate\":\"PersonalCharacteristics=Age: 35 to 49 years<br>Periods=%{x}<br>TrafficParticipation_1=%{text}<extra></extra>\",\"legendgroup\":\"Age: 35 to 49 years\",\"line\":{\"color\":\"#FFA15A\",\"dash\":\"solid\"},\"marker\":{\"symbol\":\"circle\"},\"mode\":\"markers+lines+text\",\"name\":\"Age: 35 to 49 years\",\"orientation\":\"v\",\"showlegend\":true,\"text\":[86.7,86.7,78.7,81.2,82.7],\"x\":[\"2018\",\"2019\",\"2020\",\"2021\",\"2022\"],\"xaxis\":\"x\",\"y\":[86.7,86.7,78.7,81.2,82.7],\"yaxis\":\"y\",\"type\":\"scatter\"},{\"hovertemplate\":\"PersonalCharacteristics=Age: 50 to 64 years<br>Periods=%{x}<br>TrafficParticipation_1=%{text}<extra></extra>\",\"legendgroup\":\"Age: 50 to 64 years\",\"line\":{\"color\":\"#19d3f3\",\"dash\":\"solid\"},\"marker\":{\"symbol\":\"circle\"},\"mode\":\"markers+lines+text\",\"name\":\"Age: 50 to 64 years\",\"orientation\":\"v\",\"showlegend\":true,\"text\":[83.5,82.9,76.8,80.7,81.6],\"x\":[\"2018\",\"2019\",\"2020\",\"2021\",\"2022\"],\"xaxis\":\"x\",\"y\":[83.5,82.9,76.8,80.7,81.6],\"yaxis\":\"y\",\"type\":\"scatter\"},{\"hovertemplate\":\"PersonalCharacteristics=Age: 65 to 74 years<br>Periods=%{x}<br>TrafficParticipation_1=%{text}<extra></extra>\",\"legendgroup\":\"Age: 65 to 74 years\",\"line\":{\"color\":\"#FF6692\",\"dash\":\"solid\"},\"marker\":{\"symbol\":\"circle\"},\"mode\":\"markers+lines+text\",\"name\":\"Age: 65 to 74 years\",\"orientation\":\"v\",\"showlegend\":true,\"text\":[74.9,73.5,67.8,74.3,76.7],\"x\":[\"2018\",\"2019\",\"2020\",\"2021\",\"2022\"],\"xaxis\":\"x\",\"y\":[74.9,73.5,67.8,74.3,76.7],\"yaxis\":\"y\",\"type\":\"scatter\"},{\"hovertemplate\":\"PersonalCharacteristics=Age: 75 years or older<br>Periods=%{x}<br>TrafficParticipation_1=%{text}<extra></extra>\",\"legendgroup\":\"Age: 75 years or older\",\"line\":{\"color\":\"#B6E880\",\"dash\":\"solid\"},\"marker\":{\"symbol\":\"circle\"},\"mode\":\"markers+lines+text\",\"name\":\"Age: 75 years or older\",\"orientation\":\"v\",\"showlegend\":true,\"text\":[59.8,59.4,51.6,59.7,62.6],\"x\":[\"2018\",\"2019\",\"2020\",\"2021\",\"2022\"],\"xaxis\":\"x\",\"y\":[59.8,59.4,51.6,59.7,62.6],\"yaxis\":\"y\",\"type\":\"scatter\"}],                        {\"template\":{\"data\":{\"histogram2dcontour\":[{\"type\":\"histogram2dcontour\",\"colorbar\":{\"outlinewidth\":0,\"ticks\":\"\"},\"colorscale\":[[0.0,\"#0d0887\"],[0.1111111111111111,\"#46039f\"],[0.2222222222222222,\"#7201a8\"],[0.3333333333333333,\"#9c179e\"],[0.4444444444444444,\"#bd3786\"],[0.5555555555555556,\"#d8576b\"],[0.6666666666666666,\"#ed7953\"],[0.7777777777777778,\"#fb9f3a\"],[0.8888888888888888,\"#fdca26\"],[1.0,\"#f0f921\"]]}],\"choropleth\":[{\"type\":\"choropleth\",\"colorbar\":{\"outlinewidth\":0,\"ticks\":\"\"}}],\"histogram2d\":[{\"type\":\"histogram2d\",\"colorbar\":{\"outlinewidth\":0,\"ticks\":\"\"},\"colorscale\":[[0.0,\"#0d0887\"],[0.1111111111111111,\"#46039f\"],[0.2222222222222222,\"#7201a8\"],[0.3333333333333333,\"#9c179e\"],[0.4444444444444444,\"#bd3786\"],[0.5555555555555556,\"#d8576b\"],[0.6666666666666666,\"#ed7953\"],[0.7777777777777778,\"#fb9f3a\"],[0.8888888888888888,\"#fdca26\"],[1.0,\"#f0f921\"]]}],\"heatmap\":[{\"type\":\"heatmap\",\"colorbar\":{\"outlinewidth\":0,\"ticks\":\"\"},\"colorscale\":[[0.0,\"#0d0887\"],[0.1111111111111111,\"#46039f\"],[0.2222222222222222,\"#7201a8\"],[0.3333333333333333,\"#9c179e\"],[0.4444444444444444,\"#bd3786\"],[0.5555555555555556,\"#d8576b\"],[0.6666666666666666,\"#ed7953\"],[0.7777777777777778,\"#fb9f3a\"],[0.8888888888888888,\"#fdca26\"],[1.0,\"#f0f921\"]]}],\"heatmapgl\":[{\"type\":\"heatmapgl\",\"colorbar\":{\"outlinewidth\":0,\"ticks\":\"\"},\"colorscale\":[[0.0,\"#0d0887\"],[0.1111111111111111,\"#46039f\"],[0.2222222222222222,\"#7201a8\"],[0.3333333333333333,\"#9c179e\"],[0.4444444444444444,\"#bd3786\"],[0.5555555555555556,\"#d8576b\"],[0.6666666666666666,\"#ed7953\"],[0.7777777777777778,\"#fb9f3a\"],[0.8888888888888888,\"#fdca26\"],[1.0,\"#f0f921\"]]}],\"contourcarpet\":[{\"type\":\"contourcarpet\",\"colorbar\":{\"outlinewidth\":0,\"ticks\":\"\"}}],\"contour\":[{\"type\":\"contour\",\"colorbar\":{\"outlinewidth\":0,\"ticks\":\"\"},\"colorscale\":[[0.0,\"#0d0887\"],[0.1111111111111111,\"#46039f\"],[0.2222222222222222,\"#7201a8\"],[0.3333333333333333,\"#9c179e\"],[0.4444444444444444,\"#bd3786\"],[0.5555555555555556,\"#d8576b\"],[0.6666666666666666,\"#ed7953\"],[0.7777777777777778,\"#fb9f3a\"],[0.8888888888888888,\"#fdca26\"],[1.0,\"#f0f921\"]]}],\"surface\":[{\"type\":\"surface\",\"colorbar\":{\"outlinewidth\":0,\"ticks\":\"\"},\"colorscale\":[[0.0,\"#0d0887\"],[0.1111111111111111,\"#46039f\"],[0.2222222222222222,\"#7201a8\"],[0.3333333333333333,\"#9c179e\"],[0.4444444444444444,\"#bd3786\"],[0.5555555555555556,\"#d8576b\"],[0.6666666666666666,\"#ed7953\"],[0.7777777777777778,\"#fb9f3a\"],[0.8888888888888888,\"#fdca26\"],[1.0,\"#f0f921\"]]}],\"mesh3d\":[{\"type\":\"mesh3d\",\"colorbar\":{\"outlinewidth\":0,\"ticks\":\"\"}}],\"scatter\":[{\"fillpattern\":{\"fillmode\":\"overlay\",\"size\":10,\"solidity\":0.2},\"type\":\"scatter\"}],\"parcoords\":[{\"type\":\"parcoords\",\"line\":{\"colorbar\":{\"outlinewidth\":0,\"ticks\":\"\"}}}],\"scatterpolargl\":[{\"type\":\"scatterpolargl\",\"marker\":{\"colorbar\":{\"outlinewidth\":0,\"ticks\":\"\"}}}],\"bar\":[{\"error_x\":{\"color\":\"#2a3f5f\"},\"error_y\":{\"color\":\"#2a3f5f\"},\"marker\":{\"line\":{\"color\":\"#E5ECF6\",\"width\":0.5},\"pattern\":{\"fillmode\":\"overlay\",\"size\":10,\"solidity\":0.2}},\"type\":\"bar\"}],\"scattergeo\":[{\"type\":\"scattergeo\",\"marker\":{\"colorbar\":{\"outlinewidth\":0,\"ticks\":\"\"}}}],\"scatterpolar\":[{\"type\":\"scatterpolar\",\"marker\":{\"colorbar\":{\"outlinewidth\":0,\"ticks\":\"\"}}}],\"histogram\":[{\"marker\":{\"pattern\":{\"fillmode\":\"overlay\",\"size\":10,\"solidity\":0.2}},\"type\":\"histogram\"}],\"scattergl\":[{\"type\":\"scattergl\",\"marker\":{\"colorbar\":{\"outlinewidth\":0,\"ticks\":\"\"}}}],\"scatter3d\":[{\"type\":\"scatter3d\",\"line\":{\"colorbar\":{\"outlinewidth\":0,\"ticks\":\"\"}},\"marker\":{\"colorbar\":{\"outlinewidth\":0,\"ticks\":\"\"}}}],\"scattermapbox\":[{\"type\":\"scattermapbox\",\"marker\":{\"colorbar\":{\"outlinewidth\":0,\"ticks\":\"\"}}}],\"scatterternary\":[{\"type\":\"scatterternary\",\"marker\":{\"colorbar\":{\"outlinewidth\":0,\"ticks\":\"\"}}}],\"scattercarpet\":[{\"type\":\"scattercarpet\",\"marker\":{\"colorbar\":{\"outlinewidth\":0,\"ticks\":\"\"}}}],\"carpet\":[{\"aaxis\":{\"endlinecolor\":\"#2a3f5f\",\"gridcolor\":\"white\",\"linecolor\":\"white\",\"minorgridcolor\":\"white\",\"startlinecolor\":\"#2a3f5f\"},\"baxis\":{\"endlinecolor\":\"#2a3f5f\",\"gridcolor\":\"white\",\"linecolor\":\"white\",\"minorgridcolor\":\"white\",\"startlinecolor\":\"#2a3f5f\"},\"type\":\"carpet\"}],\"table\":[{\"cells\":{\"fill\":{\"color\":\"#EBF0F8\"},\"line\":{\"color\":\"white\"}},\"header\":{\"fill\":{\"color\":\"#C8D4E3\"},\"line\":{\"color\":\"white\"}},\"type\":\"table\"}],\"barpolar\":[{\"marker\":{\"line\":{\"color\":\"#E5ECF6\",\"width\":0.5},\"pattern\":{\"fillmode\":\"overlay\",\"size\":10,\"solidity\":0.2}},\"type\":\"barpolar\"}],\"pie\":[{\"automargin\":true,\"type\":\"pie\"}]},\"layout\":{\"autotypenumbers\":\"strict\",\"colorway\":[\"#636efa\",\"#EF553B\",\"#00cc96\",\"#ab63fa\",\"#FFA15A\",\"#19d3f3\",\"#FF6692\",\"#B6E880\",\"#FF97FF\",\"#FECB52\"],\"font\":{\"color\":\"#2a3f5f\"},\"hovermode\":\"closest\",\"hoverlabel\":{\"align\":\"left\"},\"paper_bgcolor\":\"white\",\"plot_bgcolor\":\"#E5ECF6\",\"polar\":{\"bgcolor\":\"#E5ECF6\",\"angularaxis\":{\"gridcolor\":\"white\",\"linecolor\":\"white\",\"ticks\":\"\"},\"radialaxis\":{\"gridcolor\":\"white\",\"linecolor\":\"white\",\"ticks\":\"\"}},\"ternary\":{\"bgcolor\":\"#E5ECF6\",\"aaxis\":{\"gridcolor\":\"white\",\"linecolor\":\"white\",\"ticks\":\"\"},\"baxis\":{\"gridcolor\":\"white\",\"linecolor\":\"white\",\"ticks\":\"\"},\"caxis\":{\"gridcolor\":\"white\",\"linecolor\":\"white\",\"ticks\":\"\"}},\"coloraxis\":{\"colorbar\":{\"outlinewidth\":0,\"ticks\":\"\"}},\"colorscale\":{\"sequential\":[[0.0,\"#0d0887\"],[0.1111111111111111,\"#46039f\"],[0.2222222222222222,\"#7201a8\"],[0.3333333333333333,\"#9c179e\"],[0.4444444444444444,\"#bd3786\"],[0.5555555555555556,\"#d8576b\"],[0.6666666666666666,\"#ed7953\"],[0.7777777777777778,\"#fb9f3a\"],[0.8888888888888888,\"#fdca26\"],[1.0,\"#f0f921\"]],\"sequentialminus\":[[0.0,\"#0d0887\"],[0.1111111111111111,\"#46039f\"],[0.2222222222222222,\"#7201a8\"],[0.3333333333333333,\"#9c179e\"],[0.4444444444444444,\"#bd3786\"],[0.5555555555555556,\"#d8576b\"],[0.6666666666666666,\"#ed7953\"],[0.7777777777777778,\"#fb9f3a\"],[0.8888888888888888,\"#fdca26\"],[1.0,\"#f0f921\"]],\"diverging\":[[0,\"#8e0152\"],[0.1,\"#c51b7d\"],[0.2,\"#de77ae\"],[0.3,\"#f1b6da\"],[0.4,\"#fde0ef\"],[0.5,\"#f7f7f7\"],[0.6,\"#e6f5d0\"],[0.7,\"#b8e186\"],[0.8,\"#7fbc41\"],[0.9,\"#4d9221\"],[1,\"#276419\"]]},\"xaxis\":{\"gridcolor\":\"white\",\"linecolor\":\"white\",\"ticks\":\"\",\"title\":{\"standoff\":15},\"zerolinecolor\":\"white\",\"automargin\":true,\"zerolinewidth\":2},\"yaxis\":{\"gridcolor\":\"white\",\"linecolor\":\"white\",\"ticks\":\"\",\"title\":{\"standoff\":15},\"zerolinecolor\":\"white\",\"automargin\":true,\"zerolinewidth\":2},\"scene\":{\"xaxis\":{\"backgroundcolor\":\"#E5ECF6\",\"gridcolor\":\"white\",\"linecolor\":\"white\",\"showbackground\":true,\"ticks\":\"\",\"zerolinecolor\":\"white\",\"gridwidth\":2},\"yaxis\":{\"backgroundcolor\":\"#E5ECF6\",\"gridcolor\":\"white\",\"linecolor\":\"white\",\"showbackground\":true,\"ticks\":\"\",\"zerolinecolor\":\"white\",\"gridwidth\":2},\"zaxis\":{\"backgroundcolor\":\"#E5ECF6\",\"gridcolor\":\"white\",\"linecolor\":\"white\",\"showbackground\":true,\"ticks\":\"\",\"zerolinecolor\":\"white\",\"gridwidth\":2}},\"shapedefaults\":{\"line\":{\"color\":\"#2a3f5f\"}},\"annotationdefaults\":{\"arrowcolor\":\"#2a3f5f\",\"arrowhead\":0,\"arrowwidth\":1},\"geo\":{\"bgcolor\":\"white\",\"landcolor\":\"#E5ECF6\",\"subunitcolor\":\"white\",\"showland\":true,\"showlakes\":true,\"lakecolor\":\"white\"},\"title\":{\"x\":0.05},\"mapbox\":{\"style\":\"light\"}}},\"xaxis\":{\"anchor\":\"y\",\"domain\":[0.0,1.0],\"title\":{\"text\":\"Periods\"}},\"yaxis\":{\"anchor\":\"x\",\"domain\":[0.0,1.0],\"title\":{\"text\":\"TrafficParticipation_1\"}},\"legend\":{\"title\":{\"text\":\"PersonalCharacteristics\"},\"tracegroupgap\":0},\"margin\":{\"t\":60}},                        {\"responsive\": true}                    ).then(function(){\n",
       "                            \n",
       "var gd = document.getElementById('5df15738-7daf-44bb-97e6-49866b220baa');\n",
       "var x = new MutationObserver(function (mutations, observer) {{\n",
       "        var display = window.getComputedStyle(gd).display;\n",
       "        if (!display || display === 'none') {{\n",
       "            console.log([gd, 'removed!']);\n",
       "            Plotly.purge(gd);\n",
       "            observer.disconnect();\n",
       "        }}\n",
       "}});\n",
       "\n",
       "// Listen for the removal of the full notebook cells\n",
       "var notebookContainer = gd.closest('#notebook-container');\n",
       "if (notebookContainer) {{\n",
       "    x.observe(notebookContainer, {childList: true});\n",
       "}}\n",
       "\n",
       "// Listen for the clearing of the current output cell\n",
       "var outputEl = gd.closest('.output');\n",
       "if (outputEl) {{\n",
       "    x.observe(outputEl, {childList: true});\n",
       "}}\n",
       "\n",
       "                        })                };                });            </script>        </div>"
      ]
     },
     "metadata": {},
     "output_type": "display_data"
    }
   ],
   "source": [
    "fig = px.line(df_age[ df_age['Sex'] == 'Total male and female'], y='TrafficParticipation_1', x='Periods', color='PersonalCharacteristics', text='TrafficParticipation_1')\n",
    "fig.show()"
   ]
  },
  {
   "cell_type": "code",
   "execution_count": null,
   "id": "e1fd40b0-bf2d-4443-a229-ae4dcf9e3898",
   "metadata": {},
   "outputs": [],
   "source": [
    "fig = px.line(df_age[ df_age['Sex'] == 'Total male and female'], y='TrafficParticipation_1', x='Periods', color='PersonalCharacteristics', text='TrafficParticipation_1')\n",
    "fig.show()"
   ]
  },
  {
   "cell_type": "code",
   "execution_count": null,
   "id": "2299bbd9-b250-47d6-afb5-43fc4d21627b",
   "metadata": {},
   "outputs": [],
   "source": []
  },
  {
   "cell_type": "code",
   "execution_count": null,
   "id": "d1236dd6-e6fb-4bfd-9a1a-63a611ab6801",
   "metadata": {},
   "outputs": [],
   "source": [
    "import time\n",
    "import timeit\n",
    "import statsmodels.api as sm\n",
    "from statsmodels.tsa.seasonal import seasonal_decompose\n",
    "import datetime\n",
    "import warnings\n",
    "from scipy.interpolate import interp1d"
   ]
  },
  {
   "cell_type": "code",
   "execution_count": null,
   "id": "0f3720aa-2dff-45d4-9020-30da3ce00d4d",
   "metadata": {},
   "outputs": [],
   "source": [
    "start = timeit.default_timer()\n",
    "\n",
    "result = seasonal_decompose(df_T2_V, model='additive')\n",
    "print(result.trend)\n",
    "print(result.seasonal)\n",
    "print(result.resid)\n",
    "print(result.observed)\n",
    "\n",
    "result.plot()\n",
    "plt.show()\n",
    "\n",
    "stop = timeit.default_timer()\n",
    "print('Time: ', stop - start)"
   ]
  },
  {
   "cell_type": "code",
   "execution_count": null,
   "id": "3bb02d64-e4d6-48f8-8172-c333c8ac3042",
   "metadata": {},
   "outputs": [],
   "source": []
  },
  {
   "cell_type": "code",
   "execution_count": null,
   "id": "c4021027-d7f4-4979-8473-01f8ff0df959",
   "metadata": {},
   "outputs": [],
   "source": []
  },
  {
   "cell_type": "code",
   "execution_count": null,
   "id": "052c3ce5-5756-49b9-992e-e0c73b747806",
   "metadata": {},
   "outputs": [],
   "source": []
  },
  {
   "cell_type": "markdown",
   "id": "f4245c59-77fb-489e-aabd-d0b83c815ba7",
   "metadata": {},
   "source": [
    "# ZOOI"
   ]
  },
  {
   "cell_type": "code",
   "execution_count": null,
   "id": "168a01e9-509e-4ff3-b1d4-30b0dca03164",
   "metadata": {},
   "outputs": [
    {
     "data": {
      "text/html": [
       "<div>\n",
       "<style scoped>\n",
       "    .dataframe tbody tr th:only-of-type {\n",
       "        vertical-align: middle;\n",
       "    }\n",
       "\n",
       "    .dataframe tbody tr th {\n",
       "        vertical-align: top;\n",
       "    }\n",
       "\n",
       "    .dataframe thead th {\n",
       "        text-align: right;\n",
       "    }\n",
       "</style>\n",
       "<table border=\"1\" class=\"dataframe\">\n",
       "  <thead>\n",
       "    <tr style=\"text-align: right;\">\n",
       "      <th></th>\n",
       "      <th>Periods</th>\n",
       "      <th>TrafficParticipation_1_Population 6 years or older_Female_Age: 12 to 17 years</th>\n",
       "      <th>TrafficParticipation_1_Population 6 years or older_Female_Age: 18 to 24 years</th>\n",
       "      <th>TrafficParticipation_1_Population 6 years or older_Female_Age: 25 to 34 years</th>\n",
       "      <th>TrafficParticipation_1_Population 6 years or older_Female_Age: 35 to 49 years</th>\n",
       "      <th>TrafficParticipation_1_Population 6 years or older_Female_Age: 50 to 64 years</th>\n",
       "      <th>TrafficParticipation_1_Population 6 years or older_Female_Age: 6 to 11 years</th>\n",
       "      <th>TrafficParticipation_1_Population 6 years or older_Female_Age: 65 to 74 years</th>\n",
       "      <th>TrafficParticipation_1_Population 6 years or older_Female_Age: 75 years or older</th>\n",
       "      <th>TrafficParticipation_1_Population 6 years or older_Female_Background: Dutch</th>\n",
       "      <th>...</th>\n",
       "      <th>UseOfPublicTransport_2_Population: 12 years or older_Total male and female_Participatie:student/scholier</th>\n",
       "      <th>UseOfPublicTransport_2_Population: 12 years or older_Total male and female_Participation: retired</th>\n",
       "      <th>UseOfPublicTransport_2_Population: 12 years or older_Total male and female_Participation: unemployed</th>\n",
       "      <th>UseOfPublicTransport_2_Population: 12 years or older_Total male and female_Participation: unemployed, other</th>\n",
       "      <th>UseOfPublicTransport_2_Population: 12 years or older_Total male and female_Participation: working 12 -29 h. a week</th>\n",
       "      <th>UseOfPublicTransport_2_Population: 12 years or older_Total male and female_Participation: working &gt;30 hours a week</th>\n",
       "      <th>UseOfPublicTransport_2_Population: 12 years or older_Total male and female_Persons without student publ.transp.card</th>\n",
       "      <th>UseOfPublicTransport_2_Population: 12 years or older_Total male and female_Students with week pass publ. transp.</th>\n",
       "      <th>UseOfPublicTransport_2_Population: 12 years or older_Total male and female_Students with weekend pass publ. transp.</th>\n",
       "      <th>UseOfPublicTransport_2_Population: 12 years or older_Total male and female_Total persons</th>\n",
       "    </tr>\n",
       "  </thead>\n",
       "  <tbody>\n",
       "    <tr>\n",
       "      <th>0</th>\n",
       "      <td>2018</td>\n",
       "      <td>86.866667</td>\n",
       "      <td>87.866667</td>\n",
       "      <td>89.633333</td>\n",
       "      <td>86.800000</td>\n",
       "      <td>84.000000</td>\n",
       "      <td>90.066667</td>\n",
       "      <td>75.333333</td>\n",
       "      <td>57.266667</td>\n",
       "      <td>84.600000</td>\n",
       "      <td>...</td>\n",
       "      <td>20.100000</td>\n",
       "      <td>3.866667</td>\n",
       "      <td>6.733333</td>\n",
       "      <td>5.400000</td>\n",
       "      <td>7.833333</td>\n",
       "      <td>9.600000</td>\n",
       "      <td>7.500000</td>\n",
       "      <td>40.766667</td>\n",
       "      <td>17.566667</td>\n",
       "      <td>9.100000</td>\n",
       "    </tr>\n",
       "    <tr>\n",
       "      <th>1</th>\n",
       "      <td>2019</td>\n",
       "      <td>86.333333</td>\n",
       "      <td>85.733333</td>\n",
       "      <td>86.433333</td>\n",
       "      <td>86.366667</td>\n",
       "      <td>83.200000</td>\n",
       "      <td>88.166667</td>\n",
       "      <td>72.400000</td>\n",
       "      <td>55.966667</td>\n",
       "      <td>82.900000</td>\n",
       "      <td>...</td>\n",
       "      <td>19.033333</td>\n",
       "      <td>3.733333</td>\n",
       "      <td>6.800000</td>\n",
       "      <td>5.000000</td>\n",
       "      <td>8.400000</td>\n",
       "      <td>9.933333</td>\n",
       "      <td>7.500000</td>\n",
       "      <td>41.133333</td>\n",
       "      <td>19.800000</td>\n",
       "      <td>9.100000</td>\n",
       "    </tr>\n",
       "    <tr>\n",
       "      <th>2</th>\n",
       "      <td>2020</td>\n",
       "      <td>74.933333</td>\n",
       "      <td>75.833333</td>\n",
       "      <td>77.866667</td>\n",
       "      <td>78.466667</td>\n",
       "      <td>76.833333</td>\n",
       "      <td>80.133333</td>\n",
       "      <td>65.966667</td>\n",
       "      <td>47.700000</td>\n",
       "      <td>76.700000</td>\n",
       "      <td>...</td>\n",
       "      <td>9.833333</td>\n",
       "      <td>1.433333</td>\n",
       "      <td>NaN</td>\n",
       "      <td>2.100000</td>\n",
       "      <td>3.900000</td>\n",
       "      <td>4.300000</td>\n",
       "      <td>3.400000</td>\n",
       "      <td>18.633333</td>\n",
       "      <td>NaN</td>\n",
       "      <td>4.133333</td>\n",
       "    </tr>\n",
       "    <tr>\n",
       "      <th>3</th>\n",
       "      <td>2021</td>\n",
       "      <td>80.266667</td>\n",
       "      <td>81.000000</td>\n",
       "      <td>81.566667</td>\n",
       "      <td>82.400000</td>\n",
       "      <td>81.100000</td>\n",
       "      <td>86.500000</td>\n",
       "      <td>73.500000</td>\n",
       "      <td>55.866667</td>\n",
       "      <td>81.000000</td>\n",
       "      <td>...</td>\n",
       "      <td>11.700000</td>\n",
       "      <td>1.533333</td>\n",
       "      <td>5.166667</td>\n",
       "      <td>2.966667</td>\n",
       "      <td>4.666667</td>\n",
       "      <td>3.966667</td>\n",
       "      <td>3.433333</td>\n",
       "      <td>23.733333</td>\n",
       "      <td>16.400000</td>\n",
       "      <td>4.500000</td>\n",
       "    </tr>\n",
       "    <tr>\n",
       "      <th>4</th>\n",
       "      <td>2022</td>\n",
       "      <td>83.200000</td>\n",
       "      <td>82.833333</td>\n",
       "      <td>82.566667</td>\n",
       "      <td>83.500000</td>\n",
       "      <td>81.766667</td>\n",
       "      <td>85.266667</td>\n",
       "      <td>75.700000</td>\n",
       "      <td>59.100000</td>\n",
       "      <td>82.366667</td>\n",
       "      <td>...</td>\n",
       "      <td>15.566667</td>\n",
       "      <td>2.033333</td>\n",
       "      <td>6.400000</td>\n",
       "      <td>3.833333</td>\n",
       "      <td>6.400000</td>\n",
       "      <td>6.266667</td>\n",
       "      <td>5.100000</td>\n",
       "      <td>30.233333</td>\n",
       "      <td>19.566667</td>\n",
       "      <td>6.400000</td>\n",
       "    </tr>\n",
       "  </tbody>\n",
       "</table>\n",
       "<p>5 rows × 561 columns</p>\n",
       "</div>"
      ],
      "text/plain": [
       "  Periods  \\\n",
       "0    2018   \n",
       "1    2019   \n",
       "2    2020   \n",
       "3    2021   \n",
       "4    2022   \n",
       "\n",
       "   TrafficParticipation_1_Population 6 years or older_Female_Age: 12 to 17 years  \\\n",
       "0                                          86.866667                               \n",
       "1                                          86.333333                               \n",
       "2                                          74.933333                               \n",
       "3                                          80.266667                               \n",
       "4                                          83.200000                               \n",
       "\n",
       "   TrafficParticipation_1_Population 6 years or older_Female_Age: 18 to 24 years  \\\n",
       "0                                          87.866667                               \n",
       "1                                          85.733333                               \n",
       "2                                          75.833333                               \n",
       "3                                          81.000000                               \n",
       "4                                          82.833333                               \n",
       "\n",
       "   TrafficParticipation_1_Population 6 years or older_Female_Age: 25 to 34 years  \\\n",
       "0                                          89.633333                               \n",
       "1                                          86.433333                               \n",
       "2                                          77.866667                               \n",
       "3                                          81.566667                               \n",
       "4                                          82.566667                               \n",
       "\n",
       "   TrafficParticipation_1_Population 6 years or older_Female_Age: 35 to 49 years  \\\n",
       "0                                          86.800000                               \n",
       "1                                          86.366667                               \n",
       "2                                          78.466667                               \n",
       "3                                          82.400000                               \n",
       "4                                          83.500000                               \n",
       "\n",
       "   TrafficParticipation_1_Population 6 years or older_Female_Age: 50 to 64 years  \\\n",
       "0                                          84.000000                               \n",
       "1                                          83.200000                               \n",
       "2                                          76.833333                               \n",
       "3                                          81.100000                               \n",
       "4                                          81.766667                               \n",
       "\n",
       "   TrafficParticipation_1_Population 6 years or older_Female_Age: 6 to 11 years  \\\n",
       "0                                          90.066667                              \n",
       "1                                          88.166667                              \n",
       "2                                          80.133333                              \n",
       "3                                          86.500000                              \n",
       "4                                          85.266667                              \n",
       "\n",
       "   TrafficParticipation_1_Population 6 years or older_Female_Age: 65 to 74 years  \\\n",
       "0                                          75.333333                               \n",
       "1                                          72.400000                               \n",
       "2                                          65.966667                               \n",
       "3                                          73.500000                               \n",
       "4                                          75.700000                               \n",
       "\n",
       "   TrafficParticipation_1_Population 6 years or older_Female_Age: 75 years or older  \\\n",
       "0                                          57.266667                                  \n",
       "1                                          55.966667                                  \n",
       "2                                          47.700000                                  \n",
       "3                                          55.866667                                  \n",
       "4                                          59.100000                                  \n",
       "\n",
       "   TrafficParticipation_1_Population 6 years or older_Female_Background: Dutch  \\\n",
       "0                                          84.600000                             \n",
       "1                                          82.900000                             \n",
       "2                                          76.700000                             \n",
       "3                                          81.000000                             \n",
       "4                                          82.366667                             \n",
       "\n",
       "   ...  \\\n",
       "0  ...   \n",
       "1  ...   \n",
       "2  ...   \n",
       "3  ...   \n",
       "4  ...   \n",
       "\n",
       "   UseOfPublicTransport_2_Population: 12 years or older_Total male and female_Participatie:student/scholier  \\\n",
       "0                                          20.100000                                                          \n",
       "1                                          19.033333                                                          \n",
       "2                                           9.833333                                                          \n",
       "3                                          11.700000                                                          \n",
       "4                                          15.566667                                                          \n",
       "\n",
       "   UseOfPublicTransport_2_Population: 12 years or older_Total male and female_Participation: retired  \\\n",
       "0                                           3.866667                                                   \n",
       "1                                           3.733333                                                   \n",
       "2                                           1.433333                                                   \n",
       "3                                           1.533333                                                   \n",
       "4                                           2.033333                                                   \n",
       "\n",
       "   UseOfPublicTransport_2_Population: 12 years or older_Total male and female_Participation: unemployed  \\\n",
       "0                                           6.733333                                                      \n",
       "1                                           6.800000                                                      \n",
       "2                                                NaN                                                      \n",
       "3                                           5.166667                                                      \n",
       "4                                           6.400000                                                      \n",
       "\n",
       "   UseOfPublicTransport_2_Population: 12 years or older_Total male and female_Participation: unemployed, other  \\\n",
       "0                                           5.400000                                                             \n",
       "1                                           5.000000                                                             \n",
       "2                                           2.100000                                                             \n",
       "3                                           2.966667                                                             \n",
       "4                                           3.833333                                                             \n",
       "\n",
       "   UseOfPublicTransport_2_Population: 12 years or older_Total male and female_Participation: working 12 -29 h. a week  \\\n",
       "0                                           7.833333                                                                    \n",
       "1                                           8.400000                                                                    \n",
       "2                                           3.900000                                                                    \n",
       "3                                           4.666667                                                                    \n",
       "4                                           6.400000                                                                    \n",
       "\n",
       "   UseOfPublicTransport_2_Population: 12 years or older_Total male and female_Participation: working >30 hours a week  \\\n",
       "0                                           9.600000                                                                    \n",
       "1                                           9.933333                                                                    \n",
       "2                                           4.300000                                                                    \n",
       "3                                           3.966667                                                                    \n",
       "4                                           6.266667                                                                    \n",
       "\n",
       "   UseOfPublicTransport_2_Population: 12 years or older_Total male and female_Persons without student publ.transp.card  \\\n",
       "0                                           7.500000                                                                     \n",
       "1                                           7.500000                                                                     \n",
       "2                                           3.400000                                                                     \n",
       "3                                           3.433333                                                                     \n",
       "4                                           5.100000                                                                     \n",
       "\n",
       "   UseOfPublicTransport_2_Population: 12 years or older_Total male and female_Students with week pass publ. transp.  \\\n",
       "0                                          40.766667                                                                  \n",
       "1                                          41.133333                                                                  \n",
       "2                                          18.633333                                                                  \n",
       "3                                          23.733333                                                                  \n",
       "4                                          30.233333                                                                  \n",
       "\n",
       "   UseOfPublicTransport_2_Population: 12 years or older_Total male and female_Students with weekend pass publ. transp.  \\\n",
       "0                                          17.566667                                                                     \n",
       "1                                          19.800000                                                                     \n",
       "2                                                NaN                                                                     \n",
       "3                                          16.400000                                                                     \n",
       "4                                          19.566667                                                                     \n",
       "\n",
       "   UseOfPublicTransport_2_Population: 12 years or older_Total male and female_Total persons  \n",
       "0                                           9.100000                                         \n",
       "1                                           9.100000                                         \n",
       "2                                           4.133333                                         \n",
       "3                                           4.500000                                         \n",
       "4                                           6.400000                                         \n",
       "\n",
       "[5 rows x 561 columns]"
      ]
     },
     "execution_count": 22,
     "metadata": {},
     "output_type": "execute_result"
    }
   ],
   "source": [
    "aggregated_df = df.groupby(['Periods', 'Population', 'Sex', 'PersonalCharacteristics']).mean().reset_index()\n",
    "\n",
    "pivot_df = aggregated_df.pivot(index='Periods', columns=['Population', 'Sex', 'PersonalCharacteristics'], values=['TrafficParticipation_1', 'UseOfPublicTransport_2'])\n",
    "\n",
    "# Flatten the MultiIndex columns\n",
    "pivot_df.columns = ['_'.join(map(str, col)) for col in pivot_df.columns]\n",
    "\n",
    "# Reset the index\n",
    "pivot_df.reset_index(inplace=True)\n",
    "\n",
    "pivot_df"
   ]
  },
  {
   "cell_type": "code",
   "execution_count": null,
   "id": "bc74c26c-7272-4628-9a5f-63ecfd03198e",
   "metadata": {},
   "outputs": [],
   "source": [
    "df_formatted = df_sorted.set_index(['Population'"
   ]
  },
  {
   "cell_type": "code",
   "execution_count": null,
   "id": "a1615594-390b-40d7-b726-8e1286352061",
   "metadata": {},
   "outputs": [],
   "source": []
  },
  {
   "cell_type": "code",
   "execution_count": null,
   "id": "6eb7f6dd-7984-46ac-a4fc-c30d650681e9",
   "metadata": {},
   "outputs": [],
   "source": []
  },
  {
   "cell_type": "code",
   "execution_count": null,
   "id": "9f757baa-3afa-482e-b612-ff8b92f53553",
   "metadata": {},
   "outputs": [],
   "source": []
  },
  {
   "cell_type": "code",
   "execution_count": 24,
   "id": "39aa85ea-ef67-45bd-940e-f1d2f4030e42",
   "metadata": {},
   "outputs": [
    {
     "data": {
      "text/plain": [
       "Population 6 years or older      525\n",
       "Population: 12 years or older    525\n",
       "Name: Population, dtype: int64"
      ]
     },
     "execution_count": 24,
     "metadata": {},
     "output_type": "execute_result"
    }
   ],
   "source": [
    "df_sorted['Population'].value_counts()"
   ]
  }
 ],
 "metadata": {
  "kernelspec": {
   "display_name": "Python 3 (ipykernel)",
   "language": "python",
   "name": "python3"
  },
  "language_info": {
   "codemirror_mode": {
    "name": "ipython",
    "version": 3
   },
   "file_extension": ".py",
   "mimetype": "text/x-python",
   "name": "python",
   "nbconvert_exporter": "python",
   "pygments_lexer": "ipython3",
   "version": "3.9.13"
  }
 },
 "nbformat": 4,
 "nbformat_minor": 5
}
