{
 "cells": [
  {
   "cell_type": "markdown",
   "metadata": {},
   "source": [
    "# Project Group 2 \n",
    "\n",
    "Members: Jelmer Nederhof, Yvain Redon, Martin Kooistra, Chenhao Zhang and Suze Vernooij\n",
    "\n",
    "Student numbers: 5407400, 6071392, 4880005, ?? and 5091292"
   ]
  },
  {
   "cell_type": "markdown",
   "metadata": {},
   "source": [
    "# Research Objective\n",
    "\n",
    "*Requires data modeling and quantitative research in Transport, Infrastructure & Logistics*"
   ]
  },
  {
   "cell_type": "markdown",
   "metadata": {},
   "source": [
    "Reveal the relationship between covid and public transport patterns for different sociodemographic groups in the Netherlands between 2010 and 2022.\n",
    "\n",
    "**- RQ should include data processing, quantitative analysis and visualisation.**\n",
    "Reveal the relationship between covid and public transport patterns for different sociodemographic groups in the Netherlands between 2010 and 2022.\n",
    "\n",
    "**- Provide the data source you need for answering the RQ, provide link to the data where\n",
    "applicable**\n",
    "\n",
    "* https://opendata.cbs.nl/#/CBS/en/dataset/84707ENG/table\n",
    "* https://opendata.cbs.nl/statline/#/CBS/nl/dataset/83496NED/table?ts=1696408326201\n",
    "\n",
    "**- Provide information about the time scale and spatial scale you are looking at. Provide the\n",
    "geographical boundary of your study.**\n",
    "\n",
    "The scope of the project is within the Netherlands. Data from 2010 until 2022 will be used."
   ]
  },
  {
   "cell_type": "markdown",
   "metadata": {},
   "source": [
    "# Contribution Statement\n",
    "\n",
    "*Be specific. Some of the tasks can be coding (expect everyone to do this), background research, conceptualisation, visualisation, data analysis, data modelling*"
   ]
  },
  {
   "cell_type": "markdown",
   "metadata": {},
   "source": [
    "04/10/2023\n",
    "\n",
    "Jelmer Nederhof, Yvain Redon, Martin Kooistra and Suze Vernooij worked on the project proposal. Chenhao Zhang will join later since he was added to our group later.\n",
    "\n",
    "**Author 1**:\n",
    "\n",
    "**Author 2**:\n",
    "\n",
    "**Author 3**:\n",
    "\n",
    "**Author 4**:\n",
    "\n",
    "**Author 5**:\n"
   ]
  },
  {
   "cell_type": "markdown",
   "metadata": {},
   "source": [
    "# Data Used"
   ]
  },
  {
   "cell_type": "markdown",
   "metadata": {},
   "source": [
    "- https://opendata.cbs.nl/#/CBS/en/dataset/84707ENG/table\n",
    "- https://opendata.cbs.nl/statline/#/CBS/nl/dataset/83496NED/table?ts=1696408326201"
   ]
  },
  {
   "cell_type": "markdown",
   "metadata": {},
   "source": [
    "# Data Pipeline"
   ]
  },
  {
   "cell_type": "markdown",
   "metadata": {},
   "source": [
    "Define the data sources: Identify where your data comes from and how it will be collected.\n",
    "\n",
    "Clean and validate data: Use Python libraries like Pandas and NumPy to clean, validate, and preprocess your data.\n",
    "\n",
    "Transform and enrich data: Apply data transformations and enrichments to improve the quality of your data for analysis.\n",
    "\n",
    "Store the processed data: Store the processed data in a suitable storage system, such as a database or cloud storage.\n",
    "\n",
    "Analyze and visualize data: Use Python libraries such as Matplotlib, Seaborn, and Plotly for data visualization and analysis."
   ]
  },
  {
   "cell_type": "code",
   "execution_count": 5,
   "metadata": {},
   "outputs": [
    {
     "data": {
      "text/html": [
       "<div>\n",
       "<style scoped>\n",
       "    .dataframe tbody tr th:only-of-type {\n",
       "        vertical-align: middle;\n",
       "    }\n",
       "\n",
       "    .dataframe tbody tr th {\n",
       "        vertical-align: top;\n",
       "    }\n",
       "\n",
       "    .dataframe thead th {\n",
       "        text-align: right;\n",
       "    }\n",
       "</style>\n",
       "<table border=\"1\" class=\"dataframe\">\n",
       "  <thead>\n",
       "    <tr style=\"text-align: right;\">\n",
       "      <th></th>\n",
       "      <th>Mobility; traffic participation and participation in public transport</th>\n",
       "    </tr>\n",
       "  </thead>\n",
       "  <tbody>\n",
       "    <tr>\n",
       "      <th>0</th>\n",
       "      <td>Population: Population 6 years or older</td>\n",
       "    </tr>\n",
       "    <tr>\n",
       "      <th>1</th>\n",
       "      <td>Margins: Value</td>\n",
       "    </tr>\n",
       "    <tr>\n",
       "      <th>2</th>\n",
       "      <td>NaN</td>\n",
       "    </tr>\n",
       "    <tr>\n",
       "      <th>3</th>\n",
       "      <td>Topic;\"Traffic participation\";\"Traffic partici...</td>\n",
       "    </tr>\n",
       "    <tr>\n",
       "      <th>4</th>\n",
       "      <td>Sex;\"Total male and female\";\"Total male and fe...</td>\n",
       "    </tr>\n",
       "  </tbody>\n",
       "</table>\n",
       "</div>"
      ],
      "text/plain": [
       "  Mobility; traffic participation and participation in public transport \n",
       "0            Population: Population 6 years or older                    \n",
       "1                                     Margins: Value                    \n",
       "2                                                NaN                    \n",
       "3  Topic;\"Traffic participation\";\"Traffic partici...                    \n",
       "4  Sex;\"Total male and female\";\"Total male and fe...                    "
      ]
     },
     "execution_count": 5,
     "metadata": {},
     "output_type": "execute_result"
    }
   ],
   "source": [
    "import pandas as pd\n",
    "data = pd.read_csv('Mobility__traffic_participation_and_participation_in_public_transport__04102023_104615.csv')\n",
    "data.head()"
   ]
  },
  {
   "cell_type": "markdown",
   "metadata": {},
   "source": [
    "# Part 1 Data Import"
   ]
  },
  {
   "cell_type": "markdown",
   "metadata": {},
   "source": [
    "- We have to adapt the datasets so we can combine the two datasets. The datasets contain the same information, but for a different period of time and in a different format. \n",
    "- Make sure everything is in English"
   ]
  },
  {
   "cell_type": "markdown",
   "metadata": {},
   "source": [
    "# Part 2 Data Processing"
   ]
  },
  {
   "cell_type": "markdown",
   "metadata": {},
   "source": [
    "**1.1**\n",
    "covid and public transport"
   ]
  },
  {
   "cell_type": "markdown",
   "metadata": {},
   "source": [
    "**1.2**"
   ]
  },
  {
   "cell_type": "markdown",
   "metadata": {},
   "source": [
    "# Part 3 Data Visualisation"
   ]
  },
  {
   "cell_type": "code",
   "execution_count": null,
   "metadata": {},
   "outputs": [],
   "source": []
  }
 ],
 "metadata": {
  "kernelspec": {
   "display_name": "Python 3 (ipykernel)",
   "language": "python",
   "name": "python3"
  },
  "language_info": {
   "codemirror_mode": {
    "name": "ipython",
    "version": 3
   },
   "file_extension": ".py",
   "mimetype": "text/x-python",
   "name": "python",
   "nbconvert_exporter": "python",
   "pygments_lexer": "ipython3",
   "version": "3.11.4"
  },
  "vscode": {
   "interpreter": {
    "hash": "31f2aee4e71d21fbe5cf8b01ff0e069b9275f58929596ceb00d14d90e3e16cd6"
   }
  }
 },
 "nbformat": 4,
 "nbformat_minor": 2
}
