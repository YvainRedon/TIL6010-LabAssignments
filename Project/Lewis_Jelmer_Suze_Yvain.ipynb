{
 "cells": [
  {
   "cell_type": "markdown",
   "metadata": {},
   "source": [
    "# Project Group 2 \n",
    "\n",
    "Members: Jelmer Nederhof, Yvain Redon, Martin Kooistra, Chenhao Zhang and Suze Vernooij\n",
    "\n",
    "Student numbers: 5407400, 6071392, 4880005, 5704057 and 5091292"
   ]
  },
  {
   "cell_type": "markdown",
   "metadata": {},
   "source": [
    "# Research Objective\n",
    "\n",
    "*Requires data modeling and quantitative research in Transport, Infrastructure & Logistics*"
   ]
  },
  {
   "cell_type": "markdown",
   "metadata": {},
   "source": [
    "Reveal the relationship between covid and public transport patterns for different sociodemographic groups in the Netherlands between 2010 and 2022.\n",
    "\n",
    "**- RQ should include data processing, quantitative analysis and visualisation.**\n",
    "Reveal the relationship between covid and public transport patterns for different sociodemographic groups in the Netherlands between 2010 and 2022.\n",
    "\n",
    "**- Provide the data source you need for answering the RQ, provide link to the data where\n",
    "applicable**\n",
    "\n",
    "* https://opendata.cbs.nl/#/CBS/en/dataset/84707ENG/table\n",
    "* https://opendata.cbs.nl/statline/#/CBS/nl/dataset/83496NED/table?ts=1696408326201\n",
    "\n",
    "**- Provide information about the time scale and spatial scale you are looking at. Provide the\n",
    "geographical boundary of your study.**\n",
    "\n",
    "The scope of the project is within the Netherlands. Data from 2010 until 2022 will be used."
   ]
  },
  {
   "cell_type": "markdown",
   "metadata": {},
   "source": [
    "# Contribution Statement\n",
    "\n",
    "*Be specific. Some of the tasks can be coding (expect everyone to do this), background research, conceptualisation, visualisation, data analysis, data modelling*"
   ]
  },
  {
   "cell_type": "markdown",
   "metadata": {},
   "source": [
    "04/10/2023\n",
    "\n",
    "Jelmer Nederhof, Yvain Redon, Martin Kooistra and Suze Vernooij worked on the project proposal. Chenhao Zhang will join later since he was added to our group later.\n",
    "\n",
    "**Author 1**:\n",
    "\n",
    "**Author 2**:\n",
    "\n",
    "**Author 3**:\n",
    "\n",
    "**Author 4**:\n",
    "\n",
    "**Author 5**:\n"
   ]
  },
  {
   "cell_type": "markdown",
   "metadata": {},
   "source": [
    "# Data Used"
   ]
  },
  {
   "cell_type": "markdown",
   "metadata": {},
   "source": [
    "- https://opendata.cbs.nl/#/CBS/en/dataset/84707ENG/table\n",
    "- https://opendata.cbs.nl/statline/#/CBS/nl/dataset/83496NED/table?ts=1696408326201"
   ]
  },
  {
   "cell_type": "markdown",
   "metadata": {},
   "source": [
    "# Data Pipeline"
   ]
  },
  {
   "cell_type": "markdown",
   "metadata": {},
   "source": [
    "Define the data sources: Identify where your data comes from and how it will be collected.\n",
    "\n",
    "Clean and validate data: Use Python libraries like Pandas and NumPy to clean, validate, and preprocess your data.\n",
    "\n",
    "Transform and enrich data: Apply data transformations and enrichments to improve the quality of your data for analysis.\n",
    "\n",
    "Store the processed data: Store the processed data in a suitable storage system, such as a database or cloud storage.\n",
    "\n",
    "Analyze and visualize data: Use Python libraries such as Matplotlib, Seaborn, and Plotly for data visualization and analysis."
   ]
  },
  {
   "cell_type": "code",
   "execution_count": 4,
   "metadata": {},
   "outputs": [
    {
     "data": {
      "text/html": [
       "<div>\n",
       "<style scoped>\n",
       "    .dataframe tbody tr th:only-of-type {\n",
       "        vertical-align: middle;\n",
       "    }\n",
       "\n",
       "    .dataframe tbody tr th {\n",
       "        vertical-align: top;\n",
       "    }\n",
       "\n",
       "    .dataframe thead th {\n",
       "        text-align: right;\n",
       "    }\n",
       "</style>\n",
       "<table border=\"1\" class=\"dataframe\">\n",
       "  <thead>\n",
       "    <tr style=\"text-align: right;\">\n",
       "      <th></th>\n",
       "      <th>Personal characteristics</th>\n",
       "      <th>Topic</th>\n",
       "      <th>Traffic participation</th>\n",
       "      <th>Use of public transport</th>\n",
       "    </tr>\n",
       "  </thead>\n",
       "  <tbody>\n",
       "    <tr>\n",
       "      <th>0</th>\n",
       "      <td>Age: 12 to 17 years</td>\n",
       "      <td>2010</td>\n",
       "      <td>82.1</td>\n",
       "      <td>10.0</td>\n",
       "    </tr>\n",
       "    <tr>\n",
       "      <th>1</th>\n",
       "      <td>Age: 12 to 17 years</td>\n",
       "      <td>2011</td>\n",
       "      <td>82.8</td>\n",
       "      <td>9.8</td>\n",
       "    </tr>\n",
       "    <tr>\n",
       "      <th>2</th>\n",
       "      <td>Age: 12 to 17 years</td>\n",
       "      <td>2012</td>\n",
       "      <td>82.1</td>\n",
       "      <td>8.9</td>\n",
       "    </tr>\n",
       "    <tr>\n",
       "      <th>3</th>\n",
       "      <td>Age: 12 to 17 years</td>\n",
       "      <td>2013</td>\n",
       "      <td>82.0</td>\n",
       "      <td>9.8</td>\n",
       "    </tr>\n",
       "    <tr>\n",
       "      <th>4</th>\n",
       "      <td>Age: 12 to 17 years</td>\n",
       "      <td>2014</td>\n",
       "      <td>83.3</td>\n",
       "      <td>8.9</td>\n",
       "    </tr>\n",
       "  </tbody>\n",
       "</table>\n",
       "</div>"
      ],
      "text/plain": [
       "  Personal characteristics  Topic  Traffic participation  \\\n",
       "0      Age: 12 to 17 years   2010                   82.1   \n",
       "1      Age: 12 to 17 years   2011                   82.8   \n",
       "2      Age: 12 to 17 years   2012                   82.1   \n",
       "3      Age: 12 to 17 years   2013                   82.0   \n",
       "4      Age: 12 to 17 years   2014                   83.3   \n",
       "\n",
       "   Use of public transport  \n",
       "0                     10.0  \n",
       "1                      9.8  \n",
       "2                      8.9  \n",
       "3                      9.8  \n",
       "4                      8.9  "
      ]
     },
     "execution_count": 4,
     "metadata": {},
     "output_type": "execute_result"
    }
   ],
   "source": [
    "import pandas as pd\n",
    "data = pd.read_csv('Project_datasets_merged_filtered.csv')\n",
    "data.head()"
   ]
  },
  {
   "cell_type": "markdown",
   "metadata": {},
   "source": [
    "# Part 1 Data Import"
   ]
  },
  {
   "cell_type": "code",
   "execution_count": 7,
   "id": "3e231dea",
   "metadata": {},
   "outputs": [],
   "source": [
    "import pandas as pd"
   ]
  },
  {
   "cell_type": "code",
   "execution_count": 8,
   "id": "fcc4170d",
   "metadata": {},
   "outputs": [
    {
     "data": {
      "text/html": [
       "<div>\n",
       "<style scoped>\n",
       "    .dataframe tbody tr th:only-of-type {\n",
       "        vertical-align: middle;\n",
       "    }\n",
       "\n",
       "    .dataframe tbody tr th {\n",
       "        vertical-align: top;\n",
       "    }\n",
       "\n",
       "    .dataframe thead th {\n",
       "        text-align: right;\n",
       "    }\n",
       "</style>\n",
       "<table border=\"1\" class=\"dataframe\">\n",
       "  <thead>\n",
       "    <tr style=\"text-align: right;\">\n",
       "      <th></th>\n",
       "      <th>Personal characteristics</th>\n",
       "      <th>Topic</th>\n",
       "      <th>Traffic participation</th>\n",
       "      <th>Traffic participation.1</th>\n",
       "      <th>Traffic participation.2</th>\n",
       "      <th>Use of public transport</th>\n",
       "      <th>Use of public transport.1</th>\n",
       "      <th>Use of public transport.2</th>\n",
       "    </tr>\n",
       "  </thead>\n",
       "  <tbody>\n",
       "    <tr>\n",
       "      <th>0</th>\n",
       "      <td>NaN</td>\n",
       "      <td>Sex</td>\n",
       "      <td>Total male and female</td>\n",
       "      <td>Male</td>\n",
       "      <td>Female</td>\n",
       "      <td>Total male and female</td>\n",
       "      <td>Male</td>\n",
       "      <td>Female</td>\n",
       "    </tr>\n",
       "    <tr>\n",
       "      <th>1</th>\n",
       "      <td>Personal characteristics</td>\n",
       "      <td>Periods</td>\n",
       "      <td>%</td>\n",
       "      <td>%</td>\n",
       "      <td>%</td>\n",
       "      <td>%</td>\n",
       "      <td>%</td>\n",
       "      <td>%</td>\n",
       "    </tr>\n",
       "    <tr>\n",
       "      <th>2</th>\n",
       "      <td>Total persons</td>\n",
       "      <td>2018</td>\n",
       "      <td>82.9</td>\n",
       "      <td>83.0</td>\n",
       "      <td>82.9</td>\n",
       "      <td>8.6</td>\n",
       "      <td>8.0</td>\n",
       "      <td>9.2</td>\n",
       "    </tr>\n",
       "    <tr>\n",
       "      <th>3</th>\n",
       "      <td>Total persons</td>\n",
       "      <td>2019</td>\n",
       "      <td>81.9</td>\n",
       "      <td>82.6</td>\n",
       "      <td>81.3</td>\n",
       "      <td>8.6</td>\n",
       "      <td>7.9</td>\n",
       "      <td>9.2</td>\n",
       "    </tr>\n",
       "    <tr>\n",
       "      <th>4</th>\n",
       "      <td>Total persons</td>\n",
       "      <td>2020</td>\n",
       "      <td>73.8</td>\n",
       "      <td>74.4</td>\n",
       "      <td>73.2</td>\n",
       "      <td>3.9</td>\n",
       "      <td>3.6</td>\n",
       "      <td>4.2</td>\n",
       "    </tr>\n",
       "    <tr>\n",
       "      <th>...</th>\n",
       "      <td>...</td>\n",
       "      <td>...</td>\n",
       "      <td>...</td>\n",
       "      <td>...</td>\n",
       "      <td>...</td>\n",
       "      <td>...</td>\n",
       "      <td>...</td>\n",
       "      <td>...</td>\n",
       "    </tr>\n",
       "    <tr>\n",
       "      <th>133</th>\n",
       "      <td>Participation: unemployed, other</td>\n",
       "      <td>2019</td>\n",
       "      <td>71.0</td>\n",
       "      <td>72.2</td>\n",
       "      <td>70.6</td>\n",
       "      <td>5.0</td>\n",
       "      <td>6.4</td>\n",
       "      <td>4.5</td>\n",
       "    </tr>\n",
       "    <tr>\n",
       "      <th>134</th>\n",
       "      <td>Participation: unemployed, other</td>\n",
       "      <td>2020</td>\n",
       "      <td>62.1</td>\n",
       "      <td>64.4</td>\n",
       "      <td>61.4</td>\n",
       "      <td>2.1</td>\n",
       "      <td>.</td>\n",
       "      <td>1.9</td>\n",
       "    </tr>\n",
       "    <tr>\n",
       "      <th>135</th>\n",
       "      <td>Participation: unemployed, other</td>\n",
       "      <td>2021</td>\n",
       "      <td>67.8</td>\n",
       "      <td>67.7</td>\n",
       "      <td>67.8</td>\n",
       "      <td>2.9</td>\n",
       "      <td>.</td>\n",
       "      <td>2.8</td>\n",
       "    </tr>\n",
       "    <tr>\n",
       "      <th>136</th>\n",
       "      <td>Participation: unemployed, other</td>\n",
       "      <td>2022</td>\n",
       "      <td>70.1</td>\n",
       "      <td>70.0</td>\n",
       "      <td>70.1</td>\n",
       "      <td>3.8</td>\n",
       "      <td>5.4</td>\n",
       "      <td>3.3</td>\n",
       "    </tr>\n",
       "    <tr>\n",
       "      <th>137</th>\n",
       "      <td>Source: CBS</td>\n",
       "      <td>NaN</td>\n",
       "      <td>NaN</td>\n",
       "      <td>NaN</td>\n",
       "      <td>NaN</td>\n",
       "      <td>NaN</td>\n",
       "      <td>NaN</td>\n",
       "      <td>NaN</td>\n",
       "    </tr>\n",
       "  </tbody>\n",
       "</table>\n",
       "<p>138 rows × 8 columns</p>\n",
       "</div>"
      ],
      "text/plain": [
       "             Personal characteristics    Topic  Traffic participation  \\\n",
       "0                                 NaN      Sex  Total male and female   \n",
       "1            Personal characteristics  Periods                      %   \n",
       "2                       Total persons     2018                   82.9   \n",
       "3                       Total persons     2019                   81.9   \n",
       "4                       Total persons     2020                   73.8   \n",
       "..                                ...      ...                    ...   \n",
       "133  Participation: unemployed, other     2019                   71.0   \n",
       "134  Participation: unemployed, other     2020                   62.1   \n",
       "135  Participation: unemployed, other     2021                   67.8   \n",
       "136  Participation: unemployed, other     2022                   70.1   \n",
       "137                       Source: CBS      NaN                    NaN   \n",
       "\n",
       "    Traffic participation.1 Traffic participation.2 Use of public transport  \\\n",
       "0                      Male                  Female   Total male and female   \n",
       "1                         %                       %                       %   \n",
       "2                      83.0                    82.9                     8.6   \n",
       "3                      82.6                    81.3                     8.6   \n",
       "4                      74.4                    73.2                     3.9   \n",
       "..                      ...                     ...                     ...   \n",
       "133                    72.2                    70.6                     5.0   \n",
       "134                    64.4                    61.4                     2.1   \n",
       "135                    67.7                    67.8                     2.9   \n",
       "136                    70.0                    70.1                     3.8   \n",
       "137                     NaN                     NaN                     NaN   \n",
       "\n",
       "    Use of public transport.1 Use of public transport.2  \n",
       "0                        Male                    Female  \n",
       "1                           %                         %  \n",
       "2                         8.0                       9.2  \n",
       "3                         7.9                       9.2  \n",
       "4                         3.6                       4.2  \n",
       "..                        ...                       ...  \n",
       "133                       6.4                       4.5  \n",
       "134                         .                       1.9  \n",
       "135                         .                       2.8  \n",
       "136                       5.4                       3.3  \n",
       "137                       NaN                       NaN  \n",
       "\n",
       "[138 rows x 8 columns]"
      ]
     },
     "execution_count": 8,
     "metadata": {},
     "output_type": "execute_result"
    }
   ],
   "source": [
    "df1 = pd.read_csv('Project_dataset_1.csv')\n",
    "df1.columns.values[0] = 'Personal characteristics'\n",
    "df1"
   ]
  },
  {
   "cell_type": "code",
   "execution_count": 9,
   "id": "ceee090f",
   "metadata": {},
   "outputs": [],
   "source": [
    "# car_rows = df1[df1['Unnamed: 0'].str.contains('car', case=False, na=False)]\n",
    "\n",
    "# print(car_rows)"
   ]
  },
  {
   "cell_type": "code",
   "execution_count": 10,
   "id": "de5e29b6",
   "metadata": {},
   "outputs": [
    {
     "ename": "FileNotFoundError",
     "evalue": "[Errno 2] No such file or directory: 'Personenmobiliteit__aandeel_verkeersdeelnemers__persoonskenmerken_2010_2017_gescheiden_door_lijstscheidingsteken.csv'",
     "output_type": "error",
     "traceback": [
      "\u001b[1;31m---------------------------------------------------------------------------\u001b[0m",
      "\u001b[1;31mFileNotFoundError\u001b[0m                         Traceback (most recent call last)",
      "\u001b[1;32m~\\AppData\\Local\\Temp\\ipykernel_41672\\2900292083.py\u001b[0m in \u001b[0;36m<module>\u001b[1;34m\u001b[0m\n\u001b[1;32m----> 1\u001b[1;33m \u001b[0mdf2\u001b[0m \u001b[1;33m=\u001b[0m \u001b[0mpd\u001b[0m\u001b[1;33m.\u001b[0m\u001b[0mread_csv\u001b[0m\u001b[1;33m(\u001b[0m\u001b[1;34m'Personenmobiliteit__aandeel_verkeersdeelnemers__persoonskenmerken_2010_2017_gescheiden_door_lijstscheidingsteken.csv'\u001b[0m\u001b[1;33m,\u001b[0m \u001b[0msep\u001b[0m\u001b[1;33m=\u001b[0m\u001b[1;34m\";\"\u001b[0m\u001b[1;33m)\u001b[0m\u001b[1;33m\u001b[0m\u001b[1;33m\u001b[0m\u001b[0m\n\u001b[0m\u001b[0;32m      2\u001b[0m \u001b[0mdf2\u001b[0m\u001b[1;33m\u001b[0m\u001b[1;33m\u001b[0m\u001b[0m\n",
      "\u001b[1;32mc:\\Users\\natsu\\anaconda3\\envs\\TIL6022\\lib\\site-packages\\pandas\\io\\parsers.py\u001b[0m in \u001b[0;36mread_csv\u001b[1;34m(filepath_or_buffer, sep, delimiter, header, names, index_col, usecols, squeeze, prefix, mangle_dupe_cols, dtype, engine, converters, true_values, false_values, skipinitialspace, skiprows, skipfooter, nrows, na_values, keep_default_na, na_filter, verbose, skip_blank_lines, parse_dates, infer_datetime_format, keep_date_col, date_parser, dayfirst, cache_dates, iterator, chunksize, compression, thousands, decimal, lineterminator, quotechar, quoting, doublequote, escapechar, comment, encoding, dialect, error_bad_lines, warn_bad_lines, delim_whitespace, low_memory, memory_map, float_precision, storage_options)\u001b[0m\n\u001b[0;32m    608\u001b[0m     \u001b[0mkwds\u001b[0m\u001b[1;33m.\u001b[0m\u001b[0mupdate\u001b[0m\u001b[1;33m(\u001b[0m\u001b[0mkwds_defaults\u001b[0m\u001b[1;33m)\u001b[0m\u001b[1;33m\u001b[0m\u001b[1;33m\u001b[0m\u001b[0m\n\u001b[0;32m    609\u001b[0m \u001b[1;33m\u001b[0m\u001b[0m\n\u001b[1;32m--> 610\u001b[1;33m     \u001b[1;32mreturn\u001b[0m \u001b[0m_read\u001b[0m\u001b[1;33m(\u001b[0m\u001b[0mfilepath_or_buffer\u001b[0m\u001b[1;33m,\u001b[0m \u001b[0mkwds\u001b[0m\u001b[1;33m)\u001b[0m\u001b[1;33m\u001b[0m\u001b[1;33m\u001b[0m\u001b[0m\n\u001b[0m\u001b[0;32m    611\u001b[0m \u001b[1;33m\u001b[0m\u001b[0m\n\u001b[0;32m    612\u001b[0m \u001b[1;33m\u001b[0m\u001b[0m\n",
      "\u001b[1;32mc:\\Users\\natsu\\anaconda3\\envs\\TIL6022\\lib\\site-packages\\pandas\\io\\parsers.py\u001b[0m in \u001b[0;36m_read\u001b[1;34m(filepath_or_buffer, kwds)\u001b[0m\n\u001b[0;32m    460\u001b[0m \u001b[1;33m\u001b[0m\u001b[0m\n\u001b[0;32m    461\u001b[0m     \u001b[1;31m# Create the parser.\u001b[0m\u001b[1;33m\u001b[0m\u001b[1;33m\u001b[0m\u001b[1;33m\u001b[0m\u001b[0m\n\u001b[1;32m--> 462\u001b[1;33m     \u001b[0mparser\u001b[0m \u001b[1;33m=\u001b[0m \u001b[0mTextFileReader\u001b[0m\u001b[1;33m(\u001b[0m\u001b[0mfilepath_or_buffer\u001b[0m\u001b[1;33m,\u001b[0m \u001b[1;33m**\u001b[0m\u001b[0mkwds\u001b[0m\u001b[1;33m)\u001b[0m\u001b[1;33m\u001b[0m\u001b[1;33m\u001b[0m\u001b[0m\n\u001b[0m\u001b[0;32m    463\u001b[0m \u001b[1;33m\u001b[0m\u001b[0m\n\u001b[0;32m    464\u001b[0m     \u001b[1;32mif\u001b[0m \u001b[0mchunksize\u001b[0m \u001b[1;32mor\u001b[0m \u001b[0miterator\u001b[0m\u001b[1;33m:\u001b[0m\u001b[1;33m\u001b[0m\u001b[1;33m\u001b[0m\u001b[0m\n",
      "\u001b[1;32mc:\\Users\\natsu\\anaconda3\\envs\\TIL6022\\lib\\site-packages\\pandas\\io\\parsers.py\u001b[0m in \u001b[0;36m__init__\u001b[1;34m(self, f, engine, **kwds)\u001b[0m\n\u001b[0;32m    817\u001b[0m             \u001b[0mself\u001b[0m\u001b[1;33m.\u001b[0m\u001b[0moptions\u001b[0m\u001b[1;33m[\u001b[0m\u001b[1;34m\"has_index_names\"\u001b[0m\u001b[1;33m]\u001b[0m \u001b[1;33m=\u001b[0m \u001b[0mkwds\u001b[0m\u001b[1;33m[\u001b[0m\u001b[1;34m\"has_index_names\"\u001b[0m\u001b[1;33m]\u001b[0m\u001b[1;33m\u001b[0m\u001b[1;33m\u001b[0m\u001b[0m\n\u001b[0;32m    818\u001b[0m \u001b[1;33m\u001b[0m\u001b[0m\n\u001b[1;32m--> 819\u001b[1;33m         \u001b[0mself\u001b[0m\u001b[1;33m.\u001b[0m\u001b[0m_engine\u001b[0m \u001b[1;33m=\u001b[0m \u001b[0mself\u001b[0m\u001b[1;33m.\u001b[0m\u001b[0m_make_engine\u001b[0m\u001b[1;33m(\u001b[0m\u001b[0mself\u001b[0m\u001b[1;33m.\u001b[0m\u001b[0mengine\u001b[0m\u001b[1;33m)\u001b[0m\u001b[1;33m\u001b[0m\u001b[1;33m\u001b[0m\u001b[0m\n\u001b[0m\u001b[0;32m    820\u001b[0m \u001b[1;33m\u001b[0m\u001b[0m\n\u001b[0;32m    821\u001b[0m     \u001b[1;32mdef\u001b[0m \u001b[0mclose\u001b[0m\u001b[1;33m(\u001b[0m\u001b[0mself\u001b[0m\u001b[1;33m)\u001b[0m\u001b[1;33m:\u001b[0m\u001b[1;33m\u001b[0m\u001b[1;33m\u001b[0m\u001b[0m\n",
      "\u001b[1;32mc:\\Users\\natsu\\anaconda3\\envs\\TIL6022\\lib\\site-packages\\pandas\\io\\parsers.py\u001b[0m in \u001b[0;36m_make_engine\u001b[1;34m(self, engine)\u001b[0m\n\u001b[0;32m   1048\u001b[0m             )\n\u001b[0;32m   1049\u001b[0m         \u001b[1;31m# error: Too many arguments for \"ParserBase\"\u001b[0m\u001b[1;33m\u001b[0m\u001b[1;33m\u001b[0m\u001b[1;33m\u001b[0m\u001b[0m\n\u001b[1;32m-> 1050\u001b[1;33m         \u001b[1;32mreturn\u001b[0m \u001b[0mmapping\u001b[0m\u001b[1;33m[\u001b[0m\u001b[0mengine\u001b[0m\u001b[1;33m]\u001b[0m\u001b[1;33m(\u001b[0m\u001b[0mself\u001b[0m\u001b[1;33m.\u001b[0m\u001b[0mf\u001b[0m\u001b[1;33m,\u001b[0m \u001b[1;33m**\u001b[0m\u001b[0mself\u001b[0m\u001b[1;33m.\u001b[0m\u001b[0moptions\u001b[0m\u001b[1;33m)\u001b[0m  \u001b[1;31m# type: ignore[call-arg]\u001b[0m\u001b[1;33m\u001b[0m\u001b[1;33m\u001b[0m\u001b[0m\n\u001b[0m\u001b[0;32m   1051\u001b[0m \u001b[1;33m\u001b[0m\u001b[0m\n\u001b[0;32m   1052\u001b[0m     \u001b[1;32mdef\u001b[0m \u001b[0m_failover_to_python\u001b[0m\u001b[1;33m(\u001b[0m\u001b[0mself\u001b[0m\u001b[1;33m)\u001b[0m\u001b[1;33m:\u001b[0m\u001b[1;33m\u001b[0m\u001b[1;33m\u001b[0m\u001b[0m\n",
      "\u001b[1;32mc:\\Users\\natsu\\anaconda3\\envs\\TIL6022\\lib\\site-packages\\pandas\\io\\parsers.py\u001b[0m in \u001b[0;36m__init__\u001b[1;34m(self, src, **kwds)\u001b[0m\n\u001b[0;32m   1865\u001b[0m \u001b[1;33m\u001b[0m\u001b[0m\n\u001b[0;32m   1866\u001b[0m         \u001b[1;31m# open handles\u001b[0m\u001b[1;33m\u001b[0m\u001b[1;33m\u001b[0m\u001b[1;33m\u001b[0m\u001b[0m\n\u001b[1;32m-> 1867\u001b[1;33m         \u001b[0mself\u001b[0m\u001b[1;33m.\u001b[0m\u001b[0m_open_handles\u001b[0m\u001b[1;33m(\u001b[0m\u001b[0msrc\u001b[0m\u001b[1;33m,\u001b[0m \u001b[0mkwds\u001b[0m\u001b[1;33m)\u001b[0m\u001b[1;33m\u001b[0m\u001b[1;33m\u001b[0m\u001b[0m\n\u001b[0m\u001b[0;32m   1868\u001b[0m         \u001b[1;32massert\u001b[0m \u001b[0mself\u001b[0m\u001b[1;33m.\u001b[0m\u001b[0mhandles\u001b[0m \u001b[1;32mis\u001b[0m \u001b[1;32mnot\u001b[0m \u001b[1;32mNone\u001b[0m\u001b[1;33m\u001b[0m\u001b[1;33m\u001b[0m\u001b[0m\n\u001b[0;32m   1869\u001b[0m         \u001b[1;32mfor\u001b[0m \u001b[0mkey\u001b[0m \u001b[1;32min\u001b[0m \u001b[1;33m(\u001b[0m\u001b[1;34m\"storage_options\"\u001b[0m\u001b[1;33m,\u001b[0m \u001b[1;34m\"encoding\"\u001b[0m\u001b[1;33m,\u001b[0m \u001b[1;34m\"memory_map\"\u001b[0m\u001b[1;33m,\u001b[0m \u001b[1;34m\"compression\"\u001b[0m\u001b[1;33m)\u001b[0m\u001b[1;33m:\u001b[0m\u001b[1;33m\u001b[0m\u001b[1;33m\u001b[0m\u001b[0m\n",
      "\u001b[1;32mc:\\Users\\natsu\\anaconda3\\envs\\TIL6022\\lib\\site-packages\\pandas\\io\\parsers.py\u001b[0m in \u001b[0;36m_open_handles\u001b[1;34m(self, src, kwds)\u001b[0m\n\u001b[0;32m   1366\u001b[0m             \u001b[0mcompression\u001b[0m\u001b[1;33m=\u001b[0m\u001b[0mkwds\u001b[0m\u001b[1;33m.\u001b[0m\u001b[0mget\u001b[0m\u001b[1;33m(\u001b[0m\u001b[1;34m\"compression\"\u001b[0m\u001b[1;33m,\u001b[0m \u001b[1;32mNone\u001b[0m\u001b[1;33m)\u001b[0m\u001b[1;33m,\u001b[0m\u001b[1;33m\u001b[0m\u001b[1;33m\u001b[0m\u001b[0m\n\u001b[0;32m   1367\u001b[0m             \u001b[0mmemory_map\u001b[0m\u001b[1;33m=\u001b[0m\u001b[0mkwds\u001b[0m\u001b[1;33m.\u001b[0m\u001b[0mget\u001b[0m\u001b[1;33m(\u001b[0m\u001b[1;34m\"memory_map\"\u001b[0m\u001b[1;33m,\u001b[0m \u001b[1;32mFalse\u001b[0m\u001b[1;33m)\u001b[0m\u001b[1;33m,\u001b[0m\u001b[1;33m\u001b[0m\u001b[1;33m\u001b[0m\u001b[0m\n\u001b[1;32m-> 1368\u001b[1;33m             \u001b[0mstorage_options\u001b[0m\u001b[1;33m=\u001b[0m\u001b[0mkwds\u001b[0m\u001b[1;33m.\u001b[0m\u001b[0mget\u001b[0m\u001b[1;33m(\u001b[0m\u001b[1;34m\"storage_options\"\u001b[0m\u001b[1;33m,\u001b[0m \u001b[1;32mNone\u001b[0m\u001b[1;33m)\u001b[0m\u001b[1;33m,\u001b[0m\u001b[1;33m\u001b[0m\u001b[1;33m\u001b[0m\u001b[0m\n\u001b[0m\u001b[0;32m   1369\u001b[0m         )\n\u001b[0;32m   1370\u001b[0m \u001b[1;33m\u001b[0m\u001b[0m\n",
      "\u001b[1;32mc:\\Users\\natsu\\anaconda3\\envs\\TIL6022\\lib\\site-packages\\pandas\\io\\common.py\u001b[0m in \u001b[0;36mget_handle\u001b[1;34m(path_or_buf, mode, encoding, compression, memory_map, is_text, errors, storage_options)\u001b[0m\n\u001b[0;32m    645\u001b[0m                 \u001b[0mencoding\u001b[0m\u001b[1;33m=\u001b[0m\u001b[0mioargs\u001b[0m\u001b[1;33m.\u001b[0m\u001b[0mencoding\u001b[0m\u001b[1;33m,\u001b[0m\u001b[1;33m\u001b[0m\u001b[1;33m\u001b[0m\u001b[0m\n\u001b[0;32m    646\u001b[0m                 \u001b[0merrors\u001b[0m\u001b[1;33m=\u001b[0m\u001b[0merrors\u001b[0m\u001b[1;33m,\u001b[0m\u001b[1;33m\u001b[0m\u001b[1;33m\u001b[0m\u001b[0m\n\u001b[1;32m--> 647\u001b[1;33m                 \u001b[0mnewline\u001b[0m\u001b[1;33m=\u001b[0m\u001b[1;34m\"\"\u001b[0m\u001b[1;33m,\u001b[0m\u001b[1;33m\u001b[0m\u001b[1;33m\u001b[0m\u001b[0m\n\u001b[0m\u001b[0;32m    648\u001b[0m             )\n\u001b[0;32m    649\u001b[0m         \u001b[1;32melse\u001b[0m\u001b[1;33m:\u001b[0m\u001b[1;33m\u001b[0m\u001b[1;33m\u001b[0m\u001b[0m\n",
      "\u001b[1;31mFileNotFoundError\u001b[0m: [Errno 2] No such file or directory: 'Personenmobiliteit__aandeel_verkeersdeelnemers__persoonskenmerken_2010_2017_gescheiden_door_lijstscheidingsteken.csv'"
     ]
    }
   ],
   "source": [
    "df2 = pd.read_csv('Personenmobiliteit__aandeel_verkeersdeelnemers__persoonskenmerken_2010_2017_gescheiden_door_lijstscheidingsteken.csv', sep=\";\")\n",
    "df2"
   ]
  },
  {
   "cell_type": "code",
   "execution_count": null,
   "id": "4e10b1a7",
   "metadata": {},
   "outputs": [
    {
     "data": {
      "text/html": [
       "<div>\n",
       "<style scoped>\n",
       "    .dataframe tbody tr th:only-of-type {\n",
       "        vertical-align: middle;\n",
       "    }\n",
       "\n",
       "    .dataframe tbody tr th {\n",
       "        vertical-align: top;\n",
       "    }\n",
       "\n",
       "    .dataframe thead th {\n",
       "        text-align: right;\n",
       "    }\n",
       "</style>\n",
       "<table border=\"1\" class=\"dataframe\">\n",
       "  <thead>\n",
       "    <tr style=\"text-align: right;\">\n",
       "      <th></th>\n",
       "      <th>Personenmobiliteit; aandeel verkeersdeelnemers, persoonskenmerken 2010-2017</th>\n",
       "      <th>Unnamed: 1</th>\n",
       "      <th>Unnamed: 2</th>\n",
       "      <th>Unnamed: 3</th>\n",
       "      <th>Unnamed: 4</th>\n",
       "      <th>Unnamed: 5</th>\n",
       "      <th>Unnamed: 6</th>\n",
       "      <th>Unnamed: 7</th>\n",
       "    </tr>\n",
       "  </thead>\n",
       "  <tbody>\n",
       "    <tr>\n",
       "      <th>0</th>\n",
       "      <td>NaN</td>\n",
       "      <td>NaN</td>\n",
       "      <td>NaN</td>\n",
       "      <td>NaN</td>\n",
       "      <td>NaN</td>\n",
       "      <td>NaN</td>\n",
       "      <td>NaN</td>\n",
       "      <td>NaN</td>\n",
       "    </tr>\n",
       "    <tr>\n",
       "      <th>1</th>\n",
       "      <td>NaN</td>\n",
       "      <td>NaN</td>\n",
       "      <td>NaN</td>\n",
       "      <td>NaN</td>\n",
       "      <td>NaN</td>\n",
       "      <td>NaN</td>\n",
       "      <td>NaN</td>\n",
       "      <td>NaN</td>\n",
       "    </tr>\n",
       "    <tr>\n",
       "      <th>2</th>\n",
       "      <td>NaN</td>\n",
       "      <td>Onderwerp</td>\n",
       "      <td>Verkeersdeelname</td>\n",
       "      <td>Verkeersdeelname</td>\n",
       "      <td>Verkeersdeelname</td>\n",
       "      <td>Gebruik van het openbaar vervoer</td>\n",
       "      <td>Gebruik van het openbaar vervoer</td>\n",
       "      <td>Gebruik van het openbaar vervoer</td>\n",
       "    </tr>\n",
       "    <tr>\n",
       "      <th>3</th>\n",
       "      <td>NaN</td>\n",
       "      <td>Geslacht</td>\n",
       "      <td>Totaal mannen en vrouwen</td>\n",
       "      <td>Mannen</td>\n",
       "      <td>Vrouwen</td>\n",
       "      <td>Totaal mannen en vrouwen</td>\n",
       "      <td>Mannen</td>\n",
       "      <td>Vrouwen</td>\n",
       "    </tr>\n",
       "    <tr>\n",
       "      <th>4</th>\n",
       "      <td>Persoonskenmerken</td>\n",
       "      <td>Perioden</td>\n",
       "      <td>%</td>\n",
       "      <td>%</td>\n",
       "      <td>%</td>\n",
       "      <td>%</td>\n",
       "      <td>%</td>\n",
       "      <td>%</td>\n",
       "    </tr>\n",
       "    <tr>\n",
       "      <th>...</th>\n",
       "      <td>...</td>\n",
       "      <td>...</td>\n",
       "      <td>...</td>\n",
       "      <td>...</td>\n",
       "      <td>...</td>\n",
       "      <td>...</td>\n",
       "      <td>...</td>\n",
       "      <td>...</td>\n",
       "    </tr>\n",
       "    <tr>\n",
       "      <th>329</th>\n",
       "      <td>Equivalised income: 5th 20%-group</td>\n",
       "      <td>2014</td>\n",
       "      <td>83,4</td>\n",
       "      <td>84,3</td>\n",
       "      <td>82,3</td>\n",
       "      <td>6,4</td>\n",
       "      <td>6,6</td>\n",
       "      <td>6,2</td>\n",
       "    </tr>\n",
       "    <tr>\n",
       "      <th>330</th>\n",
       "      <td>Equivalised income: 5th 20%-group</td>\n",
       "      <td>2015</td>\n",
       "      <td>82</td>\n",
       "      <td>81,5</td>\n",
       "      <td>82,5</td>\n",
       "      <td>6,4</td>\n",
       "      <td>5,9</td>\n",
       "      <td>6,9</td>\n",
       "    </tr>\n",
       "    <tr>\n",
       "      <th>331</th>\n",
       "      <td>Equivalised income: 5th 20%-group</td>\n",
       "      <td>2016</td>\n",
       "      <td>82,3</td>\n",
       "      <td>81,2</td>\n",
       "      <td>83,4</td>\n",
       "      <td>6,9</td>\n",
       "      <td>7,2</td>\n",
       "      <td>6,6</td>\n",
       "    </tr>\n",
       "    <tr>\n",
       "      <th>332</th>\n",
       "      <td>Equivalised income: 5th 20%-group</td>\n",
       "      <td>2017</td>\n",
       "      <td>82,1</td>\n",
       "      <td>81,2</td>\n",
       "      <td>83,1</td>\n",
       "      <td>7,1</td>\n",
       "      <td>6,8</td>\n",
       "      <td>7,4</td>\n",
       "    </tr>\n",
       "    <tr>\n",
       "      <th>333</th>\n",
       "      <td>Bron: CBS</td>\n",
       "      <td>NaN</td>\n",
       "      <td>NaN</td>\n",
       "      <td>NaN</td>\n",
       "      <td>NaN</td>\n",
       "      <td>NaN</td>\n",
       "      <td>NaN</td>\n",
       "      <td>NaN</td>\n",
       "    </tr>\n",
       "  </tbody>\n",
       "</table>\n",
       "<p>334 rows × 8 columns</p>\n",
       "</div>"
      ],
      "text/plain": [
       "    Personenmobiliteit; aandeel verkeersdeelnemers, persoonskenmerken 2010-2017  \\\n",
       "0                                                  NaN                            \n",
       "1                                                  NaN                            \n",
       "2                                                  NaN                            \n",
       "3                                                  NaN                            \n",
       "4                                    Persoonskenmerken                            \n",
       "..                                                 ...                            \n",
       "329                  Equivalised income: 5th 20%-group                            \n",
       "330                  Equivalised income: 5th 20%-group                            \n",
       "331                  Equivalised income: 5th 20%-group                            \n",
       "332                  Equivalised income: 5th 20%-group                            \n",
       "333                                          Bron: CBS                            \n",
       "\n",
       "    Unnamed: 1                Unnamed: 2        Unnamed: 3        Unnamed: 4  \\\n",
       "0          NaN                       NaN               NaN               NaN   \n",
       "1          NaN                       NaN               NaN               NaN   \n",
       "2    Onderwerp          Verkeersdeelname  Verkeersdeelname  Verkeersdeelname   \n",
       "3     Geslacht  Totaal mannen en vrouwen            Mannen           Vrouwen   \n",
       "4     Perioden                         %                 %                 %   \n",
       "..         ...                       ...               ...               ...   \n",
       "329       2014                      83,4              84,3              82,3   \n",
       "330       2015                        82              81,5              82,5   \n",
       "331       2016                      82,3              81,2              83,4   \n",
       "332       2017                      82,1              81,2              83,1   \n",
       "333        NaN                       NaN               NaN               NaN   \n",
       "\n",
       "                           Unnamed: 5                        Unnamed: 6  \\\n",
       "0                                 NaN                               NaN   \n",
       "1                                 NaN                               NaN   \n",
       "2    Gebruik van het openbaar vervoer  Gebruik van het openbaar vervoer   \n",
       "3            Totaal mannen en vrouwen                            Mannen   \n",
       "4                                   %                                 %   \n",
       "..                                ...                               ...   \n",
       "329                               6,4                               6,6   \n",
       "330                               6,4                               5,9   \n",
       "331                               6,9                               7,2   \n",
       "332                               7,1                               6,8   \n",
       "333                               NaN                               NaN   \n",
       "\n",
       "                           Unnamed: 7  \n",
       "0                                 NaN  \n",
       "1                                 NaN  \n",
       "2    Gebruik van het openbaar vervoer  \n",
       "3                             Vrouwen  \n",
       "4                                   %  \n",
       "..                                ...  \n",
       "329                               6,2  \n",
       "330                               6,9  \n",
       "331                               6,6  \n",
       "332                               7,4  \n",
       "333                               NaN  \n",
       "\n",
       "[334 rows x 8 columns]"
      ]
     },
     "execution_count": 6,
     "metadata": {},
     "output_type": "execute_result"
    }
   ],
   "source": [
    "df2 = df2.replace({'Actueel onderwijsniveau: laag': 'Level of educ: 1. Low'})\n",
    "df2 = df2.replace({'Actueel onderwijsniveau: middelbaar': 'Level of educ: 2 Intermediate'})\n",
    "df2 = df2.replace({'Actueel onderwijsniveau: hoog': 'Level of educ: 3 High'})\n",
    "df2 = df2.replace({'Migratieachtergrond: westers': 'Background: western'})\n",
    "df2 = df2.replace({'Migratieachtergrond: niet-westers': 'Background: non-western'})\n",
    "df2 = df2.replace({'Migratieachtergrond: Nederland': 'Background: Dutch'})\n",
    "df2 = df2.replace({'Leeftijd: 0 tot 12 jaar': 'Age: 6 to 11 years'})\n",
    "df2 = df2.replace({'Leeftijd: 12 jaar of ouder': 'Age: 12 years or older'})\n",
    "df2 = df2.replace({'Leeftijd: 12 tot 18 jaar': 'Age: 12 to 17 years'})\n",
    "df2 = df2.replace({'Leeftijd: 18 tot 25 jaar': 'Age: 18 to 24 years'})\n",
    "df2 = df2.replace({'Leeftijd: 25 tot 35 jaar': 'Age: 25 to 34 years'})\n",
    "df2 = df2.replace({'Leeftijd: 35 tot 50 jaar': 'Age: 35 to 49 years'})\n",
    "df2 = df2.replace({'Leeftijd: 50 tot 65 jaar': 'Age: 50 to 64 years'})\n",
    "df2 = df2.replace({'Leeftijd: 65 tot 75 jaar': 'Age: 65 to 74 years'})\n",
    "df2 = df2.replace({'Leeftijd: 75 jaar of ouder': 'Age: 75 years or older'})\n",
    "df2 = df2.replace({'Categorie: arbeidsongeschikte': 'Particip.: claiming disability benefit'})\n",
    "df2 = df2.replace({'Categorie: werkzaam 12 tot 30 uur pw': 'Participation: working 12 -29 h. a week'})\n",
    "df2 = df2.replace({'Categorie: werkzaam >= 30 uur pw': 'Participation: working >30 hours a week'})\n",
    "df2 = df2.replace({'Categorie: scholier/student': 'Participation:student/scholier'})\n",
    "df2 = df2.replace({'Participatie:student/scholier': 'Participation:student/scholier'})\n",
    "df2 = df2.replace({'Categorie: werkloos': 'Participation: unemployed'})\n",
    "df2 = df2.replace({'Categorie: overig': 'Participation: unemployed, other'})\n",
    "df2 = df2.replace({'Categorie: gepensioneerd/VUT': 'Participation: retired'})\n",
    "df2 = df2.replace({'Studenten met OV-weekkaart': 'Students with week pass publ. transp.'})\n",
    "df2 = df2.replace({'Studenten met OV-weekendkaart': 'Students with weekend pass publ. transp.'})\n",
    "df2 = df2.replace({'Personen zonder studenten-OV-kaart': 'Persons without student publ.transp.card'})                   \n",
    "df2 = df2.replace({'Besteedbaar inkomen: 1e 20%-groep': 'Equivalised income: 1th 20%-group'})\n",
    "df2 = df2.replace({'Besteedbaar inkomen: 2e 20%-groep': 'Equivalised income: 2th 20%-group'})\n",
    "df2 = df2.replace({'Besteedbaar inkomen: 3e 20%-groep': 'Equivalised income: 3th 20%-group'})\n",
    "df2 = df2.replace({'Besteedbaar inkomen: 4e 20%-groep': 'Equivalised income: 4th 20%-group'})\n",
    "df2 = df2.replace({'Besteedbaar inkomen: 5e 20%-groep': 'Equivalised income: 5th 20%-group'})\n",
    "df2 = df2.replace({'Bezit rijbewijs: geen auto beschikbaar': 'Drivers license, no passenger car in hh'})\n",
    "df2 = df2.replace({'Bezit rijbewijs: soms auto beschikbaar': 'Drivers license, passenger car in hh'})\n",
    "df2 = df2.replace({'Bezit rijbewijs: bezit auto': 'Drivers license, passenger car, in own name'})\n",
    "df2 = df2.replace({'Hoogte inkomen: tot 10 000 euro': 'Income level: up to 10 000 euros'})\n",
    "df2 = df2.replace({'Hoogte inkomen: 10 000 tot 20 000 euro': 'Income level: 10 000 to 20 000 euros'})\n",
    "df2 = df2.replace({'Hoogte inkomen: 20 000 tot 30 000 euro': 'Income level: 20 000 to 30 000 euros'})\n",
    "df2 = df2.replace({'Hoogte inkomen: 30 000 tot 40 000 euro': 'Income level: 30 000 to 40 000 euros'})\n",
    "df2 = df2.replace({'Hoogte inkomen: 40 000 tot 50 000 euro': 'Income level: 40 000 to 50 000 euros'})\n",
    "df2 = df2.replace({'Hoogte inkomen: 50 000 euro of meer': 'Income level: 50 000 euros or more'})\n",
    "\n",
    "df2"
   ]
  },
  {
   "cell_type": "code",
   "execution_count": null,
   "id": "9b3640ba",
   "metadata": {},
   "outputs": [
    {
     "data": {
      "text/html": [
       "<div>\n",
       "<style scoped>\n",
       "    .dataframe tbody tr th:only-of-type {\n",
       "        vertical-align: middle;\n",
       "    }\n",
       "\n",
       "    .dataframe tbody tr th {\n",
       "        vertical-align: top;\n",
       "    }\n",
       "\n",
       "    .dataframe thead th {\n",
       "        text-align: right;\n",
       "    }\n",
       "</style>\n",
       "<table border=\"1\" class=\"dataframe\">\n",
       "  <thead>\n",
       "    <tr style=\"text-align: right;\">\n",
       "      <th></th>\n",
       "      <th>Personenmobiliteit; aandeel verkeersdeelnemers, persoonskenmerken 2010-2017</th>\n",
       "      <th>Unnamed: 1</th>\n",
       "      <th>Unnamed: 2</th>\n",
       "      <th>Unnamed: 3</th>\n",
       "      <th>Unnamed: 4</th>\n",
       "      <th>Unnamed: 5</th>\n",
       "      <th>Unnamed: 6</th>\n",
       "      <th>Unnamed: 7</th>\n",
       "    </tr>\n",
       "  </thead>\n",
       "  <tbody>\n",
       "    <tr>\n",
       "      <th>0</th>\n",
       "      <td>NaN</td>\n",
       "      <td>NaN</td>\n",
       "      <td>NaN</td>\n",
       "      <td>NaN</td>\n",
       "      <td>NaN</td>\n",
       "      <td>NaN</td>\n",
       "      <td>NaN</td>\n",
       "      <td>NaN</td>\n",
       "    </tr>\n",
       "    <tr>\n",
       "      <th>1</th>\n",
       "      <td>NaN</td>\n",
       "      <td>NaN</td>\n",
       "      <td>NaN</td>\n",
       "      <td>NaN</td>\n",
       "      <td>NaN</td>\n",
       "      <td>NaN</td>\n",
       "      <td>NaN</td>\n",
       "      <td>NaN</td>\n",
       "    </tr>\n",
       "    <tr>\n",
       "      <th>2</th>\n",
       "      <td>NaN</td>\n",
       "      <td>Topic</td>\n",
       "      <td>Traffic participation</td>\n",
       "      <td>Traffic participation</td>\n",
       "      <td>Traffic participation</td>\n",
       "      <td>Use of public transport</td>\n",
       "      <td>Use of public transport</td>\n",
       "      <td>Use of public transport</td>\n",
       "    </tr>\n",
       "    <tr>\n",
       "      <th>3</th>\n",
       "      <td>NaN</td>\n",
       "      <td>Sex</td>\n",
       "      <td>Total male and female</td>\n",
       "      <td>Male</td>\n",
       "      <td>Female</td>\n",
       "      <td>Total male and female</td>\n",
       "      <td>Male</td>\n",
       "      <td>Female</td>\n",
       "    </tr>\n",
       "    <tr>\n",
       "      <th>4</th>\n",
       "      <td>Personal characteristics</td>\n",
       "      <td>Periods</td>\n",
       "      <td>%</td>\n",
       "      <td>%</td>\n",
       "      <td>%</td>\n",
       "      <td>%</td>\n",
       "      <td>%</td>\n",
       "      <td>%</td>\n",
       "    </tr>\n",
       "    <tr>\n",
       "      <th>...</th>\n",
       "      <td>...</td>\n",
       "      <td>...</td>\n",
       "      <td>...</td>\n",
       "      <td>...</td>\n",
       "      <td>...</td>\n",
       "      <td>...</td>\n",
       "      <td>...</td>\n",
       "      <td>...</td>\n",
       "    </tr>\n",
       "    <tr>\n",
       "      <th>329</th>\n",
       "      <td>Equivalised income: 5th 20%-group</td>\n",
       "      <td>2014</td>\n",
       "      <td>83,4</td>\n",
       "      <td>84,3</td>\n",
       "      <td>82,3</td>\n",
       "      <td>6,4</td>\n",
       "      <td>6,6</td>\n",
       "      <td>6,2</td>\n",
       "    </tr>\n",
       "    <tr>\n",
       "      <th>330</th>\n",
       "      <td>Equivalised income: 5th 20%-group</td>\n",
       "      <td>2015</td>\n",
       "      <td>82</td>\n",
       "      <td>81,5</td>\n",
       "      <td>82,5</td>\n",
       "      <td>6,4</td>\n",
       "      <td>5,9</td>\n",
       "      <td>6,9</td>\n",
       "    </tr>\n",
       "    <tr>\n",
       "      <th>331</th>\n",
       "      <td>Equivalised income: 5th 20%-group</td>\n",
       "      <td>2016</td>\n",
       "      <td>82,3</td>\n",
       "      <td>81,2</td>\n",
       "      <td>83,4</td>\n",
       "      <td>6,9</td>\n",
       "      <td>7,2</td>\n",
       "      <td>6,6</td>\n",
       "    </tr>\n",
       "    <tr>\n",
       "      <th>332</th>\n",
       "      <td>Equivalised income: 5th 20%-group</td>\n",
       "      <td>2017</td>\n",
       "      <td>82,1</td>\n",
       "      <td>81,2</td>\n",
       "      <td>83,1</td>\n",
       "      <td>7,1</td>\n",
       "      <td>6,8</td>\n",
       "      <td>7,4</td>\n",
       "    </tr>\n",
       "    <tr>\n",
       "      <th>333</th>\n",
       "      <td>Bron: CBS</td>\n",
       "      <td>NaN</td>\n",
       "      <td>NaN</td>\n",
       "      <td>NaN</td>\n",
       "      <td>NaN</td>\n",
       "      <td>NaN</td>\n",
       "      <td>NaN</td>\n",
       "      <td>NaN</td>\n",
       "    </tr>\n",
       "  </tbody>\n",
       "</table>\n",
       "<p>334 rows × 8 columns</p>\n",
       "</div>"
      ],
      "text/plain": [
       "    Personenmobiliteit; aandeel verkeersdeelnemers, persoonskenmerken 2010-2017  \\\n",
       "0                                                  NaN                            \n",
       "1                                                  NaN                            \n",
       "2                                                  NaN                            \n",
       "3                                                  NaN                            \n",
       "4                             Personal characteristics                            \n",
       "..                                                 ...                            \n",
       "329                  Equivalised income: 5th 20%-group                            \n",
       "330                  Equivalised income: 5th 20%-group                            \n",
       "331                  Equivalised income: 5th 20%-group                            \n",
       "332                  Equivalised income: 5th 20%-group                            \n",
       "333                                          Bron: CBS                            \n",
       "\n",
       "    Unnamed: 1             Unnamed: 2             Unnamed: 3  \\\n",
       "0          NaN                    NaN                    NaN   \n",
       "1          NaN                    NaN                    NaN   \n",
       "2        Topic  Traffic participation  Traffic participation   \n",
       "3          Sex  Total male and female                   Male   \n",
       "4      Periods                      %                      %   \n",
       "..         ...                    ...                    ...   \n",
       "329       2014                   83,4                   84,3   \n",
       "330       2015                     82                   81,5   \n",
       "331       2016                   82,3                   81,2   \n",
       "332       2017                   82,1                   81,2   \n",
       "333        NaN                    NaN                    NaN   \n",
       "\n",
       "                Unnamed: 4               Unnamed: 5               Unnamed: 6  \\\n",
       "0                      NaN                      NaN                      NaN   \n",
       "1                      NaN                      NaN                      NaN   \n",
       "2    Traffic participation  Use of public transport  Use of public transport   \n",
       "3                   Female    Total male and female                     Male   \n",
       "4                        %                        %                        %   \n",
       "..                     ...                      ...                      ...   \n",
       "329                   82,3                      6,4                      6,6   \n",
       "330                   82,5                      6,4                      5,9   \n",
       "331                   83,4                      6,9                      7,2   \n",
       "332                   83,1                      7,1                      6,8   \n",
       "333                    NaN                      NaN                      NaN   \n",
       "\n",
       "                  Unnamed: 7  \n",
       "0                        NaN  \n",
       "1                        NaN  \n",
       "2    Use of public transport  \n",
       "3                     Female  \n",
       "4                          %  \n",
       "..                       ...  \n",
       "329                      6,2  \n",
       "330                      6,9  \n",
       "331                      6,6  \n",
       "332                      7,4  \n",
       "333                      NaN  \n",
       "\n",
       "[334 rows x 8 columns]"
      ]
     },
     "execution_count": 7,
     "metadata": {},
     "output_type": "execute_result"
    }
   ],
   "source": [
    "df2 = df2.replace({'Persoonskenmerken': 'Personal characteristics'})\n",
    "df2 = df2.replace({'Perioden': 'Periods'})\n",
    "df2 = df2.replace({'Geslacht': 'Sex'})\n",
    "df2 = df2.replace({'Onderwerp': 'Topic'})\n",
    "df2 = df2.replace({'Verkeersdeelname': 'Traffic participation'})\n",
    "df2 = df2.replace({'Totaal mannen en vrouwen': 'Total male and female'})\n",
    "df2 = df2.replace({'Gebruik van het openbaar vervoer': 'Use of public transport'})\n",
    "df2 = df2.replace({'Mannen': 'Male'})\n",
    "df2 = df2.replace({'Vrouwen': 'Female'})\n",
    "df2 = df2.replace({'Totaal personen': 'Total persons'})\n",
    "df2"
   ]
  },
  {
   "cell_type": "code",
   "execution_count": null,
   "id": "7fdeb672",
   "metadata": {},
   "outputs": [
    {
     "data": {
      "text/html": [
       "<div>\n",
       "<style scoped>\n",
       "    .dataframe tbody tr th:only-of-type {\n",
       "        vertical-align: middle;\n",
       "    }\n",
       "\n",
       "    .dataframe tbody tr th {\n",
       "        vertical-align: top;\n",
       "    }\n",
       "\n",
       "    .dataframe thead th {\n",
       "        text-align: right;\n",
       "    }\n",
       "</style>\n",
       "<table border=\"1\" class=\"dataframe\">\n",
       "  <thead>\n",
       "    <tr style=\"text-align: right;\">\n",
       "      <th>2</th>\n",
       "      <th>NaN</th>\n",
       "      <th>Topic</th>\n",
       "      <th>Traffic participation</th>\n",
       "      <th>Traffic participation</th>\n",
       "      <th>Traffic participation</th>\n",
       "      <th>Use of public transport</th>\n",
       "      <th>Use of public transport</th>\n",
       "      <th>Use of public transport</th>\n",
       "    </tr>\n",
       "  </thead>\n",
       "  <tbody>\n",
       "    <tr>\n",
       "      <th>3</th>\n",
       "      <td>NaN</td>\n",
       "      <td>Sex</td>\n",
       "      <td>Total male and female</td>\n",
       "      <td>Male</td>\n",
       "      <td>Female</td>\n",
       "      <td>Total male and female</td>\n",
       "      <td>Male</td>\n",
       "      <td>Female</td>\n",
       "    </tr>\n",
       "    <tr>\n",
       "      <th>4</th>\n",
       "      <td>Personal characteristics</td>\n",
       "      <td>Periods</td>\n",
       "      <td>%</td>\n",
       "      <td>%</td>\n",
       "      <td>%</td>\n",
       "      <td>%</td>\n",
       "      <td>%</td>\n",
       "      <td>%</td>\n",
       "    </tr>\n",
       "    <tr>\n",
       "      <th>5</th>\n",
       "      <td>Total persons</td>\n",
       "      <td>2010</td>\n",
       "      <td>79,8</td>\n",
       "      <td>80,2</td>\n",
       "      <td>79,4</td>\n",
       "      <td>6,8</td>\n",
       "      <td>6,1</td>\n",
       "      <td>7,4</td>\n",
       "    </tr>\n",
       "    <tr>\n",
       "      <th>6</th>\n",
       "      <td>Total persons</td>\n",
       "      <td>2011</td>\n",
       "      <td>79,9</td>\n",
       "      <td>80,2</td>\n",
       "      <td>79,6</td>\n",
       "      <td>7,1</td>\n",
       "      <td>6,7</td>\n",
       "      <td>7,6</td>\n",
       "    </tr>\n",
       "    <tr>\n",
       "      <th>7</th>\n",
       "      <td>Total persons</td>\n",
       "      <td>2012</td>\n",
       "      <td>79,6</td>\n",
       "      <td>79,9</td>\n",
       "      <td>79,2</td>\n",
       "      <td>6,7</td>\n",
       "      <td>6,4</td>\n",
       "      <td>7</td>\n",
       "    </tr>\n",
       "    <tr>\n",
       "      <th>...</th>\n",
       "      <td>...</td>\n",
       "      <td>...</td>\n",
       "      <td>...</td>\n",
       "      <td>...</td>\n",
       "      <td>...</td>\n",
       "      <td>...</td>\n",
       "      <td>...</td>\n",
       "      <td>...</td>\n",
       "    </tr>\n",
       "    <tr>\n",
       "      <th>329</th>\n",
       "      <td>Equivalised income: 5th 20%-group</td>\n",
       "      <td>2014</td>\n",
       "      <td>83,4</td>\n",
       "      <td>84,3</td>\n",
       "      <td>82,3</td>\n",
       "      <td>6,4</td>\n",
       "      <td>6,6</td>\n",
       "      <td>6,2</td>\n",
       "    </tr>\n",
       "    <tr>\n",
       "      <th>330</th>\n",
       "      <td>Equivalised income: 5th 20%-group</td>\n",
       "      <td>2015</td>\n",
       "      <td>82</td>\n",
       "      <td>81,5</td>\n",
       "      <td>82,5</td>\n",
       "      <td>6,4</td>\n",
       "      <td>5,9</td>\n",
       "      <td>6,9</td>\n",
       "    </tr>\n",
       "    <tr>\n",
       "      <th>331</th>\n",
       "      <td>Equivalised income: 5th 20%-group</td>\n",
       "      <td>2016</td>\n",
       "      <td>82,3</td>\n",
       "      <td>81,2</td>\n",
       "      <td>83,4</td>\n",
       "      <td>6,9</td>\n",
       "      <td>7,2</td>\n",
       "      <td>6,6</td>\n",
       "    </tr>\n",
       "    <tr>\n",
       "      <th>332</th>\n",
       "      <td>Equivalised income: 5th 20%-group</td>\n",
       "      <td>2017</td>\n",
       "      <td>82,1</td>\n",
       "      <td>81,2</td>\n",
       "      <td>83,1</td>\n",
       "      <td>7,1</td>\n",
       "      <td>6,8</td>\n",
       "      <td>7,4</td>\n",
       "    </tr>\n",
       "    <tr>\n",
       "      <th>333</th>\n",
       "      <td>Bron: CBS</td>\n",
       "      <td>NaN</td>\n",
       "      <td>NaN</td>\n",
       "      <td>NaN</td>\n",
       "      <td>NaN</td>\n",
       "      <td>NaN</td>\n",
       "      <td>NaN</td>\n",
       "      <td>NaN</td>\n",
       "    </tr>\n",
       "  </tbody>\n",
       "</table>\n",
       "<p>331 rows × 8 columns</p>\n",
       "</div>"
      ],
      "text/plain": [
       "2                                  NaN    Topic  Traffic participation  \\\n",
       "3                                  NaN      Sex  Total male and female   \n",
       "4             Personal characteristics  Periods                      %   \n",
       "5                        Total persons     2010                   79,8   \n",
       "6                        Total persons     2011                   79,9   \n",
       "7                        Total persons     2012                   79,6   \n",
       "..                                 ...      ...                    ...   \n",
       "329  Equivalised income: 5th 20%-group     2014                   83,4   \n",
       "330  Equivalised income: 5th 20%-group     2015                     82   \n",
       "331  Equivalised income: 5th 20%-group     2016                   82,3   \n",
       "332  Equivalised income: 5th 20%-group     2017                   82,1   \n",
       "333                          Bron: CBS      NaN                    NaN   \n",
       "\n",
       "2   Traffic participation Traffic participation Use of public transport  \\\n",
       "3                    Male                Female   Total male and female   \n",
       "4                       %                     %                       %   \n",
       "5                    80,2                  79,4                     6,8   \n",
       "6                    80,2                  79,6                     7,1   \n",
       "7                    79,9                  79,2                     6,7   \n",
       "..                    ...                   ...                     ...   \n",
       "329                  84,3                  82,3                     6,4   \n",
       "330                  81,5                  82,5                     6,4   \n",
       "331                  81,2                  83,4                     6,9   \n",
       "332                  81,2                  83,1                     7,1   \n",
       "333                   NaN                   NaN                     NaN   \n",
       "\n",
       "2   Use of public transport Use of public transport  \n",
       "3                      Male                  Female  \n",
       "4                         %                       %  \n",
       "5                       6,1                     7,4  \n",
       "6                       6,7                     7,6  \n",
       "7                       6,4                       7  \n",
       "..                      ...                     ...  \n",
       "329                     6,6                     6,2  \n",
       "330                     5,9                     6,9  \n",
       "331                     7,2                     6,6  \n",
       "332                     6,8                     7,4  \n",
       "333                     NaN                     NaN  \n",
       "\n",
       "[331 rows x 8 columns]"
      ]
     },
     "execution_count": 8,
     "metadata": {},
     "output_type": "execute_result"
    }
   ],
   "source": [
    "df2.columns = df2.iloc[2]\n",
    "df2 = df2.drop(index=[0, 1, 2])\n",
    "df2"
   ]
  },
  {
   "cell_type": "code",
   "execution_count": null,
   "id": "173d29a2",
   "metadata": {},
   "outputs": [
    {
     "data": {
      "text/html": [
       "<div>\n",
       "<style scoped>\n",
       "    .dataframe tbody tr th:only-of-type {\n",
       "        vertical-align: middle;\n",
       "    }\n",
       "\n",
       "    .dataframe tbody tr th {\n",
       "        vertical-align: top;\n",
       "    }\n",
       "\n",
       "    .dataframe thead th {\n",
       "        text-align: right;\n",
       "    }\n",
       "</style>\n",
       "<table border=\"1\" class=\"dataframe\">\n",
       "  <thead>\n",
       "    <tr style=\"text-align: right;\">\n",
       "      <th>2</th>\n",
       "      <th>Personal characteristics</th>\n",
       "      <th>Topic</th>\n",
       "      <th>Traffic participation</th>\n",
       "      <th>Traffic participation.1</th>\n",
       "      <th>Traffic participation.2</th>\n",
       "      <th>Use of public transport</th>\n",
       "      <th>Use of public transport.1</th>\n",
       "      <th>Use of public transport.2</th>\n",
       "    </tr>\n",
       "  </thead>\n",
       "  <tbody>\n",
       "    <tr>\n",
       "      <th>3</th>\n",
       "      <td>NaN</td>\n",
       "      <td>Sex</td>\n",
       "      <td>Total male and female</td>\n",
       "      <td>Male</td>\n",
       "      <td>Female</td>\n",
       "      <td>Total male and female</td>\n",
       "      <td>Male</td>\n",
       "      <td>Female</td>\n",
       "    </tr>\n",
       "    <tr>\n",
       "      <th>4</th>\n",
       "      <td>Personal characteristics</td>\n",
       "      <td>Periods</td>\n",
       "      <td>%</td>\n",
       "      <td>%</td>\n",
       "      <td>%</td>\n",
       "      <td>%</td>\n",
       "      <td>%</td>\n",
       "      <td>%</td>\n",
       "    </tr>\n",
       "    <tr>\n",
       "      <th>5</th>\n",
       "      <td>Total persons</td>\n",
       "      <td>2010</td>\n",
       "      <td>79,8</td>\n",
       "      <td>80,2</td>\n",
       "      <td>79,4</td>\n",
       "      <td>6,8</td>\n",
       "      <td>6,1</td>\n",
       "      <td>7,4</td>\n",
       "    </tr>\n",
       "    <tr>\n",
       "      <th>6</th>\n",
       "      <td>Total persons</td>\n",
       "      <td>2011</td>\n",
       "      <td>79,9</td>\n",
       "      <td>80,2</td>\n",
       "      <td>79,6</td>\n",
       "      <td>7,1</td>\n",
       "      <td>6,7</td>\n",
       "      <td>7,6</td>\n",
       "    </tr>\n",
       "    <tr>\n",
       "      <th>7</th>\n",
       "      <td>Total persons</td>\n",
       "      <td>2012</td>\n",
       "      <td>79,6</td>\n",
       "      <td>79,9</td>\n",
       "      <td>79,2</td>\n",
       "      <td>6,7</td>\n",
       "      <td>6,4</td>\n",
       "      <td>7</td>\n",
       "    </tr>\n",
       "    <tr>\n",
       "      <th>...</th>\n",
       "      <td>...</td>\n",
       "      <td>...</td>\n",
       "      <td>...</td>\n",
       "      <td>...</td>\n",
       "      <td>...</td>\n",
       "      <td>...</td>\n",
       "      <td>...</td>\n",
       "      <td>...</td>\n",
       "    </tr>\n",
       "    <tr>\n",
       "      <th>329</th>\n",
       "      <td>Equivalised income: 5th 20%-group</td>\n",
       "      <td>2014</td>\n",
       "      <td>83,4</td>\n",
       "      <td>84,3</td>\n",
       "      <td>82,3</td>\n",
       "      <td>6,4</td>\n",
       "      <td>6,6</td>\n",
       "      <td>6,2</td>\n",
       "    </tr>\n",
       "    <tr>\n",
       "      <th>330</th>\n",
       "      <td>Equivalised income: 5th 20%-group</td>\n",
       "      <td>2015</td>\n",
       "      <td>82</td>\n",
       "      <td>81,5</td>\n",
       "      <td>82,5</td>\n",
       "      <td>6,4</td>\n",
       "      <td>5,9</td>\n",
       "      <td>6,9</td>\n",
       "    </tr>\n",
       "    <tr>\n",
       "      <th>331</th>\n",
       "      <td>Equivalised income: 5th 20%-group</td>\n",
       "      <td>2016</td>\n",
       "      <td>82,3</td>\n",
       "      <td>81,2</td>\n",
       "      <td>83,4</td>\n",
       "      <td>6,9</td>\n",
       "      <td>7,2</td>\n",
       "      <td>6,6</td>\n",
       "    </tr>\n",
       "    <tr>\n",
       "      <th>332</th>\n",
       "      <td>Equivalised income: 5th 20%-group</td>\n",
       "      <td>2017</td>\n",
       "      <td>82,1</td>\n",
       "      <td>81,2</td>\n",
       "      <td>83,1</td>\n",
       "      <td>7,1</td>\n",
       "      <td>6,8</td>\n",
       "      <td>7,4</td>\n",
       "    </tr>\n",
       "    <tr>\n",
       "      <th>333</th>\n",
       "      <td>Bron: CBS</td>\n",
       "      <td>NaN</td>\n",
       "      <td>NaN</td>\n",
       "      <td>NaN</td>\n",
       "      <td>NaN</td>\n",
       "      <td>NaN</td>\n",
       "      <td>NaN</td>\n",
       "      <td>NaN</td>\n",
       "    </tr>\n",
       "  </tbody>\n",
       "</table>\n",
       "<p>323 rows × 8 columns</p>\n",
       "</div>"
      ],
      "text/plain": [
       "2             Personal characteristics    Topic  Traffic participation  \\\n",
       "3                                  NaN      Sex  Total male and female   \n",
       "4             Personal characteristics  Periods                      %   \n",
       "5                        Total persons     2010                   79,8   \n",
       "6                        Total persons     2011                   79,9   \n",
       "7                        Total persons     2012                   79,6   \n",
       "..                                 ...      ...                    ...   \n",
       "329  Equivalised income: 5th 20%-group     2014                   83,4   \n",
       "330  Equivalised income: 5th 20%-group     2015                     82   \n",
       "331  Equivalised income: 5th 20%-group     2016                   82,3   \n",
       "332  Equivalised income: 5th 20%-group     2017                   82,1   \n",
       "333                          Bron: CBS      NaN                    NaN   \n",
       "\n",
       "2   Traffic participation.1 Traffic participation.2 Use of public transport  \\\n",
       "3                      Male                  Female   Total male and female   \n",
       "4                         %                       %                       %   \n",
       "5                      80,2                    79,4                     6,8   \n",
       "6                      80,2                    79,6                     7,1   \n",
       "7                      79,9                    79,2                     6,7   \n",
       "..                      ...                     ...                     ...   \n",
       "329                    84,3                    82,3                     6,4   \n",
       "330                    81,5                    82,5                     6,4   \n",
       "331                    81,2                    83,4                     6,9   \n",
       "332                    81,2                    83,1                     7,1   \n",
       "333                     NaN                     NaN                     NaN   \n",
       "\n",
       "2   Use of public transport.1 Use of public transport.2  \n",
       "3                        Male                    Female  \n",
       "4                           %                         %  \n",
       "5                         6,1                       7,4  \n",
       "6                         6,7                       7,6  \n",
       "7                         6,4                         7  \n",
       "..                        ...                       ...  \n",
       "329                       6,6                       6,2  \n",
       "330                       5,9                       6,9  \n",
       "331                       7,2                       6,6  \n",
       "332                       6,8                       7,4  \n",
       "333                       NaN                       NaN  \n",
       "\n",
       "[323 rows x 8 columns]"
      ]
     },
     "execution_count": 9,
     "metadata": {},
     "output_type": "execute_result"
    }
   ],
   "source": [
    "df2.columns.values[0] = 'Personal characteristics'\n",
    "df2.columns.values[3] = 'Traffic participation.1'\n",
    "df2.columns.values[4] = 'Traffic participation.2'\n",
    "df2.columns.values[6] = 'Use of public transport.1'\n",
    "df2.columns.values[7] = 'Use of public transport.2'\n",
    "df2 = df2[df2['Personal characteristics'] != \"Categorie: baby's/kleuters\"]\n",
    "df2"
   ]
  },
  {
   "cell_type": "code",
   "execution_count": null,
   "id": "3220fbb8",
   "metadata": {
    "scrolled": true
   },
   "outputs": [],
   "source": [
    "# df2 = df2.rename(columns={'Nieuwe Index Titel': ''})\n",
    "# df2 = df2.rename(columns={'Personenmobiliteit; aandeel verkeersdeelnemers, persoonskenmerken 2010-2017': 'Demographic group'})\n",
    "# df2 = df2.rename(columns={'Unnamed: 1': 'year'})\n",
    "# df2 = df2.rename(columns={'Unnamed: 2': 'Total male and female'})\n",
    "# df2 = df2.rename(columns={'Unnamed: 3': 'Male'})\n",
    "# df2 = df2.rename(columns={'Unnamed: 4': 'Female'})\n",
    "# df2 = df2.rename(columns={'Unnamed: 5': 'Total use of public transport'})\n",
    "# df2 = df2.rename(columns={'Unnamed: 6': 'Male'})\n",
    "# df2 = df2.rename(columns={'Unnamed: 7': 'Female'})\n",
    "# df2"
   ]
  },
  {
   "cell_type": "code",
   "execution_count": null,
   "id": "551c4271",
   "metadata": {
    "scrolled": true
   },
   "outputs": [
    {
     "data": {
      "text/html": [
       "<div>\n",
       "<style scoped>\n",
       "    .dataframe tbody tr th:only-of-type {\n",
       "        vertical-align: middle;\n",
       "    }\n",
       "\n",
       "    .dataframe tbody tr th {\n",
       "        vertical-align: top;\n",
       "    }\n",
       "\n",
       "    .dataframe thead th {\n",
       "        text-align: right;\n",
       "    }\n",
       "</style>\n",
       "<table border=\"1\" class=\"dataframe\">\n",
       "  <thead>\n",
       "    <tr style=\"text-align: right;\">\n",
       "      <th></th>\n",
       "      <th>Personal characteristics</th>\n",
       "      <th>Topic</th>\n",
       "      <th>Traffic participation</th>\n",
       "      <th>Traffic participation.1</th>\n",
       "      <th>Traffic participation.2</th>\n",
       "      <th>Use of public transport</th>\n",
       "      <th>Use of public transport.1</th>\n",
       "      <th>Use of public transport.2</th>\n",
       "    </tr>\n",
       "  </thead>\n",
       "  <tbody>\n",
       "    <tr>\n",
       "      <th>0</th>\n",
       "      <td>NaN</td>\n",
       "      <td>Sex</td>\n",
       "      <td>Total male and female</td>\n",
       "      <td>Male</td>\n",
       "      <td>Female</td>\n",
       "      <td>Total male and female</td>\n",
       "      <td>Male</td>\n",
       "      <td>Female</td>\n",
       "    </tr>\n",
       "    <tr>\n",
       "      <th>1</th>\n",
       "      <td>Personal characteristics</td>\n",
       "      <td>Periods</td>\n",
       "      <td>%</td>\n",
       "      <td>%</td>\n",
       "      <td>%</td>\n",
       "      <td>%</td>\n",
       "      <td>%</td>\n",
       "      <td>%</td>\n",
       "    </tr>\n",
       "    <tr>\n",
       "      <th>2</th>\n",
       "      <td>Total persons</td>\n",
       "      <td>2018</td>\n",
       "      <td>82.9</td>\n",
       "      <td>83.0</td>\n",
       "      <td>82.9</td>\n",
       "      <td>8.6</td>\n",
       "      <td>8.0</td>\n",
       "      <td>9.2</td>\n",
       "    </tr>\n",
       "    <tr>\n",
       "      <th>3</th>\n",
       "      <td>Total persons</td>\n",
       "      <td>2019</td>\n",
       "      <td>81.9</td>\n",
       "      <td>82.6</td>\n",
       "      <td>81.3</td>\n",
       "      <td>8.6</td>\n",
       "      <td>7.9</td>\n",
       "      <td>9.2</td>\n",
       "    </tr>\n",
       "    <tr>\n",
       "      <th>4</th>\n",
       "      <td>Total persons</td>\n",
       "      <td>2020</td>\n",
       "      <td>73.8</td>\n",
       "      <td>74.4</td>\n",
       "      <td>73.2</td>\n",
       "      <td>3.9</td>\n",
       "      <td>3.6</td>\n",
       "      <td>4.2</td>\n",
       "    </tr>\n",
       "    <tr>\n",
       "      <th>...</th>\n",
       "      <td>...</td>\n",
       "      <td>...</td>\n",
       "      <td>...</td>\n",
       "      <td>...</td>\n",
       "      <td>...</td>\n",
       "      <td>...</td>\n",
       "      <td>...</td>\n",
       "      <td>...</td>\n",
       "    </tr>\n",
       "    <tr>\n",
       "      <th>456</th>\n",
       "      <td>Equivalised income: 5th 20%-group</td>\n",
       "      <td>2014</td>\n",
       "      <td>83,4</td>\n",
       "      <td>84,3</td>\n",
       "      <td>82,3</td>\n",
       "      <td>6,4</td>\n",
       "      <td>6,6</td>\n",
       "      <td>6,2</td>\n",
       "    </tr>\n",
       "    <tr>\n",
       "      <th>457</th>\n",
       "      <td>Equivalised income: 5th 20%-group</td>\n",
       "      <td>2015</td>\n",
       "      <td>82</td>\n",
       "      <td>81,5</td>\n",
       "      <td>82,5</td>\n",
       "      <td>6,4</td>\n",
       "      <td>5,9</td>\n",
       "      <td>6,9</td>\n",
       "    </tr>\n",
       "    <tr>\n",
       "      <th>458</th>\n",
       "      <td>Equivalised income: 5th 20%-group</td>\n",
       "      <td>2016</td>\n",
       "      <td>82,3</td>\n",
       "      <td>81,2</td>\n",
       "      <td>83,4</td>\n",
       "      <td>6,9</td>\n",
       "      <td>7,2</td>\n",
       "      <td>6,6</td>\n",
       "    </tr>\n",
       "    <tr>\n",
       "      <th>459</th>\n",
       "      <td>Equivalised income: 5th 20%-group</td>\n",
       "      <td>2017</td>\n",
       "      <td>82,1</td>\n",
       "      <td>81,2</td>\n",
       "      <td>83,1</td>\n",
       "      <td>7,1</td>\n",
       "      <td>6,8</td>\n",
       "      <td>7,4</td>\n",
       "    </tr>\n",
       "    <tr>\n",
       "      <th>460</th>\n",
       "      <td>Bron: CBS</td>\n",
       "      <td>NaN</td>\n",
       "      <td>NaN</td>\n",
       "      <td>NaN</td>\n",
       "      <td>NaN</td>\n",
       "      <td>NaN</td>\n",
       "      <td>NaN</td>\n",
       "      <td>NaN</td>\n",
       "    </tr>\n",
       "  </tbody>\n",
       "</table>\n",
       "<p>461 rows × 8 columns</p>\n",
       "</div>"
      ],
      "text/plain": [
       "              Personal characteristics    Topic  Traffic participation  \\\n",
       "0                                  NaN      Sex  Total male and female   \n",
       "1             Personal characteristics  Periods                      %   \n",
       "2                        Total persons     2018                   82.9   \n",
       "3                        Total persons     2019                   81.9   \n",
       "4                        Total persons     2020                   73.8   \n",
       "..                                 ...      ...                    ...   \n",
       "456  Equivalised income: 5th 20%-group     2014                   83,4   \n",
       "457  Equivalised income: 5th 20%-group     2015                     82   \n",
       "458  Equivalised income: 5th 20%-group     2016                   82,3   \n",
       "459  Equivalised income: 5th 20%-group     2017                   82,1   \n",
       "460                          Bron: CBS      NaN                    NaN   \n",
       "\n",
       "    Traffic participation.1 Traffic participation.2 Use of public transport  \\\n",
       "0                      Male                  Female   Total male and female   \n",
       "1                         %                       %                       %   \n",
       "2                      83.0                    82.9                     8.6   \n",
       "3                      82.6                    81.3                     8.6   \n",
       "4                      74.4                    73.2                     3.9   \n",
       "..                      ...                     ...                     ...   \n",
       "456                    84,3                    82,3                     6,4   \n",
       "457                    81,5                    82,5                     6,4   \n",
       "458                    81,2                    83,4                     6,9   \n",
       "459                    81,2                    83,1                     7,1   \n",
       "460                     NaN                     NaN                     NaN   \n",
       "\n",
       "    Use of public transport.1 Use of public transport.2  \n",
       "0                        Male                    Female  \n",
       "1                           %                         %  \n",
       "2                         8.0                       9.2  \n",
       "3                         7.9                       9.2  \n",
       "4                         3.6                       4.2  \n",
       "..                        ...                       ...  \n",
       "456                       6,6                       6,2  \n",
       "457                       5,9                       6,9  \n",
       "458                       7,2                       6,6  \n",
       "459                       6,8                       7,4  \n",
       "460                       NaN                       NaN  \n",
       "\n",
       "[461 rows x 8 columns]"
      ]
     },
     "execution_count": 11,
     "metadata": {},
     "output_type": "execute_result"
    }
   ],
   "source": [
    "df2.reset_index(drop=True, inplace=True)\n",
    "merged_df = pd.concat([df1, df2], ignore_index=True)\n",
    "merged_df"
   ]
  },
  {
   "cell_type": "code",
   "execution_count": null,
   "id": "6c90917f",
   "metadata": {},
   "outputs": [],
   "source": [
    "#for row in range(merged_df.shape[0]):\n",
    "   # for column in range(2,merged_df.shape[1]):\n",
    "   #     merged_df.iloc[row,column] = pd.to_numeric(merged_df.iloc[row,column], errors='coerce')\n",
    "#merged_df"
   ]
  },
  {
   "cell_type": "code",
   "execution_count": null,
   "id": "e390c11f",
   "metadata": {},
   "outputs": [],
   "source": [
    "merged_df = merged_df.sort_values(by=['Personal characteristics', 'Topic'])\n",
    "columns_to_drop = ['Traffic participation.1', 'Traffic participation.2', 'Use of public transport.1', 'Use of public transport.2' ]\n",
    "merged_df = merged_df.drop(columns_to_drop, axis=1)\n",
    "merged_df = merged_df.drop([0, 1, 137, 138, 139, 460])"
   ]
  },
  {
   "cell_type": "code",
   "execution_count": null,
   "id": "af25590f",
   "metadata": {},
   "outputs": [],
   "source": [
    "merged_df['Traffic participation'] = merged_df['Traffic participation'].str.replace(',','.', regex = False)\n",
    "merged_df['Use of public transport'] = merged_df['Use of public transport'].str.replace(',','.', regex = False)\n",
    "\n",
    "for row in range(merged_df.shape[0]):\n",
    "    for column in range(2,merged_df.shape[1]):\n",
    "        merged_df.iloc[row,column] = pd.to_numeric(merged_df.iloc[row,column], errors='coerce')\n",
    "        merged_df"
   ]
  },
  {
   "cell_type": "code",
   "execution_count": null,
   "id": "8a8c941e",
   "metadata": {},
   "outputs": [
    {
     "data": {
      "text/html": [
       "<div>\n",
       "<style scoped>\n",
       "    .dataframe tbody tr th:only-of-type {\n",
       "        vertical-align: middle;\n",
       "    }\n",
       "\n",
       "    .dataframe tbody tr th {\n",
       "        vertical-align: top;\n",
       "    }\n",
       "\n",
       "    .dataframe thead th {\n",
       "        text-align: right;\n",
       "    }\n",
       "</style>\n",
       "<table border=\"1\" class=\"dataframe\">\n",
       "  <thead>\n",
       "    <tr style=\"text-align: right;\">\n",
       "      <th></th>\n",
       "      <th>Personal characteristics</th>\n",
       "      <th>Topic</th>\n",
       "      <th>Traffic participation</th>\n",
       "      <th>Use of public transport</th>\n",
       "    </tr>\n",
       "  </thead>\n",
       "  <tbody>\n",
       "    <tr>\n",
       "      <th>260</th>\n",
       "      <td>Age: 12 to 17 years</td>\n",
       "      <td>2010</td>\n",
       "      <td>82.1</td>\n",
       "      <td>10</td>\n",
       "    </tr>\n",
       "    <tr>\n",
       "      <th>261</th>\n",
       "      <td>Age: 12 to 17 years</td>\n",
       "      <td>2011</td>\n",
       "      <td>82.8</td>\n",
       "      <td>9.8</td>\n",
       "    </tr>\n",
       "    <tr>\n",
       "      <th>262</th>\n",
       "      <td>Age: 12 to 17 years</td>\n",
       "      <td>2012</td>\n",
       "      <td>82.1</td>\n",
       "      <td>8.9</td>\n",
       "    </tr>\n",
       "    <tr>\n",
       "      <th>263</th>\n",
       "      <td>Age: 12 to 17 years</td>\n",
       "      <td>2013</td>\n",
       "      <td>82</td>\n",
       "      <td>9.8</td>\n",
       "    </tr>\n",
       "    <tr>\n",
       "      <th>264</th>\n",
       "      <td>Age: 12 to 17 years</td>\n",
       "      <td>2014</td>\n",
       "      <td>83.3</td>\n",
       "      <td>8.9</td>\n",
       "    </tr>\n",
       "    <tr>\n",
       "      <th>265</th>\n",
       "      <td>Age: 12 to 17 years</td>\n",
       "      <td>2015</td>\n",
       "      <td>81.3</td>\n",
       "      <td>9.6</td>\n",
       "    </tr>\n",
       "    <tr>\n",
       "      <th>266</th>\n",
       "      <td>Age: 12 to 17 years</td>\n",
       "      <td>2016</td>\n",
       "      <td>81.4</td>\n",
       "      <td>8.8</td>\n",
       "    </tr>\n",
       "    <tr>\n",
       "      <th>267</th>\n",
       "      <td>Age: 12 to 17 years</td>\n",
       "      <td>2017</td>\n",
       "      <td>80.5</td>\n",
       "      <td>9.8</td>\n",
       "    </tr>\n",
       "    <tr>\n",
       "      <th>12</th>\n",
       "      <td>Age: 12 to 17 years</td>\n",
       "      <td>2018</td>\n",
       "      <td>86.3</td>\n",
       "      <td>11.7</td>\n",
       "    </tr>\n",
       "    <tr>\n",
       "      <th>13</th>\n",
       "      <td>Age: 12 to 17 years</td>\n",
       "      <td>2019</td>\n",
       "      <td>86.4</td>\n",
       "      <td>10.7</td>\n",
       "    </tr>\n",
       "    <tr>\n",
       "      <th>14</th>\n",
       "      <td>Age: 12 to 17 years</td>\n",
       "      <td>2020</td>\n",
       "      <td>73.5</td>\n",
       "      <td>6.3</td>\n",
       "    </tr>\n",
       "    <tr>\n",
       "      <th>15</th>\n",
       "      <td>Age: 12 to 17 years</td>\n",
       "      <td>2021</td>\n",
       "      <td>79.0</td>\n",
       "      <td>6.3</td>\n",
       "    </tr>\n",
       "    <tr>\n",
       "      <th>16</th>\n",
       "      <td>Age: 12 to 17 years</td>\n",
       "      <td>2022</td>\n",
       "      <td>82.9</td>\n",
       "      <td>9.2</td>\n",
       "    </tr>\n",
       "    <tr>\n",
       "      <th>244</th>\n",
       "      <td>Age: 12 years or older</td>\n",
       "      <td>2010</td>\n",
       "      <td>79.2</td>\n",
       "      <td>7.5</td>\n",
       "    </tr>\n",
       "    <tr>\n",
       "      <th>245</th>\n",
       "      <td>Age: 12 years or older</td>\n",
       "      <td>2011</td>\n",
       "      <td>79.1</td>\n",
       "      <td>8</td>\n",
       "    </tr>\n",
       "    <tr>\n",
       "      <th>246</th>\n",
       "      <td>Age: 12 years or older</td>\n",
       "      <td>2012</td>\n",
       "      <td>78.8</td>\n",
       "      <td>7.5</td>\n",
       "    </tr>\n",
       "    <tr>\n",
       "      <th>247</th>\n",
       "      <td>Age: 12 years or older</td>\n",
       "      <td>2013</td>\n",
       "      <td>79</td>\n",
       "      <td>7.8</td>\n",
       "    </tr>\n",
       "    <tr>\n",
       "      <th>248</th>\n",
       "      <td>Age: 12 years or older</td>\n",
       "      <td>2014</td>\n",
       "      <td>79.4</td>\n",
       "      <td>7.4</td>\n",
       "    </tr>\n",
       "    <tr>\n",
       "      <th>249</th>\n",
       "      <td>Age: 12 years or older</td>\n",
       "      <td>2015</td>\n",
       "      <td>78.5</td>\n",
       "      <td>7.7</td>\n",
       "    </tr>\n",
       "    <tr>\n",
       "      <th>250</th>\n",
       "      <td>Age: 12 years or older</td>\n",
       "      <td>2016</td>\n",
       "      <td>78.1</td>\n",
       "      <td>7.5</td>\n",
       "    </tr>\n",
       "    <tr>\n",
       "      <th>251</th>\n",
       "      <td>Age: 12 years or older</td>\n",
       "      <td>2017</td>\n",
       "      <td>77.7</td>\n",
       "      <td>7.7</td>\n",
       "    </tr>\n",
       "    <tr>\n",
       "      <th>268</th>\n",
       "      <td>Age: 18 to 24 years</td>\n",
       "      <td>2010</td>\n",
       "      <td>84.9</td>\n",
       "      <td>23.2</td>\n",
       "    </tr>\n",
       "    <tr>\n",
       "      <th>269</th>\n",
       "      <td>Age: 18 to 24 years</td>\n",
       "      <td>2011</td>\n",
       "      <td>83.9</td>\n",
       "      <td>23.3</td>\n",
       "    </tr>\n",
       "    <tr>\n",
       "      <th>270</th>\n",
       "      <td>Age: 18 to 24 years</td>\n",
       "      <td>2012</td>\n",
       "      <td>83</td>\n",
       "      <td>23.5</td>\n",
       "    </tr>\n",
       "    <tr>\n",
       "      <th>271</th>\n",
       "      <td>Age: 18 to 24 years</td>\n",
       "      <td>2013</td>\n",
       "      <td>83.5</td>\n",
       "      <td>25.3</td>\n",
       "    </tr>\n",
       "    <tr>\n",
       "      <th>272</th>\n",
       "      <td>Age: 18 to 24 years</td>\n",
       "      <td>2014</td>\n",
       "      <td>83.6</td>\n",
       "      <td>23.3</td>\n",
       "    </tr>\n",
       "    <tr>\n",
       "      <th>273</th>\n",
       "      <td>Age: 18 to 24 years</td>\n",
       "      <td>2015</td>\n",
       "      <td>82.3</td>\n",
       "      <td>24</td>\n",
       "    </tr>\n",
       "    <tr>\n",
       "      <th>274</th>\n",
       "      <td>Age: 18 to 24 years</td>\n",
       "      <td>2016</td>\n",
       "      <td>82.4</td>\n",
       "      <td>23.4</td>\n",
       "    </tr>\n",
       "    <tr>\n",
       "      <th>275</th>\n",
       "      <td>Age: 18 to 24 years</td>\n",
       "      <td>2017</td>\n",
       "      <td>83.1</td>\n",
       "      <td>22.5</td>\n",
       "    </tr>\n",
       "    <tr>\n",
       "      <th>17</th>\n",
       "      <td>Age: 18 to 24 years</td>\n",
       "      <td>2018</td>\n",
       "      <td>86.8</td>\n",
       "      <td>23.8</td>\n",
       "    </tr>\n",
       "    <tr>\n",
       "      <th>18</th>\n",
       "      <td>Age: 18 to 24 years</td>\n",
       "      <td>2019</td>\n",
       "      <td>84.6</td>\n",
       "      <td>24.0</td>\n",
       "    </tr>\n",
       "    <tr>\n",
       "      <th>19</th>\n",
       "      <td>Age: 18 to 24 years</td>\n",
       "      <td>2020</td>\n",
       "      <td>74.6</td>\n",
       "      <td>11.9</td>\n",
       "    </tr>\n",
       "    <tr>\n",
       "      <th>20</th>\n",
       "      <td>Age: 18 to 24 years</td>\n",
       "      <td>2021</td>\n",
       "      <td>78.3</td>\n",
       "      <td>14.5</td>\n",
       "    </tr>\n",
       "    <tr>\n",
       "      <th>21</th>\n",
       "      <td>Age: 18 to 24 years</td>\n",
       "      <td>2022</td>\n",
       "      <td>81.2</td>\n",
       "      <td>18.4</td>\n",
       "    </tr>\n",
       "    <tr>\n",
       "      <th>276</th>\n",
       "      <td>Age: 25 to 34 years</td>\n",
       "      <td>2010</td>\n",
       "      <td>85</td>\n",
       "      <td>9.2</td>\n",
       "    </tr>\n",
       "    <tr>\n",
       "      <th>277</th>\n",
       "      <td>Age: 25 to 34 years</td>\n",
       "      <td>2011</td>\n",
       "      <td>86</td>\n",
       "      <td>10.2</td>\n",
       "    </tr>\n",
       "    <tr>\n",
       "      <th>278</th>\n",
       "      <td>Age: 25 to 34 years</td>\n",
       "      <td>2012</td>\n",
       "      <td>85.3</td>\n",
       "      <td>9.7</td>\n",
       "    </tr>\n",
       "    <tr>\n",
       "      <th>279</th>\n",
       "      <td>Age: 25 to 34 years</td>\n",
       "      <td>2013</td>\n",
       "      <td>84.4</td>\n",
       "      <td>10.6</td>\n",
       "    </tr>\n",
       "    <tr>\n",
       "      <th>280</th>\n",
       "      <td>Age: 25 to 34 years</td>\n",
       "      <td>2014</td>\n",
       "      <td>84.6</td>\n",
       "      <td>9.6</td>\n",
       "    </tr>\n",
       "    <tr>\n",
       "      <th>281</th>\n",
       "      <td>Age: 25 to 34 years</td>\n",
       "      <td>2015</td>\n",
       "      <td>83.9</td>\n",
       "      <td>9.9</td>\n",
       "    </tr>\n",
       "    <tr>\n",
       "      <th>282</th>\n",
       "      <td>Age: 25 to 34 years</td>\n",
       "      <td>2016</td>\n",
       "      <td>83.8</td>\n",
       "      <td>10</td>\n",
       "    </tr>\n",
       "    <tr>\n",
       "      <th>283</th>\n",
       "      <td>Age: 25 to 34 years</td>\n",
       "      <td>2017</td>\n",
       "      <td>83.5</td>\n",
       "      <td>11.6</td>\n",
       "    </tr>\n",
       "    <tr>\n",
       "      <th>22</th>\n",
       "      <td>Age: 25 to 34 years</td>\n",
       "      <td>2018</td>\n",
       "      <td>88.6</td>\n",
       "      <td>13.4</td>\n",
       "    </tr>\n",
       "    <tr>\n",
       "      <th>23</th>\n",
       "      <td>Age: 25 to 34 years</td>\n",
       "      <td>2019</td>\n",
       "      <td>86.6</td>\n",
       "      <td>13.4</td>\n",
       "    </tr>\n",
       "    <tr>\n",
       "      <th>24</th>\n",
       "      <td>Age: 25 to 34 years</td>\n",
       "      <td>2020</td>\n",
       "      <td>77.2</td>\n",
       "      <td>6.0</td>\n",
       "    </tr>\n",
       "    <tr>\n",
       "      <th>25</th>\n",
       "      <td>Age: 25 to 34 years</td>\n",
       "      <td>2021</td>\n",
       "      <td>80.3</td>\n",
       "      <td>6.5</td>\n",
       "    </tr>\n",
       "    <tr>\n",
       "      <th>26</th>\n",
       "      <td>Age: 25 to 34 years</td>\n",
       "      <td>2022</td>\n",
       "      <td>81.3</td>\n",
       "      <td>9.6</td>\n",
       "    </tr>\n",
       "    <tr>\n",
       "      <th>284</th>\n",
       "      <td>Age: 35 to 49 years</td>\n",
       "      <td>2010</td>\n",
       "      <td>83.1</td>\n",
       "      <td>5</td>\n",
       "    </tr>\n",
       "    <tr>\n",
       "      <th>285</th>\n",
       "      <td>Age: 35 to 49 years</td>\n",
       "      <td>2011</td>\n",
       "      <td>82.9</td>\n",
       "      <td>5.7</td>\n",
       "    </tr>\n",
       "    <tr>\n",
       "      <th>286</th>\n",
       "      <td>Age: 35 to 49 years</td>\n",
       "      <td>2012</td>\n",
       "      <td>82.4</td>\n",
       "      <td>5.1</td>\n",
       "    </tr>\n",
       "    <tr>\n",
       "      <th>287</th>\n",
       "      <td>Age: 35 to 49 years</td>\n",
       "      <td>2013</td>\n",
       "      <td>83.3</td>\n",
       "      <td>4.9</td>\n",
       "    </tr>\n",
       "    <tr>\n",
       "      <th>288</th>\n",
       "      <td>Age: 35 to 49 years</td>\n",
       "      <td>2014</td>\n",
       "      <td>82.9</td>\n",
       "      <td>5.2</td>\n",
       "    </tr>\n",
       "    <tr>\n",
       "      <th>289</th>\n",
       "      <td>Age: 35 to 49 years</td>\n",
       "      <td>2015</td>\n",
       "      <td>83.1</td>\n",
       "      <td>5.7</td>\n",
       "    </tr>\n",
       "    <tr>\n",
       "      <th>290</th>\n",
       "      <td>Age: 35 to 49 years</td>\n",
       "      <td>2016</td>\n",
       "      <td>82</td>\n",
       "      <td>5.6</td>\n",
       "    </tr>\n",
       "    <tr>\n",
       "      <th>291</th>\n",
       "      <td>Age: 35 to 49 years</td>\n",
       "      <td>2017</td>\n",
       "      <td>81.4</td>\n",
       "      <td>5.9</td>\n",
       "    </tr>\n",
       "    <tr>\n",
       "      <th>27</th>\n",
       "      <td>Age: 35 to 49 years</td>\n",
       "      <td>2018</td>\n",
       "      <td>86.7</td>\n",
       "      <td>7.1</td>\n",
       "    </tr>\n",
       "    <tr>\n",
       "      <th>28</th>\n",
       "      <td>Age: 35 to 49 years</td>\n",
       "      <td>2019</td>\n",
       "      <td>86.7</td>\n",
       "      <td>7.5</td>\n",
       "    </tr>\n",
       "    <tr>\n",
       "      <th>29</th>\n",
       "      <td>Age: 35 to 49 years</td>\n",
       "      <td>2020</td>\n",
       "      <td>78.7</td>\n",
       "      <td>3.2</td>\n",
       "    </tr>\n",
       "    <tr>\n",
       "      <th>30</th>\n",
       "      <td>Age: 35 to 49 years</td>\n",
       "      <td>2021</td>\n",
       "      <td>81.2</td>\n",
       "      <td>3.2</td>\n",
       "    </tr>\n",
       "    <tr>\n",
       "      <th>31</th>\n",
       "      <td>Age: 35 to 49 years</td>\n",
       "      <td>2022</td>\n",
       "      <td>82.7</td>\n",
       "      <td>4.8</td>\n",
       "    </tr>\n",
       "    <tr>\n",
       "      <th>292</th>\n",
       "      <td>Age: 50 to 64 years</td>\n",
       "      <td>2010</td>\n",
       "      <td>78.7</td>\n",
       "      <td>5.2</td>\n",
       "    </tr>\n",
       "    <tr>\n",
       "      <th>293</th>\n",
       "      <td>Age: 50 to 64 years</td>\n",
       "      <td>2011</td>\n",
       "      <td>78.9</td>\n",
       "      <td>5.5</td>\n",
       "    </tr>\n",
       "    <tr>\n",
       "      <th>294</th>\n",
       "      <td>Age: 50 to 64 years</td>\n",
       "      <td>2012</td>\n",
       "      <td>78.8</td>\n",
       "      <td>4.7</td>\n",
       "    </tr>\n",
       "    <tr>\n",
       "      <th>295</th>\n",
       "      <td>Age: 50 to 64 years</td>\n",
       "      <td>2013</td>\n",
       "      <td>79.7</td>\n",
       "      <td>4.7</td>\n",
       "    </tr>\n",
       "    <tr>\n",
       "      <th>296</th>\n",
       "      <td>Age: 50 to 64 years</td>\n",
       "      <td>2014</td>\n",
       "      <td>79.9</td>\n",
       "      <td>4.8</td>\n",
       "    </tr>\n",
       "    <tr>\n",
       "      <th>297</th>\n",
       "      <td>Age: 50 to 64 years</td>\n",
       "      <td>2015</td>\n",
       "      <td>78.9</td>\n",
       "      <td>4.8</td>\n",
       "    </tr>\n",
       "    <tr>\n",
       "      <th>298</th>\n",
       "      <td>Age: 50 to 64 years</td>\n",
       "      <td>2016</td>\n",
       "      <td>79.1</td>\n",
       "      <td>4.9</td>\n",
       "    </tr>\n",
       "    <tr>\n",
       "      <th>299</th>\n",
       "      <td>Age: 50 to 64 years</td>\n",
       "      <td>2017</td>\n",
       "      <td>78.4</td>\n",
       "      <td>4.8</td>\n",
       "    </tr>\n",
       "    <tr>\n",
       "      <th>32</th>\n",
       "      <td>Age: 50 to 64 years</td>\n",
       "      <td>2018</td>\n",
       "      <td>83.5</td>\n",
       "      <td>6.0</td>\n",
       "    </tr>\n",
       "    <tr>\n",
       "      <th>33</th>\n",
       "      <td>Age: 50 to 64 years</td>\n",
       "      <td>2019</td>\n",
       "      <td>82.9</td>\n",
       "      <td>6.0</td>\n",
       "    </tr>\n",
       "    <tr>\n",
       "      <th>34</th>\n",
       "      <td>Age: 50 to 64 years</td>\n",
       "      <td>2020</td>\n",
       "      <td>76.8</td>\n",
       "      <td>2.5</td>\n",
       "    </tr>\n",
       "    <tr>\n",
       "      <th>35</th>\n",
       "      <td>Age: 50 to 64 years</td>\n",
       "      <td>2021</td>\n",
       "      <td>80.7</td>\n",
       "      <td>2.4</td>\n",
       "    </tr>\n",
       "    <tr>\n",
       "      <th>36</th>\n",
       "      <td>Age: 50 to 64 years</td>\n",
       "      <td>2022</td>\n",
       "      <td>81.6</td>\n",
       "      <td>3.8</td>\n",
       "    </tr>\n",
       "    <tr>\n",
       "      <th>252</th>\n",
       "      <td>Age: 6 to 11 years</td>\n",
       "      <td>2010</td>\n",
       "      <td>83.7</td>\n",
       "      <td>2.2</td>\n",
       "    </tr>\n",
       "    <tr>\n",
       "      <th>253</th>\n",
       "      <td>Age: 6 to 11 years</td>\n",
       "      <td>2011</td>\n",
       "      <td>84.9</td>\n",
       "      <td>1.7</td>\n",
       "    </tr>\n",
       "    <tr>\n",
       "      <th>254</th>\n",
       "      <td>Age: 6 to 11 years</td>\n",
       "      <td>2012</td>\n",
       "      <td>84.5</td>\n",
       "      <td>1.7</td>\n",
       "    </tr>\n",
       "    <tr>\n",
       "      <th>255</th>\n",
       "      <td>Age: 6 to 11 years</td>\n",
       "      <td>2013</td>\n",
       "      <td>84.6</td>\n",
       "      <td>1.6</td>\n",
       "    </tr>\n",
       "    <tr>\n",
       "      <th>256</th>\n",
       "      <td>Age: 6 to 11 years</td>\n",
       "      <td>2014</td>\n",
       "      <td>85.6</td>\n",
       "      <td>2.1</td>\n",
       "    </tr>\n",
       "    <tr>\n",
       "      <th>257</th>\n",
       "      <td>Age: 6 to 11 years</td>\n",
       "      <td>2015</td>\n",
       "      <td>84.3</td>\n",
       "      <td>1.7</td>\n",
       "    </tr>\n",
       "    <tr>\n",
       "      <th>258</th>\n",
       "      <td>Age: 6 to 11 years</td>\n",
       "      <td>2016</td>\n",
       "      <td>85.2</td>\n",
       "      <td>1.8</td>\n",
       "    </tr>\n",
       "    <tr>\n",
       "      <th>259</th>\n",
       "      <td>Age: 6 to 11 years</td>\n",
       "      <td>2017</td>\n",
       "      <td>83.5</td>\n",
       "      <td>1.8</td>\n",
       "    </tr>\n",
       "    <tr>\n",
       "      <th>7</th>\n",
       "      <td>Age: 6 to 11 years</td>\n",
       "      <td>2018</td>\n",
       "      <td>90.6</td>\n",
       "      <td>2.1</td>\n",
       "    </tr>\n",
       "    <tr>\n",
       "      <th>8</th>\n",
       "      <td>Age: 6 to 11 years</td>\n",
       "      <td>2019</td>\n",
       "      <td>88.9</td>\n",
       "      <td>1.6</td>\n",
       "    </tr>\n",
       "    <tr>\n",
       "      <th>9</th>\n",
       "      <td>Age: 6 to 11 years</td>\n",
       "      <td>2020</td>\n",
       "      <td>80.0</td>\n",
       "      <td>NaN</td>\n",
       "    </tr>\n",
       "    <tr>\n",
       "      <th>10</th>\n",
       "      <td>Age: 6 to 11 years</td>\n",
       "      <td>2021</td>\n",
       "      <td>85.6</td>\n",
       "      <td>NaN</td>\n",
       "    </tr>\n",
       "    <tr>\n",
       "      <th>11</th>\n",
       "      <td>Age: 6 to 11 years</td>\n",
       "      <td>2022</td>\n",
       "      <td>85.2</td>\n",
       "      <td>1.6</td>\n",
       "    </tr>\n",
       "    <tr>\n",
       "      <th>300</th>\n",
       "      <td>Age: 65 to 74 years</td>\n",
       "      <td>2010</td>\n",
       "      <td>73</td>\n",
       "      <td>3.3</td>\n",
       "    </tr>\n",
       "    <tr>\n",
       "      <th>301</th>\n",
       "      <td>Age: 65 to 74 years</td>\n",
       "      <td>2011</td>\n",
       "      <td>72.1</td>\n",
       "      <td>4.1</td>\n",
       "    </tr>\n",
       "    <tr>\n",
       "      <th>302</th>\n",
       "      <td>Age: 65 to 74 years</td>\n",
       "      <td>2012</td>\n",
       "      <td>72.6</td>\n",
       "      <td>3.6</td>\n",
       "    </tr>\n",
       "    <tr>\n",
       "      <th>303</th>\n",
       "      <td>Age: 65 to 74 years</td>\n",
       "      <td>2013</td>\n",
       "      <td>71.9</td>\n",
       "      <td>3.5</td>\n",
       "    </tr>\n",
       "    <tr>\n",
       "      <th>304</th>\n",
       "      <td>Age: 65 to 74 years</td>\n",
       "      <td>2014</td>\n",
       "      <td>73.2</td>\n",
       "      <td>3.3</td>\n",
       "    </tr>\n",
       "    <tr>\n",
       "      <th>305</th>\n",
       "      <td>Age: 65 to 74 years</td>\n",
       "      <td>2015</td>\n",
       "      <td>71.8</td>\n",
       "      <td>3.1</td>\n",
       "    </tr>\n",
       "    <tr>\n",
       "      <th>306</th>\n",
       "      <td>Age: 65 to 74 years</td>\n",
       "      <td>2016</td>\n",
       "      <td>72</td>\n",
       "      <td>3.3</td>\n",
       "    </tr>\n",
       "    <tr>\n",
       "      <th>307</th>\n",
       "      <td>Age: 65 to 74 years</td>\n",
       "      <td>2017</td>\n",
       "      <td>72</td>\n",
       "      <td>3.2</td>\n",
       "    </tr>\n",
       "    <tr>\n",
       "      <th>37</th>\n",
       "      <td>Age: 65 to 74 years</td>\n",
       "      <td>2018</td>\n",
       "      <td>74.9</td>\n",
       "      <td>4.2</td>\n",
       "    </tr>\n",
       "    <tr>\n",
       "      <th>38</th>\n",
       "      <td>Age: 65 to 74 years</td>\n",
       "      <td>2019</td>\n",
       "      <td>73.5</td>\n",
       "      <td>4.2</td>\n",
       "    </tr>\n",
       "    <tr>\n",
       "      <th>39</th>\n",
       "      <td>Age: 65 to 74 years</td>\n",
       "      <td>2020</td>\n",
       "      <td>67.8</td>\n",
       "      <td>1.6</td>\n",
       "    </tr>\n",
       "    <tr>\n",
       "      <th>40</th>\n",
       "      <td>Age: 65 to 74 years</td>\n",
       "      <td>2021</td>\n",
       "      <td>74.3</td>\n",
       "      <td>1.8</td>\n",
       "    </tr>\n",
       "    <tr>\n",
       "      <th>41</th>\n",
       "      <td>Age: 65 to 74 years</td>\n",
       "      <td>2022</td>\n",
       "      <td>76.7</td>\n",
       "      <td>2.2</td>\n",
       "    </tr>\n",
       "    <tr>\n",
       "      <th>308</th>\n",
       "      <td>Age: 75 years or older</td>\n",
       "      <td>2010</td>\n",
       "      <td>53.5</td>\n",
       "      <td>2.7</td>\n",
       "    </tr>\n",
       "    <tr>\n",
       "      <th>309</th>\n",
       "      <td>Age: 75 years or older</td>\n",
       "      <td>2011</td>\n",
       "      <td>54</td>\n",
       "      <td>2.6</td>\n",
       "    </tr>\n",
       "    <tr>\n",
       "      <th>310</th>\n",
       "      <td>Age: 75 years or older</td>\n",
       "      <td>2012</td>\n",
       "      <td>55.2</td>\n",
       "      <td>2.8</td>\n",
       "    </tr>\n",
       "    <tr>\n",
       "      <th>311</th>\n",
       "      <td>Age: 75 years or older</td>\n",
       "      <td>2013</td>\n",
       "      <td>55.9</td>\n",
       "      <td>3.2</td>\n",
       "    </tr>\n",
       "    <tr>\n",
       "      <th>312</th>\n",
       "      <td>Age: 75 years or older</td>\n",
       "      <td>2014</td>\n",
       "      <td>58.6</td>\n",
       "      <td>2.6</td>\n",
       "    </tr>\n",
       "    <tr>\n",
       "      <th>313</th>\n",
       "      <td>Age: 75 years or older</td>\n",
       "      <td>2015</td>\n",
       "      <td>58.2</td>\n",
       "      <td>3</td>\n",
       "    </tr>\n",
       "    <tr>\n",
       "      <th>314</th>\n",
       "      <td>Age: 75 years or older</td>\n",
       "      <td>2016</td>\n",
       "      <td>56.2</td>\n",
       "      <td>2.6</td>\n",
       "    </tr>\n",
       "    <tr>\n",
       "      <th>315</th>\n",
       "      <td>Age: 75 years or older</td>\n",
       "      <td>2017</td>\n",
       "      <td>56.2</td>\n",
       "      <td>2.5</td>\n",
       "    </tr>\n",
       "    <tr>\n",
       "      <th>42</th>\n",
       "      <td>Age: 75 years or older</td>\n",
       "      <td>2018</td>\n",
       "      <td>59.8</td>\n",
       "      <td>3.2</td>\n",
       "    </tr>\n",
       "    <tr>\n",
       "      <th>43</th>\n",
       "      <td>Age: 75 years or older</td>\n",
       "      <td>2019</td>\n",
       "      <td>59.4</td>\n",
       "      <td>2.9</td>\n",
       "    </tr>\n",
       "    <tr>\n",
       "      <th>44</th>\n",
       "      <td>Age: 75 years or older</td>\n",
       "      <td>2020</td>\n",
       "      <td>51.6</td>\n",
       "      <td>1.1</td>\n",
       "    </tr>\n",
       "    <tr>\n",
       "      <th>45</th>\n",
       "      <td>Age: 75 years or older</td>\n",
       "      <td>2021</td>\n",
       "      <td>59.7</td>\n",
       "      <td>1.2</td>\n",
       "    </tr>\n",
       "    <tr>\n",
       "      <th>46</th>\n",
       "      <td>Age: 75 years or older</td>\n",
       "      <td>2022</td>\n",
       "      <td>62.6</td>\n",
       "      <td>1.8</td>\n",
       "    </tr>\n",
       "    <tr>\n",
       "      <th>172</th>\n",
       "      <td>Background: Dutch</td>\n",
       "      <td>2010</td>\n",
       "      <td>80.6</td>\n",
       "      <td>5.5</td>\n",
       "    </tr>\n",
       "    <tr>\n",
       "      <th>173</th>\n",
       "      <td>Background: Dutch</td>\n",
       "      <td>2011</td>\n",
       "      <td>80.4</td>\n",
       "      <td>5.8</td>\n",
       "    </tr>\n",
       "    <tr>\n",
       "      <th>174</th>\n",
       "      <td>Background: Dutch</td>\n",
       "      <td>2012</td>\n",
       "      <td>80.5</td>\n",
       "      <td>5.6</td>\n",
       "    </tr>\n",
       "    <tr>\n",
       "      <th>175</th>\n",
       "      <td>Background: Dutch</td>\n",
       "      <td>2013</td>\n",
       "      <td>80.3</td>\n",
       "      <td>5.8</td>\n",
       "    </tr>\n",
       "    <tr>\n",
       "      <th>176</th>\n",
       "      <td>Background: Dutch</td>\n",
       "      <td>2014</td>\n",
       "      <td>81</td>\n",
       "      <td>5.5</td>\n",
       "    </tr>\n",
       "    <tr>\n",
       "      <th>177</th>\n",
       "      <td>Background: Dutch</td>\n",
       "      <td>2015</td>\n",
       "      <td>79.9</td>\n",
       "      <td>5.7</td>\n",
       "    </tr>\n",
       "    <tr>\n",
       "      <th>178</th>\n",
       "      <td>Background: Dutch</td>\n",
       "      <td>2016</td>\n",
       "      <td>79.9</td>\n",
       "      <td>5.6</td>\n",
       "    </tr>\n",
       "    <tr>\n",
       "      <th>179</th>\n",
       "      <td>Background: Dutch</td>\n",
       "      <td>2017</td>\n",
       "      <td>79.4</td>\n",
       "      <td>5.9</td>\n",
       "    </tr>\n",
       "    <tr>\n",
       "      <th>188</th>\n",
       "      <td>Background: non-western</td>\n",
       "      <td>2010</td>\n",
       "      <td>75.7</td>\n",
       "      <td>14.5</td>\n",
       "    </tr>\n",
       "    <tr>\n",
       "      <th>189</th>\n",
       "      <td>Background: non-western</td>\n",
       "      <td>2011</td>\n",
       "      <td>79</td>\n",
       "      <td>15.6</td>\n",
       "    </tr>\n",
       "    <tr>\n",
       "      <th>190</th>\n",
       "      <td>Background: non-western</td>\n",
       "      <td>2012</td>\n",
       "      <td>75.5</td>\n",
       "      <td>13.5</td>\n",
       "    </tr>\n",
       "    <tr>\n",
       "      <th>191</th>\n",
       "      <td>Background: non-western</td>\n",
       "      <td>2013</td>\n",
       "      <td>78</td>\n",
       "      <td>14.6</td>\n",
       "    </tr>\n",
       "    <tr>\n",
       "      <th>192</th>\n",
       "      <td>Background: non-western</td>\n",
       "      <td>2014</td>\n",
       "      <td>77.5</td>\n",
       "      <td>13.3</td>\n",
       "    </tr>\n",
       "    <tr>\n",
       "      <th>193</th>\n",
       "      <td>Background: non-western</td>\n",
       "      <td>2015</td>\n",
       "      <td>76.5</td>\n",
       "      <td>14.1</td>\n",
       "    </tr>\n",
       "    <tr>\n",
       "      <th>194</th>\n",
       "      <td>Background: non-western</td>\n",
       "      <td>2016</td>\n",
       "      <td>76</td>\n",
       "      <td>13.8</td>\n",
       "    </tr>\n",
       "    <tr>\n",
       "      <th>195</th>\n",
       "      <td>Background: non-western</td>\n",
       "      <td>2017</td>\n",
       "      <td>74.3</td>\n",
       "      <td>13</td>\n",
       "    </tr>\n",
       "    <tr>\n",
       "      <th>180</th>\n",
       "      <td>Background: western</td>\n",
       "      <td>2010</td>\n",
       "      <td>77.6</td>\n",
       "      <td>8.3</td>\n",
       "    </tr>\n",
       "    <tr>\n",
       "      <th>181</th>\n",
       "      <td>Background: western</td>\n",
       "      <td>2011</td>\n",
       "      <td>77.1</td>\n",
       "      <td>8.5</td>\n",
       "    </tr>\n",
       "    <tr>\n",
       "      <th>182</th>\n",
       "      <td>Background: western</td>\n",
       "      <td>2012</td>\n",
       "      <td>76.3</td>\n",
       "      <td>7.2</td>\n",
       "    </tr>\n",
       "    <tr>\n",
       "      <th>183</th>\n",
       "      <td>Background: western</td>\n",
       "      <td>2013</td>\n",
       "      <td>77.7</td>\n",
       "      <td>8</td>\n",
       "    </tr>\n",
       "    <tr>\n",
       "      <th>184</th>\n",
       "      <td>Background: western</td>\n",
       "      <td>2014</td>\n",
       "      <td>77.5</td>\n",
       "      <td>8.8</td>\n",
       "    </tr>\n",
       "    <tr>\n",
       "      <th>185</th>\n",
       "      <td>Background: western</td>\n",
       "      <td>2015</td>\n",
       "      <td>77</td>\n",
       "      <td>7.5</td>\n",
       "    </tr>\n",
       "    <tr>\n",
       "      <th>186</th>\n",
       "      <td>Background: western</td>\n",
       "      <td>2016</td>\n",
       "      <td>75.8</td>\n",
       "      <td>7.9</td>\n",
       "    </tr>\n",
       "    <tr>\n",
       "      <th>187</th>\n",
       "      <td>Background: western</td>\n",
       "      <td>2017</td>\n",
       "      <td>75.8</td>\n",
       "      <td>7.8</td>\n",
       "    </tr>\n",
       "    <tr>\n",
       "      <th>316</th>\n",
       "      <td>Drivers license, no passenger car in hh</td>\n",
       "      <td>2010</td>\n",
       "      <td>77.2</td>\n",
       "      <td>10.4</td>\n",
       "    </tr>\n",
       "    <tr>\n",
       "      <th>317</th>\n",
       "      <td>Drivers license, no passenger car in hh</td>\n",
       "      <td>2011</td>\n",
       "      <td>78</td>\n",
       "      <td>10.7</td>\n",
       "    </tr>\n",
       "    <tr>\n",
       "      <th>318</th>\n",
       "      <td>Drivers license, no passenger car in hh</td>\n",
       "      <td>2012</td>\n",
       "      <td>77.9</td>\n",
       "      <td>10.4</td>\n",
       "    </tr>\n",
       "    <tr>\n",
       "      <th>319</th>\n",
       "      <td>Drivers license, no passenger car in hh</td>\n",
       "      <td>2013</td>\n",
       "      <td>77.6</td>\n",
       "      <td>10.7</td>\n",
       "    </tr>\n",
       "    <tr>\n",
       "      <th>320</th>\n",
       "      <td>Drivers license, no passenger car in hh</td>\n",
       "      <td>2014</td>\n",
       "      <td>77.9</td>\n",
       "      <td>10.2</td>\n",
       "    </tr>\n",
       "    <tr>\n",
       "      <th>321</th>\n",
       "      <td>Drivers license, no passenger car in hh</td>\n",
       "      <td>2015</td>\n",
       "      <td>76.9</td>\n",
       "      <td>10.7</td>\n",
       "    </tr>\n",
       "    <tr>\n",
       "      <th>322</th>\n",
       "      <td>Drivers license, no passenger car in hh</td>\n",
       "      <td>2016</td>\n",
       "      <td>76.5</td>\n",
       "      <td>10.5</td>\n",
       "    </tr>\n",
       "    <tr>\n",
       "      <th>323</th>\n",
       "      <td>Drivers license, no passenger car in hh</td>\n",
       "      <td>2017</td>\n",
       "      <td>75.5</td>\n",
       "      <td>10.7</td>\n",
       "    </tr>\n",
       "    <tr>\n",
       "      <th>324</th>\n",
       "      <td>Drivers license, passenger car in hh</td>\n",
       "      <td>2010</td>\n",
       "      <td>79.7</td>\n",
       "      <td>8.4</td>\n",
       "    </tr>\n",
       "    <tr>\n",
       "      <th>325</th>\n",
       "      <td>Drivers license, passenger car in hh</td>\n",
       "      <td>2011</td>\n",
       "      <td>80.2</td>\n",
       "      <td>9.2</td>\n",
       "    </tr>\n",
       "    <tr>\n",
       "      <th>326</th>\n",
       "      <td>Drivers license, passenger car in hh</td>\n",
       "      <td>2012</td>\n",
       "      <td>78.9</td>\n",
       "      <td>8.8</td>\n",
       "    </tr>\n",
       "    <tr>\n",
       "      <th>327</th>\n",
       "      <td>Drivers license, passenger car in hh</td>\n",
       "      <td>2013</td>\n",
       "      <td>79.2</td>\n",
       "      <td>8.9</td>\n",
       "    </tr>\n",
       "    <tr>\n",
       "      <th>328</th>\n",
       "      <td>Drivers license, passenger car in hh</td>\n",
       "      <td>2014</td>\n",
       "      <td>79.7</td>\n",
       "      <td>9</td>\n",
       "    </tr>\n",
       "    <tr>\n",
       "      <th>329</th>\n",
       "      <td>Drivers license, passenger car in hh</td>\n",
       "      <td>2015</td>\n",
       "      <td>79.4</td>\n",
       "      <td>9</td>\n",
       "    </tr>\n",
       "    <tr>\n",
       "      <th>330</th>\n",
       "      <td>Drivers license, passenger car in hh</td>\n",
       "      <td>2016</td>\n",
       "      <td>78.5</td>\n",
       "      <td>8.6</td>\n",
       "    </tr>\n",
       "    <tr>\n",
       "      <th>331</th>\n",
       "      <td>Drivers license, passenger car in hh</td>\n",
       "      <td>2017</td>\n",
       "      <td>78.1</td>\n",
       "      <td>9.4</td>\n",
       "    </tr>\n",
       "    <tr>\n",
       "      <th>332</th>\n",
       "      <td>Drivers license, passenger car, in own name</td>\n",
       "      <td>2010</td>\n",
       "      <td>82.2</td>\n",
       "      <td>3.1</td>\n",
       "    </tr>\n",
       "    <tr>\n",
       "      <th>333</th>\n",
       "      <td>Drivers license, passenger car, in own name</td>\n",
       "      <td>2011</td>\n",
       "      <td>81.6</td>\n",
       "      <td>3.2</td>\n",
       "    </tr>\n",
       "    <tr>\n",
       "      <th>334</th>\n",
       "      <td>Drivers license, passenger car, in own name</td>\n",
       "      <td>2012</td>\n",
       "      <td>81.2</td>\n",
       "      <td>2.8</td>\n",
       "    </tr>\n",
       "    <tr>\n",
       "      <th>335</th>\n",
       "      <td>Drivers license, passenger car, in own name</td>\n",
       "      <td>2013</td>\n",
       "      <td>81.9</td>\n",
       "      <td>3.2</td>\n",
       "    </tr>\n",
       "    <tr>\n",
       "      <th>336</th>\n",
       "      <td>Drivers license, passenger car, in own name</td>\n",
       "      <td>2014</td>\n",
       "      <td>82.4</td>\n",
       "      <td>2.9</td>\n",
       "    </tr>\n",
       "    <tr>\n",
       "      <th>337</th>\n",
       "      <td>Drivers license, passenger car, in own name</td>\n",
       "      <td>2015</td>\n",
       "      <td>81.2</td>\n",
       "      <td>2.9</td>\n",
       "    </tr>\n",
       "    <tr>\n",
       "      <th>338</th>\n",
       "      <td>Drivers license, passenger car, in own name</td>\n",
       "      <td>2016</td>\n",
       "      <td>81.3</td>\n",
       "      <td>3.1</td>\n",
       "    </tr>\n",
       "    <tr>\n",
       "      <th>339</th>\n",
       "      <td>Drivers license, passenger car, in own name</td>\n",
       "      <td>2017</td>\n",
       "      <td>81</td>\n",
       "      <td>3.1</td>\n",
       "    </tr>\n",
       "    <tr>\n",
       "      <th>47</th>\n",
       "      <td>Equivalised income: 1st 20%-group</td>\n",
       "      <td>2018</td>\n",
       "      <td>77.1</td>\n",
       "      <td>12.5</td>\n",
       "    </tr>\n",
       "    <tr>\n",
       "      <th>48</th>\n",
       "      <td>Equivalised income: 1st 20%-group</td>\n",
       "      <td>2019</td>\n",
       "      <td>74.1</td>\n",
       "      <td>12.1</td>\n",
       "    </tr>\n",
       "    <tr>\n",
       "      <th>49</th>\n",
       "      <td>Equivalised income: 1st 20%-group</td>\n",
       "      <td>2020</td>\n",
       "      <td>62.8</td>\n",
       "      <td>5.6</td>\n",
       "    </tr>\n",
       "    <tr>\n",
       "      <th>50</th>\n",
       "      <td>Equivalised income: 1st 20%-group</td>\n",
       "      <td>2021</td>\n",
       "      <td>70.0</td>\n",
       "      <td>7.0</td>\n",
       "    </tr>\n",
       "    <tr>\n",
       "      <th>51</th>\n",
       "      <td>Equivalised income: 1st 20%-group</td>\n",
       "      <td>2022</td>\n",
       "      <td>72.6</td>\n",
       "      <td>9.5</td>\n",
       "    </tr>\n",
       "    <tr>\n",
       "      <th>420</th>\n",
       "      <td>Equivalised income: 1th 20%-group</td>\n",
       "      <td>2010</td>\n",
       "      <td>75.2</td>\n",
       "      <td>8.5</td>\n",
       "    </tr>\n",
       "    <tr>\n",
       "      <th>421</th>\n",
       "      <td>Equivalised income: 1th 20%-group</td>\n",
       "      <td>2011</td>\n",
       "      <td>76</td>\n",
       "      <td>9.2</td>\n",
       "    </tr>\n",
       "    <tr>\n",
       "      <th>422</th>\n",
       "      <td>Equivalised income: 1th 20%-group</td>\n",
       "      <td>2012</td>\n",
       "      <td>75.7</td>\n",
       "      <td>9</td>\n",
       "    </tr>\n",
       "    <tr>\n",
       "      <th>423</th>\n",
       "      <td>Equivalised income: 1th 20%-group</td>\n",
       "      <td>2013</td>\n",
       "      <td>76.5</td>\n",
       "      <td>9.8</td>\n",
       "    </tr>\n",
       "    <tr>\n",
       "      <th>424</th>\n",
       "      <td>Equivalised income: 1th 20%-group</td>\n",
       "      <td>2014</td>\n",
       "      <td>76.5</td>\n",
       "      <td>8.9</td>\n",
       "    </tr>\n",
       "    <tr>\n",
       "      <th>425</th>\n",
       "      <td>Equivalised income: 1th 20%-group</td>\n",
       "      <td>2015</td>\n",
       "      <td>75.5</td>\n",
       "      <td>9.7</td>\n",
       "    </tr>\n",
       "    <tr>\n",
       "      <th>426</th>\n",
       "      <td>Equivalised income: 1th 20%-group</td>\n",
       "      <td>2016</td>\n",
       "      <td>74.6</td>\n",
       "      <td>8.9</td>\n",
       "    </tr>\n",
       "    <tr>\n",
       "      <th>427</th>\n",
       "      <td>Equivalised income: 1th 20%-group</td>\n",
       "      <td>2017</td>\n",
       "      <td>74.2</td>\n",
       "      <td>10.6</td>\n",
       "    </tr>\n",
       "    <tr>\n",
       "      <th>52</th>\n",
       "      <td>Equivalised income: 2nd 20%-group</td>\n",
       "      <td>2018</td>\n",
       "      <td>76.6</td>\n",
       "      <td>7.4</td>\n",
       "    </tr>\n",
       "    <tr>\n",
       "      <th>53</th>\n",
       "      <td>Equivalised income: 2nd 20%-group</td>\n",
       "      <td>2019</td>\n",
       "      <td>76.3</td>\n",
       "      <td>7.2</td>\n",
       "    </tr>\n",
       "    <tr>\n",
       "      <th>54</th>\n",
       "      <td>Equivalised income: 2nd 20%-group</td>\n",
       "      <td>2020</td>\n",
       "      <td>67.1</td>\n",
       "      <td>3.5</td>\n",
       "    </tr>\n",
       "    <tr>\n",
       "      <th>55</th>\n",
       "      <td>Equivalised income: 2nd 20%-group</td>\n",
       "      <td>2021</td>\n",
       "      <td>73.3</td>\n",
       "      <td>4.3</td>\n",
       "    </tr>\n",
       "    <tr>\n",
       "      <th>56</th>\n",
       "      <td>Equivalised income: 2nd 20%-group</td>\n",
       "      <td>2022</td>\n",
       "      <td>75.8</td>\n",
       "      <td>5.6</td>\n",
       "    </tr>\n",
       "    <tr>\n",
       "      <th>428</th>\n",
       "      <td>Equivalised income: 2th 20%-group</td>\n",
       "      <td>2010</td>\n",
       "      <td>78.6</td>\n",
       "      <td>6.3</td>\n",
       "    </tr>\n",
       "    <tr>\n",
       "      <th>429</th>\n",
       "      <td>Equivalised income: 2th 20%-group</td>\n",
       "      <td>2011</td>\n",
       "      <td>78.4</td>\n",
       "      <td>5.8</td>\n",
       "    </tr>\n",
       "    <tr>\n",
       "      <th>430</th>\n",
       "      <td>Equivalised income: 2th 20%-group</td>\n",
       "      <td>2012</td>\n",
       "      <td>78.2</td>\n",
       "      <td>5.9</td>\n",
       "    </tr>\n",
       "    <tr>\n",
       "      <th>431</th>\n",
       "      <td>Equivalised income: 2th 20%-group</td>\n",
       "      <td>2013</td>\n",
       "      <td>78.6</td>\n",
       "      <td>5.6</td>\n",
       "    </tr>\n",
       "    <tr>\n",
       "      <th>432</th>\n",
       "      <td>Equivalised income: 2th 20%-group</td>\n",
       "      <td>2014</td>\n",
       "      <td>78</td>\n",
       "      <td>5.1</td>\n",
       "    </tr>\n",
       "    <tr>\n",
       "      <th>433</th>\n",
       "      <td>Equivalised income: 2th 20%-group</td>\n",
       "      <td>2015</td>\n",
       "      <td>76.4</td>\n",
       "      <td>5.4</td>\n",
       "    </tr>\n",
       "    <tr>\n",
       "      <th>434</th>\n",
       "      <td>Equivalised income: 2th 20%-group</td>\n",
       "      <td>2016</td>\n",
       "      <td>77</td>\n",
       "      <td>5.3</td>\n",
       "    </tr>\n",
       "    <tr>\n",
       "      <th>435</th>\n",
       "      <td>Equivalised income: 2th 20%-group</td>\n",
       "      <td>2017</td>\n",
       "      <td>73.5</td>\n",
       "      <td>6.2</td>\n",
       "    </tr>\n",
       "    <tr>\n",
       "      <th>57</th>\n",
       "      <td>Equivalised income: 3rd 20%-group</td>\n",
       "      <td>2018</td>\n",
       "      <td>85.3</td>\n",
       "      <td>7.7</td>\n",
       "    </tr>\n",
       "    <tr>\n",
       "      <th>58</th>\n",
       "      <td>Equivalised income: 3rd 20%-group</td>\n",
       "      <td>2019</td>\n",
       "      <td>83.7</td>\n",
       "      <td>8.1</td>\n",
       "    </tr>\n",
       "    <tr>\n",
       "      <th>59</th>\n",
       "      <td>Equivalised income: 3rd 20%-group</td>\n",
       "      <td>2020</td>\n",
       "      <td>75.9</td>\n",
       "      <td>3.8</td>\n",
       "    </tr>\n",
       "    <tr>\n",
       "      <th>60</th>\n",
       "      <td>Equivalised income: 3rd 20%-group</td>\n",
       "      <td>2021</td>\n",
       "      <td>80.0</td>\n",
       "      <td>3.8</td>\n",
       "    </tr>\n",
       "    <tr>\n",
       "      <th>61</th>\n",
       "      <td>Equivalised income: 3rd 20%-group</td>\n",
       "      <td>2022</td>\n",
       "      <td>81.8</td>\n",
       "      <td>5.0</td>\n",
       "    </tr>\n",
       "    <tr>\n",
       "      <th>436</th>\n",
       "      <td>Equivalised income: 3th 20%-group</td>\n",
       "      <td>2010</td>\n",
       "      <td>81.6</td>\n",
       "      <td>5.9</td>\n",
       "    </tr>\n",
       "    <tr>\n",
       "      <th>437</th>\n",
       "      <td>Equivalised income: 3th 20%-group</td>\n",
       "      <td>2011</td>\n",
       "      <td>81.5</td>\n",
       "      <td>6.7</td>\n",
       "    </tr>\n",
       "    <tr>\n",
       "      <th>438</th>\n",
       "      <td>Equivalised income: 3th 20%-group</td>\n",
       "      <td>2012</td>\n",
       "      <td>80.3</td>\n",
       "      <td>5.8</td>\n",
       "    </tr>\n",
       "    <tr>\n",
       "      <th>439</th>\n",
       "      <td>Equivalised income: 3th 20%-group</td>\n",
       "      <td>2013</td>\n",
       "      <td>80.6</td>\n",
       "      <td>6.2</td>\n",
       "    </tr>\n",
       "    <tr>\n",
       "      <th>440</th>\n",
       "      <td>Equivalised income: 3th 20%-group</td>\n",
       "      <td>2014</td>\n",
       "      <td>82.3</td>\n",
       "      <td>6.4</td>\n",
       "    </tr>\n",
       "    <tr>\n",
       "      <th>441</th>\n",
       "      <td>Equivalised income: 3th 20%-group</td>\n",
       "      <td>2015</td>\n",
       "      <td>81.5</td>\n",
       "      <td>5.7</td>\n",
       "    </tr>\n",
       "    <tr>\n",
       "      <th>442</th>\n",
       "      <td>Equivalised income: 3th 20%-group</td>\n",
       "      <td>2016</td>\n",
       "      <td>81.1</td>\n",
       "      <td>6</td>\n",
       "    </tr>\n",
       "    <tr>\n",
       "      <th>443</th>\n",
       "      <td>Equivalised income: 3th 20%-group</td>\n",
       "      <td>2017</td>\n",
       "      <td>79.7</td>\n",
       "      <td>5.9</td>\n",
       "    </tr>\n",
       "    <tr>\n",
       "      <th>444</th>\n",
       "      <td>Equivalised income: 4th 20%-group</td>\n",
       "      <td>2010</td>\n",
       "      <td>83.4</td>\n",
       "      <td>6.7</td>\n",
       "    </tr>\n",
       "    <tr>\n",
       "      <th>445</th>\n",
       "      <td>Equivalised income: 4th 20%-group</td>\n",
       "      <td>2011</td>\n",
       "      <td>82.1</td>\n",
       "      <td>6.7</td>\n",
       "    </tr>\n",
       "    <tr>\n",
       "      <th>446</th>\n",
       "      <td>Equivalised income: 4th 20%-group</td>\n",
       "      <td>2012</td>\n",
       "      <td>83.1</td>\n",
       "      <td>6.3</td>\n",
       "    </tr>\n",
       "    <tr>\n",
       "      <th>447</th>\n",
       "      <td>Equivalised income: 4th 20%-group</td>\n",
       "      <td>2013</td>\n",
       "      <td>82</td>\n",
       "      <td>6.1</td>\n",
       "    </tr>\n",
       "    <tr>\n",
       "      <th>448</th>\n",
       "      <td>Equivalised income: 4th 20%-group</td>\n",
       "      <td>2014</td>\n",
       "      <td>82.9</td>\n",
       "      <td>5.9</td>\n",
       "    </tr>\n",
       "    <tr>\n",
       "      <th>449</th>\n",
       "      <td>Equivalised income: 4th 20%-group</td>\n",
       "      <td>2015</td>\n",
       "      <td>82.5</td>\n",
       "      <td>6.7</td>\n",
       "    </tr>\n",
       "    <tr>\n",
       "      <th>450</th>\n",
       "      <td>Equivalised income: 4th 20%-group</td>\n",
       "      <td>2016</td>\n",
       "      <td>82.4</td>\n",
       "      <td>6.2</td>\n",
       "    </tr>\n",
       "    <tr>\n",
       "      <th>451</th>\n",
       "      <td>Equivalised income: 4th 20%-group</td>\n",
       "      <td>2017</td>\n",
       "      <td>81</td>\n",
       "      <td>6.1</td>\n",
       "    </tr>\n",
       "    <tr>\n",
       "      <th>62</th>\n",
       "      <td>Equivalised income: 4th 20%-group</td>\n",
       "      <td>2018</td>\n",
       "      <td>86.8</td>\n",
       "      <td>7.5</td>\n",
       "    </tr>\n",
       "    <tr>\n",
       "      <th>63</th>\n",
       "      <td>Equivalised income: 4th 20%-group</td>\n",
       "      <td>2019</td>\n",
       "      <td>86.3</td>\n",
       "      <td>8.1</td>\n",
       "    </tr>\n",
       "    <tr>\n",
       "      <th>64</th>\n",
       "      <td>Equivalised income: 4th 20%-group</td>\n",
       "      <td>2020</td>\n",
       "      <td>79.5</td>\n",
       "      <td>3.3</td>\n",
       "    </tr>\n",
       "    <tr>\n",
       "      <th>65</th>\n",
       "      <td>Equivalised income: 4th 20%-group</td>\n",
       "      <td>2021</td>\n",
       "      <td>82.6</td>\n",
       "      <td>3.3</td>\n",
       "    </tr>\n",
       "    <tr>\n",
       "      <th>66</th>\n",
       "      <td>Equivalised income: 4th 20%-group</td>\n",
       "      <td>2022</td>\n",
       "      <td>83.8</td>\n",
       "      <td>5.3</td>\n",
       "    </tr>\n",
       "    <tr>\n",
       "      <th>452</th>\n",
       "      <td>Equivalised income: 5th 20%-group</td>\n",
       "      <td>2010</td>\n",
       "      <td>81.6</td>\n",
       "      <td>6</td>\n",
       "    </tr>\n",
       "    <tr>\n",
       "      <th>453</th>\n",
       "      <td>Equivalised income: 5th 20%-group</td>\n",
       "      <td>2011</td>\n",
       "      <td>82.8</td>\n",
       "      <td>6.8</td>\n",
       "    </tr>\n",
       "    <tr>\n",
       "      <th>454</th>\n",
       "      <td>Equivalised income: 5th 20%-group</td>\n",
       "      <td>2012</td>\n",
       "      <td>81.9</td>\n",
       "      <td>5.9</td>\n",
       "    </tr>\n",
       "    <tr>\n",
       "      <th>455</th>\n",
       "      <td>Equivalised income: 5th 20%-group</td>\n",
       "      <td>2013</td>\n",
       "      <td>82.5</td>\n",
       "      <td>6.9</td>\n",
       "    </tr>\n",
       "    <tr>\n",
       "      <th>456</th>\n",
       "      <td>Equivalised income: 5th 20%-group</td>\n",
       "      <td>2014</td>\n",
       "      <td>83.4</td>\n",
       "      <td>6.4</td>\n",
       "    </tr>\n",
       "    <tr>\n",
       "      <th>457</th>\n",
       "      <td>Equivalised income: 5th 20%-group</td>\n",
       "      <td>2015</td>\n",
       "      <td>82</td>\n",
       "      <td>6.4</td>\n",
       "    </tr>\n",
       "    <tr>\n",
       "      <th>458</th>\n",
       "      <td>Equivalised income: 5th 20%-group</td>\n",
       "      <td>2016</td>\n",
       "      <td>82.3</td>\n",
       "      <td>6.9</td>\n",
       "    </tr>\n",
       "    <tr>\n",
       "      <th>459</th>\n",
       "      <td>Equivalised income: 5th 20%-group</td>\n",
       "      <td>2017</td>\n",
       "      <td>82.1</td>\n",
       "      <td>7.1</td>\n",
       "    </tr>\n",
       "    <tr>\n",
       "      <th>67</th>\n",
       "      <td>Equivalised income: 5th 20%-group</td>\n",
       "      <td>2018</td>\n",
       "      <td>86.6</td>\n",
       "      <td>8.1</td>\n",
       "    </tr>\n",
       "    <tr>\n",
       "      <th>68</th>\n",
       "      <td>Equivalised income: 5th 20%-group</td>\n",
       "      <td>2019</td>\n",
       "      <td>86.3</td>\n",
       "      <td>7.6</td>\n",
       "    </tr>\n",
       "    <tr>\n",
       "      <th>69</th>\n",
       "      <td>Equivalised income: 5th 20%-group</td>\n",
       "      <td>2020</td>\n",
       "      <td>80.0</td>\n",
       "      <td>3.4</td>\n",
       "    </tr>\n",
       "    <tr>\n",
       "      <th>70</th>\n",
       "      <td>Equivalised income: 5th 20%-group</td>\n",
       "      <td>2021</td>\n",
       "      <td>81.7</td>\n",
       "      <td>3.1</td>\n",
       "    </tr>\n",
       "    <tr>\n",
       "      <th>71</th>\n",
       "      <td>Equivalised income: 5th 20%-group</td>\n",
       "      <td>2022</td>\n",
       "      <td>82.8</td>\n",
       "      <td>5.0</td>\n",
       "    </tr>\n",
       "    <tr>\n",
       "      <th>204</th>\n",
       "      <td>Income level: 10 000 to 20 000 euros</td>\n",
       "      <td>2010</td>\n",
       "      <td>76</td>\n",
       "      <td>6.7</td>\n",
       "    </tr>\n",
       "    <tr>\n",
       "      <th>205</th>\n",
       "      <td>Income level: 10 000 to 20 000 euros</td>\n",
       "      <td>2011</td>\n",
       "      <td>76.5</td>\n",
       "      <td>6.8</td>\n",
       "    </tr>\n",
       "    <tr>\n",
       "      <th>206</th>\n",
       "      <td>Income level: 10 000 to 20 000 euros</td>\n",
       "      <td>2012</td>\n",
       "      <td>76.2</td>\n",
       "      <td>6.7</td>\n",
       "    </tr>\n",
       "    <tr>\n",
       "      <th>207</th>\n",
       "      <td>Income level: 10 000 to 20 000 euros</td>\n",
       "      <td>2013</td>\n",
       "      <td>76.8</td>\n",
       "      <td>6.8</td>\n",
       "    </tr>\n",
       "    <tr>\n",
       "      <th>208</th>\n",
       "      <td>Income level: 10 000 to 20 000 euros</td>\n",
       "      <td>2014</td>\n",
       "      <td>76.2</td>\n",
       "      <td>6.3</td>\n",
       "    </tr>\n",
       "    <tr>\n",
       "      <th>209</th>\n",
       "      <td>Income level: 10 000 to 20 000 euros</td>\n",
       "      <td>2015</td>\n",
       "      <td>74.7</td>\n",
       "      <td>7</td>\n",
       "    </tr>\n",
       "    <tr>\n",
       "      <th>210</th>\n",
       "      <td>Income level: 10 000 to 20 000 euros</td>\n",
       "      <td>2016</td>\n",
       "      <td>73.7</td>\n",
       "      <td>7.4</td>\n",
       "    </tr>\n",
       "    <tr>\n",
       "      <th>211</th>\n",
       "      <td>Income level: 10 000 to 20 000 euros</td>\n",
       "      <td>2017</td>\n",
       "      <td>71.8</td>\n",
       "      <td>7.4</td>\n",
       "    </tr>\n",
       "    <tr>\n",
       "      <th>212</th>\n",
       "      <td>Income level: 20 000 to 30 000 euros</td>\n",
       "      <td>2010</td>\n",
       "      <td>82.1</td>\n",
       "      <td>6.2</td>\n",
       "    </tr>\n",
       "    <tr>\n",
       "      <th>213</th>\n",
       "      <td>Income level: 20 000 to 30 000 euros</td>\n",
       "      <td>2011</td>\n",
       "      <td>81.6</td>\n",
       "      <td>6.4</td>\n",
       "    </tr>\n",
       "    <tr>\n",
       "      <th>214</th>\n",
       "      <td>Income level: 20 000 to 30 000 euros</td>\n",
       "      <td>2012</td>\n",
       "      <td>81.2</td>\n",
       "      <td>6.1</td>\n",
       "    </tr>\n",
       "    <tr>\n",
       "      <th>215</th>\n",
       "      <td>Income level: 20 000 to 30 000 euros</td>\n",
       "      <td>2013</td>\n",
       "      <td>81</td>\n",
       "      <td>6.1</td>\n",
       "    </tr>\n",
       "    <tr>\n",
       "      <th>216</th>\n",
       "      <td>Income level: 20 000 to 30 000 euros</td>\n",
       "      <td>2014</td>\n",
       "      <td>82.1</td>\n",
       "      <td>6.1</td>\n",
       "    </tr>\n",
       "    <tr>\n",
       "      <th>217</th>\n",
       "      <td>Income level: 20 000 to 30 000 euros</td>\n",
       "      <td>2015</td>\n",
       "      <td>81.1</td>\n",
       "      <td>5.9</td>\n",
       "    </tr>\n",
       "    <tr>\n",
       "      <th>218</th>\n",
       "      <td>Income level: 20 000 to 30 000 euros</td>\n",
       "      <td>2016</td>\n",
       "      <td>79.9</td>\n",
       "      <td>5.7</td>\n",
       "    </tr>\n",
       "    <tr>\n",
       "      <th>219</th>\n",
       "      <td>Income level: 20 000 to 30 000 euros</td>\n",
       "      <td>2017</td>\n",
       "      <td>79.3</td>\n",
       "      <td>6</td>\n",
       "    </tr>\n",
       "    <tr>\n",
       "      <th>220</th>\n",
       "      <td>Income level: 30 000 to 40 000 euros</td>\n",
       "      <td>2010</td>\n",
       "      <td>82.7</td>\n",
       "      <td>6.6</td>\n",
       "    </tr>\n",
       "    <tr>\n",
       "      <th>221</th>\n",
       "      <td>Income level: 30 000 to 40 000 euros</td>\n",
       "      <td>2011</td>\n",
       "      <td>82.7</td>\n",
       "      <td>7.4</td>\n",
       "    </tr>\n",
       "    <tr>\n",
       "      <th>222</th>\n",
       "      <td>Income level: 30 000 to 40 000 euros</td>\n",
       "      <td>2012</td>\n",
       "      <td>83.1</td>\n",
       "      <td>6.1</td>\n",
       "    </tr>\n",
       "    <tr>\n",
       "      <th>223</th>\n",
       "      <td>Income level: 30 000 to 40 000 euros</td>\n",
       "      <td>2013</td>\n",
       "      <td>82.8</td>\n",
       "      <td>7.1</td>\n",
       "    </tr>\n",
       "    <tr>\n",
       "      <th>224</th>\n",
       "      <td>Income level: 30 000 to 40 000 euros</td>\n",
       "      <td>2014</td>\n",
       "      <td>84</td>\n",
       "      <td>6.6</td>\n",
       "    </tr>\n",
       "    <tr>\n",
       "      <th>225</th>\n",
       "      <td>Income level: 30 000 to 40 000 euros</td>\n",
       "      <td>2015</td>\n",
       "      <td>82.8</td>\n",
       "      <td>6.8</td>\n",
       "    </tr>\n",
       "    <tr>\n",
       "      <th>226</th>\n",
       "      <td>Income level: 30 000 to 40 000 euros</td>\n",
       "      <td>2016</td>\n",
       "      <td>82.5</td>\n",
       "      <td>6.1</td>\n",
       "    </tr>\n",
       "    <tr>\n",
       "      <th>227</th>\n",
       "      <td>Income level: 30 000 to 40 000 euros</td>\n",
       "      <td>2017</td>\n",
       "      <td>81.3</td>\n",
       "      <td>6.2</td>\n",
       "    </tr>\n",
       "    <tr>\n",
       "      <th>228</th>\n",
       "      <td>Income level: 40 000 to 50 000 euros</td>\n",
       "      <td>2010</td>\n",
       "      <td>81</td>\n",
       "      <td>6</td>\n",
       "    </tr>\n",
       "    <tr>\n",
       "      <th>229</th>\n",
       "      <td>Income level: 40 000 to 50 000 euros</td>\n",
       "      <td>2011</td>\n",
       "      <td>83.8</td>\n",
       "      <td>7</td>\n",
       "    </tr>\n",
       "    <tr>\n",
       "      <th>230</th>\n",
       "      <td>Income level: 40 000 to 50 000 euros</td>\n",
       "      <td>2012</td>\n",
       "      <td>81.9</td>\n",
       "      <td>6.5</td>\n",
       "    </tr>\n",
       "    <tr>\n",
       "      <th>231</th>\n",
       "      <td>Income level: 40 000 to 50 000 euros</td>\n",
       "      <td>2013</td>\n",
       "      <td>82.1</td>\n",
       "      <td>7.7</td>\n",
       "    </tr>\n",
       "    <tr>\n",
       "      <th>232</th>\n",
       "      <td>Income level: 40 000 to 50 000 euros</td>\n",
       "      <td>2014</td>\n",
       "      <td>82.7</td>\n",
       "      <td>6.3</td>\n",
       "    </tr>\n",
       "    <tr>\n",
       "      <th>233</th>\n",
       "      <td>Income level: 40 000 to 50 000 euros</td>\n",
       "      <td>2015</td>\n",
       "      <td>80.8</td>\n",
       "      <td>6.5</td>\n",
       "    </tr>\n",
       "    <tr>\n",
       "      <th>234</th>\n",
       "      <td>Income level: 40 000 to 50 000 euros</td>\n",
       "      <td>2016</td>\n",
       "      <td>83</td>\n",
       "      <td>7.6</td>\n",
       "    </tr>\n",
       "    <tr>\n",
       "      <th>235</th>\n",
       "      <td>Income level: 40 000 to 50 000 euros</td>\n",
       "      <td>2017</td>\n",
       "      <td>82.4</td>\n",
       "      <td>7.2</td>\n",
       "    </tr>\n",
       "    <tr>\n",
       "      <th>236</th>\n",
       "      <td>Income level: 50 000 euros or more</td>\n",
       "      <td>2010</td>\n",
       "      <td>81.6</td>\n",
       "      <td>5.1</td>\n",
       "    </tr>\n",
       "    <tr>\n",
       "      <th>237</th>\n",
       "      <td>Income level: 50 000 euros or more</td>\n",
       "      <td>2011</td>\n",
       "      <td>81.2</td>\n",
       "      <td>5.2</td>\n",
       "    </tr>\n",
       "    <tr>\n",
       "      <th>238</th>\n",
       "      <td>Income level: 50 000 euros or more</td>\n",
       "      <td>2012</td>\n",
       "      <td>79.8</td>\n",
       "      <td>4.8</td>\n",
       "    </tr>\n",
       "    <tr>\n",
       "      <th>239</th>\n",
       "      <td>Income level: 50 000 euros or more</td>\n",
       "      <td>2013</td>\n",
       "      <td>81.5</td>\n",
       "      <td>4.9</td>\n",
       "    </tr>\n",
       "    <tr>\n",
       "      <th>240</th>\n",
       "      <td>Income level: 50 000 euros or more</td>\n",
       "      <td>2014</td>\n",
       "      <td>82.3</td>\n",
       "      <td>5.6</td>\n",
       "    </tr>\n",
       "    <tr>\n",
       "      <th>241</th>\n",
       "      <td>Income level: 50 000 euros or more</td>\n",
       "      <td>2015</td>\n",
       "      <td>82.1</td>\n",
       "      <td>5.7</td>\n",
       "    </tr>\n",
       "    <tr>\n",
       "      <th>242</th>\n",
       "      <td>Income level: 50 000 euros or more</td>\n",
       "      <td>2016</td>\n",
       "      <td>80.8</td>\n",
       "      <td>6.6</td>\n",
       "    </tr>\n",
       "    <tr>\n",
       "      <th>243</th>\n",
       "      <td>Income level: 50 000 euros or more</td>\n",
       "      <td>2017</td>\n",
       "      <td>81</td>\n",
       "      <td>7.3</td>\n",
       "    </tr>\n",
       "    <tr>\n",
       "      <th>196</th>\n",
       "      <td>Income level: up to 10 000 euros</td>\n",
       "      <td>2010</td>\n",
       "      <td>79.2</td>\n",
       "      <td>14.4</td>\n",
       "    </tr>\n",
       "    <tr>\n",
       "      <th>197</th>\n",
       "      <td>Income level: up to 10 000 euros</td>\n",
       "      <td>2011</td>\n",
       "      <td>80.4</td>\n",
       "      <td>15.7</td>\n",
       "    </tr>\n",
       "    <tr>\n",
       "      <th>198</th>\n",
       "      <td>Income level: up to 10 000 euros</td>\n",
       "      <td>2012</td>\n",
       "      <td>79.2</td>\n",
       "      <td>14.5</td>\n",
       "    </tr>\n",
       "    <tr>\n",
       "      <th>199</th>\n",
       "      <td>Income level: up to 10 000 euros</td>\n",
       "      <td>2013</td>\n",
       "      <td>79.9</td>\n",
       "      <td>16.3</td>\n",
       "    </tr>\n",
       "    <tr>\n",
       "      <th>200</th>\n",
       "      <td>Income level: up to 10 000 euros</td>\n",
       "      <td>2014</td>\n",
       "      <td>79.9</td>\n",
       "      <td>13.7</td>\n",
       "    </tr>\n",
       "    <tr>\n",
       "      <th>201</th>\n",
       "      <td>Income level: up to 10 000 euros</td>\n",
       "      <td>2015</td>\n",
       "      <td>80.5</td>\n",
       "      <td>15.4</td>\n",
       "    </tr>\n",
       "    <tr>\n",
       "      <th>202</th>\n",
       "      <td>Income level: up to 10 000 euros</td>\n",
       "      <td>2016</td>\n",
       "      <td>79.7</td>\n",
       "      <td>15.1</td>\n",
       "    </tr>\n",
       "    <tr>\n",
       "      <th>203</th>\n",
       "      <td>Income level: up to 10 000 euros</td>\n",
       "      <td>2017</td>\n",
       "      <td>82.7</td>\n",
       "      <td>19.8</td>\n",
       "    </tr>\n",
       "    <tr>\n",
       "      <th>148</th>\n",
       "      <td>Level of educ: 1. Low</td>\n",
       "      <td>2010</td>\n",
       "      <td>73.1</td>\n",
       "      <td>5.7</td>\n",
       "    </tr>\n",
       "    <tr>\n",
       "      <th>149</th>\n",
       "      <td>Level of educ: 1. Low</td>\n",
       "      <td>2011</td>\n",
       "      <td>72.4</td>\n",
       "      <td>5.8</td>\n",
       "    </tr>\n",
       "    <tr>\n",
       "      <th>150</th>\n",
       "      <td>Level of educ: 1. Low</td>\n",
       "      <td>2012</td>\n",
       "      <td>72.9</td>\n",
       "      <td>5.6</td>\n",
       "    </tr>\n",
       "    <tr>\n",
       "      <th>151</th>\n",
       "      <td>Level of educ: 1. Low</td>\n",
       "      <td>2013</td>\n",
       "      <td>73.4</td>\n",
       "      <td>6.1</td>\n",
       "    </tr>\n",
       "    <tr>\n",
       "      <th>152</th>\n",
       "      <td>Level of educ: 1. Low</td>\n",
       "      <td>2014</td>\n",
       "      <td>73.4</td>\n",
       "      <td>6</td>\n",
       "    </tr>\n",
       "    <tr>\n",
       "      <th>153</th>\n",
       "      <td>Level of educ: 1. Low</td>\n",
       "      <td>2015</td>\n",
       "      <td>72.2</td>\n",
       "      <td>5.8</td>\n",
       "    </tr>\n",
       "    <tr>\n",
       "      <th>154</th>\n",
       "      <td>Level of educ: 1. Low</td>\n",
       "      <td>2016</td>\n",
       "      <td>71</td>\n",
       "      <td>5.6</td>\n",
       "    </tr>\n",
       "    <tr>\n",
       "      <th>155</th>\n",
       "      <td>Level of educ: 1. Low</td>\n",
       "      <td>2017</td>\n",
       "      <td>70.1</td>\n",
       "      <td>5.2</td>\n",
       "    </tr>\n",
       "    <tr>\n",
       "      <th>87</th>\n",
       "      <td>Level of educ: 1. Low</td>\n",
       "      <td>2018</td>\n",
       "      <td>73.6</td>\n",
       "      <td>5.9</td>\n",
       "    </tr>\n",
       "    <tr>\n",
       "      <th>88</th>\n",
       "      <td>Level of educ: 1. Low</td>\n",
       "      <td>2019</td>\n",
       "      <td>72.0</td>\n",
       "      <td>5.5</td>\n",
       "    </tr>\n",
       "    <tr>\n",
       "      <th>89</th>\n",
       "      <td>Level of educ: 1. Low</td>\n",
       "      <td>2020</td>\n",
       "      <td>63.7</td>\n",
       "      <td>2.9</td>\n",
       "    </tr>\n",
       "    <tr>\n",
       "      <th>90</th>\n",
       "      <td>Level of educ: 1. Low</td>\n",
       "      <td>2021</td>\n",
       "      <td>70.5</td>\n",
       "      <td>3.2</td>\n",
       "    </tr>\n",
       "    <tr>\n",
       "      <th>91</th>\n",
       "      <td>Level of educ: 1. Low</td>\n",
       "      <td>2022</td>\n",
       "      <td>72.8</td>\n",
       "      <td>4.5</td>\n",
       "    </tr>\n",
       "    <tr>\n",
       "      <th>156</th>\n",
       "      <td>Level of educ: 2 Intermediate</td>\n",
       "      <td>2010</td>\n",
       "      <td>81.5</td>\n",
       "      <td>8.2</td>\n",
       "    </tr>\n",
       "    <tr>\n",
       "      <th>157</th>\n",
       "      <td>Level of educ: 2 Intermediate</td>\n",
       "      <td>2011</td>\n",
       "      <td>81.7</td>\n",
       "      <td>8.9</td>\n",
       "    </tr>\n",
       "    <tr>\n",
       "      <th>158</th>\n",
       "      <td>Level of educ: 2 Intermediate</td>\n",
       "      <td>2012</td>\n",
       "      <td>80.9</td>\n",
       "      <td>8.1</td>\n",
       "    </tr>\n",
       "    <tr>\n",
       "      <th>159</th>\n",
       "      <td>Level of educ: 2 Intermediate</td>\n",
       "      <td>2013</td>\n",
       "      <td>80.8</td>\n",
       "      <td>8.8</td>\n",
       "    </tr>\n",
       "    <tr>\n",
       "      <th>160</th>\n",
       "      <td>Level of educ: 2 Intermediate</td>\n",
       "      <td>2014</td>\n",
       "      <td>81.4</td>\n",
       "      <td>8.2</td>\n",
       "    </tr>\n",
       "    <tr>\n",
       "      <th>161</th>\n",
       "      <td>Level of educ: 2 Intermediate</td>\n",
       "      <td>2015</td>\n",
       "      <td>80.6</td>\n",
       "      <td>8.7</td>\n",
       "    </tr>\n",
       "    <tr>\n",
       "      <th>162</th>\n",
       "      <td>Level of educ: 2 Intermediate</td>\n",
       "      <td>2016</td>\n",
       "      <td>79.9</td>\n",
       "      <td>7.8</td>\n",
       "    </tr>\n",
       "    <tr>\n",
       "      <th>163</th>\n",
       "      <td>Level of educ: 2 Intermediate</td>\n",
       "      <td>2017</td>\n",
       "      <td>79.6</td>\n",
       "      <td>8.3</td>\n",
       "    </tr>\n",
       "    <tr>\n",
       "      <th>92</th>\n",
       "      <td>Level of educ: 2 Intermediate</td>\n",
       "      <td>2018</td>\n",
       "      <td>86.0</td>\n",
       "      <td>9.5</td>\n",
       "    </tr>\n",
       "    <tr>\n",
       "      <th>93</th>\n",
       "      <td>Level of educ: 2 Intermediate</td>\n",
       "      <td>2019</td>\n",
       "      <td>85.2</td>\n",
       "      <td>9.3</td>\n",
       "    </tr>\n",
       "    <tr>\n",
       "      <th>94</th>\n",
       "      <td>Level of educ: 2 Intermediate</td>\n",
       "      <td>2020</td>\n",
       "      <td>77.1</td>\n",
       "      <td>4.3</td>\n",
       "    </tr>\n",
       "    <tr>\n",
       "      <th>95</th>\n",
       "      <td>Level of educ: 2 Intermediate</td>\n",
       "      <td>2021</td>\n",
       "      <td>80.6</td>\n",
       "      <td>5.3</td>\n",
       "    </tr>\n",
       "    <tr>\n",
       "      <th>96</th>\n",
       "      <td>Level of educ: 2 Intermediate</td>\n",
       "      <td>2022</td>\n",
       "      <td>82.3</td>\n",
       "      <td>6.8</td>\n",
       "    </tr>\n",
       "    <tr>\n",
       "      <th>164</th>\n",
       "      <td>Level of educ: 3 High</td>\n",
       "      <td>2010</td>\n",
       "      <td>84.5</td>\n",
       "      <td>9</td>\n",
       "    </tr>\n",
       "    <tr>\n",
       "      <th>165</th>\n",
       "      <td>Level of educ: 3 High</td>\n",
       "      <td>2011</td>\n",
       "      <td>84</td>\n",
       "      <td>9.7</td>\n",
       "    </tr>\n",
       "    <tr>\n",
       "      <th>166</th>\n",
       "      <td>Level of educ: 3 High</td>\n",
       "      <td>2012</td>\n",
       "      <td>83.7</td>\n",
       "      <td>9.1</td>\n",
       "    </tr>\n",
       "    <tr>\n",
       "      <th>167</th>\n",
       "      <td>Level of educ: 3 High</td>\n",
       "      <td>2013</td>\n",
       "      <td>83.3</td>\n",
       "      <td>9.1</td>\n",
       "    </tr>\n",
       "    <tr>\n",
       "      <th>168</th>\n",
       "      <td>Level of educ: 3 High</td>\n",
       "      <td>2014</td>\n",
       "      <td>83.6</td>\n",
       "      <td>8.4</td>\n",
       "    </tr>\n",
       "    <tr>\n",
       "      <th>169</th>\n",
       "      <td>Level of educ: 3 High</td>\n",
       "      <td>2015</td>\n",
       "      <td>82.8</td>\n",
       "      <td>8.7</td>\n",
       "    </tr>\n",
       "    <tr>\n",
       "      <th>170</th>\n",
       "      <td>Level of educ: 3 High</td>\n",
       "      <td>2016</td>\n",
       "      <td>83.3</td>\n",
       "      <td>9.4</td>\n",
       "    </tr>\n",
       "    <tr>\n",
       "      <th>171</th>\n",
       "      <td>Level of educ: 3 High</td>\n",
       "      <td>2017</td>\n",
       "      <td>82.7</td>\n",
       "      <td>9.7</td>\n",
       "    </tr>\n",
       "    <tr>\n",
       "      <th>97</th>\n",
       "      <td>Level of educ: 3 High</td>\n",
       "      <td>2018</td>\n",
       "      <td>87.2</td>\n",
       "      <td>11.3</td>\n",
       "    </tr>\n",
       "    <tr>\n",
       "      <th>98</th>\n",
       "      <td>Level of educ: 3 High</td>\n",
       "      <td>2019</td>\n",
       "      <td>86.5</td>\n",
       "      <td>11.8</td>\n",
       "    </tr>\n",
       "    <tr>\n",
       "      <th>99</th>\n",
       "      <td>Level of educ: 3 High</td>\n",
       "      <td>2020</td>\n",
       "      <td>79.2</td>\n",
       "      <td>4.8</td>\n",
       "    </tr>\n",
       "    <tr>\n",
       "      <th>100</th>\n",
       "      <td>Level of educ: 3 High</td>\n",
       "      <td>2021</td>\n",
       "      <td>81.4</td>\n",
       "      <td>4.6</td>\n",
       "    </tr>\n",
       "    <tr>\n",
       "      <th>101</th>\n",
       "      <td>Level of educ: 3 High</td>\n",
       "      <td>2022</td>\n",
       "      <td>82.5</td>\n",
       "      <td>7.1</td>\n",
       "    </tr>\n",
       "    <tr>\n",
       "      <th>340</th>\n",
       "      <td>Particip.: claiming disability benefit</td>\n",
       "      <td>2010</td>\n",
       "      <td>69.7</td>\n",
       "      <td>4.3</td>\n",
       "    </tr>\n",
       "    <tr>\n",
       "      <th>341</th>\n",
       "      <td>Particip.: claiming disability benefit</td>\n",
       "      <td>2011</td>\n",
       "      <td>69.7</td>\n",
       "      <td>4.8</td>\n",
       "    </tr>\n",
       "    <tr>\n",
       "      <th>342</th>\n",
       "      <td>Particip.: claiming disability benefit</td>\n",
       "      <td>2012</td>\n",
       "      <td>67.6</td>\n",
       "      <td>5</td>\n",
       "    </tr>\n",
       "    <tr>\n",
       "      <th>343</th>\n",
       "      <td>Particip.: claiming disability benefit</td>\n",
       "      <td>2013</td>\n",
       "      <td>70.2</td>\n",
       "      <td>4.1</td>\n",
       "    </tr>\n",
       "    <tr>\n",
       "      <th>344</th>\n",
       "      <td>Particip.: claiming disability benefit</td>\n",
       "      <td>2014</td>\n",
       "      <td>67.8</td>\n",
       "      <td>5.4</td>\n",
       "    </tr>\n",
       "    <tr>\n",
       "      <th>345</th>\n",
       "      <td>Particip.: claiming disability benefit</td>\n",
       "      <td>2015</td>\n",
       "      <td>69.7</td>\n",
       "      <td>4</td>\n",
       "    </tr>\n",
       "    <tr>\n",
       "      <th>346</th>\n",
       "      <td>Particip.: claiming disability benefit</td>\n",
       "      <td>2016</td>\n",
       "      <td>67.5</td>\n",
       "      <td>4.7</td>\n",
       "    </tr>\n",
       "    <tr>\n",
       "      <th>347</th>\n",
       "      <td>Particip.: claiming disability benefit</td>\n",
       "      <td>2017</td>\n",
       "      <td>68</td>\n",
       "      <td>4.5</td>\n",
       "    </tr>\n",
       "    <tr>\n",
       "      <th>122</th>\n",
       "      <td>Particip.: claiming disability benefit</td>\n",
       "      <td>2018</td>\n",
       "      <td>71.1</td>\n",
       "      <td>4.8</td>\n",
       "    </tr>\n",
       "    <tr>\n",
       "      <th>123</th>\n",
       "      <td>Particip.: claiming disability benefit</td>\n",
       "      <td>2019</td>\n",
       "      <td>67.8</td>\n",
       "      <td>5.6</td>\n",
       "    </tr>\n",
       "    <tr>\n",
       "      <th>124</th>\n",
       "      <td>Particip.: claiming disability benefit</td>\n",
       "      <td>2020</td>\n",
       "      <td>58.3</td>\n",
       "      <td>NaN</td>\n",
       "    </tr>\n",
       "    <tr>\n",
       "      <th>125</th>\n",
       "      <td>Particip.: claiming disability benefit</td>\n",
       "      <td>2021</td>\n",
       "      <td>67.1</td>\n",
       "      <td>NaN</td>\n",
       "    </tr>\n",
       "    <tr>\n",
       "      <th>126</th>\n",
       "      <td>Particip.: claiming disability benefit</td>\n",
       "      <td>2022</td>\n",
       "      <td>70.3</td>\n",
       "      <td>3.6</td>\n",
       "    </tr>\n",
       "    <tr>\n",
       "      <th>112</th>\n",
       "      <td>Participatie:student/scholier</td>\n",
       "      <td>2018</td>\n",
       "      <td>87.2</td>\n",
       "      <td>13.9</td>\n",
       "    </tr>\n",
       "    <tr>\n",
       "      <th>113</th>\n",
       "      <td>Participatie:student/scholier</td>\n",
       "      <td>2019</td>\n",
       "      <td>86.4</td>\n",
       "      <td>13.0</td>\n",
       "    </tr>\n",
       "    <tr>\n",
       "      <th>114</th>\n",
       "      <td>Participatie:student/scholier</td>\n",
       "      <td>2020</td>\n",
       "      <td>74.9</td>\n",
       "      <td>6.7</td>\n",
       "    </tr>\n",
       "    <tr>\n",
       "      <th>115</th>\n",
       "      <td>Participatie:student/scholier</td>\n",
       "      <td>2021</td>\n",
       "      <td>80.0</td>\n",
       "      <td>7.9</td>\n",
       "    </tr>\n",
       "    <tr>\n",
       "      <th>116</th>\n",
       "      <td>Participatie:student/scholier</td>\n",
       "      <td>2022</td>\n",
       "      <td>82.5</td>\n",
       "      <td>10.7</td>\n",
       "    </tr>\n",
       "    <tr>\n",
       "      <th>388</th>\n",
       "      <td>Participation: retired</td>\n",
       "      <td>2010</td>\n",
       "      <td>65.7</td>\n",
       "      <td>3</td>\n",
       "    </tr>\n",
       "    <tr>\n",
       "      <th>389</th>\n",
       "      <td>Participation: retired</td>\n",
       "      <td>2011</td>\n",
       "      <td>65.7</td>\n",
       "      <td>3.3</td>\n",
       "    </tr>\n",
       "    <tr>\n",
       "      <th>390</th>\n",
       "      <td>Participation: retired</td>\n",
       "      <td>2012</td>\n",
       "      <td>66.1</td>\n",
       "      <td>3.2</td>\n",
       "    </tr>\n",
       "    <tr>\n",
       "      <th>391</th>\n",
       "      <td>Participation: retired</td>\n",
       "      <td>2013</td>\n",
       "      <td>66.1</td>\n",
       "      <td>3.3</td>\n",
       "    </tr>\n",
       "    <tr>\n",
       "      <th>392</th>\n",
       "      <td>Participation: retired</td>\n",
       "      <td>2014</td>\n",
       "      <td>67.7</td>\n",
       "      <td>3.1</td>\n",
       "    </tr>\n",
       "    <tr>\n",
       "      <th>393</th>\n",
       "      <td>Participation: retired</td>\n",
       "      <td>2015</td>\n",
       "      <td>66.2</td>\n",
       "      <td>3</td>\n",
       "    </tr>\n",
       "    <tr>\n",
       "      <th>394</th>\n",
       "      <td>Participation: retired</td>\n",
       "      <td>2016</td>\n",
       "      <td>65.8</td>\n",
       "      <td>3</td>\n",
       "    </tr>\n",
       "    <tr>\n",
       "      <th>395</th>\n",
       "      <td>Participation: retired</td>\n",
       "      <td>2017</td>\n",
       "      <td>65.8</td>\n",
       "      <td>2.9</td>\n",
       "    </tr>\n",
       "    <tr>\n",
       "      <th>127</th>\n",
       "      <td>Participation: retired</td>\n",
       "      <td>2018</td>\n",
       "      <td>69.8</td>\n",
       "      <td>3.8</td>\n",
       "    </tr>\n",
       "    <tr>\n",
       "      <th>128</th>\n",
       "      <td>Participation: retired</td>\n",
       "      <td>2019</td>\n",
       "      <td>69.0</td>\n",
       "      <td>3.7</td>\n",
       "    </tr>\n",
       "    <tr>\n",
       "      <th>129</th>\n",
       "      <td>Participation: retired</td>\n",
       "      <td>2020</td>\n",
       "      <td>62.7</td>\n",
       "      <td>1.4</td>\n",
       "    </tr>\n",
       "    <tr>\n",
       "      <th>130</th>\n",
       "      <td>Participation: retired</td>\n",
       "      <td>2021</td>\n",
       "      <td>69.6</td>\n",
       "      <td>1.5</td>\n",
       "    </tr>\n",
       "    <tr>\n",
       "      <th>131</th>\n",
       "      <td>Participation: retired</td>\n",
       "      <td>2022</td>\n",
       "      <td>71.6</td>\n",
       "      <td>2.0</td>\n",
       "    </tr>\n",
       "    <tr>\n",
       "      <th>372</th>\n",
       "      <td>Participation: unemployed</td>\n",
       "      <td>2010</td>\n",
       "      <td>73.2</td>\n",
       "      <td>6</td>\n",
       "    </tr>\n",
       "    <tr>\n",
       "      <th>373</th>\n",
       "      <td>Participation: unemployed</td>\n",
       "      <td>2011</td>\n",
       "      <td>74.6</td>\n",
       "      <td>9.3</td>\n",
       "    </tr>\n",
       "    <tr>\n",
       "      <th>374</th>\n",
       "      <td>Participation: unemployed</td>\n",
       "      <td>2012</td>\n",
       "      <td>72.1</td>\n",
       "      <td>8</td>\n",
       "    </tr>\n",
       "    <tr>\n",
       "      <th>375</th>\n",
       "      <td>Participation: unemployed</td>\n",
       "      <td>2013</td>\n",
       "      <td>74.8</td>\n",
       "      <td>6.2</td>\n",
       "    </tr>\n",
       "    <tr>\n",
       "      <th>376</th>\n",
       "      <td>Participation: unemployed</td>\n",
       "      <td>2014</td>\n",
       "      <td>74.3</td>\n",
       "      <td>7.4</td>\n",
       "    </tr>\n",
       "    <tr>\n",
       "      <th>377</th>\n",
       "      <td>Participation: unemployed</td>\n",
       "      <td>2015</td>\n",
       "      <td>73.6</td>\n",
       "      <td>8</td>\n",
       "    </tr>\n",
       "    <tr>\n",
       "      <th>378</th>\n",
       "      <td>Participation: unemployed</td>\n",
       "      <td>2016</td>\n",
       "      <td>71.6</td>\n",
       "      <td>7.9</td>\n",
       "    </tr>\n",
       "    <tr>\n",
       "      <th>379</th>\n",
       "      <td>Participation: unemployed</td>\n",
       "      <td>2017</td>\n",
       "      <td>71.1</td>\n",
       "      <td>8</td>\n",
       "    </tr>\n",
       "    <tr>\n",
       "      <th>117</th>\n",
       "      <td>Participation: unemployed</td>\n",
       "      <td>2018</td>\n",
       "      <td>75.2</td>\n",
       "      <td>6.6</td>\n",
       "    </tr>\n",
       "    <tr>\n",
       "      <th>118</th>\n",
       "      <td>Participation: unemployed</td>\n",
       "      <td>2019</td>\n",
       "      <td>71.2</td>\n",
       "      <td>6.6</td>\n",
       "    </tr>\n",
       "    <tr>\n",
       "      <th>119</th>\n",
       "      <td>Participation: unemployed</td>\n",
       "      <td>2020</td>\n",
       "      <td>66.1</td>\n",
       "      <td>NaN</td>\n",
       "    </tr>\n",
       "    <tr>\n",
       "      <th>120</th>\n",
       "      <td>Participation: unemployed</td>\n",
       "      <td>2021</td>\n",
       "      <td>66.4</td>\n",
       "      <td>5.0</td>\n",
       "    </tr>\n",
       "    <tr>\n",
       "      <th>121</th>\n",
       "      <td>Participation: unemployed</td>\n",
       "      <td>2022</td>\n",
       "      <td>66.3</td>\n",
       "      <td>6.2</td>\n",
       "    </tr>\n",
       "    <tr>\n",
       "      <th>380</th>\n",
       "      <td>Participation: unemployed, other</td>\n",
       "      <td>2010</td>\n",
       "      <td>75.3</td>\n",
       "      <td>4.1</td>\n",
       "    </tr>\n",
       "    <tr>\n",
       "      <th>381</th>\n",
       "      <td>Participation: unemployed, other</td>\n",
       "      <td>2011</td>\n",
       "      <td>74.8</td>\n",
       "      <td>4.4</td>\n",
       "    </tr>\n",
       "    <tr>\n",
       "      <th>382</th>\n",
       "      <td>Participation: unemployed, other</td>\n",
       "      <td>2012</td>\n",
       "      <td>75.7</td>\n",
       "      <td>3.5</td>\n",
       "    </tr>\n",
       "    <tr>\n",
       "      <th>383</th>\n",
       "      <td>Participation: unemployed, other</td>\n",
       "      <td>2013</td>\n",
       "      <td>76.1</td>\n",
       "      <td>4.4</td>\n",
       "    </tr>\n",
       "    <tr>\n",
       "      <th>384</th>\n",
       "      <td>Participation: unemployed, other</td>\n",
       "      <td>2014</td>\n",
       "      <td>76.4</td>\n",
       "      <td>3.3</td>\n",
       "    </tr>\n",
       "    <tr>\n",
       "      <th>385</th>\n",
       "      <td>Participation: unemployed, other</td>\n",
       "      <td>2015</td>\n",
       "      <td>75.3</td>\n",
       "      <td>4</td>\n",
       "    </tr>\n",
       "    <tr>\n",
       "      <th>386</th>\n",
       "      <td>Participation: unemployed, other</td>\n",
       "      <td>2016</td>\n",
       "      <td>73</td>\n",
       "      <td>4.7</td>\n",
       "    </tr>\n",
       "    <tr>\n",
       "      <th>387</th>\n",
       "      <td>Participation: unemployed, other</td>\n",
       "      <td>2017</td>\n",
       "      <td>74.1</td>\n",
       "      <td>4.4</td>\n",
       "    </tr>\n",
       "    <tr>\n",
       "      <th>132</th>\n",
       "      <td>Participation: unemployed, other</td>\n",
       "      <td>2018</td>\n",
       "      <td>73.2</td>\n",
       "      <td>5.4</td>\n",
       "    </tr>\n",
       "    <tr>\n",
       "      <th>133</th>\n",
       "      <td>Participation: unemployed, other</td>\n",
       "      <td>2019</td>\n",
       "      <td>71.0</td>\n",
       "      <td>5.0</td>\n",
       "    </tr>\n",
       "    <tr>\n",
       "      <th>134</th>\n",
       "      <td>Participation: unemployed, other</td>\n",
       "      <td>2020</td>\n",
       "      <td>62.1</td>\n",
       "      <td>2.1</td>\n",
       "    </tr>\n",
       "    <tr>\n",
       "      <th>135</th>\n",
       "      <td>Participation: unemployed, other</td>\n",
       "      <td>2021</td>\n",
       "      <td>67.8</td>\n",
       "      <td>2.9</td>\n",
       "    </tr>\n",
       "    <tr>\n",
       "      <th>136</th>\n",
       "      <td>Participation: unemployed, other</td>\n",
       "      <td>2022</td>\n",
       "      <td>70.1</td>\n",
       "      <td>3.8</td>\n",
       "    </tr>\n",
       "    <tr>\n",
       "      <th>348</th>\n",
       "      <td>Participation: working 12 -29 h. a week</td>\n",
       "      <td>2010</td>\n",
       "      <td>85.6</td>\n",
       "      <td>6.4</td>\n",
       "    </tr>\n",
       "    <tr>\n",
       "      <th>349</th>\n",
       "      <td>Participation: working 12 -29 h. a week</td>\n",
       "      <td>2011</td>\n",
       "      <td>86</td>\n",
       "      <td>6.8</td>\n",
       "    </tr>\n",
       "    <tr>\n",
       "      <th>350</th>\n",
       "      <td>Participation: working 12 -29 h. a week</td>\n",
       "      <td>2012</td>\n",
       "      <td>84.7</td>\n",
       "      <td>6.4</td>\n",
       "    </tr>\n",
       "    <tr>\n",
       "      <th>351</th>\n",
       "      <td>Participation: working 12 -29 h. a week</td>\n",
       "      <td>2013</td>\n",
       "      <td>85.7</td>\n",
       "      <td>6.4</td>\n",
       "    </tr>\n",
       "    <tr>\n",
       "      <th>352</th>\n",
       "      <td>Participation: working 12 -29 h. a week</td>\n",
       "      <td>2014</td>\n",
       "      <td>86</td>\n",
       "      <td>5.9</td>\n",
       "    </tr>\n",
       "    <tr>\n",
       "      <th>353</th>\n",
       "      <td>Participation: working 12 -29 h. a week</td>\n",
       "      <td>2015</td>\n",
       "      <td>85.6</td>\n",
       "      <td>6.6</td>\n",
       "    </tr>\n",
       "    <tr>\n",
       "      <th>354</th>\n",
       "      <td>Participation: working 12 -29 h. a week</td>\n",
       "      <td>2016</td>\n",
       "      <td>85.3</td>\n",
       "      <td>6.5</td>\n",
       "    </tr>\n",
       "    <tr>\n",
       "      <th>355</th>\n",
       "      <td>Participation: working 12 -29 h. a week</td>\n",
       "      <td>2017</td>\n",
       "      <td>84</td>\n",
       "      <td>6.4</td>\n",
       "    </tr>\n",
       "    <tr>\n",
       "      <th>102</th>\n",
       "      <td>Participation: working 12 -29 h. a week</td>\n",
       "      <td>2018</td>\n",
       "      <td>89.6</td>\n",
       "      <td>7.8</td>\n",
       "    </tr>\n",
       "    <tr>\n",
       "      <th>103</th>\n",
       "      <td>Participation: working 12 -29 h. a week</td>\n",
       "      <td>2019</td>\n",
       "      <td>87.8</td>\n",
       "      <td>8.4</td>\n",
       "    </tr>\n",
       "    <tr>\n",
       "      <th>104</th>\n",
       "      <td>Participation: working 12 -29 h. a week</td>\n",
       "      <td>2020</td>\n",
       "      <td>82.7</td>\n",
       "      <td>3.9</td>\n",
       "    </tr>\n",
       "    <tr>\n",
       "      <th>105</th>\n",
       "      <td>Participation: working 12 -29 h. a week</td>\n",
       "      <td>2021</td>\n",
       "      <td>86.4</td>\n",
       "      <td>4.6</td>\n",
       "    </tr>\n",
       "    <tr>\n",
       "      <th>106</th>\n",
       "      <td>Participation: working 12 -29 h. a week</td>\n",
       "      <td>2022</td>\n",
       "      <td>86.8</td>\n",
       "      <td>6.4</td>\n",
       "    </tr>\n",
       "    <tr>\n",
       "      <th>356</th>\n",
       "      <td>Participation: working &gt;30 hours a week</td>\n",
       "      <td>2010</td>\n",
       "      <td>85</td>\n",
       "      <td>7.3</td>\n",
       "    </tr>\n",
       "    <tr>\n",
       "      <th>357</th>\n",
       "      <td>Participation: working &gt;30 hours a week</td>\n",
       "      <td>2011</td>\n",
       "      <td>84.5</td>\n",
       "      <td>7.7</td>\n",
       "    </tr>\n",
       "    <tr>\n",
       "      <th>358</th>\n",
       "      <td>Participation: working &gt;30 hours a week</td>\n",
       "      <td>2012</td>\n",
       "      <td>84.7</td>\n",
       "      <td>7.1</td>\n",
       "    </tr>\n",
       "    <tr>\n",
       "      <th>359</th>\n",
       "      <td>Participation: working &gt;30 hours a week</td>\n",
       "      <td>2013</td>\n",
       "      <td>84.7</td>\n",
       "      <td>7.5</td>\n",
       "    </tr>\n",
       "    <tr>\n",
       "      <th>360</th>\n",
       "      <td>Participation: working &gt;30 hours a week</td>\n",
       "      <td>2014</td>\n",
       "      <td>84.7</td>\n",
       "      <td>7</td>\n",
       "    </tr>\n",
       "    <tr>\n",
       "      <th>361</th>\n",
       "      <td>Participation: working &gt;30 hours a week</td>\n",
       "      <td>2015</td>\n",
       "      <td>84.2</td>\n",
       "      <td>7.2</td>\n",
       "    </tr>\n",
       "    <tr>\n",
       "      <th>362</th>\n",
       "      <td>Participation: working &gt;30 hours a week</td>\n",
       "      <td>2016</td>\n",
       "      <td>84.2</td>\n",
       "      <td>7.1</td>\n",
       "    </tr>\n",
       "    <tr>\n",
       "      <th>363</th>\n",
       "      <td>Participation: working &gt;30 hours a week</td>\n",
       "      <td>2017</td>\n",
       "      <td>83.2</td>\n",
       "      <td>7.8</td>\n",
       "    </tr>\n",
       "    <tr>\n",
       "      <th>107</th>\n",
       "      <td>Participation: working &gt;30 hours a week</td>\n",
       "      <td>2018</td>\n",
       "      <td>89.0</td>\n",
       "      <td>9.6</td>\n",
       "    </tr>\n",
       "    <tr>\n",
       "      <th>108</th>\n",
       "      <td>Participation: working &gt;30 hours a week</td>\n",
       "      <td>2019</td>\n",
       "      <td>88.7</td>\n",
       "      <td>9.9</td>\n",
       "    </tr>\n",
       "    <tr>\n",
       "      <th>109</th>\n",
       "      <td>Participation: working &gt;30 hours a week</td>\n",
       "      <td>2020</td>\n",
       "      <td>80.5</td>\n",
       "      <td>4.3</td>\n",
       "    </tr>\n",
       "    <tr>\n",
       "      <th>110</th>\n",
       "      <td>Participation: working &gt;30 hours a week</td>\n",
       "      <td>2021</td>\n",
       "      <td>82.8</td>\n",
       "      <td>4.0</td>\n",
       "    </tr>\n",
       "    <tr>\n",
       "      <th>111</th>\n",
       "      <td>Participation: working &gt;30 hours a week</td>\n",
       "      <td>2022</td>\n",
       "      <td>83.6</td>\n",
       "      <td>6.3</td>\n",
       "    </tr>\n",
       "    <tr>\n",
       "      <th>364</th>\n",
       "      <td>Participation:student/scholier</td>\n",
       "      <td>2010</td>\n",
       "      <td>83.8</td>\n",
       "      <td>12.5</td>\n",
       "    </tr>\n",
       "    <tr>\n",
       "      <th>365</th>\n",
       "      <td>Participation:student/scholier</td>\n",
       "      <td>2011</td>\n",
       "      <td>84.5</td>\n",
       "      <td>12.6</td>\n",
       "    </tr>\n",
       "    <tr>\n",
       "      <th>366</th>\n",
       "      <td>Participation:student/scholier</td>\n",
       "      <td>2012</td>\n",
       "      <td>83.5</td>\n",
       "      <td>12.3</td>\n",
       "    </tr>\n",
       "    <tr>\n",
       "      <th>367</th>\n",
       "      <td>Participation:student/scholier</td>\n",
       "      <td>2013</td>\n",
       "      <td>83.6</td>\n",
       "      <td>13.3</td>\n",
       "    </tr>\n",
       "    <tr>\n",
       "      <th>368</th>\n",
       "      <td>Participation:student/scholier</td>\n",
       "      <td>2014</td>\n",
       "      <td>84.6</td>\n",
       "      <td>12.8</td>\n",
       "    </tr>\n",
       "    <tr>\n",
       "      <th>369</th>\n",
       "      <td>Participation:student/scholier</td>\n",
       "      <td>2015</td>\n",
       "      <td>82.8</td>\n",
       "      <td>13.3</td>\n",
       "    </tr>\n",
       "    <tr>\n",
       "      <th>370</th>\n",
       "      <td>Participation:student/scholier</td>\n",
       "      <td>2016</td>\n",
       "      <td>83.2</td>\n",
       "      <td>12.4</td>\n",
       "    </tr>\n",
       "    <tr>\n",
       "      <th>371</th>\n",
       "      <td>Participation:student/scholier</td>\n",
       "      <td>2017</td>\n",
       "      <td>82.1</td>\n",
       "      <td>12.6</td>\n",
       "    </tr>\n",
       "    <tr>\n",
       "      <th>412</th>\n",
       "      <td>Persons without student publ.transp.card</td>\n",
       "      <td>2010</td>\n",
       "      <td>79.5</td>\n",
       "      <td>5.4</td>\n",
       "    </tr>\n",
       "    <tr>\n",
       "      <th>413</th>\n",
       "      <td>Persons without student publ.transp.card</td>\n",
       "      <td>2011</td>\n",
       "      <td>79.7</td>\n",
       "      <td>5.6</td>\n",
       "    </tr>\n",
       "    <tr>\n",
       "      <th>414</th>\n",
       "      <td>Persons without student publ.transp.card</td>\n",
       "      <td>2012</td>\n",
       "      <td>79.3</td>\n",
       "      <td>5.3</td>\n",
       "    </tr>\n",
       "    <tr>\n",
       "      <th>415</th>\n",
       "      <td>Persons without student publ.transp.card</td>\n",
       "      <td>2013</td>\n",
       "      <td>79.6</td>\n",
       "      <td>5.5</td>\n",
       "    </tr>\n",
       "    <tr>\n",
       "      <th>416</th>\n",
       "      <td>Persons without student publ.transp.card</td>\n",
       "      <td>2014</td>\n",
       "      <td>80</td>\n",
       "      <td>5.3</td>\n",
       "    </tr>\n",
       "    <tr>\n",
       "      <th>417</th>\n",
       "      <td>Persons without student publ.transp.card</td>\n",
       "      <td>2015</td>\n",
       "      <td>79.1</td>\n",
       "      <td>5.4</td>\n",
       "    </tr>\n",
       "    <tr>\n",
       "      <th>418</th>\n",
       "      <td>Persons without student publ.transp.card</td>\n",
       "      <td>2016</td>\n",
       "      <td>78.8</td>\n",
       "      <td>5.5</td>\n",
       "    </tr>\n",
       "    <tr>\n",
       "      <th>419</th>\n",
       "      <td>Persons without student publ.transp.card</td>\n",
       "      <td>2017</td>\n",
       "      <td>78.1</td>\n",
       "      <td>5.4</td>\n",
       "    </tr>\n",
       "    <tr>\n",
       "      <th>82</th>\n",
       "      <td>Persons without student publ.transp.card</td>\n",
       "      <td>2018</td>\n",
       "      <td>82.6</td>\n",
       "      <td>7.1</td>\n",
       "    </tr>\n",
       "    <tr>\n",
       "      <th>83</th>\n",
       "      <td>Persons without student publ.transp.card</td>\n",
       "      <td>2019</td>\n",
       "      <td>81.7</td>\n",
       "      <td>7.0</td>\n",
       "    </tr>\n",
       "    <tr>\n",
       "      <th>84</th>\n",
       "      <td>Persons without student publ.transp.card</td>\n",
       "      <td>2020</td>\n",
       "      <td>73.8</td>\n",
       "      <td>3.2</td>\n",
       "    </tr>\n",
       "    <tr>\n",
       "      <th>85</th>\n",
       "      <td>Persons without student publ.transp.card</td>\n",
       "      <td>2021</td>\n",
       "      <td>78.0</td>\n",
       "      <td>3.2</td>\n",
       "    </tr>\n",
       "    <tr>\n",
       "      <th>86</th>\n",
       "      <td>Persons without student publ.transp.card</td>\n",
       "      <td>2022</td>\n",
       "      <td>79.5</td>\n",
       "      <td>4.8</td>\n",
       "    </tr>\n",
       "    <tr>\n",
       "      <th>396</th>\n",
       "      <td>Students with week pass publ. transp.</td>\n",
       "      <td>2010</td>\n",
       "      <td>85.6</td>\n",
       "      <td>35.3</td>\n",
       "    </tr>\n",
       "    <tr>\n",
       "      <th>397</th>\n",
       "      <td>Students with week pass publ. transp.</td>\n",
       "      <td>2011</td>\n",
       "      <td>84.1</td>\n",
       "      <td>38.5</td>\n",
       "    </tr>\n",
       "    <tr>\n",
       "      <th>398</th>\n",
       "      <td>Students with week pass publ. transp.</td>\n",
       "      <td>2012</td>\n",
       "      <td>83.5</td>\n",
       "      <td>37.2</td>\n",
       "    </tr>\n",
       "    <tr>\n",
       "      <th>399</th>\n",
       "      <td>Students with week pass publ. transp.</td>\n",
       "      <td>2013</td>\n",
       "      <td>82.5</td>\n",
       "      <td>41.3</td>\n",
       "    </tr>\n",
       "    <tr>\n",
       "      <th>400</th>\n",
       "      <td>Students with week pass publ. transp.</td>\n",
       "      <td>2014</td>\n",
       "      <td>83.7</td>\n",
       "      <td>37</td>\n",
       "    </tr>\n",
       "    <tr>\n",
       "      <th>401</th>\n",
       "      <td>Students with week pass publ. transp.</td>\n",
       "      <td>2015</td>\n",
       "      <td>82</td>\n",
       "      <td>37.9</td>\n",
       "    </tr>\n",
       "    <tr>\n",
       "      <th>402</th>\n",
       "      <td>Students with week pass publ. transp.</td>\n",
       "      <td>2016</td>\n",
       "      <td>81.6</td>\n",
       "      <td>35.1</td>\n",
       "    </tr>\n",
       "    <tr>\n",
       "      <th>403</th>\n",
       "      <td>Students with week pass publ. transp.</td>\n",
       "      <td>2017</td>\n",
       "      <td>81.9</td>\n",
       "      <td>36.3</td>\n",
       "    </tr>\n",
       "    <tr>\n",
       "      <th>72</th>\n",
       "      <td>Students with week pass publ. transp.</td>\n",
       "      <td>2018</td>\n",
       "      <td>88.7</td>\n",
       "      <td>40.7</td>\n",
       "    </tr>\n",
       "    <tr>\n",
       "      <th>73</th>\n",
       "      <td>Students with week pass publ. transp.</td>\n",
       "      <td>2019</td>\n",
       "      <td>86.7</td>\n",
       "      <td>41.1</td>\n",
       "    </tr>\n",
       "    <tr>\n",
       "      <th>74</th>\n",
       "      <td>Students with week pass publ. transp.</td>\n",
       "      <td>2020</td>\n",
       "      <td>73.5</td>\n",
       "      <td>18.6</td>\n",
       "    </tr>\n",
       "    <tr>\n",
       "      <th>75</th>\n",
       "      <td>Students with week pass publ. transp.</td>\n",
       "      <td>2021</td>\n",
       "      <td>79.6</td>\n",
       "      <td>23.7</td>\n",
       "    </tr>\n",
       "    <tr>\n",
       "      <th>76</th>\n",
       "      <td>Students with week pass publ. transp.</td>\n",
       "      <td>2022</td>\n",
       "      <td>83.8</td>\n",
       "      <td>30.2</td>\n",
       "    </tr>\n",
       "    <tr>\n",
       "      <th>404</th>\n",
       "      <td>Students with weekend pass publ. transp.</td>\n",
       "      <td>2010</td>\n",
       "      <td>88</td>\n",
       "      <td>25.9</td>\n",
       "    </tr>\n",
       "    <tr>\n",
       "      <th>405</th>\n",
       "      <td>Students with weekend pass publ. transp.</td>\n",
       "      <td>2011</td>\n",
       "      <td>85.5</td>\n",
       "      <td>22</td>\n",
       "    </tr>\n",
       "    <tr>\n",
       "      <th>406</th>\n",
       "      <td>Students with weekend pass publ. transp.</td>\n",
       "      <td>2012</td>\n",
       "      <td>90.7</td>\n",
       "      <td>25.8</td>\n",
       "    </tr>\n",
       "    <tr>\n",
       "      <th>407</th>\n",
       "      <td>Students with weekend pass publ. transp.</td>\n",
       "      <td>2013</td>\n",
       "      <td>88.8</td>\n",
       "      <td>22.3</td>\n",
       "    </tr>\n",
       "    <tr>\n",
       "      <th>408</th>\n",
       "      <td>Students with weekend pass publ. transp.</td>\n",
       "      <td>2014</td>\n",
       "      <td>93.6</td>\n",
       "      <td>25.7</td>\n",
       "    </tr>\n",
       "    <tr>\n",
       "      <th>409</th>\n",
       "      <td>Students with weekend pass publ. transp.</td>\n",
       "      <td>2015</td>\n",
       "      <td>84.4</td>\n",
       "      <td>27.8</td>\n",
       "    </tr>\n",
       "    <tr>\n",
       "      <th>410</th>\n",
       "      <td>Students with weekend pass publ. transp.</td>\n",
       "      <td>2016</td>\n",
       "      <td>84.5</td>\n",
       "      <td>24.1</td>\n",
       "    </tr>\n",
       "    <tr>\n",
       "      <th>411</th>\n",
       "      <td>Students with weekend pass publ. transp.</td>\n",
       "      <td>2017</td>\n",
       "      <td>86.6</td>\n",
       "      <td>26.3</td>\n",
       "    </tr>\n",
       "    <tr>\n",
       "      <th>77</th>\n",
       "      <td>Students with weekend pass publ. transp.</td>\n",
       "      <td>2018</td>\n",
       "      <td>94.1</td>\n",
       "      <td>17.2</td>\n",
       "    </tr>\n",
       "    <tr>\n",
       "      <th>78</th>\n",
       "      <td>Students with weekend pass publ. transp.</td>\n",
       "      <td>2019</td>\n",
       "      <td>89.0</td>\n",
       "      <td>19.4</td>\n",
       "    </tr>\n",
       "    <tr>\n",
       "      <th>79</th>\n",
       "      <td>Students with weekend pass publ. transp.</td>\n",
       "      <td>2020</td>\n",
       "      <td>81.8</td>\n",
       "      <td>NaN</td>\n",
       "    </tr>\n",
       "    <tr>\n",
       "      <th>80</th>\n",
       "      <td>Students with weekend pass publ. transp.</td>\n",
       "      <td>2021</td>\n",
       "      <td>82.4</td>\n",
       "      <td>16.1</td>\n",
       "    </tr>\n",
       "    <tr>\n",
       "      <th>81</th>\n",
       "      <td>Students with weekend pass publ. transp.</td>\n",
       "      <td>2022</td>\n",
       "      <td>88.7</td>\n",
       "      <td>19.2</td>\n",
       "    </tr>\n",
       "    <tr>\n",
       "      <th>140</th>\n",
       "      <td>Total persons</td>\n",
       "      <td>2010</td>\n",
       "      <td>79.8</td>\n",
       "      <td>6.8</td>\n",
       "    </tr>\n",
       "    <tr>\n",
       "      <th>141</th>\n",
       "      <td>Total persons</td>\n",
       "      <td>2011</td>\n",
       "      <td>79.9</td>\n",
       "      <td>7.1</td>\n",
       "    </tr>\n",
       "    <tr>\n",
       "      <th>142</th>\n",
       "      <td>Total persons</td>\n",
       "      <td>2012</td>\n",
       "      <td>79.6</td>\n",
       "      <td>6.7</td>\n",
       "    </tr>\n",
       "    <tr>\n",
       "      <th>143</th>\n",
       "      <td>Total persons</td>\n",
       "      <td>2013</td>\n",
       "      <td>79.8</td>\n",
       "      <td>7</td>\n",
       "    </tr>\n",
       "    <tr>\n",
       "      <th>144</th>\n",
       "      <td>Total persons</td>\n",
       "      <td>2014</td>\n",
       "      <td>80.2</td>\n",
       "      <td>6.7</td>\n",
       "    </tr>\n",
       "    <tr>\n",
       "      <th>145</th>\n",
       "      <td>Total persons</td>\n",
       "      <td>2015</td>\n",
       "      <td>79.2</td>\n",
       "      <td>6.9</td>\n",
       "    </tr>\n",
       "    <tr>\n",
       "      <th>146</th>\n",
       "      <td>Total persons</td>\n",
       "      <td>2016</td>\n",
       "      <td>79</td>\n",
       "      <td>6.8</td>\n",
       "    </tr>\n",
       "    <tr>\n",
       "      <th>147</th>\n",
       "      <td>Total persons</td>\n",
       "      <td>2017</td>\n",
       "      <td>78.4</td>\n",
       "      <td>7</td>\n",
       "    </tr>\n",
       "    <tr>\n",
       "      <th>2</th>\n",
       "      <td>Total persons</td>\n",
       "      <td>2018</td>\n",
       "      <td>82.9</td>\n",
       "      <td>8.6</td>\n",
       "    </tr>\n",
       "    <tr>\n",
       "      <th>3</th>\n",
       "      <td>Total persons</td>\n",
       "      <td>2019</td>\n",
       "      <td>81.9</td>\n",
       "      <td>8.6</td>\n",
       "    </tr>\n",
       "    <tr>\n",
       "      <th>4</th>\n",
       "      <td>Total persons</td>\n",
       "      <td>2020</td>\n",
       "      <td>73.8</td>\n",
       "      <td>3.9</td>\n",
       "    </tr>\n",
       "    <tr>\n",
       "      <th>5</th>\n",
       "      <td>Total persons</td>\n",
       "      <td>2021</td>\n",
       "      <td>78.1</td>\n",
       "      <td>4.2</td>\n",
       "    </tr>\n",
       "    <tr>\n",
       "      <th>6</th>\n",
       "      <td>Total persons</td>\n",
       "      <td>2022</td>\n",
       "      <td>79.7</td>\n",
       "      <td>6.1</td>\n",
       "    </tr>\n",
       "  </tbody>\n",
       "</table>\n",
       "</div>"
      ],
      "text/plain": [
       "                        Personal characteristics Topic Traffic participation  \\\n",
       "260                          Age: 12 to 17 years  2010                  82.1   \n",
       "261                          Age: 12 to 17 years  2011                  82.8   \n",
       "262                          Age: 12 to 17 years  2012                  82.1   \n",
       "263                          Age: 12 to 17 years  2013                    82   \n",
       "264                          Age: 12 to 17 years  2014                  83.3   \n",
       "265                          Age: 12 to 17 years  2015                  81.3   \n",
       "266                          Age: 12 to 17 years  2016                  81.4   \n",
       "267                          Age: 12 to 17 years  2017                  80.5   \n",
       "12                           Age: 12 to 17 years  2018                  86.3   \n",
       "13                           Age: 12 to 17 years  2019                  86.4   \n",
       "14                           Age: 12 to 17 years  2020                  73.5   \n",
       "15                           Age: 12 to 17 years  2021                  79.0   \n",
       "16                           Age: 12 to 17 years  2022                  82.9   \n",
       "244                       Age: 12 years or older  2010                  79.2   \n",
       "245                       Age: 12 years or older  2011                  79.1   \n",
       "246                       Age: 12 years or older  2012                  78.8   \n",
       "247                       Age: 12 years or older  2013                    79   \n",
       "248                       Age: 12 years or older  2014                  79.4   \n",
       "249                       Age: 12 years or older  2015                  78.5   \n",
       "250                       Age: 12 years or older  2016                  78.1   \n",
       "251                       Age: 12 years or older  2017                  77.7   \n",
       "268                          Age: 18 to 24 years  2010                  84.9   \n",
       "269                          Age: 18 to 24 years  2011                  83.9   \n",
       "270                          Age: 18 to 24 years  2012                    83   \n",
       "271                          Age: 18 to 24 years  2013                  83.5   \n",
       "272                          Age: 18 to 24 years  2014                  83.6   \n",
       "273                          Age: 18 to 24 years  2015                  82.3   \n",
       "274                          Age: 18 to 24 years  2016                  82.4   \n",
       "275                          Age: 18 to 24 years  2017                  83.1   \n",
       "17                           Age: 18 to 24 years  2018                  86.8   \n",
       "18                           Age: 18 to 24 years  2019                  84.6   \n",
       "19                           Age: 18 to 24 years  2020                  74.6   \n",
       "20                           Age: 18 to 24 years  2021                  78.3   \n",
       "21                           Age: 18 to 24 years  2022                  81.2   \n",
       "276                          Age: 25 to 34 years  2010                    85   \n",
       "277                          Age: 25 to 34 years  2011                    86   \n",
       "278                          Age: 25 to 34 years  2012                  85.3   \n",
       "279                          Age: 25 to 34 years  2013                  84.4   \n",
       "280                          Age: 25 to 34 years  2014                  84.6   \n",
       "281                          Age: 25 to 34 years  2015                  83.9   \n",
       "282                          Age: 25 to 34 years  2016                  83.8   \n",
       "283                          Age: 25 to 34 years  2017                  83.5   \n",
       "22                           Age: 25 to 34 years  2018                  88.6   \n",
       "23                           Age: 25 to 34 years  2019                  86.6   \n",
       "24                           Age: 25 to 34 years  2020                  77.2   \n",
       "25                           Age: 25 to 34 years  2021                  80.3   \n",
       "26                           Age: 25 to 34 years  2022                  81.3   \n",
       "284                          Age: 35 to 49 years  2010                  83.1   \n",
       "285                          Age: 35 to 49 years  2011                  82.9   \n",
       "286                          Age: 35 to 49 years  2012                  82.4   \n",
       "287                          Age: 35 to 49 years  2013                  83.3   \n",
       "288                          Age: 35 to 49 years  2014                  82.9   \n",
       "289                          Age: 35 to 49 years  2015                  83.1   \n",
       "290                          Age: 35 to 49 years  2016                    82   \n",
       "291                          Age: 35 to 49 years  2017                  81.4   \n",
       "27                           Age: 35 to 49 years  2018                  86.7   \n",
       "28                           Age: 35 to 49 years  2019                  86.7   \n",
       "29                           Age: 35 to 49 years  2020                  78.7   \n",
       "30                           Age: 35 to 49 years  2021                  81.2   \n",
       "31                           Age: 35 to 49 years  2022                  82.7   \n",
       "292                          Age: 50 to 64 years  2010                  78.7   \n",
       "293                          Age: 50 to 64 years  2011                  78.9   \n",
       "294                          Age: 50 to 64 years  2012                  78.8   \n",
       "295                          Age: 50 to 64 years  2013                  79.7   \n",
       "296                          Age: 50 to 64 years  2014                  79.9   \n",
       "297                          Age: 50 to 64 years  2015                  78.9   \n",
       "298                          Age: 50 to 64 years  2016                  79.1   \n",
       "299                          Age: 50 to 64 years  2017                  78.4   \n",
       "32                           Age: 50 to 64 years  2018                  83.5   \n",
       "33                           Age: 50 to 64 years  2019                  82.9   \n",
       "34                           Age: 50 to 64 years  2020                  76.8   \n",
       "35                           Age: 50 to 64 years  2021                  80.7   \n",
       "36                           Age: 50 to 64 years  2022                  81.6   \n",
       "252                           Age: 6 to 11 years  2010                  83.7   \n",
       "253                           Age: 6 to 11 years  2011                  84.9   \n",
       "254                           Age: 6 to 11 years  2012                  84.5   \n",
       "255                           Age: 6 to 11 years  2013                  84.6   \n",
       "256                           Age: 6 to 11 years  2014                  85.6   \n",
       "257                           Age: 6 to 11 years  2015                  84.3   \n",
       "258                           Age: 6 to 11 years  2016                  85.2   \n",
       "259                           Age: 6 to 11 years  2017                  83.5   \n",
       "7                             Age: 6 to 11 years  2018                  90.6   \n",
       "8                             Age: 6 to 11 years  2019                  88.9   \n",
       "9                             Age: 6 to 11 years  2020                  80.0   \n",
       "10                            Age: 6 to 11 years  2021                  85.6   \n",
       "11                            Age: 6 to 11 years  2022                  85.2   \n",
       "300                          Age: 65 to 74 years  2010                    73   \n",
       "301                          Age: 65 to 74 years  2011                  72.1   \n",
       "302                          Age: 65 to 74 years  2012                  72.6   \n",
       "303                          Age: 65 to 74 years  2013                  71.9   \n",
       "304                          Age: 65 to 74 years  2014                  73.2   \n",
       "305                          Age: 65 to 74 years  2015                  71.8   \n",
       "306                          Age: 65 to 74 years  2016                    72   \n",
       "307                          Age: 65 to 74 years  2017                    72   \n",
       "37                           Age: 65 to 74 years  2018                  74.9   \n",
       "38                           Age: 65 to 74 years  2019                  73.5   \n",
       "39                           Age: 65 to 74 years  2020                  67.8   \n",
       "40                           Age: 65 to 74 years  2021                  74.3   \n",
       "41                           Age: 65 to 74 years  2022                  76.7   \n",
       "308                       Age: 75 years or older  2010                  53.5   \n",
       "309                       Age: 75 years or older  2011                    54   \n",
       "310                       Age: 75 years or older  2012                  55.2   \n",
       "311                       Age: 75 years or older  2013                  55.9   \n",
       "312                       Age: 75 years or older  2014                  58.6   \n",
       "313                       Age: 75 years or older  2015                  58.2   \n",
       "314                       Age: 75 years or older  2016                  56.2   \n",
       "315                       Age: 75 years or older  2017                  56.2   \n",
       "42                        Age: 75 years or older  2018                  59.8   \n",
       "43                        Age: 75 years or older  2019                  59.4   \n",
       "44                        Age: 75 years or older  2020                  51.6   \n",
       "45                        Age: 75 years or older  2021                  59.7   \n",
       "46                        Age: 75 years or older  2022                  62.6   \n",
       "172                            Background: Dutch  2010                  80.6   \n",
       "173                            Background: Dutch  2011                  80.4   \n",
       "174                            Background: Dutch  2012                  80.5   \n",
       "175                            Background: Dutch  2013                  80.3   \n",
       "176                            Background: Dutch  2014                    81   \n",
       "177                            Background: Dutch  2015                  79.9   \n",
       "178                            Background: Dutch  2016                  79.9   \n",
       "179                            Background: Dutch  2017                  79.4   \n",
       "188                      Background: non-western  2010                  75.7   \n",
       "189                      Background: non-western  2011                    79   \n",
       "190                      Background: non-western  2012                  75.5   \n",
       "191                      Background: non-western  2013                    78   \n",
       "192                      Background: non-western  2014                  77.5   \n",
       "193                      Background: non-western  2015                  76.5   \n",
       "194                      Background: non-western  2016                    76   \n",
       "195                      Background: non-western  2017                  74.3   \n",
       "180                          Background: western  2010                  77.6   \n",
       "181                          Background: western  2011                  77.1   \n",
       "182                          Background: western  2012                  76.3   \n",
       "183                          Background: western  2013                  77.7   \n",
       "184                          Background: western  2014                  77.5   \n",
       "185                          Background: western  2015                    77   \n",
       "186                          Background: western  2016                  75.8   \n",
       "187                          Background: western  2017                  75.8   \n",
       "316      Drivers license, no passenger car in hh  2010                  77.2   \n",
       "317      Drivers license, no passenger car in hh  2011                    78   \n",
       "318      Drivers license, no passenger car in hh  2012                  77.9   \n",
       "319      Drivers license, no passenger car in hh  2013                  77.6   \n",
       "320      Drivers license, no passenger car in hh  2014                  77.9   \n",
       "321      Drivers license, no passenger car in hh  2015                  76.9   \n",
       "322      Drivers license, no passenger car in hh  2016                  76.5   \n",
       "323      Drivers license, no passenger car in hh  2017                  75.5   \n",
       "324         Drivers license, passenger car in hh  2010                  79.7   \n",
       "325         Drivers license, passenger car in hh  2011                  80.2   \n",
       "326         Drivers license, passenger car in hh  2012                  78.9   \n",
       "327         Drivers license, passenger car in hh  2013                  79.2   \n",
       "328         Drivers license, passenger car in hh  2014                  79.7   \n",
       "329         Drivers license, passenger car in hh  2015                  79.4   \n",
       "330         Drivers license, passenger car in hh  2016                  78.5   \n",
       "331         Drivers license, passenger car in hh  2017                  78.1   \n",
       "332  Drivers license, passenger car, in own name  2010                  82.2   \n",
       "333  Drivers license, passenger car, in own name  2011                  81.6   \n",
       "334  Drivers license, passenger car, in own name  2012                  81.2   \n",
       "335  Drivers license, passenger car, in own name  2013                  81.9   \n",
       "336  Drivers license, passenger car, in own name  2014                  82.4   \n",
       "337  Drivers license, passenger car, in own name  2015                  81.2   \n",
       "338  Drivers license, passenger car, in own name  2016                  81.3   \n",
       "339  Drivers license, passenger car, in own name  2017                    81   \n",
       "47             Equivalised income: 1st 20%-group  2018                  77.1   \n",
       "48             Equivalised income: 1st 20%-group  2019                  74.1   \n",
       "49             Equivalised income: 1st 20%-group  2020                  62.8   \n",
       "50             Equivalised income: 1st 20%-group  2021                  70.0   \n",
       "51             Equivalised income: 1st 20%-group  2022                  72.6   \n",
       "420            Equivalised income: 1th 20%-group  2010                  75.2   \n",
       "421            Equivalised income: 1th 20%-group  2011                    76   \n",
       "422            Equivalised income: 1th 20%-group  2012                  75.7   \n",
       "423            Equivalised income: 1th 20%-group  2013                  76.5   \n",
       "424            Equivalised income: 1th 20%-group  2014                  76.5   \n",
       "425            Equivalised income: 1th 20%-group  2015                  75.5   \n",
       "426            Equivalised income: 1th 20%-group  2016                  74.6   \n",
       "427            Equivalised income: 1th 20%-group  2017                  74.2   \n",
       "52             Equivalised income: 2nd 20%-group  2018                  76.6   \n",
       "53             Equivalised income: 2nd 20%-group  2019                  76.3   \n",
       "54             Equivalised income: 2nd 20%-group  2020                  67.1   \n",
       "55             Equivalised income: 2nd 20%-group  2021                  73.3   \n",
       "56             Equivalised income: 2nd 20%-group  2022                  75.8   \n",
       "428            Equivalised income: 2th 20%-group  2010                  78.6   \n",
       "429            Equivalised income: 2th 20%-group  2011                  78.4   \n",
       "430            Equivalised income: 2th 20%-group  2012                  78.2   \n",
       "431            Equivalised income: 2th 20%-group  2013                  78.6   \n",
       "432            Equivalised income: 2th 20%-group  2014                    78   \n",
       "433            Equivalised income: 2th 20%-group  2015                  76.4   \n",
       "434            Equivalised income: 2th 20%-group  2016                    77   \n",
       "435            Equivalised income: 2th 20%-group  2017                  73.5   \n",
       "57             Equivalised income: 3rd 20%-group  2018                  85.3   \n",
       "58             Equivalised income: 3rd 20%-group  2019                  83.7   \n",
       "59             Equivalised income: 3rd 20%-group  2020                  75.9   \n",
       "60             Equivalised income: 3rd 20%-group  2021                  80.0   \n",
       "61             Equivalised income: 3rd 20%-group  2022                  81.8   \n",
       "436            Equivalised income: 3th 20%-group  2010                  81.6   \n",
       "437            Equivalised income: 3th 20%-group  2011                  81.5   \n",
       "438            Equivalised income: 3th 20%-group  2012                  80.3   \n",
       "439            Equivalised income: 3th 20%-group  2013                  80.6   \n",
       "440            Equivalised income: 3th 20%-group  2014                  82.3   \n",
       "441            Equivalised income: 3th 20%-group  2015                  81.5   \n",
       "442            Equivalised income: 3th 20%-group  2016                  81.1   \n",
       "443            Equivalised income: 3th 20%-group  2017                  79.7   \n",
       "444            Equivalised income: 4th 20%-group  2010                  83.4   \n",
       "445            Equivalised income: 4th 20%-group  2011                  82.1   \n",
       "446            Equivalised income: 4th 20%-group  2012                  83.1   \n",
       "447            Equivalised income: 4th 20%-group  2013                    82   \n",
       "448            Equivalised income: 4th 20%-group  2014                  82.9   \n",
       "449            Equivalised income: 4th 20%-group  2015                  82.5   \n",
       "450            Equivalised income: 4th 20%-group  2016                  82.4   \n",
       "451            Equivalised income: 4th 20%-group  2017                    81   \n",
       "62             Equivalised income: 4th 20%-group  2018                  86.8   \n",
       "63             Equivalised income: 4th 20%-group  2019                  86.3   \n",
       "64             Equivalised income: 4th 20%-group  2020                  79.5   \n",
       "65             Equivalised income: 4th 20%-group  2021                  82.6   \n",
       "66             Equivalised income: 4th 20%-group  2022                  83.8   \n",
       "452            Equivalised income: 5th 20%-group  2010                  81.6   \n",
       "453            Equivalised income: 5th 20%-group  2011                  82.8   \n",
       "454            Equivalised income: 5th 20%-group  2012                  81.9   \n",
       "455            Equivalised income: 5th 20%-group  2013                  82.5   \n",
       "456            Equivalised income: 5th 20%-group  2014                  83.4   \n",
       "457            Equivalised income: 5th 20%-group  2015                    82   \n",
       "458            Equivalised income: 5th 20%-group  2016                  82.3   \n",
       "459            Equivalised income: 5th 20%-group  2017                  82.1   \n",
       "67             Equivalised income: 5th 20%-group  2018                  86.6   \n",
       "68             Equivalised income: 5th 20%-group  2019                  86.3   \n",
       "69             Equivalised income: 5th 20%-group  2020                  80.0   \n",
       "70             Equivalised income: 5th 20%-group  2021                  81.7   \n",
       "71             Equivalised income: 5th 20%-group  2022                  82.8   \n",
       "204         Income level: 10 000 to 20 000 euros  2010                    76   \n",
       "205         Income level: 10 000 to 20 000 euros  2011                  76.5   \n",
       "206         Income level: 10 000 to 20 000 euros  2012                  76.2   \n",
       "207         Income level: 10 000 to 20 000 euros  2013                  76.8   \n",
       "208         Income level: 10 000 to 20 000 euros  2014                  76.2   \n",
       "209         Income level: 10 000 to 20 000 euros  2015                  74.7   \n",
       "210         Income level: 10 000 to 20 000 euros  2016                  73.7   \n",
       "211         Income level: 10 000 to 20 000 euros  2017                  71.8   \n",
       "212         Income level: 20 000 to 30 000 euros  2010                  82.1   \n",
       "213         Income level: 20 000 to 30 000 euros  2011                  81.6   \n",
       "214         Income level: 20 000 to 30 000 euros  2012                  81.2   \n",
       "215         Income level: 20 000 to 30 000 euros  2013                    81   \n",
       "216         Income level: 20 000 to 30 000 euros  2014                  82.1   \n",
       "217         Income level: 20 000 to 30 000 euros  2015                  81.1   \n",
       "218         Income level: 20 000 to 30 000 euros  2016                  79.9   \n",
       "219         Income level: 20 000 to 30 000 euros  2017                  79.3   \n",
       "220         Income level: 30 000 to 40 000 euros  2010                  82.7   \n",
       "221         Income level: 30 000 to 40 000 euros  2011                  82.7   \n",
       "222         Income level: 30 000 to 40 000 euros  2012                  83.1   \n",
       "223         Income level: 30 000 to 40 000 euros  2013                  82.8   \n",
       "224         Income level: 30 000 to 40 000 euros  2014                    84   \n",
       "225         Income level: 30 000 to 40 000 euros  2015                  82.8   \n",
       "226         Income level: 30 000 to 40 000 euros  2016                  82.5   \n",
       "227         Income level: 30 000 to 40 000 euros  2017                  81.3   \n",
       "228         Income level: 40 000 to 50 000 euros  2010                    81   \n",
       "229         Income level: 40 000 to 50 000 euros  2011                  83.8   \n",
       "230         Income level: 40 000 to 50 000 euros  2012                  81.9   \n",
       "231         Income level: 40 000 to 50 000 euros  2013                  82.1   \n",
       "232         Income level: 40 000 to 50 000 euros  2014                  82.7   \n",
       "233         Income level: 40 000 to 50 000 euros  2015                  80.8   \n",
       "234         Income level: 40 000 to 50 000 euros  2016                    83   \n",
       "235         Income level: 40 000 to 50 000 euros  2017                  82.4   \n",
       "236           Income level: 50 000 euros or more  2010                  81.6   \n",
       "237           Income level: 50 000 euros or more  2011                  81.2   \n",
       "238           Income level: 50 000 euros or more  2012                  79.8   \n",
       "239           Income level: 50 000 euros or more  2013                  81.5   \n",
       "240           Income level: 50 000 euros or more  2014                  82.3   \n",
       "241           Income level: 50 000 euros or more  2015                  82.1   \n",
       "242           Income level: 50 000 euros or more  2016                  80.8   \n",
       "243           Income level: 50 000 euros or more  2017                    81   \n",
       "196             Income level: up to 10 000 euros  2010                  79.2   \n",
       "197             Income level: up to 10 000 euros  2011                  80.4   \n",
       "198             Income level: up to 10 000 euros  2012                  79.2   \n",
       "199             Income level: up to 10 000 euros  2013                  79.9   \n",
       "200             Income level: up to 10 000 euros  2014                  79.9   \n",
       "201             Income level: up to 10 000 euros  2015                  80.5   \n",
       "202             Income level: up to 10 000 euros  2016                  79.7   \n",
       "203             Income level: up to 10 000 euros  2017                  82.7   \n",
       "148                        Level of educ: 1. Low  2010                  73.1   \n",
       "149                        Level of educ: 1. Low  2011                  72.4   \n",
       "150                        Level of educ: 1. Low  2012                  72.9   \n",
       "151                        Level of educ: 1. Low  2013                  73.4   \n",
       "152                        Level of educ: 1. Low  2014                  73.4   \n",
       "153                        Level of educ: 1. Low  2015                  72.2   \n",
       "154                        Level of educ: 1. Low  2016                    71   \n",
       "155                        Level of educ: 1. Low  2017                  70.1   \n",
       "87                         Level of educ: 1. Low  2018                  73.6   \n",
       "88                         Level of educ: 1. Low  2019                  72.0   \n",
       "89                         Level of educ: 1. Low  2020                  63.7   \n",
       "90                         Level of educ: 1. Low  2021                  70.5   \n",
       "91                         Level of educ: 1. Low  2022                  72.8   \n",
       "156                Level of educ: 2 Intermediate  2010                  81.5   \n",
       "157                Level of educ: 2 Intermediate  2011                  81.7   \n",
       "158                Level of educ: 2 Intermediate  2012                  80.9   \n",
       "159                Level of educ: 2 Intermediate  2013                  80.8   \n",
       "160                Level of educ: 2 Intermediate  2014                  81.4   \n",
       "161                Level of educ: 2 Intermediate  2015                  80.6   \n",
       "162                Level of educ: 2 Intermediate  2016                  79.9   \n",
       "163                Level of educ: 2 Intermediate  2017                  79.6   \n",
       "92                 Level of educ: 2 Intermediate  2018                  86.0   \n",
       "93                 Level of educ: 2 Intermediate  2019                  85.2   \n",
       "94                 Level of educ: 2 Intermediate  2020                  77.1   \n",
       "95                 Level of educ: 2 Intermediate  2021                  80.6   \n",
       "96                 Level of educ: 2 Intermediate  2022                  82.3   \n",
       "164                        Level of educ: 3 High  2010                  84.5   \n",
       "165                        Level of educ: 3 High  2011                    84   \n",
       "166                        Level of educ: 3 High  2012                  83.7   \n",
       "167                        Level of educ: 3 High  2013                  83.3   \n",
       "168                        Level of educ: 3 High  2014                  83.6   \n",
       "169                        Level of educ: 3 High  2015                  82.8   \n",
       "170                        Level of educ: 3 High  2016                  83.3   \n",
       "171                        Level of educ: 3 High  2017                  82.7   \n",
       "97                         Level of educ: 3 High  2018                  87.2   \n",
       "98                         Level of educ: 3 High  2019                  86.5   \n",
       "99                         Level of educ: 3 High  2020                  79.2   \n",
       "100                        Level of educ: 3 High  2021                  81.4   \n",
       "101                        Level of educ: 3 High  2022                  82.5   \n",
       "340       Particip.: claiming disability benefit  2010                  69.7   \n",
       "341       Particip.: claiming disability benefit  2011                  69.7   \n",
       "342       Particip.: claiming disability benefit  2012                  67.6   \n",
       "343       Particip.: claiming disability benefit  2013                  70.2   \n",
       "344       Particip.: claiming disability benefit  2014                  67.8   \n",
       "345       Particip.: claiming disability benefit  2015                  69.7   \n",
       "346       Particip.: claiming disability benefit  2016                  67.5   \n",
       "347       Particip.: claiming disability benefit  2017                    68   \n",
       "122       Particip.: claiming disability benefit  2018                  71.1   \n",
       "123       Particip.: claiming disability benefit  2019                  67.8   \n",
       "124       Particip.: claiming disability benefit  2020                  58.3   \n",
       "125       Particip.: claiming disability benefit  2021                  67.1   \n",
       "126       Particip.: claiming disability benefit  2022                  70.3   \n",
       "112                Participatie:student/scholier  2018                  87.2   \n",
       "113                Participatie:student/scholier  2019                  86.4   \n",
       "114                Participatie:student/scholier  2020                  74.9   \n",
       "115                Participatie:student/scholier  2021                  80.0   \n",
       "116                Participatie:student/scholier  2022                  82.5   \n",
       "388                       Participation: retired  2010                  65.7   \n",
       "389                       Participation: retired  2011                  65.7   \n",
       "390                       Participation: retired  2012                  66.1   \n",
       "391                       Participation: retired  2013                  66.1   \n",
       "392                       Participation: retired  2014                  67.7   \n",
       "393                       Participation: retired  2015                  66.2   \n",
       "394                       Participation: retired  2016                  65.8   \n",
       "395                       Participation: retired  2017                  65.8   \n",
       "127                       Participation: retired  2018                  69.8   \n",
       "128                       Participation: retired  2019                  69.0   \n",
       "129                       Participation: retired  2020                  62.7   \n",
       "130                       Participation: retired  2021                  69.6   \n",
       "131                       Participation: retired  2022                  71.6   \n",
       "372                    Participation: unemployed  2010                  73.2   \n",
       "373                    Participation: unemployed  2011                  74.6   \n",
       "374                    Participation: unemployed  2012                  72.1   \n",
       "375                    Participation: unemployed  2013                  74.8   \n",
       "376                    Participation: unemployed  2014                  74.3   \n",
       "377                    Participation: unemployed  2015                  73.6   \n",
       "378                    Participation: unemployed  2016                  71.6   \n",
       "379                    Participation: unemployed  2017                  71.1   \n",
       "117                    Participation: unemployed  2018                  75.2   \n",
       "118                    Participation: unemployed  2019                  71.2   \n",
       "119                    Participation: unemployed  2020                  66.1   \n",
       "120                    Participation: unemployed  2021                  66.4   \n",
       "121                    Participation: unemployed  2022                  66.3   \n",
       "380             Participation: unemployed, other  2010                  75.3   \n",
       "381             Participation: unemployed, other  2011                  74.8   \n",
       "382             Participation: unemployed, other  2012                  75.7   \n",
       "383             Participation: unemployed, other  2013                  76.1   \n",
       "384             Participation: unemployed, other  2014                  76.4   \n",
       "385             Participation: unemployed, other  2015                  75.3   \n",
       "386             Participation: unemployed, other  2016                    73   \n",
       "387             Participation: unemployed, other  2017                  74.1   \n",
       "132             Participation: unemployed, other  2018                  73.2   \n",
       "133             Participation: unemployed, other  2019                  71.0   \n",
       "134             Participation: unemployed, other  2020                  62.1   \n",
       "135             Participation: unemployed, other  2021                  67.8   \n",
       "136             Participation: unemployed, other  2022                  70.1   \n",
       "348      Participation: working 12 -29 h. a week  2010                  85.6   \n",
       "349      Participation: working 12 -29 h. a week  2011                    86   \n",
       "350      Participation: working 12 -29 h. a week  2012                  84.7   \n",
       "351      Participation: working 12 -29 h. a week  2013                  85.7   \n",
       "352      Participation: working 12 -29 h. a week  2014                    86   \n",
       "353      Participation: working 12 -29 h. a week  2015                  85.6   \n",
       "354      Participation: working 12 -29 h. a week  2016                  85.3   \n",
       "355      Participation: working 12 -29 h. a week  2017                    84   \n",
       "102      Participation: working 12 -29 h. a week  2018                  89.6   \n",
       "103      Participation: working 12 -29 h. a week  2019                  87.8   \n",
       "104      Participation: working 12 -29 h. a week  2020                  82.7   \n",
       "105      Participation: working 12 -29 h. a week  2021                  86.4   \n",
       "106      Participation: working 12 -29 h. a week  2022                  86.8   \n",
       "356      Participation: working >30 hours a week  2010                    85   \n",
       "357      Participation: working >30 hours a week  2011                  84.5   \n",
       "358      Participation: working >30 hours a week  2012                  84.7   \n",
       "359      Participation: working >30 hours a week  2013                  84.7   \n",
       "360      Participation: working >30 hours a week  2014                  84.7   \n",
       "361      Participation: working >30 hours a week  2015                  84.2   \n",
       "362      Participation: working >30 hours a week  2016                  84.2   \n",
       "363      Participation: working >30 hours a week  2017                  83.2   \n",
       "107      Participation: working >30 hours a week  2018                  89.0   \n",
       "108      Participation: working >30 hours a week  2019                  88.7   \n",
       "109      Participation: working >30 hours a week  2020                  80.5   \n",
       "110      Participation: working >30 hours a week  2021                  82.8   \n",
       "111      Participation: working >30 hours a week  2022                  83.6   \n",
       "364               Participation:student/scholier  2010                  83.8   \n",
       "365               Participation:student/scholier  2011                  84.5   \n",
       "366               Participation:student/scholier  2012                  83.5   \n",
       "367               Participation:student/scholier  2013                  83.6   \n",
       "368               Participation:student/scholier  2014                  84.6   \n",
       "369               Participation:student/scholier  2015                  82.8   \n",
       "370               Participation:student/scholier  2016                  83.2   \n",
       "371               Participation:student/scholier  2017                  82.1   \n",
       "412     Persons without student publ.transp.card  2010                  79.5   \n",
       "413     Persons without student publ.transp.card  2011                  79.7   \n",
       "414     Persons without student publ.transp.card  2012                  79.3   \n",
       "415     Persons without student publ.transp.card  2013                  79.6   \n",
       "416     Persons without student publ.transp.card  2014                    80   \n",
       "417     Persons without student publ.transp.card  2015                  79.1   \n",
       "418     Persons without student publ.transp.card  2016                  78.8   \n",
       "419     Persons without student publ.transp.card  2017                  78.1   \n",
       "82      Persons without student publ.transp.card  2018                  82.6   \n",
       "83      Persons without student publ.transp.card  2019                  81.7   \n",
       "84      Persons without student publ.transp.card  2020                  73.8   \n",
       "85      Persons without student publ.transp.card  2021                  78.0   \n",
       "86      Persons without student publ.transp.card  2022                  79.5   \n",
       "396        Students with week pass publ. transp.  2010                  85.6   \n",
       "397        Students with week pass publ. transp.  2011                  84.1   \n",
       "398        Students with week pass publ. transp.  2012                  83.5   \n",
       "399        Students with week pass publ. transp.  2013                  82.5   \n",
       "400        Students with week pass publ. transp.  2014                  83.7   \n",
       "401        Students with week pass publ. transp.  2015                    82   \n",
       "402        Students with week pass publ. transp.  2016                  81.6   \n",
       "403        Students with week pass publ. transp.  2017                  81.9   \n",
       "72         Students with week pass publ. transp.  2018                  88.7   \n",
       "73         Students with week pass publ. transp.  2019                  86.7   \n",
       "74         Students with week pass publ. transp.  2020                  73.5   \n",
       "75         Students with week pass publ. transp.  2021                  79.6   \n",
       "76         Students with week pass publ. transp.  2022                  83.8   \n",
       "404     Students with weekend pass publ. transp.  2010                    88   \n",
       "405     Students with weekend pass publ. transp.  2011                  85.5   \n",
       "406     Students with weekend pass publ. transp.  2012                  90.7   \n",
       "407     Students with weekend pass publ. transp.  2013                  88.8   \n",
       "408     Students with weekend pass publ. transp.  2014                  93.6   \n",
       "409     Students with weekend pass publ. transp.  2015                  84.4   \n",
       "410     Students with weekend pass publ. transp.  2016                  84.5   \n",
       "411     Students with weekend pass publ. transp.  2017                  86.6   \n",
       "77      Students with weekend pass publ. transp.  2018                  94.1   \n",
       "78      Students with weekend pass publ. transp.  2019                  89.0   \n",
       "79      Students with weekend pass publ. transp.  2020                  81.8   \n",
       "80      Students with weekend pass publ. transp.  2021                  82.4   \n",
       "81      Students with weekend pass publ. transp.  2022                  88.7   \n",
       "140                                Total persons  2010                  79.8   \n",
       "141                                Total persons  2011                  79.9   \n",
       "142                                Total persons  2012                  79.6   \n",
       "143                                Total persons  2013                  79.8   \n",
       "144                                Total persons  2014                  80.2   \n",
       "145                                Total persons  2015                  79.2   \n",
       "146                                Total persons  2016                    79   \n",
       "147                                Total persons  2017                  78.4   \n",
       "2                                  Total persons  2018                  82.9   \n",
       "3                                  Total persons  2019                  81.9   \n",
       "4                                  Total persons  2020                  73.8   \n",
       "5                                  Total persons  2021                  78.1   \n",
       "6                                  Total persons  2022                  79.7   \n",
       "\n",
       "    Use of public transport  \n",
       "260                      10  \n",
       "261                     9.8  \n",
       "262                     8.9  \n",
       "263                     9.8  \n",
       "264                     8.9  \n",
       "265                     9.6  \n",
       "266                     8.8  \n",
       "267                     9.8  \n",
       "12                     11.7  \n",
       "13                     10.7  \n",
       "14                      6.3  \n",
       "15                      6.3  \n",
       "16                      9.2  \n",
       "244                     7.5  \n",
       "245                       8  \n",
       "246                     7.5  \n",
       "247                     7.8  \n",
       "248                     7.4  \n",
       "249                     7.7  \n",
       "250                     7.5  \n",
       "251                     7.7  \n",
       "268                    23.2  \n",
       "269                    23.3  \n",
       "270                    23.5  \n",
       "271                    25.3  \n",
       "272                    23.3  \n",
       "273                      24  \n",
       "274                    23.4  \n",
       "275                    22.5  \n",
       "17                     23.8  \n",
       "18                     24.0  \n",
       "19                     11.9  \n",
       "20                     14.5  \n",
       "21                     18.4  \n",
       "276                     9.2  \n",
       "277                    10.2  \n",
       "278                     9.7  \n",
       "279                    10.6  \n",
       "280                     9.6  \n",
       "281                     9.9  \n",
       "282                      10  \n",
       "283                    11.6  \n",
       "22                     13.4  \n",
       "23                     13.4  \n",
       "24                      6.0  \n",
       "25                      6.5  \n",
       "26                      9.6  \n",
       "284                       5  \n",
       "285                     5.7  \n",
       "286                     5.1  \n",
       "287                     4.9  \n",
       "288                     5.2  \n",
       "289                     5.7  \n",
       "290                     5.6  \n",
       "291                     5.9  \n",
       "27                      7.1  \n",
       "28                      7.5  \n",
       "29                      3.2  \n",
       "30                      3.2  \n",
       "31                      4.8  \n",
       "292                     5.2  \n",
       "293                     5.5  \n",
       "294                     4.7  \n",
       "295                     4.7  \n",
       "296                     4.8  \n",
       "297                     4.8  \n",
       "298                     4.9  \n",
       "299                     4.8  \n",
       "32                      6.0  \n",
       "33                      6.0  \n",
       "34                      2.5  \n",
       "35                      2.4  \n",
       "36                      3.8  \n",
       "252                     2.2  \n",
       "253                     1.7  \n",
       "254                     1.7  \n",
       "255                     1.6  \n",
       "256                     2.1  \n",
       "257                     1.7  \n",
       "258                     1.8  \n",
       "259                     1.8  \n",
       "7                       2.1  \n",
       "8                       1.6  \n",
       "9                       NaN  \n",
       "10                      NaN  \n",
       "11                      1.6  \n",
       "300                     3.3  \n",
       "301                     4.1  \n",
       "302                     3.6  \n",
       "303                     3.5  \n",
       "304                     3.3  \n",
       "305                     3.1  \n",
       "306                     3.3  \n",
       "307                     3.2  \n",
       "37                      4.2  \n",
       "38                      4.2  \n",
       "39                      1.6  \n",
       "40                      1.8  \n",
       "41                      2.2  \n",
       "308                     2.7  \n",
       "309                     2.6  \n",
       "310                     2.8  \n",
       "311                     3.2  \n",
       "312                     2.6  \n",
       "313                       3  \n",
       "314                     2.6  \n",
       "315                     2.5  \n",
       "42                      3.2  \n",
       "43                      2.9  \n",
       "44                      1.1  \n",
       "45                      1.2  \n",
       "46                      1.8  \n",
       "172                     5.5  \n",
       "173                     5.8  \n",
       "174                     5.6  \n",
       "175                     5.8  \n",
       "176                     5.5  \n",
       "177                     5.7  \n",
       "178                     5.6  \n",
       "179                     5.9  \n",
       "188                    14.5  \n",
       "189                    15.6  \n",
       "190                    13.5  \n",
       "191                    14.6  \n",
       "192                    13.3  \n",
       "193                    14.1  \n",
       "194                    13.8  \n",
       "195                      13  \n",
       "180                     8.3  \n",
       "181                     8.5  \n",
       "182                     7.2  \n",
       "183                       8  \n",
       "184                     8.8  \n",
       "185                     7.5  \n",
       "186                     7.9  \n",
       "187                     7.8  \n",
       "316                    10.4  \n",
       "317                    10.7  \n",
       "318                    10.4  \n",
       "319                    10.7  \n",
       "320                    10.2  \n",
       "321                    10.7  \n",
       "322                    10.5  \n",
       "323                    10.7  \n",
       "324                     8.4  \n",
       "325                     9.2  \n",
       "326                     8.8  \n",
       "327                     8.9  \n",
       "328                       9  \n",
       "329                       9  \n",
       "330                     8.6  \n",
       "331                     9.4  \n",
       "332                     3.1  \n",
       "333                     3.2  \n",
       "334                     2.8  \n",
       "335                     3.2  \n",
       "336                     2.9  \n",
       "337                     2.9  \n",
       "338                     3.1  \n",
       "339                     3.1  \n",
       "47                     12.5  \n",
       "48                     12.1  \n",
       "49                      5.6  \n",
       "50                      7.0  \n",
       "51                      9.5  \n",
       "420                     8.5  \n",
       "421                     9.2  \n",
       "422                       9  \n",
       "423                     9.8  \n",
       "424                     8.9  \n",
       "425                     9.7  \n",
       "426                     8.9  \n",
       "427                    10.6  \n",
       "52                      7.4  \n",
       "53                      7.2  \n",
       "54                      3.5  \n",
       "55                      4.3  \n",
       "56                      5.6  \n",
       "428                     6.3  \n",
       "429                     5.8  \n",
       "430                     5.9  \n",
       "431                     5.6  \n",
       "432                     5.1  \n",
       "433                     5.4  \n",
       "434                     5.3  \n",
       "435                     6.2  \n",
       "57                      7.7  \n",
       "58                      8.1  \n",
       "59                      3.8  \n",
       "60                      3.8  \n",
       "61                      5.0  \n",
       "436                     5.9  \n",
       "437                     6.7  \n",
       "438                     5.8  \n",
       "439                     6.2  \n",
       "440                     6.4  \n",
       "441                     5.7  \n",
       "442                       6  \n",
       "443                     5.9  \n",
       "444                     6.7  \n",
       "445                     6.7  \n",
       "446                     6.3  \n",
       "447                     6.1  \n",
       "448                     5.9  \n",
       "449                     6.7  \n",
       "450                     6.2  \n",
       "451                     6.1  \n",
       "62                      7.5  \n",
       "63                      8.1  \n",
       "64                      3.3  \n",
       "65                      3.3  \n",
       "66                      5.3  \n",
       "452                       6  \n",
       "453                     6.8  \n",
       "454                     5.9  \n",
       "455                     6.9  \n",
       "456                     6.4  \n",
       "457                     6.4  \n",
       "458                     6.9  \n",
       "459                     7.1  \n",
       "67                      8.1  \n",
       "68                      7.6  \n",
       "69                      3.4  \n",
       "70                      3.1  \n",
       "71                      5.0  \n",
       "204                     6.7  \n",
       "205                     6.8  \n",
       "206                     6.7  \n",
       "207                     6.8  \n",
       "208                     6.3  \n",
       "209                       7  \n",
       "210                     7.4  \n",
       "211                     7.4  \n",
       "212                     6.2  \n",
       "213                     6.4  \n",
       "214                     6.1  \n",
       "215                     6.1  \n",
       "216                     6.1  \n",
       "217                     5.9  \n",
       "218                     5.7  \n",
       "219                       6  \n",
       "220                     6.6  \n",
       "221                     7.4  \n",
       "222                     6.1  \n",
       "223                     7.1  \n",
       "224                     6.6  \n",
       "225                     6.8  \n",
       "226                     6.1  \n",
       "227                     6.2  \n",
       "228                       6  \n",
       "229                       7  \n",
       "230                     6.5  \n",
       "231                     7.7  \n",
       "232                     6.3  \n",
       "233                     6.5  \n",
       "234                     7.6  \n",
       "235                     7.2  \n",
       "236                     5.1  \n",
       "237                     5.2  \n",
       "238                     4.8  \n",
       "239                     4.9  \n",
       "240                     5.6  \n",
       "241                     5.7  \n",
       "242                     6.6  \n",
       "243                     7.3  \n",
       "196                    14.4  \n",
       "197                    15.7  \n",
       "198                    14.5  \n",
       "199                    16.3  \n",
       "200                    13.7  \n",
       "201                    15.4  \n",
       "202                    15.1  \n",
       "203                    19.8  \n",
       "148                     5.7  \n",
       "149                     5.8  \n",
       "150                     5.6  \n",
       "151                     6.1  \n",
       "152                       6  \n",
       "153                     5.8  \n",
       "154                     5.6  \n",
       "155                     5.2  \n",
       "87                      5.9  \n",
       "88                      5.5  \n",
       "89                      2.9  \n",
       "90                      3.2  \n",
       "91                      4.5  \n",
       "156                     8.2  \n",
       "157                     8.9  \n",
       "158                     8.1  \n",
       "159                     8.8  \n",
       "160                     8.2  \n",
       "161                     8.7  \n",
       "162                     7.8  \n",
       "163                     8.3  \n",
       "92                      9.5  \n",
       "93                      9.3  \n",
       "94                      4.3  \n",
       "95                      5.3  \n",
       "96                      6.8  \n",
       "164                       9  \n",
       "165                     9.7  \n",
       "166                     9.1  \n",
       "167                     9.1  \n",
       "168                     8.4  \n",
       "169                     8.7  \n",
       "170                     9.4  \n",
       "171                     9.7  \n",
       "97                     11.3  \n",
       "98                     11.8  \n",
       "99                      4.8  \n",
       "100                     4.6  \n",
       "101                     7.1  \n",
       "340                     4.3  \n",
       "341                     4.8  \n",
       "342                       5  \n",
       "343                     4.1  \n",
       "344                     5.4  \n",
       "345                       4  \n",
       "346                     4.7  \n",
       "347                     4.5  \n",
       "122                     4.8  \n",
       "123                     5.6  \n",
       "124                     NaN  \n",
       "125                     NaN  \n",
       "126                     3.6  \n",
       "112                    13.9  \n",
       "113                    13.0  \n",
       "114                     6.7  \n",
       "115                     7.9  \n",
       "116                    10.7  \n",
       "388                       3  \n",
       "389                     3.3  \n",
       "390                     3.2  \n",
       "391                     3.3  \n",
       "392                     3.1  \n",
       "393                       3  \n",
       "394                       3  \n",
       "395                     2.9  \n",
       "127                     3.8  \n",
       "128                     3.7  \n",
       "129                     1.4  \n",
       "130                     1.5  \n",
       "131                     2.0  \n",
       "372                       6  \n",
       "373                     9.3  \n",
       "374                       8  \n",
       "375                     6.2  \n",
       "376                     7.4  \n",
       "377                       8  \n",
       "378                     7.9  \n",
       "379                       8  \n",
       "117                     6.6  \n",
       "118                     6.6  \n",
       "119                     NaN  \n",
       "120                     5.0  \n",
       "121                     6.2  \n",
       "380                     4.1  \n",
       "381                     4.4  \n",
       "382                     3.5  \n",
       "383                     4.4  \n",
       "384                     3.3  \n",
       "385                       4  \n",
       "386                     4.7  \n",
       "387                     4.4  \n",
       "132                     5.4  \n",
       "133                     5.0  \n",
       "134                     2.1  \n",
       "135                     2.9  \n",
       "136                     3.8  \n",
       "348                     6.4  \n",
       "349                     6.8  \n",
       "350                     6.4  \n",
       "351                     6.4  \n",
       "352                     5.9  \n",
       "353                     6.6  \n",
       "354                     6.5  \n",
       "355                     6.4  \n",
       "102                     7.8  \n",
       "103                     8.4  \n",
       "104                     3.9  \n",
       "105                     4.6  \n",
       "106                     6.4  \n",
       "356                     7.3  \n",
       "357                     7.7  \n",
       "358                     7.1  \n",
       "359                     7.5  \n",
       "360                       7  \n",
       "361                     7.2  \n",
       "362                     7.1  \n",
       "363                     7.8  \n",
       "107                     9.6  \n",
       "108                     9.9  \n",
       "109                     4.3  \n",
       "110                     4.0  \n",
       "111                     6.3  \n",
       "364                    12.5  \n",
       "365                    12.6  \n",
       "366                    12.3  \n",
       "367                    13.3  \n",
       "368                    12.8  \n",
       "369                    13.3  \n",
       "370                    12.4  \n",
       "371                    12.6  \n",
       "412                     5.4  \n",
       "413                     5.6  \n",
       "414                     5.3  \n",
       "415                     5.5  \n",
       "416                     5.3  \n",
       "417                     5.4  \n",
       "418                     5.5  \n",
       "419                     5.4  \n",
       "82                      7.1  \n",
       "83                      7.0  \n",
       "84                      3.2  \n",
       "85                      3.2  \n",
       "86                      4.8  \n",
       "396                    35.3  \n",
       "397                    38.5  \n",
       "398                    37.2  \n",
       "399                    41.3  \n",
       "400                      37  \n",
       "401                    37.9  \n",
       "402                    35.1  \n",
       "403                    36.3  \n",
       "72                     40.7  \n",
       "73                     41.1  \n",
       "74                     18.6  \n",
       "75                     23.7  \n",
       "76                     30.2  \n",
       "404                    25.9  \n",
       "405                      22  \n",
       "406                    25.8  \n",
       "407                    22.3  \n",
       "408                    25.7  \n",
       "409                    27.8  \n",
       "410                    24.1  \n",
       "411                    26.3  \n",
       "77                     17.2  \n",
       "78                     19.4  \n",
       "79                      NaN  \n",
       "80                     16.1  \n",
       "81                     19.2  \n",
       "140                     6.8  \n",
       "141                     7.1  \n",
       "142                     6.7  \n",
       "143                       7  \n",
       "144                     6.7  \n",
       "145                     6.9  \n",
       "146                     6.8  \n",
       "147                       7  \n",
       "2                       8.6  \n",
       "3                       8.6  \n",
       "4                       3.9  \n",
       "5                       4.2  \n",
       "6                       6.1  "
      ]
     },
     "execution_count": 15,
     "metadata": {},
     "output_type": "execute_result"
    }
   ],
   "source": [
    "pd.set_option('display.max_rows', None)\n",
    "merged_df"
   ]
  },
  {
   "cell_type": "code",
   "execution_count": null,
   "id": "a43291ca",
   "metadata": {},
   "outputs": [],
   "source": [
    "merged_df.to_csv('Project_datasets_merged_filtered.csv', index=False)"
   ]
  },
  {
   "cell_type": "markdown",
   "metadata": {},
   "source": [
    "- We have to adapt the datasets so we can combine the two datasets. The datasets contain the same information, but for a different period of time and in a different format. \n",
    "- Make sure everything is in English"
   ]
  },
  {
   "cell_type": "markdown",
   "metadata": {},
   "source": [
    "# Part 2 Data Processing"
   ]
  },
  {
   "cell_type": "markdown",
   "metadata": {},
   "source": [
    "**1.1**\n",
    "covid and public transport"
   ]
  },
  {
   "cell_type": "markdown",
   "metadata": {},
   "source": [
    "**1.2**"
   ]
  },
  {
   "cell_type": "code",
   "execution_count": 5,
   "metadata": {},
   "outputs": [],
   "source": [
    "def dictionary(df):\n",
    "    d = {}\n",
    "    demographic_group = df['Personal characteristics'].unique()\n",
    "    for i in range(len(demographic_group)):\n",
    "        d[demographic_group[i]] = df[df['Personal characteristics']==demographic_group[i]]\n",
    "    return d\n",
    "\n",
    "def dict_draw(dictionary, group, sex):\n",
    "    fig = px.line()\n",
    "    for i in range(len(group)):\n",
    "        fig.add_scatter(x=dictionary[group[i]]['Topic'], y=dictionary[group[i]][sex], mode='lines', name=group[i])\n",
    "\n",
    "    fig.update_layout(xaxis_title='year',\n",
    "                      yaxis_title=sex)\n",
    "    \n",
    "    fig.show()"
   ]
  },
  {
   "cell_type": "code",
   "execution_count": 6,
   "metadata": {},
   "outputs": [],
   "source": [
    "df = pd.read_csv('Project_datasets_merged_filtered.csv', index_col=None)\n",
    "d = dictionary(df)"
   ]
  },
  {
   "cell_type": "code",
   "execution_count": 7,
   "metadata": {},
   "outputs": [
    {
     "name": "stderr",
     "output_type": "stream",
     "text": [
      "c:\\Users\\natsu\\anaconda3\\envs\\TIL6022\\lib\\site-packages\\ipykernel_launcher.py:3: SettingWithCopyWarning: \n",
      "A value is trying to be set on a copy of a slice from a DataFrame.\n",
      "Try using .loc[row_indexer,col_indexer] = value instead\n",
      "\n",
      "See the caveats in the documentation: https://pandas.pydata.org/pandas-docs/stable/user_guide/indexing.html#returning-a-view-versus-a-copy\n",
      "  This is separate from the ipykernel package so we can avoid doing imports until\n",
      "c:\\Users\\natsu\\anaconda3\\envs\\TIL6022\\lib\\site-packages\\ipykernel_launcher.py:4: SettingWithCopyWarning: \n",
      "A value is trying to be set on a copy of a slice from a DataFrame.\n",
      "Try using .loc[row_indexer,col_indexer] = value instead\n",
      "\n",
      "See the caveats in the documentation: https://pandas.pydata.org/pandas-docs/stable/user_guide/indexing.html#returning-a-view-versus-a-copy\n",
      "  after removing the cwd from sys.path.\n"
     ]
    }
   ],
   "source": [
    "for i in range(len(d)):\n",
    "    temp = d[list(d.keys())[i]]\n",
    "    temp['Traffic participation diff'] = temp['Traffic participation'].diff()\n",
    "    temp['Use of public transport diff'] = temp['Use of public transport'].diff()\n",
    "    d[list(d.keys())[i]] = temp"
   ]
  },
  {
   "cell_type": "markdown",
   "metadata": {},
   "source": [
    "# Part 3 Data Visualisation"
   ]
  },
  {
   "cell_type": "markdown",
   "metadata": {},
   "source": [
    "We use library plotly to draw the graph"
   ]
  },
  {
   "cell_type": "code",
   "execution_count": 8,
   "metadata": {},
   "outputs": [],
   "source": [
    "import plotly.express as px"
   ]
  },
  {
   "cell_type": "markdown",
   "metadata": {},
   "source": [
    "We are studying the impact of COVID-19 on traffic by analyzing traffic data grouped by different employment situations."
   ]
  },
  {
   "cell_type": "code",
   "execution_count": 9,
   "metadata": {},
   "outputs": [],
   "source": [
    "particip=['Participation: working >30 hours a week',\n",
    "       'Participatie:student/scholier', 'Participation: unemployed',\n",
    "       'Particip.: claiming disability benefit', 'Participation: retired',\n",
    "       'Participation: unemployed, other']"
   ]
  },
  {
   "cell_type": "markdown",
   "metadata": {},
   "source": [
    "First, let's create a line graph for Traffic Participation by different groups over the years, and then a line graph for the differential of Traffic Participation by year."
   ]
  },
  {
   "cell_type": "code",
   "execution_count": 10,
   "metadata": {},
   "outputs": [
    {
     "data": {
      "application/vnd.plotly.v1+json": {
       "config": {
        "plotlyServerURL": "https://plot.ly"
       },
       "data": [
        {
         "hovertemplate": "<extra></extra>",
         "legendgroup": "",
         "line": {
          "color": "#636efa",
          "dash": "solid"
         },
         "marker": {
          "symbol": "circle"
         },
         "mode": "lines",
         "name": "",
         "orientation": "v",
         "showlegend": false,
         "type": "scatter",
         "xaxis": "x",
         "yaxis": "y"
        },
        {
         "mode": "lines",
         "name": "Participation: working >30 hours a week",
         "type": "scatter",
         "x": [
          2010,
          2011,
          2012,
          2013,
          2014,
          2015,
          2016,
          2017,
          2018,
          2019,
          2020,
          2021,
          2022
         ],
         "y": [
          85,
          84.5,
          84.7,
          84.7,
          84.7,
          84.2,
          84.2,
          83.2,
          89,
          88.7,
          80.5,
          82.8,
          83.6
         ]
        },
        {
         "mode": "lines",
         "name": "Participatie:student/scholier",
         "type": "scatter",
         "x": [
          2018,
          2019,
          2020,
          2021,
          2022
         ],
         "y": [
          87.2,
          86.4,
          74.9,
          80,
          82.5
         ]
        },
        {
         "mode": "lines",
         "name": "Participation: unemployed",
         "type": "scatter",
         "x": [
          2010,
          2011,
          2012,
          2013,
          2014,
          2015,
          2016,
          2017,
          2018,
          2019,
          2020,
          2021,
          2022
         ],
         "y": [
          73.2,
          74.6,
          72.1,
          74.8,
          74.3,
          73.6,
          71.6,
          71.1,
          75.2,
          71.2,
          66.1,
          66.4,
          66.3
         ]
        },
        {
         "mode": "lines",
         "name": "Particip.: claiming disability benefit",
         "type": "scatter",
         "x": [
          2010,
          2011,
          2012,
          2013,
          2014,
          2015,
          2016,
          2017,
          2018,
          2019,
          2020,
          2021,
          2022
         ],
         "y": [
          69.7,
          69.7,
          67.6,
          70.2,
          67.8,
          69.7,
          67.5,
          68,
          71.1,
          67.8,
          58.3,
          67.1,
          70.3
         ]
        },
        {
         "mode": "lines",
         "name": "Participation: retired",
         "type": "scatter",
         "x": [
          2010,
          2011,
          2012,
          2013,
          2014,
          2015,
          2016,
          2017,
          2018,
          2019,
          2020,
          2021,
          2022
         ],
         "y": [
          65.7,
          65.7,
          66.1,
          66.1,
          67.7,
          66.2,
          65.8,
          65.8,
          69.8,
          69,
          62.7,
          69.6,
          71.6
         ]
        },
        {
         "mode": "lines",
         "name": "Participation: unemployed, other",
         "type": "scatter",
         "x": [
          2010,
          2011,
          2012,
          2013,
          2014,
          2015,
          2016,
          2017,
          2018,
          2019,
          2020,
          2021,
          2022
         ],
         "y": [
          75.3,
          74.8,
          75.7,
          76.1,
          76.4,
          75.3,
          73,
          74.1,
          73.2,
          71,
          62.1,
          67.8,
          70.1
         ]
        }
       ],
       "layout": {
        "legend": {
         "tracegroupgap": 0
        },
        "margin": {
         "t": 60
        },
        "template": {
         "data": {
          "bar": [
           {
            "error_x": {
             "color": "#2a3f5f"
            },
            "error_y": {
             "color": "#2a3f5f"
            },
            "marker": {
             "line": {
              "color": "#E5ECF6",
              "width": 0.5
             },
             "pattern": {
              "fillmode": "overlay",
              "size": 10,
              "solidity": 0.2
             }
            },
            "type": "bar"
           }
          ],
          "barpolar": [
           {
            "marker": {
             "line": {
              "color": "#E5ECF6",
              "width": 0.5
             },
             "pattern": {
              "fillmode": "overlay",
              "size": 10,
              "solidity": 0.2
             }
            },
            "type": "barpolar"
           }
          ],
          "carpet": [
           {
            "aaxis": {
             "endlinecolor": "#2a3f5f",
             "gridcolor": "white",
             "linecolor": "white",
             "minorgridcolor": "white",
             "startlinecolor": "#2a3f5f"
            },
            "baxis": {
             "endlinecolor": "#2a3f5f",
             "gridcolor": "white",
             "linecolor": "white",
             "minorgridcolor": "white",
             "startlinecolor": "#2a3f5f"
            },
            "type": "carpet"
           }
          ],
          "choropleth": [
           {
            "colorbar": {
             "outlinewidth": 0,
             "ticks": ""
            },
            "type": "choropleth"
           }
          ],
          "contour": [
           {
            "colorbar": {
             "outlinewidth": 0,
             "ticks": ""
            },
            "colorscale": [
             [
              0,
              "#0d0887"
             ],
             [
              0.1111111111111111,
              "#46039f"
             ],
             [
              0.2222222222222222,
              "#7201a8"
             ],
             [
              0.3333333333333333,
              "#9c179e"
             ],
             [
              0.4444444444444444,
              "#bd3786"
             ],
             [
              0.5555555555555556,
              "#d8576b"
             ],
             [
              0.6666666666666666,
              "#ed7953"
             ],
             [
              0.7777777777777778,
              "#fb9f3a"
             ],
             [
              0.8888888888888888,
              "#fdca26"
             ],
             [
              1,
              "#f0f921"
             ]
            ],
            "type": "contour"
           }
          ],
          "contourcarpet": [
           {
            "colorbar": {
             "outlinewidth": 0,
             "ticks": ""
            },
            "type": "contourcarpet"
           }
          ],
          "heatmap": [
           {
            "colorbar": {
             "outlinewidth": 0,
             "ticks": ""
            },
            "colorscale": [
             [
              0,
              "#0d0887"
             ],
             [
              0.1111111111111111,
              "#46039f"
             ],
             [
              0.2222222222222222,
              "#7201a8"
             ],
             [
              0.3333333333333333,
              "#9c179e"
             ],
             [
              0.4444444444444444,
              "#bd3786"
             ],
             [
              0.5555555555555556,
              "#d8576b"
             ],
             [
              0.6666666666666666,
              "#ed7953"
             ],
             [
              0.7777777777777778,
              "#fb9f3a"
             ],
             [
              0.8888888888888888,
              "#fdca26"
             ],
             [
              1,
              "#f0f921"
             ]
            ],
            "type": "heatmap"
           }
          ],
          "heatmapgl": [
           {
            "colorbar": {
             "outlinewidth": 0,
             "ticks": ""
            },
            "colorscale": [
             [
              0,
              "#0d0887"
             ],
             [
              0.1111111111111111,
              "#46039f"
             ],
             [
              0.2222222222222222,
              "#7201a8"
             ],
             [
              0.3333333333333333,
              "#9c179e"
             ],
             [
              0.4444444444444444,
              "#bd3786"
             ],
             [
              0.5555555555555556,
              "#d8576b"
             ],
             [
              0.6666666666666666,
              "#ed7953"
             ],
             [
              0.7777777777777778,
              "#fb9f3a"
             ],
             [
              0.8888888888888888,
              "#fdca26"
             ],
             [
              1,
              "#f0f921"
             ]
            ],
            "type": "heatmapgl"
           }
          ],
          "histogram": [
           {
            "marker": {
             "pattern": {
              "fillmode": "overlay",
              "size": 10,
              "solidity": 0.2
             }
            },
            "type": "histogram"
           }
          ],
          "histogram2d": [
           {
            "colorbar": {
             "outlinewidth": 0,
             "ticks": ""
            },
            "colorscale": [
             [
              0,
              "#0d0887"
             ],
             [
              0.1111111111111111,
              "#46039f"
             ],
             [
              0.2222222222222222,
              "#7201a8"
             ],
             [
              0.3333333333333333,
              "#9c179e"
             ],
             [
              0.4444444444444444,
              "#bd3786"
             ],
             [
              0.5555555555555556,
              "#d8576b"
             ],
             [
              0.6666666666666666,
              "#ed7953"
             ],
             [
              0.7777777777777778,
              "#fb9f3a"
             ],
             [
              0.8888888888888888,
              "#fdca26"
             ],
             [
              1,
              "#f0f921"
             ]
            ],
            "type": "histogram2d"
           }
          ],
          "histogram2dcontour": [
           {
            "colorbar": {
             "outlinewidth": 0,
             "ticks": ""
            },
            "colorscale": [
             [
              0,
              "#0d0887"
             ],
             [
              0.1111111111111111,
              "#46039f"
             ],
             [
              0.2222222222222222,
              "#7201a8"
             ],
             [
              0.3333333333333333,
              "#9c179e"
             ],
             [
              0.4444444444444444,
              "#bd3786"
             ],
             [
              0.5555555555555556,
              "#d8576b"
             ],
             [
              0.6666666666666666,
              "#ed7953"
             ],
             [
              0.7777777777777778,
              "#fb9f3a"
             ],
             [
              0.8888888888888888,
              "#fdca26"
             ],
             [
              1,
              "#f0f921"
             ]
            ],
            "type": "histogram2dcontour"
           }
          ],
          "mesh3d": [
           {
            "colorbar": {
             "outlinewidth": 0,
             "ticks": ""
            },
            "type": "mesh3d"
           }
          ],
          "parcoords": [
           {
            "line": {
             "colorbar": {
              "outlinewidth": 0,
              "ticks": ""
             }
            },
            "type": "parcoords"
           }
          ],
          "pie": [
           {
            "automargin": true,
            "type": "pie"
           }
          ],
          "scatter": [
           {
            "fillpattern": {
             "fillmode": "overlay",
             "size": 10,
             "solidity": 0.2
            },
            "type": "scatter"
           }
          ],
          "scatter3d": [
           {
            "line": {
             "colorbar": {
              "outlinewidth": 0,
              "ticks": ""
             }
            },
            "marker": {
             "colorbar": {
              "outlinewidth": 0,
              "ticks": ""
             }
            },
            "type": "scatter3d"
           }
          ],
          "scattercarpet": [
           {
            "marker": {
             "colorbar": {
              "outlinewidth": 0,
              "ticks": ""
             }
            },
            "type": "scattercarpet"
           }
          ],
          "scattergeo": [
           {
            "marker": {
             "colorbar": {
              "outlinewidth": 0,
              "ticks": ""
             }
            },
            "type": "scattergeo"
           }
          ],
          "scattergl": [
           {
            "marker": {
             "colorbar": {
              "outlinewidth": 0,
              "ticks": ""
             }
            },
            "type": "scattergl"
           }
          ],
          "scattermapbox": [
           {
            "marker": {
             "colorbar": {
              "outlinewidth": 0,
              "ticks": ""
             }
            },
            "type": "scattermapbox"
           }
          ],
          "scatterpolar": [
           {
            "marker": {
             "colorbar": {
              "outlinewidth": 0,
              "ticks": ""
             }
            },
            "type": "scatterpolar"
           }
          ],
          "scatterpolargl": [
           {
            "marker": {
             "colorbar": {
              "outlinewidth": 0,
              "ticks": ""
             }
            },
            "type": "scatterpolargl"
           }
          ],
          "scatterternary": [
           {
            "marker": {
             "colorbar": {
              "outlinewidth": 0,
              "ticks": ""
             }
            },
            "type": "scatterternary"
           }
          ],
          "surface": [
           {
            "colorbar": {
             "outlinewidth": 0,
             "ticks": ""
            },
            "colorscale": [
             [
              0,
              "#0d0887"
             ],
             [
              0.1111111111111111,
              "#46039f"
             ],
             [
              0.2222222222222222,
              "#7201a8"
             ],
             [
              0.3333333333333333,
              "#9c179e"
             ],
             [
              0.4444444444444444,
              "#bd3786"
             ],
             [
              0.5555555555555556,
              "#d8576b"
             ],
             [
              0.6666666666666666,
              "#ed7953"
             ],
             [
              0.7777777777777778,
              "#fb9f3a"
             ],
             [
              0.8888888888888888,
              "#fdca26"
             ],
             [
              1,
              "#f0f921"
             ]
            ],
            "type": "surface"
           }
          ],
          "table": [
           {
            "cells": {
             "fill": {
              "color": "#EBF0F8"
             },
             "line": {
              "color": "white"
             }
            },
            "header": {
             "fill": {
              "color": "#C8D4E3"
             },
             "line": {
              "color": "white"
             }
            },
            "type": "table"
           }
          ]
         },
         "layout": {
          "annotationdefaults": {
           "arrowcolor": "#2a3f5f",
           "arrowhead": 0,
           "arrowwidth": 1
          },
          "autotypenumbers": "strict",
          "coloraxis": {
           "colorbar": {
            "outlinewidth": 0,
            "ticks": ""
           }
          },
          "colorscale": {
           "diverging": [
            [
             0,
             "#8e0152"
            ],
            [
             0.1,
             "#c51b7d"
            ],
            [
             0.2,
             "#de77ae"
            ],
            [
             0.3,
             "#f1b6da"
            ],
            [
             0.4,
             "#fde0ef"
            ],
            [
             0.5,
             "#f7f7f7"
            ],
            [
             0.6,
             "#e6f5d0"
            ],
            [
             0.7,
             "#b8e186"
            ],
            [
             0.8,
             "#7fbc41"
            ],
            [
             0.9,
             "#4d9221"
            ],
            [
             1,
             "#276419"
            ]
           ],
           "sequential": [
            [
             0,
             "#0d0887"
            ],
            [
             0.1111111111111111,
             "#46039f"
            ],
            [
             0.2222222222222222,
             "#7201a8"
            ],
            [
             0.3333333333333333,
             "#9c179e"
            ],
            [
             0.4444444444444444,
             "#bd3786"
            ],
            [
             0.5555555555555556,
             "#d8576b"
            ],
            [
             0.6666666666666666,
             "#ed7953"
            ],
            [
             0.7777777777777778,
             "#fb9f3a"
            ],
            [
             0.8888888888888888,
             "#fdca26"
            ],
            [
             1,
             "#f0f921"
            ]
           ],
           "sequentialminus": [
            [
             0,
             "#0d0887"
            ],
            [
             0.1111111111111111,
             "#46039f"
            ],
            [
             0.2222222222222222,
             "#7201a8"
            ],
            [
             0.3333333333333333,
             "#9c179e"
            ],
            [
             0.4444444444444444,
             "#bd3786"
            ],
            [
             0.5555555555555556,
             "#d8576b"
            ],
            [
             0.6666666666666666,
             "#ed7953"
            ],
            [
             0.7777777777777778,
             "#fb9f3a"
            ],
            [
             0.8888888888888888,
             "#fdca26"
            ],
            [
             1,
             "#f0f921"
            ]
           ]
          },
          "colorway": [
           "#636efa",
           "#EF553B",
           "#00cc96",
           "#ab63fa",
           "#FFA15A",
           "#19d3f3",
           "#FF6692",
           "#B6E880",
           "#FF97FF",
           "#FECB52"
          ],
          "font": {
           "color": "#2a3f5f"
          },
          "geo": {
           "bgcolor": "white",
           "lakecolor": "white",
           "landcolor": "#E5ECF6",
           "showlakes": true,
           "showland": true,
           "subunitcolor": "white"
          },
          "hoverlabel": {
           "align": "left"
          },
          "hovermode": "closest",
          "mapbox": {
           "style": "light"
          },
          "paper_bgcolor": "white",
          "plot_bgcolor": "#E5ECF6",
          "polar": {
           "angularaxis": {
            "gridcolor": "white",
            "linecolor": "white",
            "ticks": ""
           },
           "bgcolor": "#E5ECF6",
           "radialaxis": {
            "gridcolor": "white",
            "linecolor": "white",
            "ticks": ""
           }
          },
          "scene": {
           "xaxis": {
            "backgroundcolor": "#E5ECF6",
            "gridcolor": "white",
            "gridwidth": 2,
            "linecolor": "white",
            "showbackground": true,
            "ticks": "",
            "zerolinecolor": "white"
           },
           "yaxis": {
            "backgroundcolor": "#E5ECF6",
            "gridcolor": "white",
            "gridwidth": 2,
            "linecolor": "white",
            "showbackground": true,
            "ticks": "",
            "zerolinecolor": "white"
           },
           "zaxis": {
            "backgroundcolor": "#E5ECF6",
            "gridcolor": "white",
            "gridwidth": 2,
            "linecolor": "white",
            "showbackground": true,
            "ticks": "",
            "zerolinecolor": "white"
           }
          },
          "shapedefaults": {
           "line": {
            "color": "#2a3f5f"
           }
          },
          "ternary": {
           "aaxis": {
            "gridcolor": "white",
            "linecolor": "white",
            "ticks": ""
           },
           "baxis": {
            "gridcolor": "white",
            "linecolor": "white",
            "ticks": ""
           },
           "bgcolor": "#E5ECF6",
           "caxis": {
            "gridcolor": "white",
            "linecolor": "white",
            "ticks": ""
           }
          },
          "title": {
           "x": 0.05
          },
          "xaxis": {
           "automargin": true,
           "gridcolor": "white",
           "linecolor": "white",
           "ticks": "",
           "title": {
            "standoff": 15
           },
           "zerolinecolor": "white",
           "zerolinewidth": 2
          },
          "yaxis": {
           "automargin": true,
           "gridcolor": "white",
           "linecolor": "white",
           "ticks": "",
           "title": {
            "standoff": 15
           },
           "zerolinecolor": "white",
           "zerolinewidth": 2
          }
         }
        },
        "xaxis": {
         "anchor": "y",
         "domain": [
          0,
          1
         ],
         "title": {
          "text": "year"
         }
        },
        "yaxis": {
         "anchor": "x",
         "domain": [
          0,
          1
         ],
         "title": {
          "text": "Traffic participation"
         }
        }
       }
      }
     },
     "metadata": {},
     "output_type": "display_data"
    }
   ],
   "source": [
    "dict_draw(d, particip, 'Traffic participation')"
   ]
  },
  {
   "cell_type": "code",
   "execution_count": 11,
   "metadata": {},
   "outputs": [
    {
     "data": {
      "application/vnd.plotly.v1+json": {
       "config": {
        "plotlyServerURL": "https://plot.ly"
       },
       "data": [
        {
         "hovertemplate": "<extra></extra>",
         "legendgroup": "",
         "line": {
          "color": "#636efa",
          "dash": "solid"
         },
         "marker": {
          "symbol": "circle"
         },
         "mode": "lines",
         "name": "",
         "orientation": "v",
         "showlegend": false,
         "type": "scatter",
         "xaxis": "x",
         "yaxis": "y"
        },
        {
         "mode": "lines",
         "name": "Participation: working >30 hours a week",
         "type": "scatter",
         "x": [
          2010,
          2011,
          2012,
          2013,
          2014,
          2015,
          2016,
          2017,
          2018,
          2019,
          2020,
          2021,
          2022
         ],
         "y": [
          null,
          -0.5,
          0.20000000000000284,
          0,
          0,
          -0.5,
          0,
          -1,
          5.799999999999997,
          -0.29999999999999716,
          -8.200000000000003,
          2.299999999999997,
          0.7999999999999972
         ]
        },
        {
         "mode": "lines",
         "name": "Participatie:student/scholier",
         "type": "scatter",
         "x": [
          2018,
          2019,
          2020,
          2021,
          2022
         ],
         "y": [
          null,
          -0.7999999999999972,
          -11.5,
          5.099999999999994,
          2.5
         ]
        },
        {
         "mode": "lines",
         "name": "Participation: unemployed",
         "type": "scatter",
         "x": [
          2010,
          2011,
          2012,
          2013,
          2014,
          2015,
          2016,
          2017,
          2018,
          2019,
          2020,
          2021,
          2022
         ],
         "y": [
          null,
          1.3999999999999915,
          -2.5,
          2.700000000000003,
          -0.5,
          -0.7000000000000028,
          -2,
          -0.5,
          4.1000000000000085,
          -4,
          -5.1000000000000085,
          0.30000000000001137,
          -0.10000000000000853
         ]
        },
        {
         "mode": "lines",
         "name": "Particip.: claiming disability benefit",
         "type": "scatter",
         "x": [
          2010,
          2011,
          2012,
          2013,
          2014,
          2015,
          2016,
          2017,
          2018,
          2019,
          2020,
          2021,
          2022
         ],
         "y": [
          null,
          0,
          -2.1000000000000085,
          2.6000000000000085,
          -2.4000000000000057,
          1.9000000000000057,
          -2.200000000000003,
          0.5,
          3.0999999999999943,
          -3.299999999999997,
          -9.5,
          8.799999999999997,
          3.200000000000003
         ]
        },
        {
         "mode": "lines",
         "name": "Participation: retired",
         "type": "scatter",
         "x": [
          2010,
          2011,
          2012,
          2013,
          2014,
          2015,
          2016,
          2017,
          2018,
          2019,
          2020,
          2021,
          2022
         ],
         "y": [
          null,
          0,
          0.3999999999999915,
          0,
          1.6000000000000085,
          -1.5,
          -0.4000000000000057,
          0,
          4,
          -0.7999999999999972,
          -6.299999999999997,
          6.8999999999999915,
          2
         ]
        },
        {
         "mode": "lines",
         "name": "Participation: unemployed, other",
         "type": "scatter",
         "x": [
          2010,
          2011,
          2012,
          2013,
          2014,
          2015,
          2016,
          2017,
          2018,
          2019,
          2020,
          2021,
          2022
         ],
         "y": [
          null,
          -0.5,
          0.9000000000000057,
          0.3999999999999915,
          0.30000000000001137,
          -1.1000000000000085,
          -2.299999999999997,
          1.0999999999999943,
          -0.8999999999999915,
          -2.200000000000003,
          -8.899999999999999,
          5.699999999999996,
          2.299999999999997
         ]
        }
       ],
       "layout": {
        "legend": {
         "tracegroupgap": 0
        },
        "margin": {
         "t": 60
        },
        "template": {
         "data": {
          "bar": [
           {
            "error_x": {
             "color": "#2a3f5f"
            },
            "error_y": {
             "color": "#2a3f5f"
            },
            "marker": {
             "line": {
              "color": "#E5ECF6",
              "width": 0.5
             },
             "pattern": {
              "fillmode": "overlay",
              "size": 10,
              "solidity": 0.2
             }
            },
            "type": "bar"
           }
          ],
          "barpolar": [
           {
            "marker": {
             "line": {
              "color": "#E5ECF6",
              "width": 0.5
             },
             "pattern": {
              "fillmode": "overlay",
              "size": 10,
              "solidity": 0.2
             }
            },
            "type": "barpolar"
           }
          ],
          "carpet": [
           {
            "aaxis": {
             "endlinecolor": "#2a3f5f",
             "gridcolor": "white",
             "linecolor": "white",
             "minorgridcolor": "white",
             "startlinecolor": "#2a3f5f"
            },
            "baxis": {
             "endlinecolor": "#2a3f5f",
             "gridcolor": "white",
             "linecolor": "white",
             "minorgridcolor": "white",
             "startlinecolor": "#2a3f5f"
            },
            "type": "carpet"
           }
          ],
          "choropleth": [
           {
            "colorbar": {
             "outlinewidth": 0,
             "ticks": ""
            },
            "type": "choropleth"
           }
          ],
          "contour": [
           {
            "colorbar": {
             "outlinewidth": 0,
             "ticks": ""
            },
            "colorscale": [
             [
              0,
              "#0d0887"
             ],
             [
              0.1111111111111111,
              "#46039f"
             ],
             [
              0.2222222222222222,
              "#7201a8"
             ],
             [
              0.3333333333333333,
              "#9c179e"
             ],
             [
              0.4444444444444444,
              "#bd3786"
             ],
             [
              0.5555555555555556,
              "#d8576b"
             ],
             [
              0.6666666666666666,
              "#ed7953"
             ],
             [
              0.7777777777777778,
              "#fb9f3a"
             ],
             [
              0.8888888888888888,
              "#fdca26"
             ],
             [
              1,
              "#f0f921"
             ]
            ],
            "type": "contour"
           }
          ],
          "contourcarpet": [
           {
            "colorbar": {
             "outlinewidth": 0,
             "ticks": ""
            },
            "type": "contourcarpet"
           }
          ],
          "heatmap": [
           {
            "colorbar": {
             "outlinewidth": 0,
             "ticks": ""
            },
            "colorscale": [
             [
              0,
              "#0d0887"
             ],
             [
              0.1111111111111111,
              "#46039f"
             ],
             [
              0.2222222222222222,
              "#7201a8"
             ],
             [
              0.3333333333333333,
              "#9c179e"
             ],
             [
              0.4444444444444444,
              "#bd3786"
             ],
             [
              0.5555555555555556,
              "#d8576b"
             ],
             [
              0.6666666666666666,
              "#ed7953"
             ],
             [
              0.7777777777777778,
              "#fb9f3a"
             ],
             [
              0.8888888888888888,
              "#fdca26"
             ],
             [
              1,
              "#f0f921"
             ]
            ],
            "type": "heatmap"
           }
          ],
          "heatmapgl": [
           {
            "colorbar": {
             "outlinewidth": 0,
             "ticks": ""
            },
            "colorscale": [
             [
              0,
              "#0d0887"
             ],
             [
              0.1111111111111111,
              "#46039f"
             ],
             [
              0.2222222222222222,
              "#7201a8"
             ],
             [
              0.3333333333333333,
              "#9c179e"
             ],
             [
              0.4444444444444444,
              "#bd3786"
             ],
             [
              0.5555555555555556,
              "#d8576b"
             ],
             [
              0.6666666666666666,
              "#ed7953"
             ],
             [
              0.7777777777777778,
              "#fb9f3a"
             ],
             [
              0.8888888888888888,
              "#fdca26"
             ],
             [
              1,
              "#f0f921"
             ]
            ],
            "type": "heatmapgl"
           }
          ],
          "histogram": [
           {
            "marker": {
             "pattern": {
              "fillmode": "overlay",
              "size": 10,
              "solidity": 0.2
             }
            },
            "type": "histogram"
           }
          ],
          "histogram2d": [
           {
            "colorbar": {
             "outlinewidth": 0,
             "ticks": ""
            },
            "colorscale": [
             [
              0,
              "#0d0887"
             ],
             [
              0.1111111111111111,
              "#46039f"
             ],
             [
              0.2222222222222222,
              "#7201a8"
             ],
             [
              0.3333333333333333,
              "#9c179e"
             ],
             [
              0.4444444444444444,
              "#bd3786"
             ],
             [
              0.5555555555555556,
              "#d8576b"
             ],
             [
              0.6666666666666666,
              "#ed7953"
             ],
             [
              0.7777777777777778,
              "#fb9f3a"
             ],
             [
              0.8888888888888888,
              "#fdca26"
             ],
             [
              1,
              "#f0f921"
             ]
            ],
            "type": "histogram2d"
           }
          ],
          "histogram2dcontour": [
           {
            "colorbar": {
             "outlinewidth": 0,
             "ticks": ""
            },
            "colorscale": [
             [
              0,
              "#0d0887"
             ],
             [
              0.1111111111111111,
              "#46039f"
             ],
             [
              0.2222222222222222,
              "#7201a8"
             ],
             [
              0.3333333333333333,
              "#9c179e"
             ],
             [
              0.4444444444444444,
              "#bd3786"
             ],
             [
              0.5555555555555556,
              "#d8576b"
             ],
             [
              0.6666666666666666,
              "#ed7953"
             ],
             [
              0.7777777777777778,
              "#fb9f3a"
             ],
             [
              0.8888888888888888,
              "#fdca26"
             ],
             [
              1,
              "#f0f921"
             ]
            ],
            "type": "histogram2dcontour"
           }
          ],
          "mesh3d": [
           {
            "colorbar": {
             "outlinewidth": 0,
             "ticks": ""
            },
            "type": "mesh3d"
           }
          ],
          "parcoords": [
           {
            "line": {
             "colorbar": {
              "outlinewidth": 0,
              "ticks": ""
             }
            },
            "type": "parcoords"
           }
          ],
          "pie": [
           {
            "automargin": true,
            "type": "pie"
           }
          ],
          "scatter": [
           {
            "fillpattern": {
             "fillmode": "overlay",
             "size": 10,
             "solidity": 0.2
            },
            "type": "scatter"
           }
          ],
          "scatter3d": [
           {
            "line": {
             "colorbar": {
              "outlinewidth": 0,
              "ticks": ""
             }
            },
            "marker": {
             "colorbar": {
              "outlinewidth": 0,
              "ticks": ""
             }
            },
            "type": "scatter3d"
           }
          ],
          "scattercarpet": [
           {
            "marker": {
             "colorbar": {
              "outlinewidth": 0,
              "ticks": ""
             }
            },
            "type": "scattercarpet"
           }
          ],
          "scattergeo": [
           {
            "marker": {
             "colorbar": {
              "outlinewidth": 0,
              "ticks": ""
             }
            },
            "type": "scattergeo"
           }
          ],
          "scattergl": [
           {
            "marker": {
             "colorbar": {
              "outlinewidth": 0,
              "ticks": ""
             }
            },
            "type": "scattergl"
           }
          ],
          "scattermapbox": [
           {
            "marker": {
             "colorbar": {
              "outlinewidth": 0,
              "ticks": ""
             }
            },
            "type": "scattermapbox"
           }
          ],
          "scatterpolar": [
           {
            "marker": {
             "colorbar": {
              "outlinewidth": 0,
              "ticks": ""
             }
            },
            "type": "scatterpolar"
           }
          ],
          "scatterpolargl": [
           {
            "marker": {
             "colorbar": {
              "outlinewidth": 0,
              "ticks": ""
             }
            },
            "type": "scatterpolargl"
           }
          ],
          "scatterternary": [
           {
            "marker": {
             "colorbar": {
              "outlinewidth": 0,
              "ticks": ""
             }
            },
            "type": "scatterternary"
           }
          ],
          "surface": [
           {
            "colorbar": {
             "outlinewidth": 0,
             "ticks": ""
            },
            "colorscale": [
             [
              0,
              "#0d0887"
             ],
             [
              0.1111111111111111,
              "#46039f"
             ],
             [
              0.2222222222222222,
              "#7201a8"
             ],
             [
              0.3333333333333333,
              "#9c179e"
             ],
             [
              0.4444444444444444,
              "#bd3786"
             ],
             [
              0.5555555555555556,
              "#d8576b"
             ],
             [
              0.6666666666666666,
              "#ed7953"
             ],
             [
              0.7777777777777778,
              "#fb9f3a"
             ],
             [
              0.8888888888888888,
              "#fdca26"
             ],
             [
              1,
              "#f0f921"
             ]
            ],
            "type": "surface"
           }
          ],
          "table": [
           {
            "cells": {
             "fill": {
              "color": "#EBF0F8"
             },
             "line": {
              "color": "white"
             }
            },
            "header": {
             "fill": {
              "color": "#C8D4E3"
             },
             "line": {
              "color": "white"
             }
            },
            "type": "table"
           }
          ]
         },
         "layout": {
          "annotationdefaults": {
           "arrowcolor": "#2a3f5f",
           "arrowhead": 0,
           "arrowwidth": 1
          },
          "autotypenumbers": "strict",
          "coloraxis": {
           "colorbar": {
            "outlinewidth": 0,
            "ticks": ""
           }
          },
          "colorscale": {
           "diverging": [
            [
             0,
             "#8e0152"
            ],
            [
             0.1,
             "#c51b7d"
            ],
            [
             0.2,
             "#de77ae"
            ],
            [
             0.3,
             "#f1b6da"
            ],
            [
             0.4,
             "#fde0ef"
            ],
            [
             0.5,
             "#f7f7f7"
            ],
            [
             0.6,
             "#e6f5d0"
            ],
            [
             0.7,
             "#b8e186"
            ],
            [
             0.8,
             "#7fbc41"
            ],
            [
             0.9,
             "#4d9221"
            ],
            [
             1,
             "#276419"
            ]
           ],
           "sequential": [
            [
             0,
             "#0d0887"
            ],
            [
             0.1111111111111111,
             "#46039f"
            ],
            [
             0.2222222222222222,
             "#7201a8"
            ],
            [
             0.3333333333333333,
             "#9c179e"
            ],
            [
             0.4444444444444444,
             "#bd3786"
            ],
            [
             0.5555555555555556,
             "#d8576b"
            ],
            [
             0.6666666666666666,
             "#ed7953"
            ],
            [
             0.7777777777777778,
             "#fb9f3a"
            ],
            [
             0.8888888888888888,
             "#fdca26"
            ],
            [
             1,
             "#f0f921"
            ]
           ],
           "sequentialminus": [
            [
             0,
             "#0d0887"
            ],
            [
             0.1111111111111111,
             "#46039f"
            ],
            [
             0.2222222222222222,
             "#7201a8"
            ],
            [
             0.3333333333333333,
             "#9c179e"
            ],
            [
             0.4444444444444444,
             "#bd3786"
            ],
            [
             0.5555555555555556,
             "#d8576b"
            ],
            [
             0.6666666666666666,
             "#ed7953"
            ],
            [
             0.7777777777777778,
             "#fb9f3a"
            ],
            [
             0.8888888888888888,
             "#fdca26"
            ],
            [
             1,
             "#f0f921"
            ]
           ]
          },
          "colorway": [
           "#636efa",
           "#EF553B",
           "#00cc96",
           "#ab63fa",
           "#FFA15A",
           "#19d3f3",
           "#FF6692",
           "#B6E880",
           "#FF97FF",
           "#FECB52"
          ],
          "font": {
           "color": "#2a3f5f"
          },
          "geo": {
           "bgcolor": "white",
           "lakecolor": "white",
           "landcolor": "#E5ECF6",
           "showlakes": true,
           "showland": true,
           "subunitcolor": "white"
          },
          "hoverlabel": {
           "align": "left"
          },
          "hovermode": "closest",
          "mapbox": {
           "style": "light"
          },
          "paper_bgcolor": "white",
          "plot_bgcolor": "#E5ECF6",
          "polar": {
           "angularaxis": {
            "gridcolor": "white",
            "linecolor": "white",
            "ticks": ""
           },
           "bgcolor": "#E5ECF6",
           "radialaxis": {
            "gridcolor": "white",
            "linecolor": "white",
            "ticks": ""
           }
          },
          "scene": {
           "xaxis": {
            "backgroundcolor": "#E5ECF6",
            "gridcolor": "white",
            "gridwidth": 2,
            "linecolor": "white",
            "showbackground": true,
            "ticks": "",
            "zerolinecolor": "white"
           },
           "yaxis": {
            "backgroundcolor": "#E5ECF6",
            "gridcolor": "white",
            "gridwidth": 2,
            "linecolor": "white",
            "showbackground": true,
            "ticks": "",
            "zerolinecolor": "white"
           },
           "zaxis": {
            "backgroundcolor": "#E5ECF6",
            "gridcolor": "white",
            "gridwidth": 2,
            "linecolor": "white",
            "showbackground": true,
            "ticks": "",
            "zerolinecolor": "white"
           }
          },
          "shapedefaults": {
           "line": {
            "color": "#2a3f5f"
           }
          },
          "ternary": {
           "aaxis": {
            "gridcolor": "white",
            "linecolor": "white",
            "ticks": ""
           },
           "baxis": {
            "gridcolor": "white",
            "linecolor": "white",
            "ticks": ""
           },
           "bgcolor": "#E5ECF6",
           "caxis": {
            "gridcolor": "white",
            "linecolor": "white",
            "ticks": ""
           }
          },
          "title": {
           "x": 0.05
          },
          "xaxis": {
           "automargin": true,
           "gridcolor": "white",
           "linecolor": "white",
           "ticks": "",
           "title": {
            "standoff": 15
           },
           "zerolinecolor": "white",
           "zerolinewidth": 2
          },
          "yaxis": {
           "automargin": true,
           "gridcolor": "white",
           "linecolor": "white",
           "ticks": "",
           "title": {
            "standoff": 15
           },
           "zerolinecolor": "white",
           "zerolinewidth": 2
          }
         }
        },
        "xaxis": {
         "anchor": "y",
         "domain": [
          0,
          1
         ],
         "title": {
          "text": "year"
         }
        },
        "yaxis": {
         "anchor": "x",
         "domain": [
          0,
          1
         ],
         "title": {
          "text": "Traffic participation diff"
         }
        }
       }
      }
     },
     "metadata": {},
     "output_type": "display_data"
    }
   ],
   "source": [
    "dict_draw(d, particip, 'Traffic participation diff')"
   ]
  },
  {
   "cell_type": "markdown",
   "metadata": {},
   "source": [
    "We can observe that, except for the \"Participation: unemployed\" group, most other groups show a general trend of a slight increase in Traffic Participation from 2017 to 2018. There is a noticeable decline in 2020 when the COVID-19 pandemic hit, and after the pandemic ended in 2021, Traffic Participation gradually recovered to the levels seen before 2018. However, the \"Participation: unemployed\" group continues to decrease after the pandemic, possibly due to the economic impact of the pandemic, which requires more time for those without stable income to recover.\n",
    "\n",
    "From the differential data, we can see that the \"Participation: student/scholier\" group was the most affected by the pandemic, while the \"Participation: claiming disability benefit\" group recovered the fastest after the pandemic. This could be because some of the policies, such as online schooling, continued during the pandemic, reducing student travel. In contrast, the disabled community primarily has essential needs that require outdoor activities, so they returned to normal levels more rapidly once pandemic-related policies were lifted."
   ]
  },
  {
   "cell_type": "markdown",
   "metadata": {},
   "source": [
    "Secondly, let's create a line chart for the Use of Public Transport by different groups over the years, and a line chart for the Year-on-Year Difference in the Use of Public Transport."
   ]
  },
  {
   "cell_type": "code",
   "execution_count": 12,
   "metadata": {},
   "outputs": [
    {
     "data": {
      "application/vnd.plotly.v1+json": {
       "config": {
        "plotlyServerURL": "https://plot.ly"
       },
       "data": [
        {
         "hovertemplate": "<extra></extra>",
         "legendgroup": "",
         "line": {
          "color": "#636efa",
          "dash": "solid"
         },
         "marker": {
          "symbol": "circle"
         },
         "mode": "lines",
         "name": "",
         "orientation": "v",
         "showlegend": false,
         "type": "scatter",
         "xaxis": "x",
         "yaxis": "y"
        },
        {
         "mode": "lines",
         "name": "Participation: working >30 hours a week",
         "type": "scatter",
         "x": [
          2010,
          2011,
          2012,
          2013,
          2014,
          2015,
          2016,
          2017,
          2018,
          2019,
          2020,
          2021,
          2022
         ],
         "y": [
          7.3,
          7.7,
          7.1,
          7.5,
          7,
          7.2,
          7.1,
          7.8,
          9.6,
          9.9,
          4.3,
          4,
          6.3
         ]
        },
        {
         "mode": "lines",
         "name": "Participatie:student/scholier",
         "type": "scatter",
         "x": [
          2018,
          2019,
          2020,
          2021,
          2022
         ],
         "y": [
          13.9,
          13,
          6.7,
          7.9,
          10.7
         ]
        },
        {
         "mode": "lines",
         "name": "Participation: unemployed",
         "type": "scatter",
         "x": [
          2010,
          2011,
          2012,
          2013,
          2014,
          2015,
          2016,
          2017,
          2018,
          2019,
          2020,
          2021,
          2022
         ],
         "y": [
          6,
          9.3,
          8,
          6.2,
          7.4,
          8,
          7.9,
          8,
          6.6,
          6.6,
          null,
          5,
          6.2
         ]
        },
        {
         "mode": "lines",
         "name": "Particip.: claiming disability benefit",
         "type": "scatter",
         "x": [
          2010,
          2011,
          2012,
          2013,
          2014,
          2015,
          2016,
          2017,
          2018,
          2019,
          2020,
          2021,
          2022
         ],
         "y": [
          4.3,
          4.8,
          5,
          4.1,
          5.4,
          4,
          4.7,
          4.5,
          4.8,
          5.6,
          null,
          null,
          3.6
         ]
        },
        {
         "mode": "lines",
         "name": "Participation: retired",
         "type": "scatter",
         "x": [
          2010,
          2011,
          2012,
          2013,
          2014,
          2015,
          2016,
          2017,
          2018,
          2019,
          2020,
          2021,
          2022
         ],
         "y": [
          3,
          3.3,
          3.2,
          3.3,
          3.1,
          3,
          3,
          2.9,
          3.8,
          3.7,
          1.4,
          1.5,
          2
         ]
        },
        {
         "mode": "lines",
         "name": "Participation: unemployed, other",
         "type": "scatter",
         "x": [
          2010,
          2011,
          2012,
          2013,
          2014,
          2015,
          2016,
          2017,
          2018,
          2019,
          2020,
          2021,
          2022
         ],
         "y": [
          4.1,
          4.4,
          3.5,
          4.4,
          3.3,
          4,
          4.7,
          4.4,
          5.4,
          5,
          2.1,
          2.9,
          3.8
         ]
        }
       ],
       "layout": {
        "legend": {
         "tracegroupgap": 0
        },
        "margin": {
         "t": 60
        },
        "template": {
         "data": {
          "bar": [
           {
            "error_x": {
             "color": "#2a3f5f"
            },
            "error_y": {
             "color": "#2a3f5f"
            },
            "marker": {
             "line": {
              "color": "#E5ECF6",
              "width": 0.5
             },
             "pattern": {
              "fillmode": "overlay",
              "size": 10,
              "solidity": 0.2
             }
            },
            "type": "bar"
           }
          ],
          "barpolar": [
           {
            "marker": {
             "line": {
              "color": "#E5ECF6",
              "width": 0.5
             },
             "pattern": {
              "fillmode": "overlay",
              "size": 10,
              "solidity": 0.2
             }
            },
            "type": "barpolar"
           }
          ],
          "carpet": [
           {
            "aaxis": {
             "endlinecolor": "#2a3f5f",
             "gridcolor": "white",
             "linecolor": "white",
             "minorgridcolor": "white",
             "startlinecolor": "#2a3f5f"
            },
            "baxis": {
             "endlinecolor": "#2a3f5f",
             "gridcolor": "white",
             "linecolor": "white",
             "minorgridcolor": "white",
             "startlinecolor": "#2a3f5f"
            },
            "type": "carpet"
           }
          ],
          "choropleth": [
           {
            "colorbar": {
             "outlinewidth": 0,
             "ticks": ""
            },
            "type": "choropleth"
           }
          ],
          "contour": [
           {
            "colorbar": {
             "outlinewidth": 0,
             "ticks": ""
            },
            "colorscale": [
             [
              0,
              "#0d0887"
             ],
             [
              0.1111111111111111,
              "#46039f"
             ],
             [
              0.2222222222222222,
              "#7201a8"
             ],
             [
              0.3333333333333333,
              "#9c179e"
             ],
             [
              0.4444444444444444,
              "#bd3786"
             ],
             [
              0.5555555555555556,
              "#d8576b"
             ],
             [
              0.6666666666666666,
              "#ed7953"
             ],
             [
              0.7777777777777778,
              "#fb9f3a"
             ],
             [
              0.8888888888888888,
              "#fdca26"
             ],
             [
              1,
              "#f0f921"
             ]
            ],
            "type": "contour"
           }
          ],
          "contourcarpet": [
           {
            "colorbar": {
             "outlinewidth": 0,
             "ticks": ""
            },
            "type": "contourcarpet"
           }
          ],
          "heatmap": [
           {
            "colorbar": {
             "outlinewidth": 0,
             "ticks": ""
            },
            "colorscale": [
             [
              0,
              "#0d0887"
             ],
             [
              0.1111111111111111,
              "#46039f"
             ],
             [
              0.2222222222222222,
              "#7201a8"
             ],
             [
              0.3333333333333333,
              "#9c179e"
             ],
             [
              0.4444444444444444,
              "#bd3786"
             ],
             [
              0.5555555555555556,
              "#d8576b"
             ],
             [
              0.6666666666666666,
              "#ed7953"
             ],
             [
              0.7777777777777778,
              "#fb9f3a"
             ],
             [
              0.8888888888888888,
              "#fdca26"
             ],
             [
              1,
              "#f0f921"
             ]
            ],
            "type": "heatmap"
           }
          ],
          "heatmapgl": [
           {
            "colorbar": {
             "outlinewidth": 0,
             "ticks": ""
            },
            "colorscale": [
             [
              0,
              "#0d0887"
             ],
             [
              0.1111111111111111,
              "#46039f"
             ],
             [
              0.2222222222222222,
              "#7201a8"
             ],
             [
              0.3333333333333333,
              "#9c179e"
             ],
             [
              0.4444444444444444,
              "#bd3786"
             ],
             [
              0.5555555555555556,
              "#d8576b"
             ],
             [
              0.6666666666666666,
              "#ed7953"
             ],
             [
              0.7777777777777778,
              "#fb9f3a"
             ],
             [
              0.8888888888888888,
              "#fdca26"
             ],
             [
              1,
              "#f0f921"
             ]
            ],
            "type": "heatmapgl"
           }
          ],
          "histogram": [
           {
            "marker": {
             "pattern": {
              "fillmode": "overlay",
              "size": 10,
              "solidity": 0.2
             }
            },
            "type": "histogram"
           }
          ],
          "histogram2d": [
           {
            "colorbar": {
             "outlinewidth": 0,
             "ticks": ""
            },
            "colorscale": [
             [
              0,
              "#0d0887"
             ],
             [
              0.1111111111111111,
              "#46039f"
             ],
             [
              0.2222222222222222,
              "#7201a8"
             ],
             [
              0.3333333333333333,
              "#9c179e"
             ],
             [
              0.4444444444444444,
              "#bd3786"
             ],
             [
              0.5555555555555556,
              "#d8576b"
             ],
             [
              0.6666666666666666,
              "#ed7953"
             ],
             [
              0.7777777777777778,
              "#fb9f3a"
             ],
             [
              0.8888888888888888,
              "#fdca26"
             ],
             [
              1,
              "#f0f921"
             ]
            ],
            "type": "histogram2d"
           }
          ],
          "histogram2dcontour": [
           {
            "colorbar": {
             "outlinewidth": 0,
             "ticks": ""
            },
            "colorscale": [
             [
              0,
              "#0d0887"
             ],
             [
              0.1111111111111111,
              "#46039f"
             ],
             [
              0.2222222222222222,
              "#7201a8"
             ],
             [
              0.3333333333333333,
              "#9c179e"
             ],
             [
              0.4444444444444444,
              "#bd3786"
             ],
             [
              0.5555555555555556,
              "#d8576b"
             ],
             [
              0.6666666666666666,
              "#ed7953"
             ],
             [
              0.7777777777777778,
              "#fb9f3a"
             ],
             [
              0.8888888888888888,
              "#fdca26"
             ],
             [
              1,
              "#f0f921"
             ]
            ],
            "type": "histogram2dcontour"
           }
          ],
          "mesh3d": [
           {
            "colorbar": {
             "outlinewidth": 0,
             "ticks": ""
            },
            "type": "mesh3d"
           }
          ],
          "parcoords": [
           {
            "line": {
             "colorbar": {
              "outlinewidth": 0,
              "ticks": ""
             }
            },
            "type": "parcoords"
           }
          ],
          "pie": [
           {
            "automargin": true,
            "type": "pie"
           }
          ],
          "scatter": [
           {
            "fillpattern": {
             "fillmode": "overlay",
             "size": 10,
             "solidity": 0.2
            },
            "type": "scatter"
           }
          ],
          "scatter3d": [
           {
            "line": {
             "colorbar": {
              "outlinewidth": 0,
              "ticks": ""
             }
            },
            "marker": {
             "colorbar": {
              "outlinewidth": 0,
              "ticks": ""
             }
            },
            "type": "scatter3d"
           }
          ],
          "scattercarpet": [
           {
            "marker": {
             "colorbar": {
              "outlinewidth": 0,
              "ticks": ""
             }
            },
            "type": "scattercarpet"
           }
          ],
          "scattergeo": [
           {
            "marker": {
             "colorbar": {
              "outlinewidth": 0,
              "ticks": ""
             }
            },
            "type": "scattergeo"
           }
          ],
          "scattergl": [
           {
            "marker": {
             "colorbar": {
              "outlinewidth": 0,
              "ticks": ""
             }
            },
            "type": "scattergl"
           }
          ],
          "scattermapbox": [
           {
            "marker": {
             "colorbar": {
              "outlinewidth": 0,
              "ticks": ""
             }
            },
            "type": "scattermapbox"
           }
          ],
          "scatterpolar": [
           {
            "marker": {
             "colorbar": {
              "outlinewidth": 0,
              "ticks": ""
             }
            },
            "type": "scatterpolar"
           }
          ],
          "scatterpolargl": [
           {
            "marker": {
             "colorbar": {
              "outlinewidth": 0,
              "ticks": ""
             }
            },
            "type": "scatterpolargl"
           }
          ],
          "scatterternary": [
           {
            "marker": {
             "colorbar": {
              "outlinewidth": 0,
              "ticks": ""
             }
            },
            "type": "scatterternary"
           }
          ],
          "surface": [
           {
            "colorbar": {
             "outlinewidth": 0,
             "ticks": ""
            },
            "colorscale": [
             [
              0,
              "#0d0887"
             ],
             [
              0.1111111111111111,
              "#46039f"
             ],
             [
              0.2222222222222222,
              "#7201a8"
             ],
             [
              0.3333333333333333,
              "#9c179e"
             ],
             [
              0.4444444444444444,
              "#bd3786"
             ],
             [
              0.5555555555555556,
              "#d8576b"
             ],
             [
              0.6666666666666666,
              "#ed7953"
             ],
             [
              0.7777777777777778,
              "#fb9f3a"
             ],
             [
              0.8888888888888888,
              "#fdca26"
             ],
             [
              1,
              "#f0f921"
             ]
            ],
            "type": "surface"
           }
          ],
          "table": [
           {
            "cells": {
             "fill": {
              "color": "#EBF0F8"
             },
             "line": {
              "color": "white"
             }
            },
            "header": {
             "fill": {
              "color": "#C8D4E3"
             },
             "line": {
              "color": "white"
             }
            },
            "type": "table"
           }
          ]
         },
         "layout": {
          "annotationdefaults": {
           "arrowcolor": "#2a3f5f",
           "arrowhead": 0,
           "arrowwidth": 1
          },
          "autotypenumbers": "strict",
          "coloraxis": {
           "colorbar": {
            "outlinewidth": 0,
            "ticks": ""
           }
          },
          "colorscale": {
           "diverging": [
            [
             0,
             "#8e0152"
            ],
            [
             0.1,
             "#c51b7d"
            ],
            [
             0.2,
             "#de77ae"
            ],
            [
             0.3,
             "#f1b6da"
            ],
            [
             0.4,
             "#fde0ef"
            ],
            [
             0.5,
             "#f7f7f7"
            ],
            [
             0.6,
             "#e6f5d0"
            ],
            [
             0.7,
             "#b8e186"
            ],
            [
             0.8,
             "#7fbc41"
            ],
            [
             0.9,
             "#4d9221"
            ],
            [
             1,
             "#276419"
            ]
           ],
           "sequential": [
            [
             0,
             "#0d0887"
            ],
            [
             0.1111111111111111,
             "#46039f"
            ],
            [
             0.2222222222222222,
             "#7201a8"
            ],
            [
             0.3333333333333333,
             "#9c179e"
            ],
            [
             0.4444444444444444,
             "#bd3786"
            ],
            [
             0.5555555555555556,
             "#d8576b"
            ],
            [
             0.6666666666666666,
             "#ed7953"
            ],
            [
             0.7777777777777778,
             "#fb9f3a"
            ],
            [
             0.8888888888888888,
             "#fdca26"
            ],
            [
             1,
             "#f0f921"
            ]
           ],
           "sequentialminus": [
            [
             0,
             "#0d0887"
            ],
            [
             0.1111111111111111,
             "#46039f"
            ],
            [
             0.2222222222222222,
             "#7201a8"
            ],
            [
             0.3333333333333333,
             "#9c179e"
            ],
            [
             0.4444444444444444,
             "#bd3786"
            ],
            [
             0.5555555555555556,
             "#d8576b"
            ],
            [
             0.6666666666666666,
             "#ed7953"
            ],
            [
             0.7777777777777778,
             "#fb9f3a"
            ],
            [
             0.8888888888888888,
             "#fdca26"
            ],
            [
             1,
             "#f0f921"
            ]
           ]
          },
          "colorway": [
           "#636efa",
           "#EF553B",
           "#00cc96",
           "#ab63fa",
           "#FFA15A",
           "#19d3f3",
           "#FF6692",
           "#B6E880",
           "#FF97FF",
           "#FECB52"
          ],
          "font": {
           "color": "#2a3f5f"
          },
          "geo": {
           "bgcolor": "white",
           "lakecolor": "white",
           "landcolor": "#E5ECF6",
           "showlakes": true,
           "showland": true,
           "subunitcolor": "white"
          },
          "hoverlabel": {
           "align": "left"
          },
          "hovermode": "closest",
          "mapbox": {
           "style": "light"
          },
          "paper_bgcolor": "white",
          "plot_bgcolor": "#E5ECF6",
          "polar": {
           "angularaxis": {
            "gridcolor": "white",
            "linecolor": "white",
            "ticks": ""
           },
           "bgcolor": "#E5ECF6",
           "radialaxis": {
            "gridcolor": "white",
            "linecolor": "white",
            "ticks": ""
           }
          },
          "scene": {
           "xaxis": {
            "backgroundcolor": "#E5ECF6",
            "gridcolor": "white",
            "gridwidth": 2,
            "linecolor": "white",
            "showbackground": true,
            "ticks": "",
            "zerolinecolor": "white"
           },
           "yaxis": {
            "backgroundcolor": "#E5ECF6",
            "gridcolor": "white",
            "gridwidth": 2,
            "linecolor": "white",
            "showbackground": true,
            "ticks": "",
            "zerolinecolor": "white"
           },
           "zaxis": {
            "backgroundcolor": "#E5ECF6",
            "gridcolor": "white",
            "gridwidth": 2,
            "linecolor": "white",
            "showbackground": true,
            "ticks": "",
            "zerolinecolor": "white"
           }
          },
          "shapedefaults": {
           "line": {
            "color": "#2a3f5f"
           }
          },
          "ternary": {
           "aaxis": {
            "gridcolor": "white",
            "linecolor": "white",
            "ticks": ""
           },
           "baxis": {
            "gridcolor": "white",
            "linecolor": "white",
            "ticks": ""
           },
           "bgcolor": "#E5ECF6",
           "caxis": {
            "gridcolor": "white",
            "linecolor": "white",
            "ticks": ""
           }
          },
          "title": {
           "x": 0.05
          },
          "xaxis": {
           "automargin": true,
           "gridcolor": "white",
           "linecolor": "white",
           "ticks": "",
           "title": {
            "standoff": 15
           },
           "zerolinecolor": "white",
           "zerolinewidth": 2
          },
          "yaxis": {
           "automargin": true,
           "gridcolor": "white",
           "linecolor": "white",
           "ticks": "",
           "title": {
            "standoff": 15
           },
           "zerolinecolor": "white",
           "zerolinewidth": 2
          }
         }
        },
        "xaxis": {
         "anchor": "y",
         "domain": [
          0,
          1
         ],
         "title": {
          "text": "year"
         }
        },
        "yaxis": {
         "anchor": "x",
         "domain": [
          0,
          1
         ],
         "title": {
          "text": "Use of public transport"
         }
        }
       }
      }
     },
     "metadata": {},
     "output_type": "display_data"
    }
   ],
   "source": [
    "dict_draw(d, particip, 'Use of public transport')"
   ]
  },
  {
   "cell_type": "code",
   "execution_count": 13,
   "metadata": {},
   "outputs": [
    {
     "data": {
      "application/vnd.plotly.v1+json": {
       "config": {
        "plotlyServerURL": "https://plot.ly"
       },
       "data": [
        {
         "hovertemplate": "<extra></extra>",
         "legendgroup": "",
         "line": {
          "color": "#636efa",
          "dash": "solid"
         },
         "marker": {
          "symbol": "circle"
         },
         "mode": "lines",
         "name": "",
         "orientation": "v",
         "showlegend": false,
         "type": "scatter",
         "xaxis": "x",
         "yaxis": "y"
        },
        {
         "mode": "lines",
         "name": "Participation: working >30 hours a week",
         "type": "scatter",
         "x": [
          2010,
          2011,
          2012,
          2013,
          2014,
          2015,
          2016,
          2017,
          2018,
          2019,
          2020,
          2021,
          2022
         ],
         "y": [
          null,
          0.40000000000000036,
          -0.6000000000000005,
          0.40000000000000036,
          -0.5,
          0.20000000000000018,
          -0.10000000000000053,
          0.7000000000000002,
          1.7999999999999998,
          0.3000000000000007,
          -5.6000000000000005,
          -0.2999999999999998,
          2.3
         ]
        },
        {
         "mode": "lines",
         "name": "Participatie:student/scholier",
         "type": "scatter",
         "x": [
          2018,
          2019,
          2020,
          2021,
          2022
         ],
         "y": [
          null,
          -0.9000000000000004,
          -6.3,
          1.2000000000000002,
          2.799999999999999
         ]
        },
        {
         "mode": "lines",
         "name": "Participation: unemployed",
         "type": "scatter",
         "x": [
          2010,
          2011,
          2012,
          2013,
          2014,
          2015,
          2016,
          2017,
          2018,
          2019,
          2020,
          2021,
          2022
         ],
         "y": [
          null,
          3.3000000000000007,
          -1.3000000000000007,
          -1.7999999999999998,
          1.2000000000000002,
          0.5999999999999996,
          -0.09999999999999964,
          0.09999999999999964,
          -1.4000000000000004,
          0,
          null,
          null,
          1.2000000000000002
         ]
        },
        {
         "mode": "lines",
         "name": "Particip.: claiming disability benefit",
         "type": "scatter",
         "x": [
          2010,
          2011,
          2012,
          2013,
          2014,
          2015,
          2016,
          2017,
          2018,
          2019,
          2020,
          2021,
          2022
         ],
         "y": [
          null,
          0.5,
          0.20000000000000018,
          -0.9000000000000004,
          1.3000000000000007,
          -1.4000000000000004,
          0.7000000000000002,
          -0.20000000000000018,
          0.2999999999999998,
          0.7999999999999998,
          null,
          null,
          null
         ]
        },
        {
         "mode": "lines",
         "name": "Participation: retired",
         "type": "scatter",
         "x": [
          2010,
          2011,
          2012,
          2013,
          2014,
          2015,
          2016,
          2017,
          2018,
          2019,
          2020,
          2021,
          2022
         ],
         "y": [
          null,
          0.2999999999999998,
          -0.09999999999999964,
          0.09999999999999964,
          -0.19999999999999973,
          -0.10000000000000009,
          0,
          -0.10000000000000009,
          0.8999999999999999,
          -0.09999999999999964,
          -2.3000000000000003,
          0.10000000000000009,
          0.5
         ]
        },
        {
         "mode": "lines",
         "name": "Participation: unemployed, other",
         "type": "scatter",
         "x": [
          2010,
          2011,
          2012,
          2013,
          2014,
          2015,
          2016,
          2017,
          2018,
          2019,
          2020,
          2021,
          2022
         ],
         "y": [
          null,
          0.3000000000000007,
          -0.9000000000000004,
          0.9000000000000004,
          -1.1000000000000005,
          0.7000000000000002,
          0.7000000000000002,
          -0.2999999999999998,
          1,
          -0.40000000000000036,
          -2.9,
          0.7999999999999998,
          0.8999999999999999
         ]
        }
       ],
       "layout": {
        "legend": {
         "tracegroupgap": 0
        },
        "margin": {
         "t": 60
        },
        "template": {
         "data": {
          "bar": [
           {
            "error_x": {
             "color": "#2a3f5f"
            },
            "error_y": {
             "color": "#2a3f5f"
            },
            "marker": {
             "line": {
              "color": "#E5ECF6",
              "width": 0.5
             },
             "pattern": {
              "fillmode": "overlay",
              "size": 10,
              "solidity": 0.2
             }
            },
            "type": "bar"
           }
          ],
          "barpolar": [
           {
            "marker": {
             "line": {
              "color": "#E5ECF6",
              "width": 0.5
             },
             "pattern": {
              "fillmode": "overlay",
              "size": 10,
              "solidity": 0.2
             }
            },
            "type": "barpolar"
           }
          ],
          "carpet": [
           {
            "aaxis": {
             "endlinecolor": "#2a3f5f",
             "gridcolor": "white",
             "linecolor": "white",
             "minorgridcolor": "white",
             "startlinecolor": "#2a3f5f"
            },
            "baxis": {
             "endlinecolor": "#2a3f5f",
             "gridcolor": "white",
             "linecolor": "white",
             "minorgridcolor": "white",
             "startlinecolor": "#2a3f5f"
            },
            "type": "carpet"
           }
          ],
          "choropleth": [
           {
            "colorbar": {
             "outlinewidth": 0,
             "ticks": ""
            },
            "type": "choropleth"
           }
          ],
          "contour": [
           {
            "colorbar": {
             "outlinewidth": 0,
             "ticks": ""
            },
            "colorscale": [
             [
              0,
              "#0d0887"
             ],
             [
              0.1111111111111111,
              "#46039f"
             ],
             [
              0.2222222222222222,
              "#7201a8"
             ],
             [
              0.3333333333333333,
              "#9c179e"
             ],
             [
              0.4444444444444444,
              "#bd3786"
             ],
             [
              0.5555555555555556,
              "#d8576b"
             ],
             [
              0.6666666666666666,
              "#ed7953"
             ],
             [
              0.7777777777777778,
              "#fb9f3a"
             ],
             [
              0.8888888888888888,
              "#fdca26"
             ],
             [
              1,
              "#f0f921"
             ]
            ],
            "type": "contour"
           }
          ],
          "contourcarpet": [
           {
            "colorbar": {
             "outlinewidth": 0,
             "ticks": ""
            },
            "type": "contourcarpet"
           }
          ],
          "heatmap": [
           {
            "colorbar": {
             "outlinewidth": 0,
             "ticks": ""
            },
            "colorscale": [
             [
              0,
              "#0d0887"
             ],
             [
              0.1111111111111111,
              "#46039f"
             ],
             [
              0.2222222222222222,
              "#7201a8"
             ],
             [
              0.3333333333333333,
              "#9c179e"
             ],
             [
              0.4444444444444444,
              "#bd3786"
             ],
             [
              0.5555555555555556,
              "#d8576b"
             ],
             [
              0.6666666666666666,
              "#ed7953"
             ],
             [
              0.7777777777777778,
              "#fb9f3a"
             ],
             [
              0.8888888888888888,
              "#fdca26"
             ],
             [
              1,
              "#f0f921"
             ]
            ],
            "type": "heatmap"
           }
          ],
          "heatmapgl": [
           {
            "colorbar": {
             "outlinewidth": 0,
             "ticks": ""
            },
            "colorscale": [
             [
              0,
              "#0d0887"
             ],
             [
              0.1111111111111111,
              "#46039f"
             ],
             [
              0.2222222222222222,
              "#7201a8"
             ],
             [
              0.3333333333333333,
              "#9c179e"
             ],
             [
              0.4444444444444444,
              "#bd3786"
             ],
             [
              0.5555555555555556,
              "#d8576b"
             ],
             [
              0.6666666666666666,
              "#ed7953"
             ],
             [
              0.7777777777777778,
              "#fb9f3a"
             ],
             [
              0.8888888888888888,
              "#fdca26"
             ],
             [
              1,
              "#f0f921"
             ]
            ],
            "type": "heatmapgl"
           }
          ],
          "histogram": [
           {
            "marker": {
             "pattern": {
              "fillmode": "overlay",
              "size": 10,
              "solidity": 0.2
             }
            },
            "type": "histogram"
           }
          ],
          "histogram2d": [
           {
            "colorbar": {
             "outlinewidth": 0,
             "ticks": ""
            },
            "colorscale": [
             [
              0,
              "#0d0887"
             ],
             [
              0.1111111111111111,
              "#46039f"
             ],
             [
              0.2222222222222222,
              "#7201a8"
             ],
             [
              0.3333333333333333,
              "#9c179e"
             ],
             [
              0.4444444444444444,
              "#bd3786"
             ],
             [
              0.5555555555555556,
              "#d8576b"
             ],
             [
              0.6666666666666666,
              "#ed7953"
             ],
             [
              0.7777777777777778,
              "#fb9f3a"
             ],
             [
              0.8888888888888888,
              "#fdca26"
             ],
             [
              1,
              "#f0f921"
             ]
            ],
            "type": "histogram2d"
           }
          ],
          "histogram2dcontour": [
           {
            "colorbar": {
             "outlinewidth": 0,
             "ticks": ""
            },
            "colorscale": [
             [
              0,
              "#0d0887"
             ],
             [
              0.1111111111111111,
              "#46039f"
             ],
             [
              0.2222222222222222,
              "#7201a8"
             ],
             [
              0.3333333333333333,
              "#9c179e"
             ],
             [
              0.4444444444444444,
              "#bd3786"
             ],
             [
              0.5555555555555556,
              "#d8576b"
             ],
             [
              0.6666666666666666,
              "#ed7953"
             ],
             [
              0.7777777777777778,
              "#fb9f3a"
             ],
             [
              0.8888888888888888,
              "#fdca26"
             ],
             [
              1,
              "#f0f921"
             ]
            ],
            "type": "histogram2dcontour"
           }
          ],
          "mesh3d": [
           {
            "colorbar": {
             "outlinewidth": 0,
             "ticks": ""
            },
            "type": "mesh3d"
           }
          ],
          "parcoords": [
           {
            "line": {
             "colorbar": {
              "outlinewidth": 0,
              "ticks": ""
             }
            },
            "type": "parcoords"
           }
          ],
          "pie": [
           {
            "automargin": true,
            "type": "pie"
           }
          ],
          "scatter": [
           {
            "fillpattern": {
             "fillmode": "overlay",
             "size": 10,
             "solidity": 0.2
            },
            "type": "scatter"
           }
          ],
          "scatter3d": [
           {
            "line": {
             "colorbar": {
              "outlinewidth": 0,
              "ticks": ""
             }
            },
            "marker": {
             "colorbar": {
              "outlinewidth": 0,
              "ticks": ""
             }
            },
            "type": "scatter3d"
           }
          ],
          "scattercarpet": [
           {
            "marker": {
             "colorbar": {
              "outlinewidth": 0,
              "ticks": ""
             }
            },
            "type": "scattercarpet"
           }
          ],
          "scattergeo": [
           {
            "marker": {
             "colorbar": {
              "outlinewidth": 0,
              "ticks": ""
             }
            },
            "type": "scattergeo"
           }
          ],
          "scattergl": [
           {
            "marker": {
             "colorbar": {
              "outlinewidth": 0,
              "ticks": ""
             }
            },
            "type": "scattergl"
           }
          ],
          "scattermapbox": [
           {
            "marker": {
             "colorbar": {
              "outlinewidth": 0,
              "ticks": ""
             }
            },
            "type": "scattermapbox"
           }
          ],
          "scatterpolar": [
           {
            "marker": {
             "colorbar": {
              "outlinewidth": 0,
              "ticks": ""
             }
            },
            "type": "scatterpolar"
           }
          ],
          "scatterpolargl": [
           {
            "marker": {
             "colorbar": {
              "outlinewidth": 0,
              "ticks": ""
             }
            },
            "type": "scatterpolargl"
           }
          ],
          "scatterternary": [
           {
            "marker": {
             "colorbar": {
              "outlinewidth": 0,
              "ticks": ""
             }
            },
            "type": "scatterternary"
           }
          ],
          "surface": [
           {
            "colorbar": {
             "outlinewidth": 0,
             "ticks": ""
            },
            "colorscale": [
             [
              0,
              "#0d0887"
             ],
             [
              0.1111111111111111,
              "#46039f"
             ],
             [
              0.2222222222222222,
              "#7201a8"
             ],
             [
              0.3333333333333333,
              "#9c179e"
             ],
             [
              0.4444444444444444,
              "#bd3786"
             ],
             [
              0.5555555555555556,
              "#d8576b"
             ],
             [
              0.6666666666666666,
              "#ed7953"
             ],
             [
              0.7777777777777778,
              "#fb9f3a"
             ],
             [
              0.8888888888888888,
              "#fdca26"
             ],
             [
              1,
              "#f0f921"
             ]
            ],
            "type": "surface"
           }
          ],
          "table": [
           {
            "cells": {
             "fill": {
              "color": "#EBF0F8"
             },
             "line": {
              "color": "white"
             }
            },
            "header": {
             "fill": {
              "color": "#C8D4E3"
             },
             "line": {
              "color": "white"
             }
            },
            "type": "table"
           }
          ]
         },
         "layout": {
          "annotationdefaults": {
           "arrowcolor": "#2a3f5f",
           "arrowhead": 0,
           "arrowwidth": 1
          },
          "autotypenumbers": "strict",
          "coloraxis": {
           "colorbar": {
            "outlinewidth": 0,
            "ticks": ""
           }
          },
          "colorscale": {
           "diverging": [
            [
             0,
             "#8e0152"
            ],
            [
             0.1,
             "#c51b7d"
            ],
            [
             0.2,
             "#de77ae"
            ],
            [
             0.3,
             "#f1b6da"
            ],
            [
             0.4,
             "#fde0ef"
            ],
            [
             0.5,
             "#f7f7f7"
            ],
            [
             0.6,
             "#e6f5d0"
            ],
            [
             0.7,
             "#b8e186"
            ],
            [
             0.8,
             "#7fbc41"
            ],
            [
             0.9,
             "#4d9221"
            ],
            [
             1,
             "#276419"
            ]
           ],
           "sequential": [
            [
             0,
             "#0d0887"
            ],
            [
             0.1111111111111111,
             "#46039f"
            ],
            [
             0.2222222222222222,
             "#7201a8"
            ],
            [
             0.3333333333333333,
             "#9c179e"
            ],
            [
             0.4444444444444444,
             "#bd3786"
            ],
            [
             0.5555555555555556,
             "#d8576b"
            ],
            [
             0.6666666666666666,
             "#ed7953"
            ],
            [
             0.7777777777777778,
             "#fb9f3a"
            ],
            [
             0.8888888888888888,
             "#fdca26"
            ],
            [
             1,
             "#f0f921"
            ]
           ],
           "sequentialminus": [
            [
             0,
             "#0d0887"
            ],
            [
             0.1111111111111111,
             "#46039f"
            ],
            [
             0.2222222222222222,
             "#7201a8"
            ],
            [
             0.3333333333333333,
             "#9c179e"
            ],
            [
             0.4444444444444444,
             "#bd3786"
            ],
            [
             0.5555555555555556,
             "#d8576b"
            ],
            [
             0.6666666666666666,
             "#ed7953"
            ],
            [
             0.7777777777777778,
             "#fb9f3a"
            ],
            [
             0.8888888888888888,
             "#fdca26"
            ],
            [
             1,
             "#f0f921"
            ]
           ]
          },
          "colorway": [
           "#636efa",
           "#EF553B",
           "#00cc96",
           "#ab63fa",
           "#FFA15A",
           "#19d3f3",
           "#FF6692",
           "#B6E880",
           "#FF97FF",
           "#FECB52"
          ],
          "font": {
           "color": "#2a3f5f"
          },
          "geo": {
           "bgcolor": "white",
           "lakecolor": "white",
           "landcolor": "#E5ECF6",
           "showlakes": true,
           "showland": true,
           "subunitcolor": "white"
          },
          "hoverlabel": {
           "align": "left"
          },
          "hovermode": "closest",
          "mapbox": {
           "style": "light"
          },
          "paper_bgcolor": "white",
          "plot_bgcolor": "#E5ECF6",
          "polar": {
           "angularaxis": {
            "gridcolor": "white",
            "linecolor": "white",
            "ticks": ""
           },
           "bgcolor": "#E5ECF6",
           "radialaxis": {
            "gridcolor": "white",
            "linecolor": "white",
            "ticks": ""
           }
          },
          "scene": {
           "xaxis": {
            "backgroundcolor": "#E5ECF6",
            "gridcolor": "white",
            "gridwidth": 2,
            "linecolor": "white",
            "showbackground": true,
            "ticks": "",
            "zerolinecolor": "white"
           },
           "yaxis": {
            "backgroundcolor": "#E5ECF6",
            "gridcolor": "white",
            "gridwidth": 2,
            "linecolor": "white",
            "showbackground": true,
            "ticks": "",
            "zerolinecolor": "white"
           },
           "zaxis": {
            "backgroundcolor": "#E5ECF6",
            "gridcolor": "white",
            "gridwidth": 2,
            "linecolor": "white",
            "showbackground": true,
            "ticks": "",
            "zerolinecolor": "white"
           }
          },
          "shapedefaults": {
           "line": {
            "color": "#2a3f5f"
           }
          },
          "ternary": {
           "aaxis": {
            "gridcolor": "white",
            "linecolor": "white",
            "ticks": ""
           },
           "baxis": {
            "gridcolor": "white",
            "linecolor": "white",
            "ticks": ""
           },
           "bgcolor": "#E5ECF6",
           "caxis": {
            "gridcolor": "white",
            "linecolor": "white",
            "ticks": ""
           }
          },
          "title": {
           "x": 0.05
          },
          "xaxis": {
           "automargin": true,
           "gridcolor": "white",
           "linecolor": "white",
           "ticks": "",
           "title": {
            "standoff": 15
           },
           "zerolinecolor": "white",
           "zerolinewidth": 2
          },
          "yaxis": {
           "automargin": true,
           "gridcolor": "white",
           "linecolor": "white",
           "ticks": "",
           "title": {
            "standoff": 15
           },
           "zerolinecolor": "white",
           "zerolinewidth": 2
          }
         }
        },
        "xaxis": {
         "anchor": "y",
         "domain": [
          0,
          1
         ],
         "title": {
          "text": "year"
         }
        },
        "yaxis": {
         "anchor": "x",
         "domain": [
          0,
          1
         ],
         "title": {
          "text": "Use of public transport diff"
         }
        }
       }
      }
     },
     "metadata": {},
     "output_type": "display_data"
    }
   ],
   "source": [
    "dict_draw(d, particip, 'Use of public transport diff')"
   ]
  },
  {
   "cell_type": "markdown",
   "metadata": {},
   "source": [
    "It can be observed that, except for the groups with missing data, the Use of Public Transport for all other groups significantly decreased in 2020 due to the impact of the pandemic and did not return to pre-pandemic levels by 2022. This could be attributed to the fact that the pandemic had a more pronounced effect on public transportation. During the pandemic, many individuals who used to rely on public transport may have switched to using private cars or bicycles, or even canceled their trips due to policy changes or safety concerns. These changes in travel habits seem to have persisted beyond the pandemic.\n",
    "\n",
    "From the difference data chart, we also notice that, like the data on transportation participation, students were most affected by the COVID-19 pandemic. This may be because school policies tend to be more stringent compared to the general population. On the other hand, retired individuals experienced relatively smaller impacts from the pandemic, possibly because their initial reliance on public transportation was lower. However, even when overall transportation participation rates recovered, their return to using public transport remained the slowest. This could be attributed to their relatively older age, which may lead to continued caution regarding the pandemic."
   ]
  },
  {
   "cell_type": "code",
   "execution_count": null,
   "metadata": {},
   "outputs": [],
   "source": []
  },
  {
   "cell_type": "code",
   "execution_count": null,
   "metadata": {},
   "outputs": [],
   "source": []
  },
  {
   "cell_type": "markdown",
   "metadata": {},
   "source": [
    "# Income"
   ]
  },
  {
   "cell_type": "code",
   "execution_count": 14,
   "metadata": {},
   "outputs": [],
   "source": [
    "# please remove this as soon as the data processing is in de document"
   ]
  },
  {
   "cell_type": "code",
   "execution_count": 15,
   "metadata": {},
   "outputs": [
    {
     "name": "stdout",
     "output_type": "stream",
     "text": [
      "Requirement already satisfied: cbsodata in c:\\users\\natsu\\anaconda3\\envs\\til6022\\lib\\site-packages (1.3.4)\n",
      "Requirement already satisfied: requests in c:\\users\\natsu\\anaconda3\\envs\\til6022\\lib\\site-packages (from cbsodata) (2.28.1)\n",
      "Requirement already satisfied: charset-normalizer<3,>=2 in c:\\users\\natsu\\anaconda3\\envs\\til6022\\lib\\site-packages (from requests->cbsodata) (2.0.4)\n",
      "Requirement already satisfied: idna<4,>=2.5 in c:\\users\\natsu\\anaconda3\\envs\\til6022\\lib\\site-packages (from requests->cbsodata) (3.4)\n",
      "Requirement already satisfied: urllib3<1.27,>=1.21.1 in c:\\users\\natsu\\anaconda3\\envs\\til6022\\lib\\site-packages (from requests->cbsodata) (1.26.8)\n",
      "Requirement already satisfied: certifi>=2017.4.17 in c:\\users\\natsu\\anaconda3\\envs\\til6022\\lib\\site-packages (from requests->cbsodata) (2023.7.22)\n",
      "Note: you may need to restart the kernel to use updated packages.\n"
     ]
    }
   ],
   "source": [
    "pip install cbsodata"
   ]
  },
  {
   "cell_type": "code",
   "execution_count": 16,
   "metadata": {},
   "outputs": [],
   "source": [
    "import cbsodata\n",
    "import pandas as pd\n",
    "import seaborn as sns\n",
    "import plotly.express as px\n",
    "import matplotlib.pyplot as plt\n",
    "import plotly.io as pio\n",
    "df2 = pd.DataFrame(cbsodata.get_data('83496NED'));"
   ]
  },
  {
   "cell_type": "code",
   "execution_count": 17,
   "metadata": {},
   "outputs": [],
   "source": [
    "df2 = df2.replace({'Actueel onderwijsniveau: laag': 'Level of educ: 1. Low'})\n",
    "df2 = df2.replace({'Actueel onderwijsniveau: middelbaar': 'Level of educ: 2 Intermediate'})\n",
    "df2 = df2.replace({'Actueel onderwijsniveau: hoog': 'Level of educ: 3 High'})\n",
    "df2 = df2.replace({'Migratieachtergrond: westers': 'Background: western'})\n",
    "df2 = df2.replace({'Migratieachtergrond: niet-westers': 'Background: non-western'})\n",
    "df2 = df2.replace({'Migratieachtergrond: Nederland': 'Background: Dutch'})\n",
    "df2 = df2.replace({'Leeftijd: 0 tot 12 jaar': 'Age: 6 to 11 years'})\n",
    "df2 = df2.replace({'Leeftijd: 12 jaar of ouder': 'Age: 12 years or older'})\n",
    "df2 = df2.replace({'Leeftijd: 12 tot 18 jaar': 'Age: 12 to 17 years'})\n",
    "df2 = df2.replace({'Leeftijd: 18 tot 25 jaar': 'Age: 18 to 24 years'})\n",
    "df2 = df2.replace({'Leeftijd: 25 tot 35 jaar': 'Age: 25 to 34 years'})\n",
    "df2 = df2.replace({'Leeftijd: 35 tot 50 jaar': 'Age: 35 to 49 years'})\n",
    "df2 = df2.replace({'Leeftijd: 50 tot 65 jaar': 'Age: 50 to 64 years'})\n",
    "df2 = df2.replace({'Leeftijd: 65 tot 75 jaar': 'Age: 65 to 74 years'})\n",
    "df2 = df2.replace({'Leeftijd: 75 jaar of ouder': 'Age: 75 years or older'})\n",
    "df2 = df2.replace({'Categorie: arbeidsongeschikte': 'Particip.: claiming disability benefit'})\n",
    "df2 = df2.replace({'Categorie: werkzaam 12 tot 30 uur pw': 'Participation: working 12 -29 h. a week'})\n",
    "df2 = df2.replace({'Categorie: werkzaam >= 30 uur pw': 'Participation: working >30 hours a week'})\n",
    "df2 = df2.replace({'Categorie: scholier/student': 'Participation:student/scholier'})\n",
    "df2 = df2.replace({'Participatie:student/scholier': 'Participation:student/scholier'})\n",
    "df2 = df2.replace({'Categorie: werkloos': 'Participation: unemployed'})\n",
    "df2 = df2.replace({'Categorie: overig': 'Participation: unemployed, other'})\n",
    "df2 = df2.replace({'Categorie: gepensioneerd/VUT': 'Participation: retired'})\n",
    "df2 = df2.replace({'Studenten met OV-weekkaart': 'Students with week pass publ. transp.'})\n",
    "df2 = df2.replace({'Studenten met OV-weekendkaart': 'Students with weekend pass publ. transp.'})\n",
    "df2 = df2.replace({'Personen zonder studenten-OV-kaart': 'Persons without student publ.transp.card'})                   \n",
    "df2 = df2.replace({'Besteedbaar inkomen: 1e 20%-groep': 'Equivalised income: 1th 20%-group'})\n",
    "df2 = df2.replace({'Besteedbaar inkomen: 2e 20%-groep': 'Equivalised income: 2th 20%-group'})\n",
    "df2 = df2.replace({'Besteedbaar inkomen: 3e 20%-groep': 'Equivalised income: 3th 20%-group'})\n",
    "df2 = df2.replace({'Besteedbaar inkomen: 4e 20%-groep': 'Equivalised income: 4th 20%-group'})\n",
    "df2 = df2.replace({'Besteedbaar inkomen: 5e 20%-groep': 'Equivalised income: 5th 20%-group'})\n",
    "df2 = df2.replace({'Bezit rijbewijs: geen auto beschikbaar': 'Drivers license, no passenger car in hh'})\n",
    "df2 = df2.replace({'Bezit rijbewijs: soms auto beschikbaar': 'Drivers license, passenger car in hh'})\n",
    "df2 = df2.replace({'Bezit rijbewijs: bezit auto': 'Drivers license, passenger car, in own name'})\n",
    "df2 = df2.replace({'Hoogte inkomen: tot 10 000 euro': 'Income level: up to 10 000 euros'})\n",
    "df2 = df2.replace({'Hoogte inkomen: 10 000 tot 20 000 euro': 'Income level: 10 000 to 20 000 euros'})\n",
    "df2 = df2.replace({'Hoogte inkomen: 20 000 tot 30 000 euro': 'Income level: 20 000 to 30 000 euros'})\n",
    "df2 = df2.replace({'Hoogte inkomen: 30 000 tot 40 000 euro': 'Income level: 30 000 to 40 000 euros'})\n",
    "df2 = df2.replace({'Hoogte inkomen: 40 000 tot 50 000 euro': 'Income level: 40 000 to 50 000 euros'})\n",
    "df2 = df2.replace({'Hoogte inkomen: 50 000 euro of meer': 'Income level: 50 000 euros or more'})\n",
    "df2 = df2.rename(columns={\"Geslacht\": \"Sex\", \"Persoonskenmerken\": \"PersonalCharacteristics\", \"Geslacht\": \"Sex\", \"Perioden\": \"Periods\", \n",
    "                    \"Verkeersdeelname_1\": \"TrafficParticipation_1\", \"GebruikVanHetOpenbaarVervoer_2\": \"UseOfPublicTransport_2\"});"
   ]
  },
  {
   "cell_type": "code",
   "execution_count": 18,
   "metadata": {},
   "outputs": [
    {
     "data": {
      "text/html": [
       "<div>\n",
       "<style scoped>\n",
       "    .dataframe tbody tr th:only-of-type {\n",
       "        vertical-align: middle;\n",
       "    }\n",
       "\n",
       "    .dataframe tbody tr th {\n",
       "        vertical-align: top;\n",
       "    }\n",
       "\n",
       "    .dataframe thead th {\n",
       "        text-align: right;\n",
       "    }\n",
       "</style>\n",
       "<table border=\"1\" class=\"dataframe\">\n",
       "  <thead>\n",
       "    <tr style=\"text-align: right;\">\n",
       "      <th></th>\n",
       "      <th>ID</th>\n",
       "      <th>Sex</th>\n",
       "      <th>PersonalCharacteristics</th>\n",
       "      <th>Periods</th>\n",
       "      <th>TrafficParticipation_1</th>\n",
       "      <th>UseOfPublicTransport_2</th>\n",
       "    </tr>\n",
       "  </thead>\n",
       "  <tbody>\n",
       "    <tr>\n",
       "      <th>10</th>\n",
       "      <td>30</td>\n",
       "      <td>Total male and female</td>\n",
       "      <td>Age: 12 to 17 years</td>\n",
       "      <td>2018</td>\n",
       "      <td>86.3</td>\n",
       "      <td>11.7</td>\n",
       "    </tr>\n",
       "    <tr>\n",
       "      <th>11</th>\n",
       "      <td>31</td>\n",
       "      <td>Total male and female</td>\n",
       "      <td>Age: 12 to 17 years</td>\n",
       "      <td>2019</td>\n",
       "      <td>86.4</td>\n",
       "      <td>10.7</td>\n",
       "    </tr>\n",
       "    <tr>\n",
       "      <th>12</th>\n",
       "      <td>32</td>\n",
       "      <td>Total male and female</td>\n",
       "      <td>Age: 12 to 17 years</td>\n",
       "      <td>2020</td>\n",
       "      <td>73.5</td>\n",
       "      <td>6.3</td>\n",
       "    </tr>\n",
       "    <tr>\n",
       "      <th>13</th>\n",
       "      <td>33</td>\n",
       "      <td>Total male and female</td>\n",
       "      <td>Age: 12 to 17 years</td>\n",
       "      <td>2021</td>\n",
       "      <td>79.0</td>\n",
       "      <td>6.3</td>\n",
       "    </tr>\n",
       "    <tr>\n",
       "      <th>14</th>\n",
       "      <td>34</td>\n",
       "      <td>Total male and female</td>\n",
       "      <td>Age: 12 to 17 years</td>\n",
       "      <td>2022</td>\n",
       "      <td>82.9</td>\n",
       "      <td>9.2</td>\n",
       "    </tr>\n",
       "    <tr>\n",
       "      <th>...</th>\n",
       "      <td>...</td>\n",
       "      <td>...</td>\n",
       "      <td>...</td>\n",
       "      <td>...</td>\n",
       "      <td>...</td>\n",
       "      <td>...</td>\n",
       "    </tr>\n",
       "    <tr>\n",
       "      <th>0</th>\n",
       "      <td>0</td>\n",
       "      <td>Total male and female</td>\n",
       "      <td>Total persons</td>\n",
       "      <td>2018</td>\n",
       "      <td>82.9</td>\n",
       "      <td>8.6</td>\n",
       "    </tr>\n",
       "    <tr>\n",
       "      <th>1</th>\n",
       "      <td>1</td>\n",
       "      <td>Total male and female</td>\n",
       "      <td>Total persons</td>\n",
       "      <td>2019</td>\n",
       "      <td>81.9</td>\n",
       "      <td>8.6</td>\n",
       "    </tr>\n",
       "    <tr>\n",
       "      <th>2</th>\n",
       "      <td>2</td>\n",
       "      <td>Total male and female</td>\n",
       "      <td>Total persons</td>\n",
       "      <td>2020</td>\n",
       "      <td>73.8</td>\n",
       "      <td>3.9</td>\n",
       "    </tr>\n",
       "    <tr>\n",
       "      <th>3</th>\n",
       "      <td>3</td>\n",
       "      <td>Total male and female</td>\n",
       "      <td>Total persons</td>\n",
       "      <td>2021</td>\n",
       "      <td>78.1</td>\n",
       "      <td>4.2</td>\n",
       "    </tr>\n",
       "    <tr>\n",
       "      <th>4</th>\n",
       "      <td>4</td>\n",
       "      <td>Total male and female</td>\n",
       "      <td>Total persons</td>\n",
       "      <td>2022</td>\n",
       "      <td>79.7</td>\n",
       "      <td>6.1</td>\n",
       "    </tr>\n",
       "  </tbody>\n",
       "</table>\n",
       "<p>175 rows × 6 columns</p>\n",
       "</div>"
      ],
      "text/plain": [
       "    ID                    Sex PersonalCharacteristics Periods  \\\n",
       "10  30  Total male and female     Age: 12 to 17 years    2018   \n",
       "11  31  Total male and female     Age: 12 to 17 years    2019   \n",
       "12  32  Total male and female     Age: 12 to 17 years    2020   \n",
       "13  33  Total male and female     Age: 12 to 17 years    2021   \n",
       "14  34  Total male and female     Age: 12 to 17 years    2022   \n",
       "..  ..                    ...                     ...     ...   \n",
       "0    0  Total male and female           Total persons    2018   \n",
       "1    1  Total male and female           Total persons    2019   \n",
       "2    2  Total male and female           Total persons    2020   \n",
       "3    3  Total male and female           Total persons    2021   \n",
       "4    4  Total male and female           Total persons    2022   \n",
       "\n",
       "   TrafficParticipation_1 UseOfPublicTransport_2  \n",
       "10                   86.3                   11.7  \n",
       "11                   86.4                   10.7  \n",
       "12                   73.5                    6.3  \n",
       "13                   79.0                    6.3  \n",
       "14                   82.9                    9.2  \n",
       "..                    ...                    ...  \n",
       "0                    82.9                    8.6  \n",
       "1                    81.9                    8.6  \n",
       "2                    73.8                    3.9  \n",
       "3                    78.1                    4.2  \n",
       "4                    79.7                    6.1  \n",
       "\n",
       "[175 rows x 6 columns]"
      ]
     },
     "execution_count": 18,
     "metadata": {},
     "output_type": "execute_result"
    }
   ],
   "source": [
    "df1 = pd.DataFrame(cbsodata.get_data('84707ENG'))\n",
    "df_value = df1[( df1['Population'] == 'Population 6 years or older') \n",
    "              & (df1['Margins'] == 'Value') & (df1['Sex'] != 'Sex unknown')];\n",
    "df_value = df_value.drop(columns=['Margins', 'Population']);\n",
    "\n",
    "df = pd.concat([df_value, df2], ignore_index=True);\n",
    "\n",
    "df_sorted = df.sort_values(by=['PersonalCharacteristics', 'Periods'])\n",
    "df_sorted = df_sorted[(df_sorted['Sex'] == 'Total male and female')]\n",
    "df_sorted"
   ]
  },
  {
   "cell_type": "code",
   "execution_count": 19,
   "metadata": {},
   "outputs": [
    {
     "data": {
      "application/vnd.plotly.v1+json": {
       "config": {
        "plotlyServerURL": "https://plot.ly"
       },
       "data": [
        {
         "hovertemplate": "PersonalCharacteristics=Equivalised income: 1st 20%-group<br>Periods=%{x}<br>UseOfPublicTransport_2=%{y}<extra></extra>",
         "legendgroup": "Equivalised income: 1st 20%-group",
         "line": {
          "color": "#636efa",
          "dash": "solid"
         },
         "marker": {
          "symbol": "circle"
         },
         "mode": "lines",
         "name": "Equivalised income: 1st 20%-group",
         "orientation": "v",
         "showlegend": true,
         "type": "scatter",
         "x": [
          "2018",
          "2019",
          "2020",
          "2021",
          "2022"
         ],
         "xaxis": "x",
         "y": [
          12.5,
          12.1,
          5.6,
          7,
          9.5
         ],
         "yaxis": "y"
        },
        {
         "hovertemplate": "PersonalCharacteristics=Equivalised income: 2nd 20%-group<br>Periods=%{x}<br>UseOfPublicTransport_2=%{y}<extra></extra>",
         "legendgroup": "Equivalised income: 2nd 20%-group",
         "line": {
          "color": "#EF553B",
          "dash": "solid"
         },
         "marker": {
          "symbol": "circle"
         },
         "mode": "lines",
         "name": "Equivalised income: 2nd 20%-group",
         "orientation": "v",
         "showlegend": true,
         "type": "scatter",
         "x": [
          "2018",
          "2019",
          "2020",
          "2021",
          "2022"
         ],
         "xaxis": "x",
         "y": [
          7.4,
          7.2,
          3.5,
          4.3,
          5.6
         ],
         "yaxis": "y"
        },
        {
         "hovertemplate": "PersonalCharacteristics=Equivalised income: 3rd 20%-group<br>Periods=%{x}<br>UseOfPublicTransport_2=%{y}<extra></extra>",
         "legendgroup": "Equivalised income: 3rd 20%-group",
         "line": {
          "color": "#00cc96",
          "dash": "solid"
         },
         "marker": {
          "symbol": "circle"
         },
         "mode": "lines",
         "name": "Equivalised income: 3rd 20%-group",
         "orientation": "v",
         "showlegend": true,
         "type": "scatter",
         "x": [
          "2018",
          "2019",
          "2020",
          "2021",
          "2022"
         ],
         "xaxis": "x",
         "y": [
          7.7,
          8.1,
          3.8,
          3.8,
          5
         ],
         "yaxis": "y"
        },
        {
         "hovertemplate": "PersonalCharacteristics=Equivalised income: 4th 20%-group<br>Periods=%{x}<br>UseOfPublicTransport_2=%{y}<extra></extra>",
         "legendgroup": "Equivalised income: 4th 20%-group",
         "line": {
          "color": "#ab63fa",
          "dash": "solid"
         },
         "marker": {
          "symbol": "circle"
         },
         "mode": "lines",
         "name": "Equivalised income: 4th 20%-group",
         "orientation": "v",
         "showlegend": true,
         "type": "scatter",
         "x": [
          "2018",
          "2019",
          "2020",
          "2021",
          "2022"
         ],
         "xaxis": "x",
         "y": [
          7.5,
          8.1,
          3.3,
          3.3,
          5.3
         ],
         "yaxis": "y"
        },
        {
         "hovertemplate": "PersonalCharacteristics=Equivalised income: 5th 20%-group<br>Periods=%{x}<br>UseOfPublicTransport_2=%{y}<extra></extra>",
         "legendgroup": "Equivalised income: 5th 20%-group",
         "line": {
          "color": "#FFA15A",
          "dash": "solid"
         },
         "marker": {
          "symbol": "circle"
         },
         "mode": "lines",
         "name": "Equivalised income: 5th 20%-group",
         "orientation": "v",
         "showlegend": true,
         "type": "scatter",
         "x": [
          "2018",
          "2019",
          "2020",
          "2021",
          "2022"
         ],
         "xaxis": "x",
         "y": [
          8.1,
          7.6,
          3.4,
          3.1,
          5
         ],
         "yaxis": "y"
        }
       ],
       "layout": {
        "legend": {
         "title": {
          "text": "PersonalCharacteristics"
         },
         "tracegroupgap": 0
        },
        "margin": {
         "t": 60
        },
        "template": {
         "data": {
          "bar": [
           {
            "error_x": {
             "color": "#2a3f5f"
            },
            "error_y": {
             "color": "#2a3f5f"
            },
            "marker": {
             "line": {
              "color": "#E5ECF6",
              "width": 0.5
             },
             "pattern": {
              "fillmode": "overlay",
              "size": 10,
              "solidity": 0.2
             }
            },
            "type": "bar"
           }
          ],
          "barpolar": [
           {
            "marker": {
             "line": {
              "color": "#E5ECF6",
              "width": 0.5
             },
             "pattern": {
              "fillmode": "overlay",
              "size": 10,
              "solidity": 0.2
             }
            },
            "type": "barpolar"
           }
          ],
          "carpet": [
           {
            "aaxis": {
             "endlinecolor": "#2a3f5f",
             "gridcolor": "white",
             "linecolor": "white",
             "minorgridcolor": "white",
             "startlinecolor": "#2a3f5f"
            },
            "baxis": {
             "endlinecolor": "#2a3f5f",
             "gridcolor": "white",
             "linecolor": "white",
             "minorgridcolor": "white",
             "startlinecolor": "#2a3f5f"
            },
            "type": "carpet"
           }
          ],
          "choropleth": [
           {
            "colorbar": {
             "outlinewidth": 0,
             "ticks": ""
            },
            "type": "choropleth"
           }
          ],
          "contour": [
           {
            "colorbar": {
             "outlinewidth": 0,
             "ticks": ""
            },
            "colorscale": [
             [
              0,
              "#0d0887"
             ],
             [
              0.1111111111111111,
              "#46039f"
             ],
             [
              0.2222222222222222,
              "#7201a8"
             ],
             [
              0.3333333333333333,
              "#9c179e"
             ],
             [
              0.4444444444444444,
              "#bd3786"
             ],
             [
              0.5555555555555556,
              "#d8576b"
             ],
             [
              0.6666666666666666,
              "#ed7953"
             ],
             [
              0.7777777777777778,
              "#fb9f3a"
             ],
             [
              0.8888888888888888,
              "#fdca26"
             ],
             [
              1,
              "#f0f921"
             ]
            ],
            "type": "contour"
           }
          ],
          "contourcarpet": [
           {
            "colorbar": {
             "outlinewidth": 0,
             "ticks": ""
            },
            "type": "contourcarpet"
           }
          ],
          "heatmap": [
           {
            "colorbar": {
             "outlinewidth": 0,
             "ticks": ""
            },
            "colorscale": [
             [
              0,
              "#0d0887"
             ],
             [
              0.1111111111111111,
              "#46039f"
             ],
             [
              0.2222222222222222,
              "#7201a8"
             ],
             [
              0.3333333333333333,
              "#9c179e"
             ],
             [
              0.4444444444444444,
              "#bd3786"
             ],
             [
              0.5555555555555556,
              "#d8576b"
             ],
             [
              0.6666666666666666,
              "#ed7953"
             ],
             [
              0.7777777777777778,
              "#fb9f3a"
             ],
             [
              0.8888888888888888,
              "#fdca26"
             ],
             [
              1,
              "#f0f921"
             ]
            ],
            "type": "heatmap"
           }
          ],
          "heatmapgl": [
           {
            "colorbar": {
             "outlinewidth": 0,
             "ticks": ""
            },
            "colorscale": [
             [
              0,
              "#0d0887"
             ],
             [
              0.1111111111111111,
              "#46039f"
             ],
             [
              0.2222222222222222,
              "#7201a8"
             ],
             [
              0.3333333333333333,
              "#9c179e"
             ],
             [
              0.4444444444444444,
              "#bd3786"
             ],
             [
              0.5555555555555556,
              "#d8576b"
             ],
             [
              0.6666666666666666,
              "#ed7953"
             ],
             [
              0.7777777777777778,
              "#fb9f3a"
             ],
             [
              0.8888888888888888,
              "#fdca26"
             ],
             [
              1,
              "#f0f921"
             ]
            ],
            "type": "heatmapgl"
           }
          ],
          "histogram": [
           {
            "marker": {
             "pattern": {
              "fillmode": "overlay",
              "size": 10,
              "solidity": 0.2
             }
            },
            "type": "histogram"
           }
          ],
          "histogram2d": [
           {
            "colorbar": {
             "outlinewidth": 0,
             "ticks": ""
            },
            "colorscale": [
             [
              0,
              "#0d0887"
             ],
             [
              0.1111111111111111,
              "#46039f"
             ],
             [
              0.2222222222222222,
              "#7201a8"
             ],
             [
              0.3333333333333333,
              "#9c179e"
             ],
             [
              0.4444444444444444,
              "#bd3786"
             ],
             [
              0.5555555555555556,
              "#d8576b"
             ],
             [
              0.6666666666666666,
              "#ed7953"
             ],
             [
              0.7777777777777778,
              "#fb9f3a"
             ],
             [
              0.8888888888888888,
              "#fdca26"
             ],
             [
              1,
              "#f0f921"
             ]
            ],
            "type": "histogram2d"
           }
          ],
          "histogram2dcontour": [
           {
            "colorbar": {
             "outlinewidth": 0,
             "ticks": ""
            },
            "colorscale": [
             [
              0,
              "#0d0887"
             ],
             [
              0.1111111111111111,
              "#46039f"
             ],
             [
              0.2222222222222222,
              "#7201a8"
             ],
             [
              0.3333333333333333,
              "#9c179e"
             ],
             [
              0.4444444444444444,
              "#bd3786"
             ],
             [
              0.5555555555555556,
              "#d8576b"
             ],
             [
              0.6666666666666666,
              "#ed7953"
             ],
             [
              0.7777777777777778,
              "#fb9f3a"
             ],
             [
              0.8888888888888888,
              "#fdca26"
             ],
             [
              1,
              "#f0f921"
             ]
            ],
            "type": "histogram2dcontour"
           }
          ],
          "mesh3d": [
           {
            "colorbar": {
             "outlinewidth": 0,
             "ticks": ""
            },
            "type": "mesh3d"
           }
          ],
          "parcoords": [
           {
            "line": {
             "colorbar": {
              "outlinewidth": 0,
              "ticks": ""
             }
            },
            "type": "parcoords"
           }
          ],
          "pie": [
           {
            "automargin": true,
            "type": "pie"
           }
          ],
          "scatter": [
           {
            "fillpattern": {
             "fillmode": "overlay",
             "size": 10,
             "solidity": 0.2
            },
            "type": "scatter"
           }
          ],
          "scatter3d": [
           {
            "line": {
             "colorbar": {
              "outlinewidth": 0,
              "ticks": ""
             }
            },
            "marker": {
             "colorbar": {
              "outlinewidth": 0,
              "ticks": ""
             }
            },
            "type": "scatter3d"
           }
          ],
          "scattercarpet": [
           {
            "marker": {
             "colorbar": {
              "outlinewidth": 0,
              "ticks": ""
             }
            },
            "type": "scattercarpet"
           }
          ],
          "scattergeo": [
           {
            "marker": {
             "colorbar": {
              "outlinewidth": 0,
              "ticks": ""
             }
            },
            "type": "scattergeo"
           }
          ],
          "scattergl": [
           {
            "marker": {
             "colorbar": {
              "outlinewidth": 0,
              "ticks": ""
             }
            },
            "type": "scattergl"
           }
          ],
          "scattermapbox": [
           {
            "marker": {
             "colorbar": {
              "outlinewidth": 0,
              "ticks": ""
             }
            },
            "type": "scattermapbox"
           }
          ],
          "scatterpolar": [
           {
            "marker": {
             "colorbar": {
              "outlinewidth": 0,
              "ticks": ""
             }
            },
            "type": "scatterpolar"
           }
          ],
          "scatterpolargl": [
           {
            "marker": {
             "colorbar": {
              "outlinewidth": 0,
              "ticks": ""
             }
            },
            "type": "scatterpolargl"
           }
          ],
          "scatterternary": [
           {
            "marker": {
             "colorbar": {
              "outlinewidth": 0,
              "ticks": ""
             }
            },
            "type": "scatterternary"
           }
          ],
          "surface": [
           {
            "colorbar": {
             "outlinewidth": 0,
             "ticks": ""
            },
            "colorscale": [
             [
              0,
              "#0d0887"
             ],
             [
              0.1111111111111111,
              "#46039f"
             ],
             [
              0.2222222222222222,
              "#7201a8"
             ],
             [
              0.3333333333333333,
              "#9c179e"
             ],
             [
              0.4444444444444444,
              "#bd3786"
             ],
             [
              0.5555555555555556,
              "#d8576b"
             ],
             [
              0.6666666666666666,
              "#ed7953"
             ],
             [
              0.7777777777777778,
              "#fb9f3a"
             ],
             [
              0.8888888888888888,
              "#fdca26"
             ],
             [
              1,
              "#f0f921"
             ]
            ],
            "type": "surface"
           }
          ],
          "table": [
           {
            "cells": {
             "fill": {
              "color": "#EBF0F8"
             },
             "line": {
              "color": "white"
             }
            },
            "header": {
             "fill": {
              "color": "#C8D4E3"
             },
             "line": {
              "color": "white"
             }
            },
            "type": "table"
           }
          ]
         },
         "layout": {
          "annotationdefaults": {
           "arrowcolor": "#2a3f5f",
           "arrowhead": 0,
           "arrowwidth": 1
          },
          "autotypenumbers": "strict",
          "coloraxis": {
           "colorbar": {
            "outlinewidth": 0,
            "ticks": ""
           }
          },
          "colorscale": {
           "diverging": [
            [
             0,
             "#8e0152"
            ],
            [
             0.1,
             "#c51b7d"
            ],
            [
             0.2,
             "#de77ae"
            ],
            [
             0.3,
             "#f1b6da"
            ],
            [
             0.4,
             "#fde0ef"
            ],
            [
             0.5,
             "#f7f7f7"
            ],
            [
             0.6,
             "#e6f5d0"
            ],
            [
             0.7,
             "#b8e186"
            ],
            [
             0.8,
             "#7fbc41"
            ],
            [
             0.9,
             "#4d9221"
            ],
            [
             1,
             "#276419"
            ]
           ],
           "sequential": [
            [
             0,
             "#0d0887"
            ],
            [
             0.1111111111111111,
             "#46039f"
            ],
            [
             0.2222222222222222,
             "#7201a8"
            ],
            [
             0.3333333333333333,
             "#9c179e"
            ],
            [
             0.4444444444444444,
             "#bd3786"
            ],
            [
             0.5555555555555556,
             "#d8576b"
            ],
            [
             0.6666666666666666,
             "#ed7953"
            ],
            [
             0.7777777777777778,
             "#fb9f3a"
            ],
            [
             0.8888888888888888,
             "#fdca26"
            ],
            [
             1,
             "#f0f921"
            ]
           ],
           "sequentialminus": [
            [
             0,
             "#0d0887"
            ],
            [
             0.1111111111111111,
             "#46039f"
            ],
            [
             0.2222222222222222,
             "#7201a8"
            ],
            [
             0.3333333333333333,
             "#9c179e"
            ],
            [
             0.4444444444444444,
             "#bd3786"
            ],
            [
             0.5555555555555556,
             "#d8576b"
            ],
            [
             0.6666666666666666,
             "#ed7953"
            ],
            [
             0.7777777777777778,
             "#fb9f3a"
            ],
            [
             0.8888888888888888,
             "#fdca26"
            ],
            [
             1,
             "#f0f921"
            ]
           ]
          },
          "colorway": [
           "#636efa",
           "#EF553B",
           "#00cc96",
           "#ab63fa",
           "#FFA15A",
           "#19d3f3",
           "#FF6692",
           "#B6E880",
           "#FF97FF",
           "#FECB52"
          ],
          "font": {
           "color": "#2a3f5f"
          },
          "geo": {
           "bgcolor": "white",
           "lakecolor": "white",
           "landcolor": "#E5ECF6",
           "showlakes": true,
           "showland": true,
           "subunitcolor": "white"
          },
          "hoverlabel": {
           "align": "left"
          },
          "hovermode": "closest",
          "mapbox": {
           "style": "light"
          },
          "paper_bgcolor": "white",
          "plot_bgcolor": "#E5ECF6",
          "polar": {
           "angularaxis": {
            "gridcolor": "white",
            "linecolor": "white",
            "ticks": ""
           },
           "bgcolor": "#E5ECF6",
           "radialaxis": {
            "gridcolor": "white",
            "linecolor": "white",
            "ticks": ""
           }
          },
          "scene": {
           "xaxis": {
            "backgroundcolor": "#E5ECF6",
            "gridcolor": "white",
            "gridwidth": 2,
            "linecolor": "white",
            "showbackground": true,
            "ticks": "",
            "zerolinecolor": "white"
           },
           "yaxis": {
            "backgroundcolor": "#E5ECF6",
            "gridcolor": "white",
            "gridwidth": 2,
            "linecolor": "white",
            "showbackground": true,
            "ticks": "",
            "zerolinecolor": "white"
           },
           "zaxis": {
            "backgroundcolor": "#E5ECF6",
            "gridcolor": "white",
            "gridwidth": 2,
            "linecolor": "white",
            "showbackground": true,
            "ticks": "",
            "zerolinecolor": "white"
           }
          },
          "shapedefaults": {
           "line": {
            "color": "#2a3f5f"
           }
          },
          "ternary": {
           "aaxis": {
            "gridcolor": "white",
            "linecolor": "white",
            "ticks": ""
           },
           "baxis": {
            "gridcolor": "white",
            "linecolor": "white",
            "ticks": ""
           },
           "bgcolor": "#E5ECF6",
           "caxis": {
            "gridcolor": "white",
            "linecolor": "white",
            "ticks": ""
           }
          },
          "title": {
           "x": 0.05
          },
          "xaxis": {
           "automargin": true,
           "gridcolor": "white",
           "linecolor": "white",
           "ticks": "",
           "title": {
            "standoff": 15
           },
           "zerolinecolor": "white",
           "zerolinewidth": 2
          },
          "yaxis": {
           "automargin": true,
           "gridcolor": "white",
           "linecolor": "white",
           "ticks": "",
           "title": {
            "standoff": 15
           },
           "zerolinecolor": "white",
           "zerolinewidth": 2
          }
         }
        },
        "xaxis": {
         "anchor": "y",
         "domain": [
          0,
          1
         ],
         "title": {
          "text": "Periods"
         }
        },
        "yaxis": {
         "anchor": "x",
         "domain": [
          0,
          1
         ],
         "title": {
          "text": "UseOfPublicTransport_2"
         }
        }
       }
      }
     },
     "metadata": {},
     "output_type": "display_data"
    }
   ],
   "source": [
    "mask = df_sorted['PersonalCharacteristics'].str.startswith('Equi');\n",
    "df_income = df_sorted[mask];\n",
    "fig = px.line(df_income, y='UseOfPublicTransport_2', x='Periods', color='PersonalCharacteristics')\n",
    "fig.show()"
   ]
  },
  {
   "cell_type": "code",
   "execution_count": 20,
   "metadata": {},
   "outputs": [
    {
     "data": {
      "application/vnd.plotly.v1+json": {
       "config": {
        "plotlyServerURL": "https://plot.ly"
       },
       "data": [
        {
         "hovertemplate": "PersonalCharacteristics=Driver's license, no passenger car in hh<br>Periods=%{x}<br>UseOfPublicTransport_2=%{y}<extra></extra>",
         "legendgroup": "Driver's license, no passenger car in hh",
         "line": {
          "color": "#636efa",
          "dash": "solid"
         },
         "marker": {
          "symbol": "circle"
         },
         "mode": "lines",
         "name": "Driver's license, no passenger car in hh",
         "orientation": "v",
         "showlegend": true,
         "type": "scatter",
         "x": [
          "2018",
          "2019",
          "2020",
          "2021",
          "2022"
         ],
         "xaxis": "x",
         "y": [
          21.5,
          21.9,
          9.7,
          11.8,
          13.4
         ],
         "yaxis": "y"
        },
        {
         "hovertemplate": "PersonalCharacteristics=Driver's license, pass. car, in own name<br>Periods=%{x}<br>UseOfPublicTransport_2=%{y}<extra></extra>",
         "legendgroup": "Driver's license, pass. car, in own name",
         "line": {
          "color": "#EF553B",
          "dash": "solid"
         },
         "marker": {
          "symbol": "circle"
         },
         "mode": "lines",
         "name": "Driver's license, pass. car, in own name",
         "orientation": "v",
         "showlegend": true,
         "type": "scatter",
         "x": [
          "2018",
          "2019",
          "2020",
          "2021",
          "2022"
         ],
         "xaxis": "x",
         "y": [
          3.7,
          4.1,
          1.6,
          1.4,
          2.4
         ],
         "yaxis": "y"
        },
        {
         "hovertemplate": "PersonalCharacteristics=Driver's license, passenger car in hh<br>Periods=%{x}<br>UseOfPublicTransport_2=%{y}<extra></extra>",
         "legendgroup": "Driver's license, passenger car in hh",
         "line": {
          "color": "#00cc96",
          "dash": "solid"
         },
         "marker": {
          "symbol": "circle"
         },
         "mode": "lines",
         "name": "Driver's license, passenger car in hh",
         "orientation": "v",
         "showlegend": true,
         "type": "scatter",
         "x": [
          "2018",
          "2019",
          "2020",
          "2021",
          "2022"
         ],
         "xaxis": "x",
         "y": [
          7.9,
          8.1,
          3.1,
          3.3,
          5.1
         ],
         "yaxis": "y"
        },
        {
         "hovertemplate": "PersonalCharacteristics=No driver's license; 17 years or older<br>Periods=%{x}<br>UseOfPublicTransport_2=%{y}<extra></extra>",
         "legendgroup": "No driver's license; 17 years or older",
         "line": {
          "color": "#ab63fa",
          "dash": "solid"
         },
         "marker": {
          "symbol": "circle"
         },
         "mode": "lines",
         "name": "No driver's license; 17 years or older",
         "orientation": "v",
         "showlegend": true,
         "type": "scatter",
         "x": [
          "2018",
          "2019",
          "2020",
          "2021",
          "2022"
         ],
         "xaxis": "x",
         "y": [
          17.5,
          16.3,
          8.5,
          9.8,
          13.7
         ],
         "yaxis": "y"
        },
        {
         "hovertemplate": "PersonalCharacteristics=No driver's license; under 17<br>Periods=%{x}<br>UseOfPublicTransport_2=%{y}<extra></extra>",
         "legendgroup": "No driver's license; under 17",
         "line": {
          "color": "#FFA15A",
          "dash": "solid"
         },
         "marker": {
          "symbol": "circle"
         },
         "mode": "lines",
         "name": "No driver's license; under 17",
         "orientation": "v",
         "showlegend": true,
         "type": "scatter",
         "x": [
          "2018",
          "2019",
          "2020",
          "2021",
          "2022"
         ],
         "xaxis": "x",
         "y": [
          5.4,
          5,
          2.9,
          3.1,
          4.4
         ],
         "yaxis": "y"
        }
       ],
       "layout": {
        "legend": {
         "title": {
          "text": "PersonalCharacteristics"
         },
         "tracegroupgap": 0
        },
        "margin": {
         "t": 60
        },
        "template": {
         "data": {
          "bar": [
           {
            "error_x": {
             "color": "#2a3f5f"
            },
            "error_y": {
             "color": "#2a3f5f"
            },
            "marker": {
             "line": {
              "color": "#E5ECF6",
              "width": 0.5
             },
             "pattern": {
              "fillmode": "overlay",
              "size": 10,
              "solidity": 0.2
             }
            },
            "type": "bar"
           }
          ],
          "barpolar": [
           {
            "marker": {
             "line": {
              "color": "#E5ECF6",
              "width": 0.5
             },
             "pattern": {
              "fillmode": "overlay",
              "size": 10,
              "solidity": 0.2
             }
            },
            "type": "barpolar"
           }
          ],
          "carpet": [
           {
            "aaxis": {
             "endlinecolor": "#2a3f5f",
             "gridcolor": "white",
             "linecolor": "white",
             "minorgridcolor": "white",
             "startlinecolor": "#2a3f5f"
            },
            "baxis": {
             "endlinecolor": "#2a3f5f",
             "gridcolor": "white",
             "linecolor": "white",
             "minorgridcolor": "white",
             "startlinecolor": "#2a3f5f"
            },
            "type": "carpet"
           }
          ],
          "choropleth": [
           {
            "colorbar": {
             "outlinewidth": 0,
             "ticks": ""
            },
            "type": "choropleth"
           }
          ],
          "contour": [
           {
            "colorbar": {
             "outlinewidth": 0,
             "ticks": ""
            },
            "colorscale": [
             [
              0,
              "#0d0887"
             ],
             [
              0.1111111111111111,
              "#46039f"
             ],
             [
              0.2222222222222222,
              "#7201a8"
             ],
             [
              0.3333333333333333,
              "#9c179e"
             ],
             [
              0.4444444444444444,
              "#bd3786"
             ],
             [
              0.5555555555555556,
              "#d8576b"
             ],
             [
              0.6666666666666666,
              "#ed7953"
             ],
             [
              0.7777777777777778,
              "#fb9f3a"
             ],
             [
              0.8888888888888888,
              "#fdca26"
             ],
             [
              1,
              "#f0f921"
             ]
            ],
            "type": "contour"
           }
          ],
          "contourcarpet": [
           {
            "colorbar": {
             "outlinewidth": 0,
             "ticks": ""
            },
            "type": "contourcarpet"
           }
          ],
          "heatmap": [
           {
            "colorbar": {
             "outlinewidth": 0,
             "ticks": ""
            },
            "colorscale": [
             [
              0,
              "#0d0887"
             ],
             [
              0.1111111111111111,
              "#46039f"
             ],
             [
              0.2222222222222222,
              "#7201a8"
             ],
             [
              0.3333333333333333,
              "#9c179e"
             ],
             [
              0.4444444444444444,
              "#bd3786"
             ],
             [
              0.5555555555555556,
              "#d8576b"
             ],
             [
              0.6666666666666666,
              "#ed7953"
             ],
             [
              0.7777777777777778,
              "#fb9f3a"
             ],
             [
              0.8888888888888888,
              "#fdca26"
             ],
             [
              1,
              "#f0f921"
             ]
            ],
            "type": "heatmap"
           }
          ],
          "heatmapgl": [
           {
            "colorbar": {
             "outlinewidth": 0,
             "ticks": ""
            },
            "colorscale": [
             [
              0,
              "#0d0887"
             ],
             [
              0.1111111111111111,
              "#46039f"
             ],
             [
              0.2222222222222222,
              "#7201a8"
             ],
             [
              0.3333333333333333,
              "#9c179e"
             ],
             [
              0.4444444444444444,
              "#bd3786"
             ],
             [
              0.5555555555555556,
              "#d8576b"
             ],
             [
              0.6666666666666666,
              "#ed7953"
             ],
             [
              0.7777777777777778,
              "#fb9f3a"
             ],
             [
              0.8888888888888888,
              "#fdca26"
             ],
             [
              1,
              "#f0f921"
             ]
            ],
            "type": "heatmapgl"
           }
          ],
          "histogram": [
           {
            "marker": {
             "pattern": {
              "fillmode": "overlay",
              "size": 10,
              "solidity": 0.2
             }
            },
            "type": "histogram"
           }
          ],
          "histogram2d": [
           {
            "colorbar": {
             "outlinewidth": 0,
             "ticks": ""
            },
            "colorscale": [
             [
              0,
              "#0d0887"
             ],
             [
              0.1111111111111111,
              "#46039f"
             ],
             [
              0.2222222222222222,
              "#7201a8"
             ],
             [
              0.3333333333333333,
              "#9c179e"
             ],
             [
              0.4444444444444444,
              "#bd3786"
             ],
             [
              0.5555555555555556,
              "#d8576b"
             ],
             [
              0.6666666666666666,
              "#ed7953"
             ],
             [
              0.7777777777777778,
              "#fb9f3a"
             ],
             [
              0.8888888888888888,
              "#fdca26"
             ],
             [
              1,
              "#f0f921"
             ]
            ],
            "type": "histogram2d"
           }
          ],
          "histogram2dcontour": [
           {
            "colorbar": {
             "outlinewidth": 0,
             "ticks": ""
            },
            "colorscale": [
             [
              0,
              "#0d0887"
             ],
             [
              0.1111111111111111,
              "#46039f"
             ],
             [
              0.2222222222222222,
              "#7201a8"
             ],
             [
              0.3333333333333333,
              "#9c179e"
             ],
             [
              0.4444444444444444,
              "#bd3786"
             ],
             [
              0.5555555555555556,
              "#d8576b"
             ],
             [
              0.6666666666666666,
              "#ed7953"
             ],
             [
              0.7777777777777778,
              "#fb9f3a"
             ],
             [
              0.8888888888888888,
              "#fdca26"
             ],
             [
              1,
              "#f0f921"
             ]
            ],
            "type": "histogram2dcontour"
           }
          ],
          "mesh3d": [
           {
            "colorbar": {
             "outlinewidth": 0,
             "ticks": ""
            },
            "type": "mesh3d"
           }
          ],
          "parcoords": [
           {
            "line": {
             "colorbar": {
              "outlinewidth": 0,
              "ticks": ""
             }
            },
            "type": "parcoords"
           }
          ],
          "pie": [
           {
            "automargin": true,
            "type": "pie"
           }
          ],
          "scatter": [
           {
            "fillpattern": {
             "fillmode": "overlay",
             "size": 10,
             "solidity": 0.2
            },
            "type": "scatter"
           }
          ],
          "scatter3d": [
           {
            "line": {
             "colorbar": {
              "outlinewidth": 0,
              "ticks": ""
             }
            },
            "marker": {
             "colorbar": {
              "outlinewidth": 0,
              "ticks": ""
             }
            },
            "type": "scatter3d"
           }
          ],
          "scattercarpet": [
           {
            "marker": {
             "colorbar": {
              "outlinewidth": 0,
              "ticks": ""
             }
            },
            "type": "scattercarpet"
           }
          ],
          "scattergeo": [
           {
            "marker": {
             "colorbar": {
              "outlinewidth": 0,
              "ticks": ""
             }
            },
            "type": "scattergeo"
           }
          ],
          "scattergl": [
           {
            "marker": {
             "colorbar": {
              "outlinewidth": 0,
              "ticks": ""
             }
            },
            "type": "scattergl"
           }
          ],
          "scattermapbox": [
           {
            "marker": {
             "colorbar": {
              "outlinewidth": 0,
              "ticks": ""
             }
            },
            "type": "scattermapbox"
           }
          ],
          "scatterpolar": [
           {
            "marker": {
             "colorbar": {
              "outlinewidth": 0,
              "ticks": ""
             }
            },
            "type": "scatterpolar"
           }
          ],
          "scatterpolargl": [
           {
            "marker": {
             "colorbar": {
              "outlinewidth": 0,
              "ticks": ""
             }
            },
            "type": "scatterpolargl"
           }
          ],
          "scatterternary": [
           {
            "marker": {
             "colorbar": {
              "outlinewidth": 0,
              "ticks": ""
             }
            },
            "type": "scatterternary"
           }
          ],
          "surface": [
           {
            "colorbar": {
             "outlinewidth": 0,
             "ticks": ""
            },
            "colorscale": [
             [
              0,
              "#0d0887"
             ],
             [
              0.1111111111111111,
              "#46039f"
             ],
             [
              0.2222222222222222,
              "#7201a8"
             ],
             [
              0.3333333333333333,
              "#9c179e"
             ],
             [
              0.4444444444444444,
              "#bd3786"
             ],
             [
              0.5555555555555556,
              "#d8576b"
             ],
             [
              0.6666666666666666,
              "#ed7953"
             ],
             [
              0.7777777777777778,
              "#fb9f3a"
             ],
             [
              0.8888888888888888,
              "#fdca26"
             ],
             [
              1,
              "#f0f921"
             ]
            ],
            "type": "surface"
           }
          ],
          "table": [
           {
            "cells": {
             "fill": {
              "color": "#EBF0F8"
             },
             "line": {
              "color": "white"
             }
            },
            "header": {
             "fill": {
              "color": "#C8D4E3"
             },
             "line": {
              "color": "white"
             }
            },
            "type": "table"
           }
          ]
         },
         "layout": {
          "annotationdefaults": {
           "arrowcolor": "#2a3f5f",
           "arrowhead": 0,
           "arrowwidth": 1
          },
          "autotypenumbers": "strict",
          "coloraxis": {
           "colorbar": {
            "outlinewidth": 0,
            "ticks": ""
           }
          },
          "colorscale": {
           "diverging": [
            [
             0,
             "#8e0152"
            ],
            [
             0.1,
             "#c51b7d"
            ],
            [
             0.2,
             "#de77ae"
            ],
            [
             0.3,
             "#f1b6da"
            ],
            [
             0.4,
             "#fde0ef"
            ],
            [
             0.5,
             "#f7f7f7"
            ],
            [
             0.6,
             "#e6f5d0"
            ],
            [
             0.7,
             "#b8e186"
            ],
            [
             0.8,
             "#7fbc41"
            ],
            [
             0.9,
             "#4d9221"
            ],
            [
             1,
             "#276419"
            ]
           ],
           "sequential": [
            [
             0,
             "#0d0887"
            ],
            [
             0.1111111111111111,
             "#46039f"
            ],
            [
             0.2222222222222222,
             "#7201a8"
            ],
            [
             0.3333333333333333,
             "#9c179e"
            ],
            [
             0.4444444444444444,
             "#bd3786"
            ],
            [
             0.5555555555555556,
             "#d8576b"
            ],
            [
             0.6666666666666666,
             "#ed7953"
            ],
            [
             0.7777777777777778,
             "#fb9f3a"
            ],
            [
             0.8888888888888888,
             "#fdca26"
            ],
            [
             1,
             "#f0f921"
            ]
           ],
           "sequentialminus": [
            [
             0,
             "#0d0887"
            ],
            [
             0.1111111111111111,
             "#46039f"
            ],
            [
             0.2222222222222222,
             "#7201a8"
            ],
            [
             0.3333333333333333,
             "#9c179e"
            ],
            [
             0.4444444444444444,
             "#bd3786"
            ],
            [
             0.5555555555555556,
             "#d8576b"
            ],
            [
             0.6666666666666666,
             "#ed7953"
            ],
            [
             0.7777777777777778,
             "#fb9f3a"
            ],
            [
             0.8888888888888888,
             "#fdca26"
            ],
            [
             1,
             "#f0f921"
            ]
           ]
          },
          "colorway": [
           "#636efa",
           "#EF553B",
           "#00cc96",
           "#ab63fa",
           "#FFA15A",
           "#19d3f3",
           "#FF6692",
           "#B6E880",
           "#FF97FF",
           "#FECB52"
          ],
          "font": {
           "color": "#2a3f5f"
          },
          "geo": {
           "bgcolor": "white",
           "lakecolor": "white",
           "landcolor": "#E5ECF6",
           "showlakes": true,
           "showland": true,
           "subunitcolor": "white"
          },
          "hoverlabel": {
           "align": "left"
          },
          "hovermode": "closest",
          "mapbox": {
           "style": "light"
          },
          "paper_bgcolor": "white",
          "plot_bgcolor": "#E5ECF6",
          "polar": {
           "angularaxis": {
            "gridcolor": "white",
            "linecolor": "white",
            "ticks": ""
           },
           "bgcolor": "#E5ECF6",
           "radialaxis": {
            "gridcolor": "white",
            "linecolor": "white",
            "ticks": ""
           }
          },
          "scene": {
           "xaxis": {
            "backgroundcolor": "#E5ECF6",
            "gridcolor": "white",
            "gridwidth": 2,
            "linecolor": "white",
            "showbackground": true,
            "ticks": "",
            "zerolinecolor": "white"
           },
           "yaxis": {
            "backgroundcolor": "#E5ECF6",
            "gridcolor": "white",
            "gridwidth": 2,
            "linecolor": "white",
            "showbackground": true,
            "ticks": "",
            "zerolinecolor": "white"
           },
           "zaxis": {
            "backgroundcolor": "#E5ECF6",
            "gridcolor": "white",
            "gridwidth": 2,
            "linecolor": "white",
            "showbackground": true,
            "ticks": "",
            "zerolinecolor": "white"
           }
          },
          "shapedefaults": {
           "line": {
            "color": "#2a3f5f"
           }
          },
          "ternary": {
           "aaxis": {
            "gridcolor": "white",
            "linecolor": "white",
            "ticks": ""
           },
           "baxis": {
            "gridcolor": "white",
            "linecolor": "white",
            "ticks": ""
           },
           "bgcolor": "#E5ECF6",
           "caxis": {
            "gridcolor": "white",
            "linecolor": "white",
            "ticks": ""
           }
          },
          "title": {
           "x": 0.05
          },
          "xaxis": {
           "automargin": true,
           "gridcolor": "white",
           "linecolor": "white",
           "ticks": "",
           "title": {
            "standoff": 15
           },
           "zerolinecolor": "white",
           "zerolinewidth": 2
          },
          "yaxis": {
           "automargin": true,
           "gridcolor": "white",
           "linecolor": "white",
           "ticks": "",
           "title": {
            "standoff": 15
           },
           "zerolinecolor": "white",
           "zerolinewidth": 2
          }
         }
        },
        "xaxis": {
         "anchor": "y",
         "domain": [
          0,
          1
         ],
         "title": {
          "text": "Periods"
         }
        },
        "yaxis": {
         "anchor": "x",
         "domain": [
          0,
          1
         ],
         "title": {
          "text": "UseOfPublicTransport_2"
         }
        }
       }
      }
     },
     "metadata": {},
     "output_type": "display_data"
    }
   ],
   "source": [
    "mask = df_sorted['PersonalCharacteristics'].str.startswith(('Driv','No'));\n",
    "df_drivers_licence = df_sorted[mask];\n",
    "fig = px.line(df_drivers_licence, y='UseOfPublicTransport_2', x='Periods', color='PersonalCharacteristics')\n",
    "fig.show()"
   ]
  },
  {
   "cell_type": "markdown",
   "metadata": {},
   "source": [
    "**Literature** \n",
    "\n",
    "Paulley et al. (2006) identify four key relationships between income and public transport usage:\n",
    "\n",
    "1. An increase in income will, depending upon the level of income, lead to an increase in car ownership and so car availability, or to an increase in public transport use.\n",
    "2. An increase in car ownership/availability will, other things being equal, lead to a reduction in the demand for public transport modes.\n",
    "3. The sign and magnitude of demand elasticities for public transport with respect to car availability and income will vary depending upon the income levels.\n",
    "4. Income growth can be expected to increase average trip length.\n",
    "\n",
    "Holmgren (2013) found that income's direct influence on public transport demand and income's indirect influence through car ownership work in opposite directions, so that the total income effect is close to zero. \n",
    "\n",
    "In the USA, poorer people live closer to city centers because of their dependency on cheap public transportation, while richer people can afford to travel by car to their work (Glaeser et al., 2008). Van Goeverden et al. (2006) state that also in the Netherlands low-income people may not be able to afford alternative transport and thus are dependent on public transportation.\n",
    "\n",
    "MuConsult (1992) shows that train use in the Netherlands does increase with income, controlling for other variables such as car ownership, residential location, and educational level. Buehler and Pucher (2012) express that the lowest income percentile group travels the most with public transport, while the second, third, and fourth income groups have almost identical travel percentages.\n",
    "\n",
    "During COVID, working from home was a privilege of higher-income jobs (Tirachini & Cats, 2020). Tirachini and Cats (2020) continue by stating that the amount of trips on public transportation fell by between 30% and 40% for people in the lowest income households, while the decrease in public transportation use was greater than 70% for the highest income households in their survey. Almlöf et al. (2021) also found that the higher the income, the higher the drop in public transport usage during the pandemic.\n",
    "\n",
    "**Analysis** \n",
    "\n",
    "The investigated data supports the findings of the literature. The poor travel more by public transport. They started using PT faster after COVID than members of higher income groups, propably because they did not have the possiblity to work at home. \n",
    "Car ownership and driver licence ownerhip are negatively correlated with PT usage. People with a car in their household switched to the car during the pandemic and did not all return to PT after COVID. In the data we see that people without a driver licence returned faster to PT than people with a driver licence but without a car. Possibly that people with a driver licence have bought a car of use rent-a-car services more often.\n",
    "\n",
    "\n",
    "**References**\n",
    "- Almlöf, E., Rubensson, I., Cebecauer, M., & Jenelius, E. (2021). [Who continued traveling by public transport during COVID-19? Socioeconomic factors explaining travel behavior in Stockholm 2020 based on smart card data.](https://doi.org/10.1186/s12544-021-00488-0) European Transport Research Review, 13(1).\n",
    "- Buehler, R., & Pucher, J. (2012). [Demand for public transport in Germany and the USA: An analysis of rider characteristics.](https://doi.org/10.1080/01441647.2012.707695) Transport Reviews, 32(5), 541–567.\n",
    "- Glaeser, E. L., Kahn, M. E., & Rappaport, J. (2008). [Why do the poor live in cities? The role of public transportation.](https://doi.org/10.1016/j.jue.2006.12.004) Journal of Urban Economics, 63(1), 1–24.\n",
    "- Holmgren, J. (2013). [An analysis of the determinants of local public transport demand focusing the effects of income changes.](https://doi.org/10.1007/s12544-013-0094-0) European Transport Research Review, 5(2), 101–107.\n",
    "- Koehl, A. (2020). [Urban transport and COVID-19: challenges and prospects in low- and middle-income countries.](https://doi.org/10.1080/23748834.2020.1791410) Cities & Health, 5(sup1), S185–S190.\n",
    "- MuConsult. (1992). [Inkomen en treingebruik naar motief [Income and Train Use by Trip Purpose]](https://www.example.com). Amersfoort: MuConsult.\n",
    "- Paulley, N., Balcombe, R. J., Mackett, R., Titheridge, H., Preston, J., Wardman, M., Shires, J., & White, P. (2006). [The demand for public transport: The effects of fares, quality of service, income and car ownership.](https://doi.org/10.1016/j.tranpol.2005.12.004) Transport Policy, 13(4), 295–306.\n",
    "- Shadmi, E., Chen, Y., Dourado, I., Faran-Perach, I., Furler, J., Halmai, P., Hanvoravongchai, P., Obando, C., Petrosyan, V., Rao, K. D., Ruano, A. L., Shi, L., De Souza, L. E., Spitzer-Shohat, S., Sturgiss, E., Suphanchaimat, R., Uribe, M. V., & Willems, S. (2020). [Health equity and COVID-19: global perspectives.](https://doi.org/10.1186/s12939-020-01218-z) International Journal for Equity in Health, 19(1).\n",
    "- Tirachini, A., & Cats, O. (2020). [COVID-19 and public transportation: current assessment, prospects, and research needs.](https://doi.org/10.5038/2375-0901.22.1.1) Journal of Public Transportation, 22(1).\n",
    "- Van Goeverden, C., Rietveld, P., Koelemeijer, J., & Peeters, P. (2006). [Subsidies in public transport.](https://www.openstarts.units.it/bitstream/10077/5892/1/vanGoeverden_et_al_ET32.pdf) European Transport, 32(32), 5–25.\n"
   ]
  },
  {
   "cell_type": "markdown",
   "metadata": {},
   "source": [
    "# Age"
   ]
  },
  {
   "cell_type": "code",
   "execution_count": 1,
   "metadata": {},
   "outputs": [
    {
     "ename": "NameError",
     "evalue": "name 'df' is not defined",
     "output_type": "error",
     "traceback": [
      "\u001b[1;31m---------------------------------------------------------------------------\u001b[0m",
      "\u001b[1;31mNameError\u001b[0m                                 Traceback (most recent call last)",
      "\u001b[1;32m~\\AppData\\Local\\Temp\\ipykernel_50944\\3442693024.py\u001b[0m in \u001b[0;36m<module>\u001b[1;34m\u001b[0m\n\u001b[1;32m----> 1\u001b[1;33m \u001b[0mdf\u001b[0m\u001b[1;33m[\u001b[0m\u001b[1;34m'gap with mean'\u001b[0m\u001b[1;33m]\u001b[0m\u001b[1;33m=\u001b[0m\u001b[1;36m0\u001b[0m\u001b[1;33m\u001b[0m\u001b[1;33m\u001b[0m\u001b[0m\n\u001b[0m\u001b[0;32m      2\u001b[0m \u001b[1;32mfor\u001b[0m \u001b[0mi\u001b[0m \u001b[1;32min\u001b[0m \u001b[0mrange\u001b[0m\u001b[1;33m(\u001b[0m\u001b[1;36m0\u001b[0m\u001b[1;33m,\u001b[0m \u001b[0mdf\u001b[0m\u001b[1;33m.\u001b[0m\u001b[0mshape\u001b[0m\u001b[1;33m[\u001b[0m\u001b[1;36m0\u001b[0m\u001b[1;33m]\u001b[0m\u001b[1;33m)\u001b[0m\u001b[1;33m:\u001b[0m\u001b[1;33m\u001b[0m\u001b[1;33m\u001b[0m\u001b[0m\n\u001b[0;32m      3\u001b[0m     \u001b[0mref_year\u001b[0m \u001b[1;33m=\u001b[0m \u001b[0mdf\u001b[0m\u001b[1;33m.\u001b[0m\u001b[0mloc\u001b[0m\u001b[1;33m[\u001b[0m\u001b[0mi\u001b[0m\u001b[1;33m,\u001b[0m \u001b[1;34m'Topic'\u001b[0m\u001b[1;33m]\u001b[0m\u001b[1;33m\u001b[0m\u001b[1;33m\u001b[0m\u001b[0m\n\u001b[0;32m      4\u001b[0m     \u001b[0mref_value\u001b[0m \u001b[1;33m=\u001b[0m \u001b[0mdf\u001b[0m\u001b[1;33m[\u001b[0m\u001b[1;33m(\u001b[0m\u001b[0mdf\u001b[0m\u001b[1;33m[\u001b[0m\u001b[1;34m'Personal characteristics'\u001b[0m\u001b[1;33m]\u001b[0m \u001b[1;33m==\u001b[0m \u001b[1;34m'Total persons'\u001b[0m\u001b[1;33m)\u001b[0m \u001b[1;33m&\u001b[0m \u001b[1;33m(\u001b[0m\u001b[0mdf\u001b[0m\u001b[1;33m[\u001b[0m\u001b[1;34m'Topic'\u001b[0m\u001b[1;33m]\u001b[0m \u001b[1;33m==\u001b[0m \u001b[0mref_year\u001b[0m\u001b[1;33m)\u001b[0m\u001b[1;33m]\u001b[0m\u001b[1;33m.\u001b[0m\u001b[0miloc\u001b[0m\u001b[1;33m[\u001b[0m\u001b[1;36m0\u001b[0m\u001b[1;33m,\u001b[0m \u001b[1;36m3\u001b[0m\u001b[1;33m]\u001b[0m\u001b[1;33m\u001b[0m\u001b[1;33m\u001b[0m\u001b[0m\n\u001b[0;32m      5\u001b[0m     \u001b[0mdf\u001b[0m\u001b[1;33m.\u001b[0m\u001b[0mloc\u001b[0m\u001b[1;33m[\u001b[0m\u001b[0mi\u001b[0m\u001b[1;33m,\u001b[0m \u001b[1;34m'gap with mean'\u001b[0m\u001b[1;33m]\u001b[0m \u001b[1;33m=\u001b[0m \u001b[0mdf\u001b[0m\u001b[1;33m.\u001b[0m\u001b[0mloc\u001b[0m\u001b[1;33m[\u001b[0m\u001b[0mi\u001b[0m\u001b[1;33m,\u001b[0m \u001b[1;34m'Use of public transport'\u001b[0m\u001b[1;33m]\u001b[0m \u001b[1;33m-\u001b[0m \u001b[0mref_value\u001b[0m\u001b[1;33m\u001b[0m\u001b[1;33m\u001b[0m\u001b[0m\n",
      "\u001b[1;31mNameError\u001b[0m: name 'df' is not defined"
     ]
    }
   ],
   "source": [
    "df['gap with mean']=0\n",
    "for i in range(0, df.shape[0]):\n",
    "    ref_year = df.loc[i, 'Topic']\n",
    "    ref_value = df[(df['Personal characteristics'] == 'Total persons') & (df['Topic'] == ref_year)].iloc[0, 3]\n",
    "    df.loc[i, 'gap with mean'] = df.loc[i, 'Use of public transport'] - ref_value\n",
    "\n",
    "df"
   ]
  },
  {
   "cell_type": "code",
   "execution_count": null,
   "metadata": {},
   "outputs": [
    {
     "data": {
      "text/html": [
       "<div>\n",
       "<style scoped>\n",
       "    .dataframe tbody tr th:only-of-type {\n",
       "        vertical-align: middle;\n",
       "    }\n",
       "\n",
       "    .dataframe tbody tr th {\n",
       "        vertical-align: top;\n",
       "    }\n",
       "\n",
       "    .dataframe thead th {\n",
       "        text-align: right;\n",
       "    }\n",
       "</style>\n",
       "<table border=\"1\" class=\"dataframe\">\n",
       "  <thead>\n",
       "    <tr style=\"text-align: right;\">\n",
       "      <th></th>\n",
       "      <th>Personal characteristics</th>\n",
       "      <th>Topic</th>\n",
       "      <th>Traffic participation</th>\n",
       "      <th>Use of public transport</th>\n",
       "      <th>gap with mean</th>\n",
       "      <th>comparison to 2018 level</th>\n",
       "      <th>comparison to 2018 level (%)</th>\n",
       "    </tr>\n",
       "  </thead>\n",
       "  <tbody>\n",
       "    <tr>\n",
       "      <th>0</th>\n",
       "      <td>Age: 12 to 17 years</td>\n",
       "      <td>2010</td>\n",
       "      <td>82.1</td>\n",
       "      <td>10.0</td>\n",
       "      <td>3.2</td>\n",
       "      <td>-1.7</td>\n",
       "      <td>-14.529915</td>\n",
       "    </tr>\n",
       "    <tr>\n",
       "      <th>1</th>\n",
       "      <td>Age: 12 to 17 years</td>\n",
       "      <td>2011</td>\n",
       "      <td>82.8</td>\n",
       "      <td>9.8</td>\n",
       "      <td>2.7</td>\n",
       "      <td>-1.9</td>\n",
       "      <td>-16.239316</td>\n",
       "    </tr>\n",
       "    <tr>\n",
       "      <th>2</th>\n",
       "      <td>Age: 12 to 17 years</td>\n",
       "      <td>2012</td>\n",
       "      <td>82.1</td>\n",
       "      <td>8.9</td>\n",
       "      <td>2.2</td>\n",
       "      <td>-2.8</td>\n",
       "      <td>-23.931624</td>\n",
       "    </tr>\n",
       "    <tr>\n",
       "      <th>3</th>\n",
       "      <td>Age: 12 to 17 years</td>\n",
       "      <td>2013</td>\n",
       "      <td>82.0</td>\n",
       "      <td>9.8</td>\n",
       "      <td>2.8</td>\n",
       "      <td>-1.9</td>\n",
       "      <td>-16.239316</td>\n",
       "    </tr>\n",
       "    <tr>\n",
       "      <th>4</th>\n",
       "      <td>Age: 12 to 17 years</td>\n",
       "      <td>2014</td>\n",
       "      <td>83.3</td>\n",
       "      <td>8.9</td>\n",
       "      <td>2.2</td>\n",
       "      <td>-2.8</td>\n",
       "      <td>-23.931624</td>\n",
       "    </tr>\n",
       "    <tr>\n",
       "      <th>...</th>\n",
       "      <td>...</td>\n",
       "      <td>...</td>\n",
       "      <td>...</td>\n",
       "      <td>...</td>\n",
       "      <td>...</td>\n",
       "      <td>...</td>\n",
       "      <td>...</td>\n",
       "    </tr>\n",
       "    <tr>\n",
       "      <th>450</th>\n",
       "      <td>Total persons</td>\n",
       "      <td>2018</td>\n",
       "      <td>82.9</td>\n",
       "      <td>8.6</td>\n",
       "      <td>0.0</td>\n",
       "      <td>0.0</td>\n",
       "      <td>0.000000</td>\n",
       "    </tr>\n",
       "    <tr>\n",
       "      <th>451</th>\n",
       "      <td>Total persons</td>\n",
       "      <td>2019</td>\n",
       "      <td>81.9</td>\n",
       "      <td>8.6</td>\n",
       "      <td>0.0</td>\n",
       "      <td>0.0</td>\n",
       "      <td>0.000000</td>\n",
       "    </tr>\n",
       "    <tr>\n",
       "      <th>452</th>\n",
       "      <td>Total persons</td>\n",
       "      <td>2020</td>\n",
       "      <td>73.8</td>\n",
       "      <td>3.9</td>\n",
       "      <td>0.0</td>\n",
       "      <td>-4.7</td>\n",
       "      <td>-54.651163</td>\n",
       "    </tr>\n",
       "    <tr>\n",
       "      <th>453</th>\n",
       "      <td>Total persons</td>\n",
       "      <td>2021</td>\n",
       "      <td>78.1</td>\n",
       "      <td>4.2</td>\n",
       "      <td>0.0</td>\n",
       "      <td>-4.4</td>\n",
       "      <td>-51.162791</td>\n",
       "    </tr>\n",
       "    <tr>\n",
       "      <th>454</th>\n",
       "      <td>Total persons</td>\n",
       "      <td>2022</td>\n",
       "      <td>79.7</td>\n",
       "      <td>6.1</td>\n",
       "      <td>0.0</td>\n",
       "      <td>-2.5</td>\n",
       "      <td>-29.069767</td>\n",
       "    </tr>\n",
       "  </tbody>\n",
       "</table>\n",
       "<p>455 rows × 7 columns</p>\n",
       "</div>"
      ],
      "text/plain": [
       "    Personal characteristics  Topic  Traffic participation  \\\n",
       "0        Age: 12 to 17 years   2010                   82.1   \n",
       "1        Age: 12 to 17 years   2011                   82.8   \n",
       "2        Age: 12 to 17 years   2012                   82.1   \n",
       "3        Age: 12 to 17 years   2013                   82.0   \n",
       "4        Age: 12 to 17 years   2014                   83.3   \n",
       "..                       ...    ...                    ...   \n",
       "450            Total persons   2018                   82.9   \n",
       "451            Total persons   2019                   81.9   \n",
       "452            Total persons   2020                   73.8   \n",
       "453            Total persons   2021                   78.1   \n",
       "454            Total persons   2022                   79.7   \n",
       "\n",
       "     Use of public transport  gap with mean comparison to 2018 level  \\\n",
       "0                       10.0            3.2                     -1.7   \n",
       "1                        9.8            2.7                     -1.9   \n",
       "2                        8.9            2.2                     -2.8   \n",
       "3                        9.8            2.8                     -1.9   \n",
       "4                        8.9            2.2                     -2.8   \n",
       "..                       ...            ...                      ...   \n",
       "450                      8.6            0.0                      0.0   \n",
       "451                      8.6            0.0                      0.0   \n",
       "452                      3.9            0.0                     -4.7   \n",
       "453                      4.2            0.0                     -4.4   \n",
       "454                      6.1            0.0                     -2.5   \n",
       "\n",
       "     comparison to 2018 level (%)  \n",
       "0                      -14.529915  \n",
       "1                      -16.239316  \n",
       "2                      -23.931624  \n",
       "3                      -16.239316  \n",
       "4                      -23.931624  \n",
       "..                            ...  \n",
       "450                      0.000000  \n",
       "451                      0.000000  \n",
       "452                    -54.651163  \n",
       "453                    -51.162791  \n",
       "454                    -29.069767  \n",
       "\n",
       "[455 rows x 7 columns]"
      ]
     },
     "execution_count": 60,
     "metadata": {},
     "output_type": "execute_result"
    }
   ],
   "source": [
    "df['comparison to 2018 level']=0\n",
    "for i in range(df.shape[0]):\n",
    "    ref_group = df.loc[i, 'Personal characteristics']\n",
    "    if df[(df['Personal characteristics'] == ref_group) & (df['Topic'] == 2018)].shape[0] == 0:\n",
    "        df.loc[i, 'comparison to 2018 level'] = 'NaN'\n",
    "    else:\n",
    "        ref_value = df[(df['Personal characteristics'] == ref_group) & (df['Topic'] == 2018)].iloc[0, 3]\n",
    "        comparison_value = df.loc[i, 'Use of public transport']\n",
    "        df.loc[i, 'comparison to 2018 level'] = comparison_value - ref_value\n",
    "\n",
    "df"
   ]
  },
  {
   "cell_type": "code",
   "execution_count": null,
   "metadata": {},
   "outputs": [
    {
     "data": {
      "text/plain": [
       "0     -14.529915\n",
       "1     -16.239316\n",
       "2     -23.931624\n",
       "3     -16.239316\n",
       "4     -23.931624\n",
       "         ...    \n",
       "450     0.000000\n",
       "451     0.000000\n",
       "452   -54.651163\n",
       "453   -51.162791\n",
       "454   -29.069767\n",
       "Name: comparison to 2018 level (%), Length: 455, dtype: float64"
      ]
     },
     "execution_count": 61,
     "metadata": {},
     "output_type": "execute_result"
    }
   ],
   "source": [
    "df['comparison to 2018 level (%)']=0\n",
    "for i in range( df.shape[0]):\n",
    "    ref_group = df.loc[i, 'Personal characteristics']\n",
    "    if df[(df['Personal characteristics'] == ref_group) & (df['Topic'] == 2018)].shape[0] == 0:\n",
    "        df.loc[i, 'comparison to 2018 level'] = 'NaN'\n",
    "    else:\n",
    "        ref_value = df[(df['Personal characteristics'] == ref_group) & (df['Topic'] == 2018)].iloc[0, 3]\n",
    "        comparison_value = df.loc[i, 'Use of public transport']\n",
    "        df.loc[i, 'comparison to 2018 level (%)'] = ((comparison_value - ref_value)/ref_value)*100\n",
    "df['comparison to 2018 level (%)']"
   ]
  },
  {
   "cell_type": "code",
   "execution_count": null,
   "metadata": {},
   "outputs": [],
   "source": [
    "# Creation of a dataset only encompassing the Total \n",
    "mask = df['Personal characteristics'].str.startswith('Total')\n",
    "df_total = df[mask]"
   ]
  },
  {
   "cell_type": "code",
   "execution_count": null,
   "metadata": {},
   "outputs": [],
   "source": [
    "# Creation of a dataset focusing on age groups, with one dataset also having the total group for comparison\n",
    "mask = df['Personal characteristics'].str.startswith('Age')\n",
    "df_age = df[mask]\n",
    "df_age2 = pd.concat([df_total, df_age])"
   ]
  },
  {
   "cell_type": "code",
   "execution_count": null,
   "metadata": {},
   "outputs": [
    {
     "data": {
      "application/vnd.plotly.v1+json": {
       "config": {
        "plotlyServerURL": "https://plot.ly"
       },
       "data": [
        {
         "hovertemplate": "Personal characteristics=Total persons<br>Topic=%{x}<br>Use of public transport=%{y}<extra></extra>",
         "legendgroup": "Total persons",
         "line": {
          "color": "#636efa",
          "dash": "solid"
         },
         "marker": {
          "symbol": "circle"
         },
         "mode": "lines",
         "name": "Total persons",
         "orientation": "v",
         "showlegend": true,
         "type": "scatter",
         "x": [
          2010,
          2011,
          2012,
          2013,
          2014,
          2015,
          2016,
          2017,
          2018,
          2019,
          2020,
          2021,
          2022
         ],
         "xaxis": "x",
         "y": [
          6.8,
          7.1,
          6.7,
          7,
          6.7,
          6.9,
          6.8,
          7,
          8.6,
          8.6,
          3.9,
          4.2,
          6.1
         ],
         "yaxis": "y"
        },
        {
         "hovertemplate": "Personal characteristics=Age: 12 to 17 years<br>Topic=%{x}<br>Use of public transport=%{y}<extra></extra>",
         "legendgroup": "Age: 12 to 17 years",
         "line": {
          "color": "#EF553B",
          "dash": "solid"
         },
         "marker": {
          "symbol": "circle"
         },
         "mode": "lines",
         "name": "Age: 12 to 17 years",
         "orientation": "v",
         "showlegend": true,
         "type": "scatter",
         "x": [
          2010,
          2011,
          2012,
          2013,
          2014,
          2015,
          2016,
          2017,
          2018,
          2019,
          2020,
          2021,
          2022
         ],
         "xaxis": "x",
         "y": [
          10,
          9.8,
          8.9,
          9.8,
          8.9,
          9.6,
          8.8,
          9.8,
          11.7,
          10.7,
          6.3,
          6.3,
          9.2
         ],
         "yaxis": "y"
        },
        {
         "hovertemplate": "Personal characteristics=Age: 12 years or older<br>Topic=%{x}<br>Use of public transport=%{y}<extra></extra>",
         "legendgroup": "Age: 12 years or older",
         "line": {
          "color": "#00cc96",
          "dash": "solid"
         },
         "marker": {
          "symbol": "circle"
         },
         "mode": "lines",
         "name": "Age: 12 years or older",
         "orientation": "v",
         "showlegend": true,
         "type": "scatter",
         "x": [
          2010,
          2011,
          2012,
          2013,
          2014,
          2015,
          2016,
          2017
         ],
         "xaxis": "x",
         "y": [
          7.5,
          8,
          7.5,
          7.8,
          7.4,
          7.7,
          7.5,
          7.7
         ],
         "yaxis": "y"
        },
        {
         "hovertemplate": "Personal characteristics=Age: 18 to 24 years<br>Topic=%{x}<br>Use of public transport=%{y}<extra></extra>",
         "legendgroup": "Age: 18 to 24 years",
         "line": {
          "color": "#ab63fa",
          "dash": "solid"
         },
         "marker": {
          "symbol": "circle"
         },
         "mode": "lines",
         "name": "Age: 18 to 24 years",
         "orientation": "v",
         "showlegend": true,
         "type": "scatter",
         "x": [
          2010,
          2011,
          2012,
          2013,
          2014,
          2015,
          2016,
          2017,
          2018,
          2019,
          2020,
          2021,
          2022
         ],
         "xaxis": "x",
         "y": [
          23.2,
          23.3,
          23.5,
          25.3,
          23.3,
          24,
          23.4,
          22.5,
          23.8,
          24,
          11.9,
          14.5,
          18.4
         ],
         "yaxis": "y"
        },
        {
         "hovertemplate": "Personal characteristics=Age: 25 to 34 years<br>Topic=%{x}<br>Use of public transport=%{y}<extra></extra>",
         "legendgroup": "Age: 25 to 34 years",
         "line": {
          "color": "#FFA15A",
          "dash": "solid"
         },
         "marker": {
          "symbol": "circle"
         },
         "mode": "lines",
         "name": "Age: 25 to 34 years",
         "orientation": "v",
         "showlegend": true,
         "type": "scatter",
         "x": [
          2010,
          2011,
          2012,
          2013,
          2014,
          2015,
          2016,
          2017,
          2018,
          2019,
          2020,
          2021,
          2022
         ],
         "xaxis": "x",
         "y": [
          9.2,
          10.2,
          9.7,
          10.6,
          9.6,
          9.9,
          10,
          11.6,
          13.4,
          13.4,
          6,
          6.5,
          9.6
         ],
         "yaxis": "y"
        },
        {
         "hovertemplate": "Personal characteristics=Age: 35 to 49 years<br>Topic=%{x}<br>Use of public transport=%{y}<extra></extra>",
         "legendgroup": "Age: 35 to 49 years",
         "line": {
          "color": "#19d3f3",
          "dash": "solid"
         },
         "marker": {
          "symbol": "circle"
         },
         "mode": "lines",
         "name": "Age: 35 to 49 years",
         "orientation": "v",
         "showlegend": true,
         "type": "scatter",
         "x": [
          2010,
          2011,
          2012,
          2013,
          2014,
          2015,
          2016,
          2017,
          2018,
          2019,
          2020,
          2021,
          2022
         ],
         "xaxis": "x",
         "y": [
          5,
          5.7,
          5.1,
          4.9,
          5.2,
          5.7,
          5.6,
          5.9,
          7.1,
          7.5,
          3.2,
          3.2,
          4.8
         ],
         "yaxis": "y"
        },
        {
         "hovertemplate": "Personal characteristics=Age: 50 to 64 years<br>Topic=%{x}<br>Use of public transport=%{y}<extra></extra>",
         "legendgroup": "Age: 50 to 64 years",
         "line": {
          "color": "#FF6692",
          "dash": "solid"
         },
         "marker": {
          "symbol": "circle"
         },
         "mode": "lines",
         "name": "Age: 50 to 64 years",
         "orientation": "v",
         "showlegend": true,
         "type": "scatter",
         "x": [
          2010,
          2011,
          2012,
          2013,
          2014,
          2015,
          2016,
          2017,
          2018,
          2019,
          2020,
          2021,
          2022
         ],
         "xaxis": "x",
         "y": [
          5.2,
          5.5,
          4.7,
          4.7,
          4.8,
          4.8,
          4.9,
          4.8,
          6,
          6,
          2.5,
          2.4,
          3.8
         ],
         "yaxis": "y"
        },
        {
         "hovertemplate": "Personal characteristics=Age: 6 to 11 years<br>Topic=%{x}<br>Use of public transport=%{y}<extra></extra>",
         "legendgroup": "Age: 6 to 11 years",
         "line": {
          "color": "#B6E880",
          "dash": "solid"
         },
         "marker": {
          "symbol": "circle"
         },
         "mode": "lines",
         "name": "Age: 6 to 11 years",
         "orientation": "v",
         "showlegend": true,
         "type": "scatter",
         "x": [
          2010,
          2011,
          2012,
          2013,
          2014,
          2015,
          2016,
          2017,
          2018,
          2019,
          2020,
          2021,
          2022
         ],
         "xaxis": "x",
         "y": [
          2.2,
          1.7,
          1.7,
          1.6,
          2.1,
          1.7,
          1.8,
          1.8,
          2.1,
          1.6,
          null,
          null,
          1.6
         ],
         "yaxis": "y"
        },
        {
         "hovertemplate": "Personal characteristics=Age: 65 to 74 years<br>Topic=%{x}<br>Use of public transport=%{y}<extra></extra>",
         "legendgroup": "Age: 65 to 74 years",
         "line": {
          "color": "#FF97FF",
          "dash": "solid"
         },
         "marker": {
          "symbol": "circle"
         },
         "mode": "lines",
         "name": "Age: 65 to 74 years",
         "orientation": "v",
         "showlegend": true,
         "type": "scatter",
         "x": [
          2010,
          2011,
          2012,
          2013,
          2014,
          2015,
          2016,
          2017,
          2018,
          2019,
          2020,
          2021,
          2022
         ],
         "xaxis": "x",
         "y": [
          3.3,
          4.1,
          3.6,
          3.5,
          3.3,
          3.1,
          3.3,
          3.2,
          4.2,
          4.2,
          1.6,
          1.8,
          2.2
         ],
         "yaxis": "y"
        },
        {
         "hovertemplate": "Personal characteristics=Age: 75 years or older<br>Topic=%{x}<br>Use of public transport=%{y}<extra></extra>",
         "legendgroup": "Age: 75 years or older",
         "line": {
          "color": "#FECB52",
          "dash": "solid"
         },
         "marker": {
          "symbol": "circle"
         },
         "mode": "lines",
         "name": "Age: 75 years or older",
         "orientation": "v",
         "showlegend": true,
         "type": "scatter",
         "x": [
          2010,
          2011,
          2012,
          2013,
          2014,
          2015,
          2016,
          2017,
          2018,
          2019,
          2020,
          2021,
          2022
         ],
         "xaxis": "x",
         "y": [
          2.7,
          2.6,
          2.8,
          3.2,
          2.6,
          3,
          2.6,
          2.5,
          3.2,
          2.9,
          1.1,
          1.2,
          1.8
         ],
         "yaxis": "y"
        }
       ],
       "layout": {
        "legend": {
         "title": {
          "text": "Personal characteristics"
         },
         "tracegroupgap": 0
        },
        "margin": {
         "t": 60
        },
        "template": {
         "data": {
          "bar": [
           {
            "error_x": {
             "color": "#2a3f5f"
            },
            "error_y": {
             "color": "#2a3f5f"
            },
            "marker": {
             "line": {
              "color": "#E5ECF6",
              "width": 0.5
             },
             "pattern": {
              "fillmode": "overlay",
              "size": 10,
              "solidity": 0.2
             }
            },
            "type": "bar"
           }
          ],
          "barpolar": [
           {
            "marker": {
             "line": {
              "color": "#E5ECF6",
              "width": 0.5
             },
             "pattern": {
              "fillmode": "overlay",
              "size": 10,
              "solidity": 0.2
             }
            },
            "type": "barpolar"
           }
          ],
          "carpet": [
           {
            "aaxis": {
             "endlinecolor": "#2a3f5f",
             "gridcolor": "white",
             "linecolor": "white",
             "minorgridcolor": "white",
             "startlinecolor": "#2a3f5f"
            },
            "baxis": {
             "endlinecolor": "#2a3f5f",
             "gridcolor": "white",
             "linecolor": "white",
             "minorgridcolor": "white",
             "startlinecolor": "#2a3f5f"
            },
            "type": "carpet"
           }
          ],
          "choropleth": [
           {
            "colorbar": {
             "outlinewidth": 0,
             "ticks": ""
            },
            "type": "choropleth"
           }
          ],
          "contour": [
           {
            "colorbar": {
             "outlinewidth": 0,
             "ticks": ""
            },
            "colorscale": [
             [
              0,
              "#0d0887"
             ],
             [
              0.1111111111111111,
              "#46039f"
             ],
             [
              0.2222222222222222,
              "#7201a8"
             ],
             [
              0.3333333333333333,
              "#9c179e"
             ],
             [
              0.4444444444444444,
              "#bd3786"
             ],
             [
              0.5555555555555556,
              "#d8576b"
             ],
             [
              0.6666666666666666,
              "#ed7953"
             ],
             [
              0.7777777777777778,
              "#fb9f3a"
             ],
             [
              0.8888888888888888,
              "#fdca26"
             ],
             [
              1,
              "#f0f921"
             ]
            ],
            "type": "contour"
           }
          ],
          "contourcarpet": [
           {
            "colorbar": {
             "outlinewidth": 0,
             "ticks": ""
            },
            "type": "contourcarpet"
           }
          ],
          "heatmap": [
           {
            "colorbar": {
             "outlinewidth": 0,
             "ticks": ""
            },
            "colorscale": [
             [
              0,
              "#0d0887"
             ],
             [
              0.1111111111111111,
              "#46039f"
             ],
             [
              0.2222222222222222,
              "#7201a8"
             ],
             [
              0.3333333333333333,
              "#9c179e"
             ],
             [
              0.4444444444444444,
              "#bd3786"
             ],
             [
              0.5555555555555556,
              "#d8576b"
             ],
             [
              0.6666666666666666,
              "#ed7953"
             ],
             [
              0.7777777777777778,
              "#fb9f3a"
             ],
             [
              0.8888888888888888,
              "#fdca26"
             ],
             [
              1,
              "#f0f921"
             ]
            ],
            "type": "heatmap"
           }
          ],
          "heatmapgl": [
           {
            "colorbar": {
             "outlinewidth": 0,
             "ticks": ""
            },
            "colorscale": [
             [
              0,
              "#0d0887"
             ],
             [
              0.1111111111111111,
              "#46039f"
             ],
             [
              0.2222222222222222,
              "#7201a8"
             ],
             [
              0.3333333333333333,
              "#9c179e"
             ],
             [
              0.4444444444444444,
              "#bd3786"
             ],
             [
              0.5555555555555556,
              "#d8576b"
             ],
             [
              0.6666666666666666,
              "#ed7953"
             ],
             [
              0.7777777777777778,
              "#fb9f3a"
             ],
             [
              0.8888888888888888,
              "#fdca26"
             ],
             [
              1,
              "#f0f921"
             ]
            ],
            "type": "heatmapgl"
           }
          ],
          "histogram": [
           {
            "marker": {
             "pattern": {
              "fillmode": "overlay",
              "size": 10,
              "solidity": 0.2
             }
            },
            "type": "histogram"
           }
          ],
          "histogram2d": [
           {
            "colorbar": {
             "outlinewidth": 0,
             "ticks": ""
            },
            "colorscale": [
             [
              0,
              "#0d0887"
             ],
             [
              0.1111111111111111,
              "#46039f"
             ],
             [
              0.2222222222222222,
              "#7201a8"
             ],
             [
              0.3333333333333333,
              "#9c179e"
             ],
             [
              0.4444444444444444,
              "#bd3786"
             ],
             [
              0.5555555555555556,
              "#d8576b"
             ],
             [
              0.6666666666666666,
              "#ed7953"
             ],
             [
              0.7777777777777778,
              "#fb9f3a"
             ],
             [
              0.8888888888888888,
              "#fdca26"
             ],
             [
              1,
              "#f0f921"
             ]
            ],
            "type": "histogram2d"
           }
          ],
          "histogram2dcontour": [
           {
            "colorbar": {
             "outlinewidth": 0,
             "ticks": ""
            },
            "colorscale": [
             [
              0,
              "#0d0887"
             ],
             [
              0.1111111111111111,
              "#46039f"
             ],
             [
              0.2222222222222222,
              "#7201a8"
             ],
             [
              0.3333333333333333,
              "#9c179e"
             ],
             [
              0.4444444444444444,
              "#bd3786"
             ],
             [
              0.5555555555555556,
              "#d8576b"
             ],
             [
              0.6666666666666666,
              "#ed7953"
             ],
             [
              0.7777777777777778,
              "#fb9f3a"
             ],
             [
              0.8888888888888888,
              "#fdca26"
             ],
             [
              1,
              "#f0f921"
             ]
            ],
            "type": "histogram2dcontour"
           }
          ],
          "mesh3d": [
           {
            "colorbar": {
             "outlinewidth": 0,
             "ticks": ""
            },
            "type": "mesh3d"
           }
          ],
          "parcoords": [
           {
            "line": {
             "colorbar": {
              "outlinewidth": 0,
              "ticks": ""
             }
            },
            "type": "parcoords"
           }
          ],
          "pie": [
           {
            "automargin": true,
            "type": "pie"
           }
          ],
          "scatter": [
           {
            "fillpattern": {
             "fillmode": "overlay",
             "size": 10,
             "solidity": 0.2
            },
            "type": "scatter"
           }
          ],
          "scatter3d": [
           {
            "line": {
             "colorbar": {
              "outlinewidth": 0,
              "ticks": ""
             }
            },
            "marker": {
             "colorbar": {
              "outlinewidth": 0,
              "ticks": ""
             }
            },
            "type": "scatter3d"
           }
          ],
          "scattercarpet": [
           {
            "marker": {
             "colorbar": {
              "outlinewidth": 0,
              "ticks": ""
             }
            },
            "type": "scattercarpet"
           }
          ],
          "scattergeo": [
           {
            "marker": {
             "colorbar": {
              "outlinewidth": 0,
              "ticks": ""
             }
            },
            "type": "scattergeo"
           }
          ],
          "scattergl": [
           {
            "marker": {
             "colorbar": {
              "outlinewidth": 0,
              "ticks": ""
             }
            },
            "type": "scattergl"
           }
          ],
          "scattermapbox": [
           {
            "marker": {
             "colorbar": {
              "outlinewidth": 0,
              "ticks": ""
             }
            },
            "type": "scattermapbox"
           }
          ],
          "scatterpolar": [
           {
            "marker": {
             "colorbar": {
              "outlinewidth": 0,
              "ticks": ""
             }
            },
            "type": "scatterpolar"
           }
          ],
          "scatterpolargl": [
           {
            "marker": {
             "colorbar": {
              "outlinewidth": 0,
              "ticks": ""
             }
            },
            "type": "scatterpolargl"
           }
          ],
          "scatterternary": [
           {
            "marker": {
             "colorbar": {
              "outlinewidth": 0,
              "ticks": ""
             }
            },
            "type": "scatterternary"
           }
          ],
          "surface": [
           {
            "colorbar": {
             "outlinewidth": 0,
             "ticks": ""
            },
            "colorscale": [
             [
              0,
              "#0d0887"
             ],
             [
              0.1111111111111111,
              "#46039f"
             ],
             [
              0.2222222222222222,
              "#7201a8"
             ],
             [
              0.3333333333333333,
              "#9c179e"
             ],
             [
              0.4444444444444444,
              "#bd3786"
             ],
             [
              0.5555555555555556,
              "#d8576b"
             ],
             [
              0.6666666666666666,
              "#ed7953"
             ],
             [
              0.7777777777777778,
              "#fb9f3a"
             ],
             [
              0.8888888888888888,
              "#fdca26"
             ],
             [
              1,
              "#f0f921"
             ]
            ],
            "type": "surface"
           }
          ],
          "table": [
           {
            "cells": {
             "fill": {
              "color": "#EBF0F8"
             },
             "line": {
              "color": "white"
             }
            },
            "header": {
             "fill": {
              "color": "#C8D4E3"
             },
             "line": {
              "color": "white"
             }
            },
            "type": "table"
           }
          ]
         },
         "layout": {
          "annotationdefaults": {
           "arrowcolor": "#2a3f5f",
           "arrowhead": 0,
           "arrowwidth": 1
          },
          "autotypenumbers": "strict",
          "coloraxis": {
           "colorbar": {
            "outlinewidth": 0,
            "ticks": ""
           }
          },
          "colorscale": {
           "diverging": [
            [
             0,
             "#8e0152"
            ],
            [
             0.1,
             "#c51b7d"
            ],
            [
             0.2,
             "#de77ae"
            ],
            [
             0.3,
             "#f1b6da"
            ],
            [
             0.4,
             "#fde0ef"
            ],
            [
             0.5,
             "#f7f7f7"
            ],
            [
             0.6,
             "#e6f5d0"
            ],
            [
             0.7,
             "#b8e186"
            ],
            [
             0.8,
             "#7fbc41"
            ],
            [
             0.9,
             "#4d9221"
            ],
            [
             1,
             "#276419"
            ]
           ],
           "sequential": [
            [
             0,
             "#0d0887"
            ],
            [
             0.1111111111111111,
             "#46039f"
            ],
            [
             0.2222222222222222,
             "#7201a8"
            ],
            [
             0.3333333333333333,
             "#9c179e"
            ],
            [
             0.4444444444444444,
             "#bd3786"
            ],
            [
             0.5555555555555556,
             "#d8576b"
            ],
            [
             0.6666666666666666,
             "#ed7953"
            ],
            [
             0.7777777777777778,
             "#fb9f3a"
            ],
            [
             0.8888888888888888,
             "#fdca26"
            ],
            [
             1,
             "#f0f921"
            ]
           ],
           "sequentialminus": [
            [
             0,
             "#0d0887"
            ],
            [
             0.1111111111111111,
             "#46039f"
            ],
            [
             0.2222222222222222,
             "#7201a8"
            ],
            [
             0.3333333333333333,
             "#9c179e"
            ],
            [
             0.4444444444444444,
             "#bd3786"
            ],
            [
             0.5555555555555556,
             "#d8576b"
            ],
            [
             0.6666666666666666,
             "#ed7953"
            ],
            [
             0.7777777777777778,
             "#fb9f3a"
            ],
            [
             0.8888888888888888,
             "#fdca26"
            ],
            [
             1,
             "#f0f921"
            ]
           ]
          },
          "colorway": [
           "#636efa",
           "#EF553B",
           "#00cc96",
           "#ab63fa",
           "#FFA15A",
           "#19d3f3",
           "#FF6692",
           "#B6E880",
           "#FF97FF",
           "#FECB52"
          ],
          "font": {
           "color": "#2a3f5f"
          },
          "geo": {
           "bgcolor": "white",
           "lakecolor": "white",
           "landcolor": "#E5ECF6",
           "showlakes": true,
           "showland": true,
           "subunitcolor": "white"
          },
          "hoverlabel": {
           "align": "left"
          },
          "hovermode": "closest",
          "mapbox": {
           "style": "light"
          },
          "paper_bgcolor": "white",
          "plot_bgcolor": "#E5ECF6",
          "polar": {
           "angularaxis": {
            "gridcolor": "white",
            "linecolor": "white",
            "ticks": ""
           },
           "bgcolor": "#E5ECF6",
           "radialaxis": {
            "gridcolor": "white",
            "linecolor": "white",
            "ticks": ""
           }
          },
          "scene": {
           "xaxis": {
            "backgroundcolor": "#E5ECF6",
            "gridcolor": "white",
            "gridwidth": 2,
            "linecolor": "white",
            "showbackground": true,
            "ticks": "",
            "zerolinecolor": "white"
           },
           "yaxis": {
            "backgroundcolor": "#E5ECF6",
            "gridcolor": "white",
            "gridwidth": 2,
            "linecolor": "white",
            "showbackground": true,
            "ticks": "",
            "zerolinecolor": "white"
           },
           "zaxis": {
            "backgroundcolor": "#E5ECF6",
            "gridcolor": "white",
            "gridwidth": 2,
            "linecolor": "white",
            "showbackground": true,
            "ticks": "",
            "zerolinecolor": "white"
           }
          },
          "shapedefaults": {
           "line": {
            "color": "#2a3f5f"
           }
          },
          "ternary": {
           "aaxis": {
            "gridcolor": "white",
            "linecolor": "white",
            "ticks": ""
           },
           "baxis": {
            "gridcolor": "white",
            "linecolor": "white",
            "ticks": ""
           },
           "bgcolor": "#E5ECF6",
           "caxis": {
            "gridcolor": "white",
            "linecolor": "white",
            "ticks": ""
           }
          },
          "title": {
           "x": 0.05
          },
          "xaxis": {
           "automargin": true,
           "gridcolor": "white",
           "linecolor": "white",
           "ticks": "",
           "title": {
            "standoff": 15
           },
           "zerolinecolor": "white",
           "zerolinewidth": 2
          },
          "yaxis": {
           "automargin": true,
           "gridcolor": "white",
           "linecolor": "white",
           "ticks": "",
           "title": {
            "standoff": 15
           },
           "zerolinecolor": "white",
           "zerolinewidth": 2
          }
         }
        },
        "xaxis": {
         "anchor": "y",
         "domain": [
          0,
          1
         ],
         "title": {
          "text": "Topic"
         }
        },
        "yaxis": {
         "anchor": "x",
         "domain": [
          0,
          1
         ],
         "title": {
          "text": "Use of public transport"
         }
        }
       }
      }
     },
     "metadata": {},
     "output_type": "display_data"
    }
   ],
   "source": [
    "px.line(data_frame=df_age2, x=\"Topic\", y=\"Use of public transport\", color='Personal characteristics')"
   ]
  },
  {
   "cell_type": "markdown",
   "metadata": {},
   "source": [
    "#### Observations :\n",
    "The drop of traffic during covid is sharper for younger categories (age < 35 years) compared to the other age groups. Maybe this can be explained by the closing of schools and universities. Maybe younger workers also tend to use remote working more than older ones.  \n",
    "It is noticeable that people between 25 and 34 years old used public transport more than people 12 to 17 years old before the pandemic, whereas after the pandemic their levels of use of public transport are quite similar. This can maybe be explained by an increase in the use of remote working.  \n",
    "Looking at the older data from 2010, the general trend seems to be a stagnation from 2010 to 2017, with a noticeable rise in public transport participation between 2017 and 2018, however since this dates correspond to the junction between two datasets this variation can also come from a change in the methodology or data gathering for the dataset.  \n",
    "The traffic have yet to recover to their pre-covid levels"
   ]
  },
  {
   "cell_type": "code",
   "execution_count": null,
   "metadata": {},
   "outputs": [
    {
     "data": {
      "application/vnd.plotly.v1+json": {
       "config": {
        "plotlyServerURL": "https://plot.ly"
       },
       "data": [
        {
         "hovertemplate": "Personal characteristics=Age: 12 to 17 years<br>Topic=%{x}<br>gap with mean=%{y}<extra></extra>",
         "legendgroup": "Age: 12 to 17 years",
         "line": {
          "color": "#636efa",
          "dash": "solid"
         },
         "marker": {
          "symbol": "circle"
         },
         "mode": "lines",
         "name": "Age: 12 to 17 years",
         "orientation": "v",
         "showlegend": true,
         "type": "scatter",
         "x": [
          2010,
          2011,
          2012,
          2013,
          2014,
          2015,
          2016,
          2017,
          2018,
          2019,
          2020,
          2021,
          2022
         ],
         "xaxis": "x",
         "y": [
          3.2,
          2.700000000000001,
          2.2,
          2.8000000000000007,
          2.2,
          2.6999999999999993,
          2.000000000000001,
          2.8000000000000007,
          3.0999999999999996,
          2.0999999999999996,
          2.4,
          2.0999999999999996,
          3.0999999999999996
         ],
         "yaxis": "y"
        },
        {
         "hovertemplate": "Personal characteristics=Age: 12 years or older<br>Topic=%{x}<br>gap with mean=%{y}<extra></extra>",
         "legendgroup": "Age: 12 years or older",
         "line": {
          "color": "#EF553B",
          "dash": "solid"
         },
         "marker": {
          "symbol": "circle"
         },
         "mode": "lines",
         "name": "Age: 12 years or older",
         "orientation": "v",
         "showlegend": true,
         "type": "scatter",
         "x": [
          2010,
          2011,
          2012,
          2013,
          2014,
          2015,
          2016,
          2017
         ],
         "xaxis": "x",
         "y": [
          0.7000000000000002,
          0.9000000000000004,
          0.7999999999999998,
          0.7999999999999998,
          0.7000000000000002,
          0.7999999999999998,
          0.7000000000000002,
          0.7000000000000002
         ],
         "yaxis": "y"
        },
        {
         "hovertemplate": "Personal characteristics=Age: 18 to 24 years<br>Topic=%{x}<br>gap with mean=%{y}<extra></extra>",
         "legendgroup": "Age: 18 to 24 years",
         "line": {
          "color": "#00cc96",
          "dash": "solid"
         },
         "marker": {
          "symbol": "circle"
         },
         "mode": "lines",
         "name": "Age: 18 to 24 years",
         "orientation": "v",
         "showlegend": true,
         "type": "scatter",
         "x": [
          2010,
          2011,
          2012,
          2013,
          2014,
          2015,
          2016,
          2017,
          2018,
          2019,
          2020,
          2021,
          2022
         ],
         "xaxis": "x",
         "y": [
          16.4,
          16.200000000000003,
          16.8,
          18.3,
          16.6,
          17.1,
          16.599999999999998,
          15.5,
          15.200000000000001,
          15.4,
          8,
          10.3,
          12.299999999999999
         ],
         "yaxis": "y"
        },
        {
         "hovertemplate": "Personal characteristics=Age: 25 to 34 years<br>Topic=%{x}<br>gap with mean=%{y}<extra></extra>",
         "legendgroup": "Age: 25 to 34 years",
         "line": {
          "color": "#ab63fa",
          "dash": "solid"
         },
         "marker": {
          "symbol": "circle"
         },
         "mode": "lines",
         "name": "Age: 25 to 34 years",
         "orientation": "v",
         "showlegend": true,
         "type": "scatter",
         "x": [
          2010,
          2011,
          2012,
          2013,
          2014,
          2015,
          2016,
          2017,
          2018,
          2019,
          2020,
          2021,
          2022
         ],
         "xaxis": "x",
         "y": [
          2.3999999999999995,
          3.0999999999999996,
          2.999999999999999,
          3.5999999999999996,
          2.8999999999999995,
          3,
          3.2,
          4.6,
          4.800000000000001,
          4.800000000000001,
          2.1,
          2.3,
          3.5
         ],
         "yaxis": "y"
        },
        {
         "hovertemplate": "Personal characteristics=Age: 35 to 49 years<br>Topic=%{x}<br>gap with mean=%{y}<extra></extra>",
         "legendgroup": "Age: 35 to 49 years",
         "line": {
          "color": "#FFA15A",
          "dash": "solid"
         },
         "marker": {
          "symbol": "circle"
         },
         "mode": "lines",
         "name": "Age: 35 to 49 years",
         "orientation": "v",
         "showlegend": true,
         "type": "scatter",
         "x": [
          2010,
          2011,
          2012,
          2013,
          2014,
          2015,
          2016,
          2017,
          2018,
          2019,
          2020,
          2021,
          2022
         ],
         "xaxis": "x",
         "y": [
          -1.7999999999999998,
          -1.3999999999999995,
          -1.6000000000000005,
          -2.0999999999999996,
          -1.5,
          -1.2000000000000002,
          -1.2000000000000002,
          -1.0999999999999996,
          -1.5,
          -1.0999999999999996,
          -0.6999999999999997,
          -1,
          -1.2999999999999998
         ],
         "yaxis": "y"
        },
        {
         "hovertemplate": "Personal characteristics=Age: 50 to 64 years<br>Topic=%{x}<br>gap with mean=%{y}<extra></extra>",
         "legendgroup": "Age: 50 to 64 years",
         "line": {
          "color": "#19d3f3",
          "dash": "solid"
         },
         "marker": {
          "symbol": "circle"
         },
         "mode": "lines",
         "name": "Age: 50 to 64 years",
         "orientation": "v",
         "showlegend": true,
         "type": "scatter",
         "x": [
          2010,
          2011,
          2012,
          2013,
          2014,
          2015,
          2016,
          2017,
          2018,
          2019,
          2020,
          2021,
          2022
         ],
         "xaxis": "x",
         "y": [
          -1.5999999999999996,
          -1.5999999999999996,
          -2,
          -2.3,
          -1.9000000000000004,
          -2.1000000000000005,
          -1.8999999999999995,
          -2.2,
          -2.5999999999999996,
          -2.5999999999999996,
          -1.4,
          -1.8000000000000003,
          -2.3
         ],
         "yaxis": "y"
        },
        {
         "hovertemplate": "Personal characteristics=Age: 6 to 11 years<br>Topic=%{x}<br>gap with mean=%{y}<extra></extra>",
         "legendgroup": "Age: 6 to 11 years",
         "line": {
          "color": "#FF6692",
          "dash": "solid"
         },
         "marker": {
          "symbol": "circle"
         },
         "mode": "lines",
         "name": "Age: 6 to 11 years",
         "orientation": "v",
         "showlegend": true,
         "type": "scatter",
         "x": [
          2010,
          2011,
          2012,
          2013,
          2014,
          2015,
          2016,
          2017,
          2018,
          2019,
          2020,
          2021,
          2022
         ],
         "xaxis": "x",
         "y": [
          -4.6,
          -5.3999999999999995,
          -5,
          -5.4,
          -4.6,
          -5.2,
          -5,
          -5.2,
          -6.5,
          -7,
          null,
          null,
          -4.5
         ],
         "yaxis": "y"
        },
        {
         "hovertemplate": "Personal characteristics=Age: 65 to 74 years<br>Topic=%{x}<br>gap with mean=%{y}<extra></extra>",
         "legendgroup": "Age: 65 to 74 years",
         "line": {
          "color": "#B6E880",
          "dash": "solid"
         },
         "marker": {
          "symbol": "circle"
         },
         "mode": "lines",
         "name": "Age: 65 to 74 years",
         "orientation": "v",
         "showlegend": true,
         "type": "scatter",
         "x": [
          2010,
          2011,
          2012,
          2013,
          2014,
          2015,
          2016,
          2017,
          2018,
          2019,
          2020,
          2021,
          2022
         ],
         "xaxis": "x",
         "y": [
          -3.5,
          -3,
          -3.1,
          -3.5,
          -3.4000000000000004,
          -3.8000000000000003,
          -3.5,
          -3.8,
          -4.3999999999999995,
          -4.3999999999999995,
          -2.3,
          -2.4000000000000004,
          -3.8999999999999995
         ],
         "yaxis": "y"
        },
        {
         "hovertemplate": "Personal characteristics=Age: 75 years or older<br>Topic=%{x}<br>gap with mean=%{y}<extra></extra>",
         "legendgroup": "Age: 75 years or older",
         "line": {
          "color": "#FF97FF",
          "dash": "solid"
         },
         "marker": {
          "symbol": "circle"
         },
         "mode": "lines",
         "name": "Age: 75 years or older",
         "orientation": "v",
         "showlegend": true,
         "type": "scatter",
         "x": [
          2010,
          2011,
          2012,
          2013,
          2014,
          2015,
          2016,
          2017,
          2018,
          2019,
          2020,
          2021,
          2022
         ],
         "xaxis": "x",
         "y": [
          -4.1,
          -4.5,
          -3.9000000000000004,
          -3.8,
          -4.1,
          -3.9000000000000004,
          -4.199999999999999,
          -4.5,
          -5.3999999999999995,
          -5.699999999999999,
          -2.8,
          -3,
          -4.3
         ],
         "yaxis": "y"
        }
       ],
       "layout": {
        "legend": {
         "title": {
          "text": "Personal characteristics"
         },
         "tracegroupgap": 0
        },
        "margin": {
         "t": 60
        },
        "template": {
         "data": {
          "bar": [
           {
            "error_x": {
             "color": "#2a3f5f"
            },
            "error_y": {
             "color": "#2a3f5f"
            },
            "marker": {
             "line": {
              "color": "#E5ECF6",
              "width": 0.5
             },
             "pattern": {
              "fillmode": "overlay",
              "size": 10,
              "solidity": 0.2
             }
            },
            "type": "bar"
           }
          ],
          "barpolar": [
           {
            "marker": {
             "line": {
              "color": "#E5ECF6",
              "width": 0.5
             },
             "pattern": {
              "fillmode": "overlay",
              "size": 10,
              "solidity": 0.2
             }
            },
            "type": "barpolar"
           }
          ],
          "carpet": [
           {
            "aaxis": {
             "endlinecolor": "#2a3f5f",
             "gridcolor": "white",
             "linecolor": "white",
             "minorgridcolor": "white",
             "startlinecolor": "#2a3f5f"
            },
            "baxis": {
             "endlinecolor": "#2a3f5f",
             "gridcolor": "white",
             "linecolor": "white",
             "minorgridcolor": "white",
             "startlinecolor": "#2a3f5f"
            },
            "type": "carpet"
           }
          ],
          "choropleth": [
           {
            "colorbar": {
             "outlinewidth": 0,
             "ticks": ""
            },
            "type": "choropleth"
           }
          ],
          "contour": [
           {
            "colorbar": {
             "outlinewidth": 0,
             "ticks": ""
            },
            "colorscale": [
             [
              0,
              "#0d0887"
             ],
             [
              0.1111111111111111,
              "#46039f"
             ],
             [
              0.2222222222222222,
              "#7201a8"
             ],
             [
              0.3333333333333333,
              "#9c179e"
             ],
             [
              0.4444444444444444,
              "#bd3786"
             ],
             [
              0.5555555555555556,
              "#d8576b"
             ],
             [
              0.6666666666666666,
              "#ed7953"
             ],
             [
              0.7777777777777778,
              "#fb9f3a"
             ],
             [
              0.8888888888888888,
              "#fdca26"
             ],
             [
              1,
              "#f0f921"
             ]
            ],
            "type": "contour"
           }
          ],
          "contourcarpet": [
           {
            "colorbar": {
             "outlinewidth": 0,
             "ticks": ""
            },
            "type": "contourcarpet"
           }
          ],
          "heatmap": [
           {
            "colorbar": {
             "outlinewidth": 0,
             "ticks": ""
            },
            "colorscale": [
             [
              0,
              "#0d0887"
             ],
             [
              0.1111111111111111,
              "#46039f"
             ],
             [
              0.2222222222222222,
              "#7201a8"
             ],
             [
              0.3333333333333333,
              "#9c179e"
             ],
             [
              0.4444444444444444,
              "#bd3786"
             ],
             [
              0.5555555555555556,
              "#d8576b"
             ],
             [
              0.6666666666666666,
              "#ed7953"
             ],
             [
              0.7777777777777778,
              "#fb9f3a"
             ],
             [
              0.8888888888888888,
              "#fdca26"
             ],
             [
              1,
              "#f0f921"
             ]
            ],
            "type": "heatmap"
           }
          ],
          "heatmapgl": [
           {
            "colorbar": {
             "outlinewidth": 0,
             "ticks": ""
            },
            "colorscale": [
             [
              0,
              "#0d0887"
             ],
             [
              0.1111111111111111,
              "#46039f"
             ],
             [
              0.2222222222222222,
              "#7201a8"
             ],
             [
              0.3333333333333333,
              "#9c179e"
             ],
             [
              0.4444444444444444,
              "#bd3786"
             ],
             [
              0.5555555555555556,
              "#d8576b"
             ],
             [
              0.6666666666666666,
              "#ed7953"
             ],
             [
              0.7777777777777778,
              "#fb9f3a"
             ],
             [
              0.8888888888888888,
              "#fdca26"
             ],
             [
              1,
              "#f0f921"
             ]
            ],
            "type": "heatmapgl"
           }
          ],
          "histogram": [
           {
            "marker": {
             "pattern": {
              "fillmode": "overlay",
              "size": 10,
              "solidity": 0.2
             }
            },
            "type": "histogram"
           }
          ],
          "histogram2d": [
           {
            "colorbar": {
             "outlinewidth": 0,
             "ticks": ""
            },
            "colorscale": [
             [
              0,
              "#0d0887"
             ],
             [
              0.1111111111111111,
              "#46039f"
             ],
             [
              0.2222222222222222,
              "#7201a8"
             ],
             [
              0.3333333333333333,
              "#9c179e"
             ],
             [
              0.4444444444444444,
              "#bd3786"
             ],
             [
              0.5555555555555556,
              "#d8576b"
             ],
             [
              0.6666666666666666,
              "#ed7953"
             ],
             [
              0.7777777777777778,
              "#fb9f3a"
             ],
             [
              0.8888888888888888,
              "#fdca26"
             ],
             [
              1,
              "#f0f921"
             ]
            ],
            "type": "histogram2d"
           }
          ],
          "histogram2dcontour": [
           {
            "colorbar": {
             "outlinewidth": 0,
             "ticks": ""
            },
            "colorscale": [
             [
              0,
              "#0d0887"
             ],
             [
              0.1111111111111111,
              "#46039f"
             ],
             [
              0.2222222222222222,
              "#7201a8"
             ],
             [
              0.3333333333333333,
              "#9c179e"
             ],
             [
              0.4444444444444444,
              "#bd3786"
             ],
             [
              0.5555555555555556,
              "#d8576b"
             ],
             [
              0.6666666666666666,
              "#ed7953"
             ],
             [
              0.7777777777777778,
              "#fb9f3a"
             ],
             [
              0.8888888888888888,
              "#fdca26"
             ],
             [
              1,
              "#f0f921"
             ]
            ],
            "type": "histogram2dcontour"
           }
          ],
          "mesh3d": [
           {
            "colorbar": {
             "outlinewidth": 0,
             "ticks": ""
            },
            "type": "mesh3d"
           }
          ],
          "parcoords": [
           {
            "line": {
             "colorbar": {
              "outlinewidth": 0,
              "ticks": ""
             }
            },
            "type": "parcoords"
           }
          ],
          "pie": [
           {
            "automargin": true,
            "type": "pie"
           }
          ],
          "scatter": [
           {
            "fillpattern": {
             "fillmode": "overlay",
             "size": 10,
             "solidity": 0.2
            },
            "type": "scatter"
           }
          ],
          "scatter3d": [
           {
            "line": {
             "colorbar": {
              "outlinewidth": 0,
              "ticks": ""
             }
            },
            "marker": {
             "colorbar": {
              "outlinewidth": 0,
              "ticks": ""
             }
            },
            "type": "scatter3d"
           }
          ],
          "scattercarpet": [
           {
            "marker": {
             "colorbar": {
              "outlinewidth": 0,
              "ticks": ""
             }
            },
            "type": "scattercarpet"
           }
          ],
          "scattergeo": [
           {
            "marker": {
             "colorbar": {
              "outlinewidth": 0,
              "ticks": ""
             }
            },
            "type": "scattergeo"
           }
          ],
          "scattergl": [
           {
            "marker": {
             "colorbar": {
              "outlinewidth": 0,
              "ticks": ""
             }
            },
            "type": "scattergl"
           }
          ],
          "scattermapbox": [
           {
            "marker": {
             "colorbar": {
              "outlinewidth": 0,
              "ticks": ""
             }
            },
            "type": "scattermapbox"
           }
          ],
          "scatterpolar": [
           {
            "marker": {
             "colorbar": {
              "outlinewidth": 0,
              "ticks": ""
             }
            },
            "type": "scatterpolar"
           }
          ],
          "scatterpolargl": [
           {
            "marker": {
             "colorbar": {
              "outlinewidth": 0,
              "ticks": ""
             }
            },
            "type": "scatterpolargl"
           }
          ],
          "scatterternary": [
           {
            "marker": {
             "colorbar": {
              "outlinewidth": 0,
              "ticks": ""
             }
            },
            "type": "scatterternary"
           }
          ],
          "surface": [
           {
            "colorbar": {
             "outlinewidth": 0,
             "ticks": ""
            },
            "colorscale": [
             [
              0,
              "#0d0887"
             ],
             [
              0.1111111111111111,
              "#46039f"
             ],
             [
              0.2222222222222222,
              "#7201a8"
             ],
             [
              0.3333333333333333,
              "#9c179e"
             ],
             [
              0.4444444444444444,
              "#bd3786"
             ],
             [
              0.5555555555555556,
              "#d8576b"
             ],
             [
              0.6666666666666666,
              "#ed7953"
             ],
             [
              0.7777777777777778,
              "#fb9f3a"
             ],
             [
              0.8888888888888888,
              "#fdca26"
             ],
             [
              1,
              "#f0f921"
             ]
            ],
            "type": "surface"
           }
          ],
          "table": [
           {
            "cells": {
             "fill": {
              "color": "#EBF0F8"
             },
             "line": {
              "color": "white"
             }
            },
            "header": {
             "fill": {
              "color": "#C8D4E3"
             },
             "line": {
              "color": "white"
             }
            },
            "type": "table"
           }
          ]
         },
         "layout": {
          "annotationdefaults": {
           "arrowcolor": "#2a3f5f",
           "arrowhead": 0,
           "arrowwidth": 1
          },
          "autotypenumbers": "strict",
          "coloraxis": {
           "colorbar": {
            "outlinewidth": 0,
            "ticks": ""
           }
          },
          "colorscale": {
           "diverging": [
            [
             0,
             "#8e0152"
            ],
            [
             0.1,
             "#c51b7d"
            ],
            [
             0.2,
             "#de77ae"
            ],
            [
             0.3,
             "#f1b6da"
            ],
            [
             0.4,
             "#fde0ef"
            ],
            [
             0.5,
             "#f7f7f7"
            ],
            [
             0.6,
             "#e6f5d0"
            ],
            [
             0.7,
             "#b8e186"
            ],
            [
             0.8,
             "#7fbc41"
            ],
            [
             0.9,
             "#4d9221"
            ],
            [
             1,
             "#276419"
            ]
           ],
           "sequential": [
            [
             0,
             "#0d0887"
            ],
            [
             0.1111111111111111,
             "#46039f"
            ],
            [
             0.2222222222222222,
             "#7201a8"
            ],
            [
             0.3333333333333333,
             "#9c179e"
            ],
            [
             0.4444444444444444,
             "#bd3786"
            ],
            [
             0.5555555555555556,
             "#d8576b"
            ],
            [
             0.6666666666666666,
             "#ed7953"
            ],
            [
             0.7777777777777778,
             "#fb9f3a"
            ],
            [
             0.8888888888888888,
             "#fdca26"
            ],
            [
             1,
             "#f0f921"
            ]
           ],
           "sequentialminus": [
            [
             0,
             "#0d0887"
            ],
            [
             0.1111111111111111,
             "#46039f"
            ],
            [
             0.2222222222222222,
             "#7201a8"
            ],
            [
             0.3333333333333333,
             "#9c179e"
            ],
            [
             0.4444444444444444,
             "#bd3786"
            ],
            [
             0.5555555555555556,
             "#d8576b"
            ],
            [
             0.6666666666666666,
             "#ed7953"
            ],
            [
             0.7777777777777778,
             "#fb9f3a"
            ],
            [
             0.8888888888888888,
             "#fdca26"
            ],
            [
             1,
             "#f0f921"
            ]
           ]
          },
          "colorway": [
           "#636efa",
           "#EF553B",
           "#00cc96",
           "#ab63fa",
           "#FFA15A",
           "#19d3f3",
           "#FF6692",
           "#B6E880",
           "#FF97FF",
           "#FECB52"
          ],
          "font": {
           "color": "#2a3f5f"
          },
          "geo": {
           "bgcolor": "white",
           "lakecolor": "white",
           "landcolor": "#E5ECF6",
           "showlakes": true,
           "showland": true,
           "subunitcolor": "white"
          },
          "hoverlabel": {
           "align": "left"
          },
          "hovermode": "closest",
          "mapbox": {
           "style": "light"
          },
          "paper_bgcolor": "white",
          "plot_bgcolor": "#E5ECF6",
          "polar": {
           "angularaxis": {
            "gridcolor": "white",
            "linecolor": "white",
            "ticks": ""
           },
           "bgcolor": "#E5ECF6",
           "radialaxis": {
            "gridcolor": "white",
            "linecolor": "white",
            "ticks": ""
           }
          },
          "scene": {
           "xaxis": {
            "backgroundcolor": "#E5ECF6",
            "gridcolor": "white",
            "gridwidth": 2,
            "linecolor": "white",
            "showbackground": true,
            "ticks": "",
            "zerolinecolor": "white"
           },
           "yaxis": {
            "backgroundcolor": "#E5ECF6",
            "gridcolor": "white",
            "gridwidth": 2,
            "linecolor": "white",
            "showbackground": true,
            "ticks": "",
            "zerolinecolor": "white"
           },
           "zaxis": {
            "backgroundcolor": "#E5ECF6",
            "gridcolor": "white",
            "gridwidth": 2,
            "linecolor": "white",
            "showbackground": true,
            "ticks": "",
            "zerolinecolor": "white"
           }
          },
          "shapedefaults": {
           "line": {
            "color": "#2a3f5f"
           }
          },
          "ternary": {
           "aaxis": {
            "gridcolor": "white",
            "linecolor": "white",
            "ticks": ""
           },
           "baxis": {
            "gridcolor": "white",
            "linecolor": "white",
            "ticks": ""
           },
           "bgcolor": "#E5ECF6",
           "caxis": {
            "gridcolor": "white",
            "linecolor": "white",
            "ticks": ""
           }
          },
          "title": {
           "x": 0.05
          },
          "xaxis": {
           "automargin": true,
           "gridcolor": "white",
           "linecolor": "white",
           "ticks": "",
           "title": {
            "standoff": 15
           },
           "zerolinecolor": "white",
           "zerolinewidth": 2
          },
          "yaxis": {
           "automargin": true,
           "gridcolor": "white",
           "linecolor": "white",
           "ticks": "",
           "title": {
            "standoff": 15
           },
           "zerolinecolor": "white",
           "zerolinewidth": 2
          }
         }
        },
        "xaxis": {
         "anchor": "y",
         "domain": [
          0,
          1
         ],
         "title": {
          "text": "Topic"
         }
        },
        "yaxis": {
         "anchor": "x",
         "domain": [
          0,
          1
         ],
         "title": {
          "text": "gap with mean"
         }
        }
       }
      }
     },
     "metadata": {},
     "output_type": "display_data"
    }
   ],
   "source": [
    "px.line(data_frame=df_age, x=\"Topic\", y=\"gap with mean\", color='Personal characteristics')"
   ]
  },
  {
   "cell_type": "markdown",
   "metadata": {},
   "source": [
    "#### Observations :\n",
    "What is interesting to note is that for people 35 years old and older, the gap with the mean is quite constant during the pandemic, and is even reduced for some categories. Post-covid gaps are generally less important but still negative. Thus, we can imagine that people aged 35 and more were less impacted by the pandemic than other categories. This can maybe be explained by the fact that a lot of younger persons, who make up the bulk of public transport traffic, stopped using public transport because of schools and universities closing, whereas certain necessary workplaces were still open.\n",
    " "
   ]
  },
  {
   "cell_type": "code",
   "execution_count": null,
   "metadata": {},
   "outputs": [
    {
     "data": {
      "application/vnd.plotly.v1+json": {
       "config": {
        "plotlyServerURL": "https://plot.ly"
       },
       "data": [
        {
         "alignmentgroup": "True",
         "hovertemplate": "Personal characteristics=%{x}<br>comparison to 2018 level=%{y}<extra></extra>",
         "legendgroup": "Total persons",
         "marker": {
          "color": "#636efa",
          "pattern": {
           "shape": ""
          }
         },
         "name": "Total persons",
         "offsetgroup": "Total persons",
         "orientation": "v",
         "showlegend": true,
         "textposition": "auto",
         "type": "bar",
         "x": [
          "Total persons"
         ],
         "xaxis": "x",
         "y": [
          -2.5
         ],
         "yaxis": "y"
        },
        {
         "alignmentgroup": "True",
         "hovertemplate": "Personal characteristics=%{x}<br>comparison to 2018 level=%{y}<extra></extra>",
         "legendgroup": "Age: 12 to 17 years",
         "marker": {
          "color": "#EF553B",
          "pattern": {
           "shape": ""
          }
         },
         "name": "Age: 12 to 17 years",
         "offsetgroup": "Age: 12 to 17 years",
         "orientation": "v",
         "showlegend": true,
         "textposition": "auto",
         "type": "bar",
         "x": [
          "Age: 12 to 17 years"
         ],
         "xaxis": "x",
         "y": [
          -2.5
         ],
         "yaxis": "y"
        },
        {
         "alignmentgroup": "True",
         "hovertemplate": "Personal characteristics=%{x}<br>comparison to 2018 level=%{y}<extra></extra>",
         "legendgroup": "Age: 18 to 24 years",
         "marker": {
          "color": "#00cc96",
          "pattern": {
           "shape": ""
          }
         },
         "name": "Age: 18 to 24 years",
         "offsetgroup": "Age: 18 to 24 years",
         "orientation": "v",
         "showlegend": true,
         "textposition": "auto",
         "type": "bar",
         "x": [
          "Age: 18 to 24 years"
         ],
         "xaxis": "x",
         "y": [
          -5.400000000000002
         ],
         "yaxis": "y"
        },
        {
         "alignmentgroup": "True",
         "hovertemplate": "Personal characteristics=%{x}<br>comparison to 2018 level=%{y}<extra></extra>",
         "legendgroup": "Age: 25 to 34 years",
         "marker": {
          "color": "#ab63fa",
          "pattern": {
           "shape": ""
          }
         },
         "name": "Age: 25 to 34 years",
         "offsetgroup": "Age: 25 to 34 years",
         "orientation": "v",
         "showlegend": true,
         "textposition": "auto",
         "type": "bar",
         "x": [
          "Age: 25 to 34 years"
         ],
         "xaxis": "x",
         "y": [
          -3.8000000000000007
         ],
         "yaxis": "y"
        },
        {
         "alignmentgroup": "True",
         "hovertemplate": "Personal characteristics=%{x}<br>comparison to 2018 level=%{y}<extra></extra>",
         "legendgroup": "Age: 35 to 49 years",
         "marker": {
          "color": "#FFA15A",
          "pattern": {
           "shape": ""
          }
         },
         "name": "Age: 35 to 49 years",
         "offsetgroup": "Age: 35 to 49 years",
         "orientation": "v",
         "showlegend": true,
         "textposition": "auto",
         "type": "bar",
         "x": [
          "Age: 35 to 49 years"
         ],
         "xaxis": "x",
         "y": [
          -2.3
         ],
         "yaxis": "y"
        },
        {
         "alignmentgroup": "True",
         "hovertemplate": "Personal characteristics=%{x}<br>comparison to 2018 level=%{y}<extra></extra>",
         "legendgroup": "Age: 50 to 64 years",
         "marker": {
          "color": "#19d3f3",
          "pattern": {
           "shape": ""
          }
         },
         "name": "Age: 50 to 64 years",
         "offsetgroup": "Age: 50 to 64 years",
         "orientation": "v",
         "showlegend": true,
         "textposition": "auto",
         "type": "bar",
         "x": [
          "Age: 50 to 64 years"
         ],
         "xaxis": "x",
         "y": [
          -2.2
         ],
         "yaxis": "y"
        },
        {
         "alignmentgroup": "True",
         "hovertemplate": "Personal characteristics=%{x}<br>comparison to 2018 level=%{y}<extra></extra>",
         "legendgroup": "Age: 6 to 11 years",
         "marker": {
          "color": "#FF6692",
          "pattern": {
           "shape": ""
          }
         },
         "name": "Age: 6 to 11 years",
         "offsetgroup": "Age: 6 to 11 years",
         "orientation": "v",
         "showlegend": true,
         "textposition": "auto",
         "type": "bar",
         "x": [
          "Age: 6 to 11 years"
         ],
         "xaxis": "x",
         "y": [
          -0.5
         ],
         "yaxis": "y"
        },
        {
         "alignmentgroup": "True",
         "hovertemplate": "Personal characteristics=%{x}<br>comparison to 2018 level=%{y}<extra></extra>",
         "legendgroup": "Age: 65 to 74 years",
         "marker": {
          "color": "#B6E880",
          "pattern": {
           "shape": ""
          }
         },
         "name": "Age: 65 to 74 years",
         "offsetgroup": "Age: 65 to 74 years",
         "orientation": "v",
         "showlegend": true,
         "textposition": "auto",
         "type": "bar",
         "x": [
          "Age: 65 to 74 years"
         ],
         "xaxis": "x",
         "y": [
          -2
         ],
         "yaxis": "y"
        },
        {
         "alignmentgroup": "True",
         "hovertemplate": "Personal characteristics=%{x}<br>comparison to 2018 level=%{y}<extra></extra>",
         "legendgroup": "Age: 75 years or older",
         "marker": {
          "color": "#FF97FF",
          "pattern": {
           "shape": ""
          }
         },
         "name": "Age: 75 years or older",
         "offsetgroup": "Age: 75 years or older",
         "orientation": "v",
         "showlegend": true,
         "textposition": "auto",
         "type": "bar",
         "x": [
          "Age: 75 years or older"
         ],
         "xaxis": "x",
         "y": [
          -1.4000000000000001
         ],
         "yaxis": "y"
        }
       ],
       "layout": {
        "barmode": "relative",
        "legend": {
         "title": {
          "text": "Personal characteristics"
         },
         "tracegroupgap": 0
        },
        "margin": {
         "t": 60
        },
        "template": {
         "data": {
          "bar": [
           {
            "error_x": {
             "color": "#2a3f5f"
            },
            "error_y": {
             "color": "#2a3f5f"
            },
            "marker": {
             "line": {
              "color": "#E5ECF6",
              "width": 0.5
             },
             "pattern": {
              "fillmode": "overlay",
              "size": 10,
              "solidity": 0.2
             }
            },
            "type": "bar"
           }
          ],
          "barpolar": [
           {
            "marker": {
             "line": {
              "color": "#E5ECF6",
              "width": 0.5
             },
             "pattern": {
              "fillmode": "overlay",
              "size": 10,
              "solidity": 0.2
             }
            },
            "type": "barpolar"
           }
          ],
          "carpet": [
           {
            "aaxis": {
             "endlinecolor": "#2a3f5f",
             "gridcolor": "white",
             "linecolor": "white",
             "minorgridcolor": "white",
             "startlinecolor": "#2a3f5f"
            },
            "baxis": {
             "endlinecolor": "#2a3f5f",
             "gridcolor": "white",
             "linecolor": "white",
             "minorgridcolor": "white",
             "startlinecolor": "#2a3f5f"
            },
            "type": "carpet"
           }
          ],
          "choropleth": [
           {
            "colorbar": {
             "outlinewidth": 0,
             "ticks": ""
            },
            "type": "choropleth"
           }
          ],
          "contour": [
           {
            "colorbar": {
             "outlinewidth": 0,
             "ticks": ""
            },
            "colorscale": [
             [
              0,
              "#0d0887"
             ],
             [
              0.1111111111111111,
              "#46039f"
             ],
             [
              0.2222222222222222,
              "#7201a8"
             ],
             [
              0.3333333333333333,
              "#9c179e"
             ],
             [
              0.4444444444444444,
              "#bd3786"
             ],
             [
              0.5555555555555556,
              "#d8576b"
             ],
             [
              0.6666666666666666,
              "#ed7953"
             ],
             [
              0.7777777777777778,
              "#fb9f3a"
             ],
             [
              0.8888888888888888,
              "#fdca26"
             ],
             [
              1,
              "#f0f921"
             ]
            ],
            "type": "contour"
           }
          ],
          "contourcarpet": [
           {
            "colorbar": {
             "outlinewidth": 0,
             "ticks": ""
            },
            "type": "contourcarpet"
           }
          ],
          "heatmap": [
           {
            "colorbar": {
             "outlinewidth": 0,
             "ticks": ""
            },
            "colorscale": [
             [
              0,
              "#0d0887"
             ],
             [
              0.1111111111111111,
              "#46039f"
             ],
             [
              0.2222222222222222,
              "#7201a8"
             ],
             [
              0.3333333333333333,
              "#9c179e"
             ],
             [
              0.4444444444444444,
              "#bd3786"
             ],
             [
              0.5555555555555556,
              "#d8576b"
             ],
             [
              0.6666666666666666,
              "#ed7953"
             ],
             [
              0.7777777777777778,
              "#fb9f3a"
             ],
             [
              0.8888888888888888,
              "#fdca26"
             ],
             [
              1,
              "#f0f921"
             ]
            ],
            "type": "heatmap"
           }
          ],
          "heatmapgl": [
           {
            "colorbar": {
             "outlinewidth": 0,
             "ticks": ""
            },
            "colorscale": [
             [
              0,
              "#0d0887"
             ],
             [
              0.1111111111111111,
              "#46039f"
             ],
             [
              0.2222222222222222,
              "#7201a8"
             ],
             [
              0.3333333333333333,
              "#9c179e"
             ],
             [
              0.4444444444444444,
              "#bd3786"
             ],
             [
              0.5555555555555556,
              "#d8576b"
             ],
             [
              0.6666666666666666,
              "#ed7953"
             ],
             [
              0.7777777777777778,
              "#fb9f3a"
             ],
             [
              0.8888888888888888,
              "#fdca26"
             ],
             [
              1,
              "#f0f921"
             ]
            ],
            "type": "heatmapgl"
           }
          ],
          "histogram": [
           {
            "marker": {
             "pattern": {
              "fillmode": "overlay",
              "size": 10,
              "solidity": 0.2
             }
            },
            "type": "histogram"
           }
          ],
          "histogram2d": [
           {
            "colorbar": {
             "outlinewidth": 0,
             "ticks": ""
            },
            "colorscale": [
             [
              0,
              "#0d0887"
             ],
             [
              0.1111111111111111,
              "#46039f"
             ],
             [
              0.2222222222222222,
              "#7201a8"
             ],
             [
              0.3333333333333333,
              "#9c179e"
             ],
             [
              0.4444444444444444,
              "#bd3786"
             ],
             [
              0.5555555555555556,
              "#d8576b"
             ],
             [
              0.6666666666666666,
              "#ed7953"
             ],
             [
              0.7777777777777778,
              "#fb9f3a"
             ],
             [
              0.8888888888888888,
              "#fdca26"
             ],
             [
              1,
              "#f0f921"
             ]
            ],
            "type": "histogram2d"
           }
          ],
          "histogram2dcontour": [
           {
            "colorbar": {
             "outlinewidth": 0,
             "ticks": ""
            },
            "colorscale": [
             [
              0,
              "#0d0887"
             ],
             [
              0.1111111111111111,
              "#46039f"
             ],
             [
              0.2222222222222222,
              "#7201a8"
             ],
             [
              0.3333333333333333,
              "#9c179e"
             ],
             [
              0.4444444444444444,
              "#bd3786"
             ],
             [
              0.5555555555555556,
              "#d8576b"
             ],
             [
              0.6666666666666666,
              "#ed7953"
             ],
             [
              0.7777777777777778,
              "#fb9f3a"
             ],
             [
              0.8888888888888888,
              "#fdca26"
             ],
             [
              1,
              "#f0f921"
             ]
            ],
            "type": "histogram2dcontour"
           }
          ],
          "mesh3d": [
           {
            "colorbar": {
             "outlinewidth": 0,
             "ticks": ""
            },
            "type": "mesh3d"
           }
          ],
          "parcoords": [
           {
            "line": {
             "colorbar": {
              "outlinewidth": 0,
              "ticks": ""
             }
            },
            "type": "parcoords"
           }
          ],
          "pie": [
           {
            "automargin": true,
            "type": "pie"
           }
          ],
          "scatter": [
           {
            "fillpattern": {
             "fillmode": "overlay",
             "size": 10,
             "solidity": 0.2
            },
            "type": "scatter"
           }
          ],
          "scatter3d": [
           {
            "line": {
             "colorbar": {
              "outlinewidth": 0,
              "ticks": ""
             }
            },
            "marker": {
             "colorbar": {
              "outlinewidth": 0,
              "ticks": ""
             }
            },
            "type": "scatter3d"
           }
          ],
          "scattercarpet": [
           {
            "marker": {
             "colorbar": {
              "outlinewidth": 0,
              "ticks": ""
             }
            },
            "type": "scattercarpet"
           }
          ],
          "scattergeo": [
           {
            "marker": {
             "colorbar": {
              "outlinewidth": 0,
              "ticks": ""
             }
            },
            "type": "scattergeo"
           }
          ],
          "scattergl": [
           {
            "marker": {
             "colorbar": {
              "outlinewidth": 0,
              "ticks": ""
             }
            },
            "type": "scattergl"
           }
          ],
          "scattermapbox": [
           {
            "marker": {
             "colorbar": {
              "outlinewidth": 0,
              "ticks": ""
             }
            },
            "type": "scattermapbox"
           }
          ],
          "scatterpolar": [
           {
            "marker": {
             "colorbar": {
              "outlinewidth": 0,
              "ticks": ""
             }
            },
            "type": "scatterpolar"
           }
          ],
          "scatterpolargl": [
           {
            "marker": {
             "colorbar": {
              "outlinewidth": 0,
              "ticks": ""
             }
            },
            "type": "scatterpolargl"
           }
          ],
          "scatterternary": [
           {
            "marker": {
             "colorbar": {
              "outlinewidth": 0,
              "ticks": ""
             }
            },
            "type": "scatterternary"
           }
          ],
          "surface": [
           {
            "colorbar": {
             "outlinewidth": 0,
             "ticks": ""
            },
            "colorscale": [
             [
              0,
              "#0d0887"
             ],
             [
              0.1111111111111111,
              "#46039f"
             ],
             [
              0.2222222222222222,
              "#7201a8"
             ],
             [
              0.3333333333333333,
              "#9c179e"
             ],
             [
              0.4444444444444444,
              "#bd3786"
             ],
             [
              0.5555555555555556,
              "#d8576b"
             ],
             [
              0.6666666666666666,
              "#ed7953"
             ],
             [
              0.7777777777777778,
              "#fb9f3a"
             ],
             [
              0.8888888888888888,
              "#fdca26"
             ],
             [
              1,
              "#f0f921"
             ]
            ],
            "type": "surface"
           }
          ],
          "table": [
           {
            "cells": {
             "fill": {
              "color": "#EBF0F8"
             },
             "line": {
              "color": "white"
             }
            },
            "header": {
             "fill": {
              "color": "#C8D4E3"
             },
             "line": {
              "color": "white"
             }
            },
            "type": "table"
           }
          ]
         },
         "layout": {
          "annotationdefaults": {
           "arrowcolor": "#2a3f5f",
           "arrowhead": 0,
           "arrowwidth": 1
          },
          "autotypenumbers": "strict",
          "coloraxis": {
           "colorbar": {
            "outlinewidth": 0,
            "ticks": ""
           }
          },
          "colorscale": {
           "diverging": [
            [
             0,
             "#8e0152"
            ],
            [
             0.1,
             "#c51b7d"
            ],
            [
             0.2,
             "#de77ae"
            ],
            [
             0.3,
             "#f1b6da"
            ],
            [
             0.4,
             "#fde0ef"
            ],
            [
             0.5,
             "#f7f7f7"
            ],
            [
             0.6,
             "#e6f5d0"
            ],
            [
             0.7,
             "#b8e186"
            ],
            [
             0.8,
             "#7fbc41"
            ],
            [
             0.9,
             "#4d9221"
            ],
            [
             1,
             "#276419"
            ]
           ],
           "sequential": [
            [
             0,
             "#0d0887"
            ],
            [
             0.1111111111111111,
             "#46039f"
            ],
            [
             0.2222222222222222,
             "#7201a8"
            ],
            [
             0.3333333333333333,
             "#9c179e"
            ],
            [
             0.4444444444444444,
             "#bd3786"
            ],
            [
             0.5555555555555556,
             "#d8576b"
            ],
            [
             0.6666666666666666,
             "#ed7953"
            ],
            [
             0.7777777777777778,
             "#fb9f3a"
            ],
            [
             0.8888888888888888,
             "#fdca26"
            ],
            [
             1,
             "#f0f921"
            ]
           ],
           "sequentialminus": [
            [
             0,
             "#0d0887"
            ],
            [
             0.1111111111111111,
             "#46039f"
            ],
            [
             0.2222222222222222,
             "#7201a8"
            ],
            [
             0.3333333333333333,
             "#9c179e"
            ],
            [
             0.4444444444444444,
             "#bd3786"
            ],
            [
             0.5555555555555556,
             "#d8576b"
            ],
            [
             0.6666666666666666,
             "#ed7953"
            ],
            [
             0.7777777777777778,
             "#fb9f3a"
            ],
            [
             0.8888888888888888,
             "#fdca26"
            ],
            [
             1,
             "#f0f921"
            ]
           ]
          },
          "colorway": [
           "#636efa",
           "#EF553B",
           "#00cc96",
           "#ab63fa",
           "#FFA15A",
           "#19d3f3",
           "#FF6692",
           "#B6E880",
           "#FF97FF",
           "#FECB52"
          ],
          "font": {
           "color": "#2a3f5f"
          },
          "geo": {
           "bgcolor": "white",
           "lakecolor": "white",
           "landcolor": "#E5ECF6",
           "showlakes": true,
           "showland": true,
           "subunitcolor": "white"
          },
          "hoverlabel": {
           "align": "left"
          },
          "hovermode": "closest",
          "mapbox": {
           "style": "light"
          },
          "paper_bgcolor": "white",
          "plot_bgcolor": "#E5ECF6",
          "polar": {
           "angularaxis": {
            "gridcolor": "white",
            "linecolor": "white",
            "ticks": ""
           },
           "bgcolor": "#E5ECF6",
           "radialaxis": {
            "gridcolor": "white",
            "linecolor": "white",
            "ticks": ""
           }
          },
          "scene": {
           "xaxis": {
            "backgroundcolor": "#E5ECF6",
            "gridcolor": "white",
            "gridwidth": 2,
            "linecolor": "white",
            "showbackground": true,
            "ticks": "",
            "zerolinecolor": "white"
           },
           "yaxis": {
            "backgroundcolor": "#E5ECF6",
            "gridcolor": "white",
            "gridwidth": 2,
            "linecolor": "white",
            "showbackground": true,
            "ticks": "",
            "zerolinecolor": "white"
           },
           "zaxis": {
            "backgroundcolor": "#E5ECF6",
            "gridcolor": "white",
            "gridwidth": 2,
            "linecolor": "white",
            "showbackground": true,
            "ticks": "",
            "zerolinecolor": "white"
           }
          },
          "shapedefaults": {
           "line": {
            "color": "#2a3f5f"
           }
          },
          "ternary": {
           "aaxis": {
            "gridcolor": "white",
            "linecolor": "white",
            "ticks": ""
           },
           "baxis": {
            "gridcolor": "white",
            "linecolor": "white",
            "ticks": ""
           },
           "bgcolor": "#E5ECF6",
           "caxis": {
            "gridcolor": "white",
            "linecolor": "white",
            "ticks": ""
           }
          },
          "title": {
           "x": 0.05
          },
          "xaxis": {
           "automargin": true,
           "gridcolor": "white",
           "linecolor": "white",
           "ticks": "",
           "title": {
            "standoff": 15
           },
           "zerolinecolor": "white",
           "zerolinewidth": 2
          },
          "yaxis": {
           "automargin": true,
           "gridcolor": "white",
           "linecolor": "white",
           "ticks": "",
           "title": {
            "standoff": 15
           },
           "zerolinecolor": "white",
           "zerolinewidth": 2
          }
         }
        },
        "xaxis": {
         "anchor": "y",
         "categoryarray": [
          "Total persons",
          "Age: 12 to 17 years",
          "Age: 18 to 24 years",
          "Age: 25 to 34 years",
          "Age: 35 to 49 years",
          "Age: 50 to 64 years",
          "Age: 6 to 11 years",
          "Age: 65 to 74 years",
          "Age: 75 years or older"
         ],
         "categoryorder": "array",
         "domain": [
          0,
          1
         ],
         "title": {
          "text": "Personal characteristics"
         }
        },
        "yaxis": {
         "anchor": "x",
         "domain": [
          0,
          1
         ],
         "title": {
          "text": "comparison to 2018 level"
         }
        }
       }
      }
     },
     "metadata": {},
     "output_type": "display_data"
    }
   ],
   "source": [
    "px.bar(data_frame = df_age2[(df_age2['Topic'] == 2022)], x='Personal characteristics', y='comparison to 2018 level', color='Personal characteristics')"
   ]
  },
  {
   "cell_type": "markdown",
   "metadata": {},
   "source": [
    "#### Observations :\n",
    "In terms of raw participation, the group with the sharpest drop is the 18 to 24 years age group. As mentionned before, this can maybe be explained by the fact during the pandemic, many universities were closed, so universities implemented more online courses, which may have reduced the transportation needs of students after the pandemic. Also, maybe people preferred using individual transport means (bikes, cars) during the pandemic to avoid restrictions and kept this habit afterwards.\n",
    "The second most impacted group are people from 25 to 34 years old. Maybe this can be explained by an increase in remote work after the pandemic\n",
    "However, we have to keep in mind that the variation is bigger in these groups because they are already the groups with the highest participation"
   ]
  },
  {
   "cell_type": "code",
   "execution_count": null,
   "metadata": {},
   "outputs": [
    {
     "data": {
      "application/vnd.plotly.v1+json": {
       "config": {
        "plotlyServerURL": "https://plot.ly"
       },
       "data": [
        {
         "alignmentgroup": "True",
         "hovertemplate": "Personal characteristics=%{x}<br>comparison to 2018 level (%)=%{y}<extra></extra>",
         "legendgroup": "Total persons",
         "marker": {
          "color": "#636efa",
          "pattern": {
           "shape": ""
          }
         },
         "name": "Total persons",
         "offsetgroup": "Total persons",
         "orientation": "v",
         "showlegend": true,
         "textposition": "auto",
         "type": "bar",
         "x": [
          "Total persons"
         ],
         "xaxis": "x",
         "y": [
          -29.069767441860467
         ],
         "yaxis": "y"
        },
        {
         "alignmentgroup": "True",
         "hovertemplate": "Personal characteristics=%{x}<br>comparison to 2018 level (%)=%{y}<extra></extra>",
         "legendgroup": "Age: 12 to 17 years",
         "marker": {
          "color": "#EF553B",
          "pattern": {
           "shape": ""
          }
         },
         "name": "Age: 12 to 17 years",
         "offsetgroup": "Age: 12 to 17 years",
         "orientation": "v",
         "showlegend": true,
         "textposition": "auto",
         "type": "bar",
         "x": [
          "Age: 12 to 17 years"
         ],
         "xaxis": "x",
         "y": [
          -21.36752136752137
         ],
         "yaxis": "y"
        },
        {
         "alignmentgroup": "True",
         "hovertemplate": "Personal characteristics=%{x}<br>comparison to 2018 level (%)=%{y}<extra></extra>",
         "legendgroup": "Age: 18 to 24 years",
         "marker": {
          "color": "#00cc96",
          "pattern": {
           "shape": ""
          }
         },
         "name": "Age: 18 to 24 years",
         "offsetgroup": "Age: 18 to 24 years",
         "orientation": "v",
         "showlegend": true,
         "textposition": "auto",
         "type": "bar",
         "x": [
          "Age: 18 to 24 years"
         ],
         "xaxis": "x",
         "y": [
          -22.68907563025211
         ],
         "yaxis": "y"
        },
        {
         "alignmentgroup": "True",
         "hovertemplate": "Personal characteristics=%{x}<br>comparison to 2018 level (%)=%{y}<extra></extra>",
         "legendgroup": "Age: 25 to 34 years",
         "marker": {
          "color": "#ab63fa",
          "pattern": {
           "shape": ""
          }
         },
         "name": "Age: 25 to 34 years",
         "offsetgroup": "Age: 25 to 34 years",
         "orientation": "v",
         "showlegend": true,
         "textposition": "auto",
         "type": "bar",
         "x": [
          "Age: 25 to 34 years"
         ],
         "xaxis": "x",
         "y": [
          -28.358208955223883
         ],
         "yaxis": "y"
        },
        {
         "alignmentgroup": "True",
         "hovertemplate": "Personal characteristics=%{x}<br>comparison to 2018 level (%)=%{y}<extra></extra>",
         "legendgroup": "Age: 35 to 49 years",
         "marker": {
          "color": "#FFA15A",
          "pattern": {
           "shape": ""
          }
         },
         "name": "Age: 35 to 49 years",
         "offsetgroup": "Age: 35 to 49 years",
         "orientation": "v",
         "showlegend": true,
         "textposition": "auto",
         "type": "bar",
         "x": [
          "Age: 35 to 49 years"
         ],
         "xaxis": "x",
         "y": [
          -32.3943661971831
         ],
         "yaxis": "y"
        },
        {
         "alignmentgroup": "True",
         "hovertemplate": "Personal characteristics=%{x}<br>comparison to 2018 level (%)=%{y}<extra></extra>",
         "legendgroup": "Age: 50 to 64 years",
         "marker": {
          "color": "#19d3f3",
          "pattern": {
           "shape": ""
          }
         },
         "name": "Age: 50 to 64 years",
         "offsetgroup": "Age: 50 to 64 years",
         "orientation": "v",
         "showlegend": true,
         "textposition": "auto",
         "type": "bar",
         "x": [
          "Age: 50 to 64 years"
         ],
         "xaxis": "x",
         "y": [
          -36.66666666666667
         ],
         "yaxis": "y"
        },
        {
         "alignmentgroup": "True",
         "hovertemplate": "Personal characteristics=%{x}<br>comparison to 2018 level (%)=%{y}<extra></extra>",
         "legendgroup": "Age: 6 to 11 years",
         "marker": {
          "color": "#FF6692",
          "pattern": {
           "shape": ""
          }
         },
         "name": "Age: 6 to 11 years",
         "offsetgroup": "Age: 6 to 11 years",
         "orientation": "v",
         "showlegend": true,
         "textposition": "auto",
         "type": "bar",
         "x": [
          "Age: 6 to 11 years"
         ],
         "xaxis": "x",
         "y": [
          -23.809523809523807
         ],
         "yaxis": "y"
        },
        {
         "alignmentgroup": "True",
         "hovertemplate": "Personal characteristics=%{x}<br>comparison to 2018 level (%)=%{y}<extra></extra>",
         "legendgroup": "Age: 65 to 74 years",
         "marker": {
          "color": "#B6E880",
          "pattern": {
           "shape": ""
          }
         },
         "name": "Age: 65 to 74 years",
         "offsetgroup": "Age: 65 to 74 years",
         "orientation": "v",
         "showlegend": true,
         "textposition": "auto",
         "type": "bar",
         "x": [
          "Age: 65 to 74 years"
         ],
         "xaxis": "x",
         "y": [
          -47.61904761904761
         ],
         "yaxis": "y"
        },
        {
         "alignmentgroup": "True",
         "hovertemplate": "Personal characteristics=%{x}<br>comparison to 2018 level (%)=%{y}<extra></extra>",
         "legendgroup": "Age: 75 years or older",
         "marker": {
          "color": "#FF97FF",
          "pattern": {
           "shape": ""
          }
         },
         "name": "Age: 75 years or older",
         "offsetgroup": "Age: 75 years or older",
         "orientation": "v",
         "showlegend": true,
         "textposition": "auto",
         "type": "bar",
         "x": [
          "Age: 75 years or older"
         ],
         "xaxis": "x",
         "y": [
          -43.75
         ],
         "yaxis": "y"
        }
       ],
       "layout": {
        "barmode": "relative",
        "legend": {
         "title": {
          "text": "Personal characteristics"
         },
         "tracegroupgap": 0
        },
        "margin": {
         "t": 60
        },
        "template": {
         "data": {
          "bar": [
           {
            "error_x": {
             "color": "#2a3f5f"
            },
            "error_y": {
             "color": "#2a3f5f"
            },
            "marker": {
             "line": {
              "color": "#E5ECF6",
              "width": 0.5
             },
             "pattern": {
              "fillmode": "overlay",
              "size": 10,
              "solidity": 0.2
             }
            },
            "type": "bar"
           }
          ],
          "barpolar": [
           {
            "marker": {
             "line": {
              "color": "#E5ECF6",
              "width": 0.5
             },
             "pattern": {
              "fillmode": "overlay",
              "size": 10,
              "solidity": 0.2
             }
            },
            "type": "barpolar"
           }
          ],
          "carpet": [
           {
            "aaxis": {
             "endlinecolor": "#2a3f5f",
             "gridcolor": "white",
             "linecolor": "white",
             "minorgridcolor": "white",
             "startlinecolor": "#2a3f5f"
            },
            "baxis": {
             "endlinecolor": "#2a3f5f",
             "gridcolor": "white",
             "linecolor": "white",
             "minorgridcolor": "white",
             "startlinecolor": "#2a3f5f"
            },
            "type": "carpet"
           }
          ],
          "choropleth": [
           {
            "colorbar": {
             "outlinewidth": 0,
             "ticks": ""
            },
            "type": "choropleth"
           }
          ],
          "contour": [
           {
            "colorbar": {
             "outlinewidth": 0,
             "ticks": ""
            },
            "colorscale": [
             [
              0,
              "#0d0887"
             ],
             [
              0.1111111111111111,
              "#46039f"
             ],
             [
              0.2222222222222222,
              "#7201a8"
             ],
             [
              0.3333333333333333,
              "#9c179e"
             ],
             [
              0.4444444444444444,
              "#bd3786"
             ],
             [
              0.5555555555555556,
              "#d8576b"
             ],
             [
              0.6666666666666666,
              "#ed7953"
             ],
             [
              0.7777777777777778,
              "#fb9f3a"
             ],
             [
              0.8888888888888888,
              "#fdca26"
             ],
             [
              1,
              "#f0f921"
             ]
            ],
            "type": "contour"
           }
          ],
          "contourcarpet": [
           {
            "colorbar": {
             "outlinewidth": 0,
             "ticks": ""
            },
            "type": "contourcarpet"
           }
          ],
          "heatmap": [
           {
            "colorbar": {
             "outlinewidth": 0,
             "ticks": ""
            },
            "colorscale": [
             [
              0,
              "#0d0887"
             ],
             [
              0.1111111111111111,
              "#46039f"
             ],
             [
              0.2222222222222222,
              "#7201a8"
             ],
             [
              0.3333333333333333,
              "#9c179e"
             ],
             [
              0.4444444444444444,
              "#bd3786"
             ],
             [
              0.5555555555555556,
              "#d8576b"
             ],
             [
              0.6666666666666666,
              "#ed7953"
             ],
             [
              0.7777777777777778,
              "#fb9f3a"
             ],
             [
              0.8888888888888888,
              "#fdca26"
             ],
             [
              1,
              "#f0f921"
             ]
            ],
            "type": "heatmap"
           }
          ],
          "heatmapgl": [
           {
            "colorbar": {
             "outlinewidth": 0,
             "ticks": ""
            },
            "colorscale": [
             [
              0,
              "#0d0887"
             ],
             [
              0.1111111111111111,
              "#46039f"
             ],
             [
              0.2222222222222222,
              "#7201a8"
             ],
             [
              0.3333333333333333,
              "#9c179e"
             ],
             [
              0.4444444444444444,
              "#bd3786"
             ],
             [
              0.5555555555555556,
              "#d8576b"
             ],
             [
              0.6666666666666666,
              "#ed7953"
             ],
             [
              0.7777777777777778,
              "#fb9f3a"
             ],
             [
              0.8888888888888888,
              "#fdca26"
             ],
             [
              1,
              "#f0f921"
             ]
            ],
            "type": "heatmapgl"
           }
          ],
          "histogram": [
           {
            "marker": {
             "pattern": {
              "fillmode": "overlay",
              "size": 10,
              "solidity": 0.2
             }
            },
            "type": "histogram"
           }
          ],
          "histogram2d": [
           {
            "colorbar": {
             "outlinewidth": 0,
             "ticks": ""
            },
            "colorscale": [
             [
              0,
              "#0d0887"
             ],
             [
              0.1111111111111111,
              "#46039f"
             ],
             [
              0.2222222222222222,
              "#7201a8"
             ],
             [
              0.3333333333333333,
              "#9c179e"
             ],
             [
              0.4444444444444444,
              "#bd3786"
             ],
             [
              0.5555555555555556,
              "#d8576b"
             ],
             [
              0.6666666666666666,
              "#ed7953"
             ],
             [
              0.7777777777777778,
              "#fb9f3a"
             ],
             [
              0.8888888888888888,
              "#fdca26"
             ],
             [
              1,
              "#f0f921"
             ]
            ],
            "type": "histogram2d"
           }
          ],
          "histogram2dcontour": [
           {
            "colorbar": {
             "outlinewidth": 0,
             "ticks": ""
            },
            "colorscale": [
             [
              0,
              "#0d0887"
             ],
             [
              0.1111111111111111,
              "#46039f"
             ],
             [
              0.2222222222222222,
              "#7201a8"
             ],
             [
              0.3333333333333333,
              "#9c179e"
             ],
             [
              0.4444444444444444,
              "#bd3786"
             ],
             [
              0.5555555555555556,
              "#d8576b"
             ],
             [
              0.6666666666666666,
              "#ed7953"
             ],
             [
              0.7777777777777778,
              "#fb9f3a"
             ],
             [
              0.8888888888888888,
              "#fdca26"
             ],
             [
              1,
              "#f0f921"
             ]
            ],
            "type": "histogram2dcontour"
           }
          ],
          "mesh3d": [
           {
            "colorbar": {
             "outlinewidth": 0,
             "ticks": ""
            },
            "type": "mesh3d"
           }
          ],
          "parcoords": [
           {
            "line": {
             "colorbar": {
              "outlinewidth": 0,
              "ticks": ""
             }
            },
            "type": "parcoords"
           }
          ],
          "pie": [
           {
            "automargin": true,
            "type": "pie"
           }
          ],
          "scatter": [
           {
            "fillpattern": {
             "fillmode": "overlay",
             "size": 10,
             "solidity": 0.2
            },
            "type": "scatter"
           }
          ],
          "scatter3d": [
           {
            "line": {
             "colorbar": {
              "outlinewidth": 0,
              "ticks": ""
             }
            },
            "marker": {
             "colorbar": {
              "outlinewidth": 0,
              "ticks": ""
             }
            },
            "type": "scatter3d"
           }
          ],
          "scattercarpet": [
           {
            "marker": {
             "colorbar": {
              "outlinewidth": 0,
              "ticks": ""
             }
            },
            "type": "scattercarpet"
           }
          ],
          "scattergeo": [
           {
            "marker": {
             "colorbar": {
              "outlinewidth": 0,
              "ticks": ""
             }
            },
            "type": "scattergeo"
           }
          ],
          "scattergl": [
           {
            "marker": {
             "colorbar": {
              "outlinewidth": 0,
              "ticks": ""
             }
            },
            "type": "scattergl"
           }
          ],
          "scattermapbox": [
           {
            "marker": {
             "colorbar": {
              "outlinewidth": 0,
              "ticks": ""
             }
            },
            "type": "scattermapbox"
           }
          ],
          "scatterpolar": [
           {
            "marker": {
             "colorbar": {
              "outlinewidth": 0,
              "ticks": ""
             }
            },
            "type": "scatterpolar"
           }
          ],
          "scatterpolargl": [
           {
            "marker": {
             "colorbar": {
              "outlinewidth": 0,
              "ticks": ""
             }
            },
            "type": "scatterpolargl"
           }
          ],
          "scatterternary": [
           {
            "marker": {
             "colorbar": {
              "outlinewidth": 0,
              "ticks": ""
             }
            },
            "type": "scatterternary"
           }
          ],
          "surface": [
           {
            "colorbar": {
             "outlinewidth": 0,
             "ticks": ""
            },
            "colorscale": [
             [
              0,
              "#0d0887"
             ],
             [
              0.1111111111111111,
              "#46039f"
             ],
             [
              0.2222222222222222,
              "#7201a8"
             ],
             [
              0.3333333333333333,
              "#9c179e"
             ],
             [
              0.4444444444444444,
              "#bd3786"
             ],
             [
              0.5555555555555556,
              "#d8576b"
             ],
             [
              0.6666666666666666,
              "#ed7953"
             ],
             [
              0.7777777777777778,
              "#fb9f3a"
             ],
             [
              0.8888888888888888,
              "#fdca26"
             ],
             [
              1,
              "#f0f921"
             ]
            ],
            "type": "surface"
           }
          ],
          "table": [
           {
            "cells": {
             "fill": {
              "color": "#EBF0F8"
             },
             "line": {
              "color": "white"
             }
            },
            "header": {
             "fill": {
              "color": "#C8D4E3"
             },
             "line": {
              "color": "white"
             }
            },
            "type": "table"
           }
          ]
         },
         "layout": {
          "annotationdefaults": {
           "arrowcolor": "#2a3f5f",
           "arrowhead": 0,
           "arrowwidth": 1
          },
          "autotypenumbers": "strict",
          "coloraxis": {
           "colorbar": {
            "outlinewidth": 0,
            "ticks": ""
           }
          },
          "colorscale": {
           "diverging": [
            [
             0,
             "#8e0152"
            ],
            [
             0.1,
             "#c51b7d"
            ],
            [
             0.2,
             "#de77ae"
            ],
            [
             0.3,
             "#f1b6da"
            ],
            [
             0.4,
             "#fde0ef"
            ],
            [
             0.5,
             "#f7f7f7"
            ],
            [
             0.6,
             "#e6f5d0"
            ],
            [
             0.7,
             "#b8e186"
            ],
            [
             0.8,
             "#7fbc41"
            ],
            [
             0.9,
             "#4d9221"
            ],
            [
             1,
             "#276419"
            ]
           ],
           "sequential": [
            [
             0,
             "#0d0887"
            ],
            [
             0.1111111111111111,
             "#46039f"
            ],
            [
             0.2222222222222222,
             "#7201a8"
            ],
            [
             0.3333333333333333,
             "#9c179e"
            ],
            [
             0.4444444444444444,
             "#bd3786"
            ],
            [
             0.5555555555555556,
             "#d8576b"
            ],
            [
             0.6666666666666666,
             "#ed7953"
            ],
            [
             0.7777777777777778,
             "#fb9f3a"
            ],
            [
             0.8888888888888888,
             "#fdca26"
            ],
            [
             1,
             "#f0f921"
            ]
           ],
           "sequentialminus": [
            [
             0,
             "#0d0887"
            ],
            [
             0.1111111111111111,
             "#46039f"
            ],
            [
             0.2222222222222222,
             "#7201a8"
            ],
            [
             0.3333333333333333,
             "#9c179e"
            ],
            [
             0.4444444444444444,
             "#bd3786"
            ],
            [
             0.5555555555555556,
             "#d8576b"
            ],
            [
             0.6666666666666666,
             "#ed7953"
            ],
            [
             0.7777777777777778,
             "#fb9f3a"
            ],
            [
             0.8888888888888888,
             "#fdca26"
            ],
            [
             1,
             "#f0f921"
            ]
           ]
          },
          "colorway": [
           "#636efa",
           "#EF553B",
           "#00cc96",
           "#ab63fa",
           "#FFA15A",
           "#19d3f3",
           "#FF6692",
           "#B6E880",
           "#FF97FF",
           "#FECB52"
          ],
          "font": {
           "color": "#2a3f5f"
          },
          "geo": {
           "bgcolor": "white",
           "lakecolor": "white",
           "landcolor": "#E5ECF6",
           "showlakes": true,
           "showland": true,
           "subunitcolor": "white"
          },
          "hoverlabel": {
           "align": "left"
          },
          "hovermode": "closest",
          "mapbox": {
           "style": "light"
          },
          "paper_bgcolor": "white",
          "plot_bgcolor": "#E5ECF6",
          "polar": {
           "angularaxis": {
            "gridcolor": "white",
            "linecolor": "white",
            "ticks": ""
           },
           "bgcolor": "#E5ECF6",
           "radialaxis": {
            "gridcolor": "white",
            "linecolor": "white",
            "ticks": ""
           }
          },
          "scene": {
           "xaxis": {
            "backgroundcolor": "#E5ECF6",
            "gridcolor": "white",
            "gridwidth": 2,
            "linecolor": "white",
            "showbackground": true,
            "ticks": "",
            "zerolinecolor": "white"
           },
           "yaxis": {
            "backgroundcolor": "#E5ECF6",
            "gridcolor": "white",
            "gridwidth": 2,
            "linecolor": "white",
            "showbackground": true,
            "ticks": "",
            "zerolinecolor": "white"
           },
           "zaxis": {
            "backgroundcolor": "#E5ECF6",
            "gridcolor": "white",
            "gridwidth": 2,
            "linecolor": "white",
            "showbackground": true,
            "ticks": "",
            "zerolinecolor": "white"
           }
          },
          "shapedefaults": {
           "line": {
            "color": "#2a3f5f"
           }
          },
          "ternary": {
           "aaxis": {
            "gridcolor": "white",
            "linecolor": "white",
            "ticks": ""
           },
           "baxis": {
            "gridcolor": "white",
            "linecolor": "white",
            "ticks": ""
           },
           "bgcolor": "#E5ECF6",
           "caxis": {
            "gridcolor": "white",
            "linecolor": "white",
            "ticks": ""
           }
          },
          "title": {
           "x": 0.05
          },
          "xaxis": {
           "automargin": true,
           "gridcolor": "white",
           "linecolor": "white",
           "ticks": "",
           "title": {
            "standoff": 15
           },
           "zerolinecolor": "white",
           "zerolinewidth": 2
          },
          "yaxis": {
           "automargin": true,
           "gridcolor": "white",
           "linecolor": "white",
           "ticks": "",
           "title": {
            "standoff": 15
           },
           "zerolinecolor": "white",
           "zerolinewidth": 2
          }
         }
        },
        "xaxis": {
         "anchor": "y",
         "categoryarray": [
          "Total persons",
          "Age: 12 to 17 years",
          "Age: 18 to 24 years",
          "Age: 25 to 34 years",
          "Age: 35 to 49 years",
          "Age: 50 to 64 years",
          "Age: 6 to 11 years",
          "Age: 65 to 74 years",
          "Age: 75 years or older"
         ],
         "categoryorder": "array",
         "domain": [
          0,
          1
         ],
         "title": {
          "text": "Personal characteristics"
         }
        },
        "yaxis": {
         "anchor": "x",
         "domain": [
          0,
          1
         ],
         "title": {
          "text": "comparison to 2018 level (%)"
         }
        }
       }
      }
     },
     "metadata": {},
     "output_type": "display_data"
    }
   ],
   "source": [
    "px.bar(data_frame = df_age2[(df_age2['Topic'] == 2022)], x='Personal characteristics', y='comparison to 2018 level (%)', color='Personal characteristics')"
   ]
  },
  {
   "cell_type": "markdown",
   "metadata": {},
   "source": [
    "In terms or percentages, the average variation (variation for the total) is - 29%.\n",
    "Even if the variation was higher in terms of raw numbers for the younger age groups, proportionnaly the drop was bigger for age groups over 35 years old.\n",
    "One explanation could be that, since these groups were already using public transports less than other groups, people from these older age groups were more likely to stop taking public transport, or at least decrease significantly their use of public transport. Furthermore, maybe these groups have more alternatives to public transport than younger age groups, for example access to a car."
   ]
  },
  {
   "cell_type": "code",
   "execution_count": null,
   "metadata": {},
   "outputs": [],
   "source": []
  }
 ],
 "metadata": {
  "kernelspec": {
   "display_name": "Python 3 (ipykernel)",
   "language": "python",
   "name": "python3"
  },
  "language_info": {
   "codemirror_mode": {
    "name": "ipython",
    "version": 3
   },
   "file_extension": ".py",
   "mimetype": "text/x-python",
   "name": "python",
   "nbconvert_exporter": "python",
   "pygments_lexer": "ipython3",
   "version": "3.7.16"
  },
  "vscode": {
   "interpreter": {
    "hash": "31f2aee4e71d21fbe5cf8b01ff0e069b9275f58929596ceb00d14d90e3e16cd6"
   }
  }
 },
 "nbformat": 4,
 "nbformat_minor": 4
}
